{
 "cells": [
  {
   "cell_type": "markdown",
   "metadata": {},
   "source": [
    "# Physics engines\n",
    "\n",
    "Gazebo has interfaces with four physics engines\n",
    "\n",
    "* ODE\n",
    "* Simbody\n",
    "* Bullet\n",
    "* DART\n",
    "\n",
    "from which only DART has to be compiled separately.\n",
    "The modules presented below allow the generation of the necessary physics engine's SDF parameters using classes."
   ]
  },
  {
   "cell_type": "markdown",
   "metadata": {},
   "source": [
    "## Physics engine object\n",
    "\n",
    "The physics engine object holds the global parameters valid for all physics engines. \n",
    "\n",
    "If this modules is used to generate the SDF data, the default parameters of the physics engine chosen (`ode`, `bullet`, `simbody` or `dart`) will be used."
   ]
  },
  {
   "cell_type": "code",
   "execution_count": 1,
   "metadata": {},
   "outputs": [
    {
     "name": "stdout",
     "output_type": "stream",
     "text": [
      "max_step_size: 0.001\n",
      "real_time_factor: 1\n",
      "real_time_update_rate: 1000\n",
      "max_contacts: 20\n",
      "engine: ode\n",
      "name: default_physics\n",
      "default: False\n"
     ]
    }
   ],
   "source": [
    "from pcg_gazebo.simulation.physics import Physics\n",
    "physics = Physics()\n",
    "\n",
    "# Iterate through all parameters\n",
    "for name in physics.get_parameter_names():\n",
    "    print('{}: {}'.format(name, physics.get_parameter(name)))\n",
    "    "
   ]
  },
  {
   "cell_type": "code",
   "execution_count": 2,
   "metadata": {},
   "outputs": [
    {
     "name": "stdout",
     "output_type": "stream",
     "text": [
      "max_step_size\n",
      "  Description: Maximum time step size at which every system in simulation can interact with the states of the world\n",
      "  Current value: 0.001\n",
      "real_time_factor\n",
      "  Description: Target simulation speedupfactor, defined by ratio of simulation time to real-time\n",
      "  Current value: 1\n",
      "real_time_update_rate\n",
      "  Description: Rate at which to update the physics engine (UpdatePhysics calls per real-time second)\n",
      "  Current value: 1000\n",
      "max_contacts\n",
      "  Description: Maximum number of contactsallowed between two entities. This value can be over ridden by a max_contacts element in a collision element\n",
      "  Current value: 20\n",
      "engine\n",
      "  Description: The type of the dynamics engine. Current options are ode, bullet, simbody and dart. Defaults to ode if left unspecified.\n",
      "  Current value: ode\n",
      "name\n",
      "  Description: The name of this set of physics parameters\n",
      "  Current value: default_physics\n",
      "default\n",
      "  Description: If true, this physics element is set as the default physics profile for the world. If multiple default physics elements exist, the first element marked as default is chosen. If no default physics element exists, the first physics element is chosen.\n",
      "  Current value: False\n"
     ]
    }
   ],
   "source": [
    "# The description of the parameters is also available\n",
    "for name in physics.get_parameter_names():\n",
    "    physics.print_description(name)"
   ]
  },
  {
   "cell_type": "code",
   "execution_count": 3,
   "metadata": {},
   "outputs": [
    {
     "name": "stdout",
     "output_type": "stream",
     "text": [
      "<physics name=\"default_physics\" default=\"1\" type=\"ode\">\n",
      "  <max_step_size>0.001</max_step_size>\n",
      "  <real_time_factor>1.0</real_time_factor>\n",
      "  <real_time_update_rate>1000.0</real_time_update_rate>\n",
      "  <max_contacts>20</max_contacts>\n",
      "</physics>\n",
      "\n"
     ]
    }
   ],
   "source": [
    "# It is also possible to generate the SDF files.\n",
    "# The SDF object can also be retrieved and altered if necessary\n",
    "print(physics.to_sdf('physics'))\n"
   ]
  },
  {
   "cell_type": "code",
   "execution_count": 4,
   "metadata": {},
   "outputs": [
    {
     "name": "stdout",
     "output_type": "stream",
     "text": [
      "<world name=\"default\">\n",
      "  <physics name=\"default_physics\" default=\"1\" type=\"ode\">\n",
      "    <max_step_size>0.001</max_step_size>\n",
      "    <real_time_factor>1.0</real_time_factor>\n",
      "    <real_time_update_rate>1000.0</real_time_update_rate>\n",
      "    <max_contacts>20</max_contacts>\n",
      "  </physics>\n",
      "  <gravity>0 0 -9.8</gravity>\n",
      "  <include>\n",
      "    <uri>model://ground_plane</uri>\n",
      "  </include>\n",
      "  <include>\n",
      "    <uri>model://sun</uri>\n",
      "  </include>\n",
      "</world>\n",
      "\n"
     ]
    }
   ],
   "source": [
    "print(physics.to_sdf('world'))"
   ]
  },
  {
   "cell_type": "code",
   "execution_count": 5,
   "metadata": {},
   "outputs": [
    {
     "name": "stdout",
     "output_type": "stream",
     "text": [
      "<physics name=\"custom_physics\" default=\"1\" type=\"ode\">\n",
      "  <max_step_size>0.01</max_step_size>\n",
      "  <real_time_factor>1.0</real_time_factor>\n",
      "  <real_time_update_rate>500.0</real_time_update_rate>\n",
      "  <max_contacts>5</max_contacts>\n",
      "</physics>\n",
      "\n"
     ]
    }
   ],
   "source": [
    "# Let's make a custom parameter set for the physics engine\n",
    "physics.max_step_size = 0.01\n",
    "physics.real_time_factor = 1\n",
    "physics.real_time_update_rate = 500\n",
    "physics.max_contacts = 5\n",
    "physics.name = 'custom_physics'\n",
    "\n",
    "print(physics.to_sdf())"
   ]
  },
  {
   "cell_type": "code",
   "execution_count": 6,
   "metadata": {},
   "outputs": [
    {
     "name": "stdout",
     "output_type": "stream",
     "text": [
      "<sdf version=\"1.6\">\n",
      "  <world name=\"default\">\n",
      "    <physics name=\"custom_physics\" default=\"1\" type=\"ode\">\n",
      "      <max_step_size>0.01</max_step_size>\n",
      "      <real_time_factor>1.0</real_time_factor>\n",
      "      <real_time_update_rate>500.0</real_time_update_rate>\n",
      "      <max_contacts>5</max_contacts>\n",
      "    </physics>\n",
      "    <gravity>0 0 -9.8</gravity>\n",
      "    <include>\n",
      "      <uri>model://ground_plane</uri>\n",
      "    </include>\n",
      "    <include>\n",
      "      <uri>model://sun</uri>\n",
      "    </include>\n",
      "  </world>\n",
      "</sdf>\n",
      "\n"
     ]
    }
   ],
   "source": [
    "# The resulting world file can be exported to an .world file and run in Gazebo\n",
    "# This shows how to create an SDF file from stratch\n",
    "sdf = physics.to_sdf('sdf')\n",
    "print(sdf)"
   ]
  },
  {
   "cell_type": "code",
   "execution_count": 7,
   "metadata": {},
   "outputs": [],
   "source": [
    "# Export to a .world file\n",
    "world_filename = '/tmp/physics.world'\n",
    "sdf.export_xml(filename=world_filename)"
   ]
  },
  {
   "cell_type": "code",
   "execution_count": 8,
   "metadata": {},
   "outputs": [
    {
     "name": "stdout",
     "output_type": "stream",
     "text": [
      "['gazebo']\n",
      "Is Gazebo running: False\n"
     ]
    }
   ],
   "source": [
    "# Start a PCG server to run the world file in Gazebo\n",
    "from pcg_gazebo.task_manager import Server\n",
    "server = Server()\n",
    "# Create a simulation manager named default\n",
    "server.create_simulation('default')\n",
    "simulation = server.get_simulation('default')\n",
    "# Run an instance of the empty.world scenario\n",
    "# This is equivalent to run\n",
    "#      roslaunch gazebo_ros empty_world.launch\n",
    "# with the parameters provided to run the world file created\n",
    "simulation.create_gazebo_task(\n",
    "    name='gazebo',\n",
    "    world=world_filename,\n",
    "    gui=True,\n",
    "    physics='ode',\n",
    "    paused=False,\n",
    "    required=True,\n",
    "    process_timeout=10)\n",
    "# A task named 'gazebo' the added to the tasks list\n",
    "print(simulation.get_task_list())\n",
    "# But it is still not running\n",
    "print('Is Gazebo running: {}'.format(simulation.is_task_running('gazebo')))\n",
    "# Run Gazebo\n",
    "simulation.run_all_tasks()"
   ]
  },
  {
   "cell_type": "code",
   "execution_count": 9,
   "metadata": {},
   "outputs": [
    {
     "name": "stdout",
     "output_type": "stream",
     "text": [
      "time_step: 0.01\n",
      "pause: False\n",
      "max_update_rate: 500.0\n",
      "gravity: \n",
      "  x: 0.0\n",
      "  y: 0.0\n",
      "  z: -9.8\n",
      "ode_config: \n",
      "  auto_disable_bodies: False\n",
      "  sor_pgs_precon_iters: 0\n",
      "  sor_pgs_iters: 50\n",
      "  sor_pgs_w: 1.3\n",
      "  sor_pgs_rms_error_tol: 0.0\n",
      "  contact_surface_layer: 0.001\n",
      "  contact_max_correcting_vel: 100.0\n",
      "  cfm: 0.0\n",
      "  erp: 0.2\n",
      "  max_contacts: 5\n",
      "success: True\n",
      "status_message: \"GetPhysicsProperties: got properties\"\n"
     ]
    }
   ],
   "source": [
    "# Check if the parameters were initialized correctly\n",
    "# We need a Gazebo proxy object to check it\n",
    "from pcg_gazebo.task_manager import GazeboProxy\n",
    "# Create a Gazebo proxy\n",
    "gazebo_proxy = simulation.get_gazebo_proxy()\n",
    "\n",
    "# It is important to note that the default get_physics_properties service from Gazebo\n",
    "# returns only the global and the ODE engine parameters\n",
    "print(gazebo_proxy.get_physics_properties())"
   ]
  },
  {
   "cell_type": "code",
   "execution_count": 10,
   "metadata": {},
   "outputs": [],
   "source": [
    "simulation.wait()\n",
    "simulation.kill_all_tasks()"
   ]
  },
  {
   "cell_type": "markdown",
   "metadata": {},
   "source": [
    "## ODE\n",
    "\n",
    "It is possible to create an instance of the physics engine configuration for each engine available.\n",
    "\n",
    "The ODE is presented on the following sections."
   ]
  },
  {
   "cell_type": "code",
   "execution_count": 11,
   "metadata": {},
   "outputs": [
    {
     "name": "stdout",
     "output_type": "stream",
     "text": [
      "max_step_size: 0.001\n",
      "real_time_factor: 1\n",
      "real_time_update_rate: 1000\n",
      "max_contacts: 20\n",
      "engine: ode\n",
      "name: default_physics\n",
      "default: False\n",
      "min_step_size: 0.0001\n",
      "iters: 50\n",
      "sor: 1.3\n",
      "type: quick\n",
      "precon_iters: 0\n",
      "use_dynamic_moi_rescaling: False\n",
      "friction_model: pyramid_model\n",
      "cfm: 0\n",
      "erp: 0.2\n",
      "contact_surface_layer: 0.001\n",
      "contact_max_correcting_vel: 100\n"
     ]
    }
   ],
   "source": [
    "from pcg_gazebo.simulation.physics import ODE\n",
    "physics = ODE()\n",
    "\n",
    "# Iterate through all parameters\n",
    "for name in physics.get_parameter_names():\n",
    "    print('{}: {}'.format(name, physics.get_parameter(name)))"
   ]
  },
  {
   "cell_type": "code",
   "execution_count": 12,
   "metadata": {},
   "outputs": [
    {
     "name": "stdout",
     "output_type": "stream",
     "text": [
      "max_step_size\n",
      "  Description: Maximum time step size at which every system in simulation can interact with the states of the world\n",
      "  Current value: 0.001\n",
      "real_time_factor\n",
      "  Description: Target simulation speedupfactor, defined by ratio of simulation time to real-time\n",
      "  Current value: 1\n",
      "real_time_update_rate\n",
      "  Description: Rate at which to update the physics engine (UpdatePhysics calls per real-time second)\n",
      "  Current value: 1000\n",
      "max_contacts\n",
      "  Description: Maximum number of contactsallowed between two entities. This value can be over ridden by a max_contacts element in a collision element\n",
      "  Current value: 20\n",
      "engine\n",
      "  Description: The type of the dynamics engine. Current options are ode, bullet, simbody and dart. Defaults to ode if left unspecified.\n",
      "  Current value: ode\n",
      "name\n",
      "  Description: The name of this set of physics parameters\n",
      "  Current value: default_physics\n",
      "default\n",
      "  Description: If true, this physics element is set as the default physics profile for the world. If multiple default physics elements exist, the first element marked as default is chosen. If no default physics element exists, the first physics element is chosen.\n",
      "  Current value: False\n",
      "min_step_size\n",
      "  Description: The time duration which advances with each iteration of the dynamics engine, this has to be no bigger than max_step_size under physics block. If left unspecified, min_step_size defaults to max_step_size\n",
      "  Current value: 0.0001\n",
      "iters\n",
      "  Description: Number of iterations for each step. A higher number produces greater accuracy at a performance cost.\n",
      "  Current value: 50\n",
      "sor\n",
      "  Description: Set the successive over-relaxation parameter.\n",
      "  Current value: 1.3\n",
      "type\n",
      "  Description: One of the following types: world, quick\n",
      "  Current value: quick\n",
      "precon_iters\n",
      "  Description: Experimental parameter\n",
      "  Current value: 0\n",
      "use_dynamic_moi_rescaling\n",
      "  Description: Flag to enable dynamic rescaling of moment of inertia in constrained directions\n",
      "  Current value: False\n",
      "friction_model\n",
      "  Description: Name of ODE friction model to use. Valid values include: pyramid_model: (default) friction forces limited in two directions in proportion to normal force. box_model: friction forces limited to constant in two directions. cone_model: friction force magnitude limited in proportion to normal force\n",
      "  Current value: pyramid_model\n",
      "cfm\n",
      "  Description: Constraint force mixing parameter\n",
      "  Current value: 0\n",
      "erp\n",
      "  Description: Error reduction parameter\n",
      "  Current value: 0.2\n",
      "contact_surface_layer\n",
      "  Description: The depth of the surface layer around all geometry objects. Contacts are allowed to sink into the surface layer up to the given depth before coming to rest. The default value is zero. Increasing this to some small value (e.g. 0.001) can help prevent jittering problems due to contacts being repeatedly made and broken.\n",
      "  Current value: 0.001\n",
      "contact_max_correcting_vel\n",
      "  Description: The maximum correcting velocities allowed when resolving contacts\n",
      "  Current value: 100\n"
     ]
    }
   ],
   "source": [
    "# The description of the parameters is also available\n",
    "for name in physics.get_parameter_names():\n",
    "    physics.print_description(name)"
   ]
  },
  {
   "cell_type": "code",
   "execution_count": 13,
   "metadata": {},
   "outputs": [
    {
     "name": "stdout",
     "output_type": "stream",
     "text": [
      "<physics name=\"default_physics\" default=\"1\" type=\"ode\">\n",
      "  <max_step_size>0.001</max_step_size>\n",
      "  <real_time_factor>1.0</real_time_factor>\n",
      "  <real_time_update_rate>1000.0</real_time_update_rate>\n",
      "  <max_contacts>20</max_contacts>\n",
      "  <ode>\n",
      "    <solver>\n",
      "      <min_step_size>0.0001</min_step_size>\n",
      "      <iters>50</iters>\n",
      "      <sor>1.3</sor>\n",
      "      <type>quick</type>\n",
      "      <precon_iters>0</precon_iters>\n",
      "      <use_dynamic_moi_rescaling>0</use_dynamic_moi_rescaling>\n",
      "      <friction_model>pyramid_model</friction_model>\n",
      "    </solver>\n",
      "    <constraints>\n",
      "      <cfm>0.0</cfm>\n",
      "      <erp>0.2</erp>\n",
      "      <contact_surface_layer>0.001</contact_surface_layer>\n",
      "      <contact_max_correcting_vel>100.0</contact_max_correcting_vel>\n",
      "    </constraints>\n",
      "  </ode>\n",
      "</physics>\n",
      "\n"
     ]
    }
   ],
   "source": [
    "# It is also possible to generate the SDF files.\n",
    "# The SDF object can also be retrieved and altered if necessary\n",
    "print(physics.to_sdf('physics'))"
   ]
  },
  {
   "cell_type": "code",
   "execution_count": 14,
   "metadata": {},
   "outputs": [
    {
     "name": "stdout",
     "output_type": "stream",
     "text": [
      "<world name=\"default\">\n",
      "  <physics name=\"default_physics\" default=\"1\" type=\"ode\">\n",
      "    <max_step_size>0.001</max_step_size>\n",
      "    <real_time_factor>1.0</real_time_factor>\n",
      "    <real_time_update_rate>1000.0</real_time_update_rate>\n",
      "    <max_contacts>20</max_contacts>\n",
      "    <ode>\n",
      "      <solver>\n",
      "        <min_step_size>0.0001</min_step_size>\n",
      "        <iters>50</iters>\n",
      "        <sor>1.3</sor>\n",
      "        <type>quick</type>\n",
      "        <precon_iters>0</precon_iters>\n",
      "        <use_dynamic_moi_rescaling>0</use_dynamic_moi_rescaling>\n",
      "        <friction_model>pyramid_model</friction_model>\n",
      "      </solver>\n",
      "      <constraints>\n",
      "        <cfm>0.0</cfm>\n",
      "        <erp>0.2</erp>\n",
      "        <contact_surface_layer>0.001</contact_surface_layer>\n",
      "        <contact_max_correcting_vel>100.0</contact_max_correcting_vel>\n",
      "      </constraints>\n",
      "    </ode>\n",
      "  </physics>\n",
      "  <gravity>0 0 -9.8</gravity>\n",
      "  <include>\n",
      "    <uri>model://ground_plane</uri>\n",
      "  </include>\n",
      "  <include>\n",
      "    <uri>model://sun</uri>\n",
      "  </include>\n",
      "</world>\n",
      "\n"
     ]
    }
   ],
   "source": [
    "print(physics.to_sdf('world'))"
   ]
  },
  {
   "cell_type": "code",
   "execution_count": 15,
   "metadata": {},
   "outputs": [
    {
     "name": "stdout",
     "output_type": "stream",
     "text": [
      "<physics name=\"custom_ode\" default=\"1\" type=\"ode\">\n",
      "  <max_step_size>0.005</max_step_size>\n",
      "  <real_time_factor>1.0</real_time_factor>\n",
      "  <real_time_update_rate>1000.0</real_time_update_rate>\n",
      "  <max_contacts>10</max_contacts>\n",
      "  <ode>\n",
      "    <solver>\n",
      "      <min_step_size>0.0001</min_step_size>\n",
      "      <iters>50</iters>\n",
      "      <sor>1.5</sor>\n",
      "      <type>quick</type>\n",
      "      <precon_iters>0</precon_iters>\n",
      "      <use_dynamic_moi_rescaling>0</use_dynamic_moi_rescaling>\n",
      "      <friction_model>box_model</friction_model>\n",
      "    </solver>\n",
      "    <constraints>\n",
      "      <cfm>0.0</cfm>\n",
      "      <erp>0.2</erp>\n",
      "      <contact_surface_layer>0.001</contact_surface_layer>\n",
      "      <contact_max_correcting_vel>100.0</contact_max_correcting_vel>\n",
      "    </constraints>\n",
      "  </ode>\n",
      "</physics>\n",
      "\n"
     ]
    }
   ],
   "source": [
    "# Let's change some parameters\n",
    "physics.max_step_size = 0.005\n",
    "physics.friction_model = 'box_model'\n",
    "physics.sor = 1.5\n",
    "physics.max_contacts = 10\n",
    "physics.name = 'custom_ode'\n",
    "print(physics.to_sdf())"
   ]
  },
  {
   "cell_type": "code",
   "execution_count": 16,
   "metadata": {},
   "outputs": [
    {
     "name": "stdout",
     "output_type": "stream",
     "text": [
      "<sdf version=\"1.6\">\n",
      "  <world name=\"default\">\n",
      "    <physics name=\"custom_ode\" default=\"1\" type=\"ode\">\n",
      "      <max_step_size>0.005</max_step_size>\n",
      "      <real_time_factor>1.0</real_time_factor>\n",
      "      <real_time_update_rate>1000.0</real_time_update_rate>\n",
      "      <max_contacts>10</max_contacts>\n",
      "      <ode>\n",
      "        <solver>\n",
      "          <min_step_size>0.0001</min_step_size>\n",
      "          <iters>50</iters>\n",
      "          <sor>1.5</sor>\n",
      "          <type>quick</type>\n",
      "          <precon_iters>0</precon_iters>\n",
      "          <use_dynamic_moi_rescaling>0</use_dynamic_moi_rescaling>\n",
      "          <friction_model>box_model</friction_model>\n",
      "        </solver>\n",
      "        <constraints>\n",
      "          <cfm>0.0</cfm>\n",
      "          <erp>0.2</erp>\n",
      "          <contact_surface_layer>0.001</contact_surface_layer>\n",
      "          <contact_max_correcting_vel>100.0</contact_max_correcting_vel>\n",
      "        </constraints>\n",
      "      </ode>\n",
      "    </physics>\n",
      "    <gravity>0 0 -9.8</gravity>\n",
      "    <include>\n",
      "      <uri>model://ground_plane</uri>\n",
      "    </include>\n",
      "    <include>\n",
      "      <uri>model://sun</uri>\n",
      "    </include>\n",
      "  </world>\n",
      "</sdf>\n",
      "\n"
     ]
    }
   ],
   "source": [
    "# Exporting this world configuration to a file allows running the \n",
    "# configured physics engine in Gazebo\n",
    "sdf = physics.to_sdf('sdf')\n",
    "print(sdf)"
   ]
  },
  {
   "cell_type": "code",
   "execution_count": 17,
   "metadata": {},
   "outputs": [],
   "source": [
    "# Export to a .world file\n",
    "world_filename = '/tmp/physics_ode.world'\n",
    "sdf.export_xml(filename=world_filename)"
   ]
  },
  {
   "cell_type": "code",
   "execution_count": 18,
   "metadata": {},
   "outputs": [
    {
     "name": "stdout",
     "output_type": "stream",
     "text": [
      "['gazebo']\n",
      "Is Gazebo running: False\n"
     ]
    }
   ],
   "source": [
    "# Remove old gazebo task\n",
    "server.create_simulation('ode')\n",
    "simulation = server.get_simulation('ode')\n",
    "# Create new task\n",
    "simulation.create_gazebo_task(\n",
    "    name='gazebo',\n",
    "    world=world_filename,\n",
    "    gui=True,\n",
    "    physics=physics.engine,\n",
    "    paused=False,\n",
    "    required=True,\n",
    "    process_timeout=10)\n",
    "# A task named 'gazebo' the added to the tasks list\n",
    "print(simulation.get_task_list())\n",
    "# But it is still not running\n",
    "print('Is Gazebo running: {}'.format(simulation.is_task_running('gazebo')))\n",
    "# Run Gazebo\n",
    "simulation.run_all_tasks()"
   ]
  },
  {
   "cell_type": "code",
   "execution_count": 19,
   "metadata": {},
   "outputs": [
    {
     "name": "stdout",
     "output_type": "stream",
     "text": [
      "time_step: 0.005\n",
      "pause: False\n",
      "max_update_rate: 1000.0\n",
      "gravity: \n",
      "  x: 0.0\n",
      "  y: 0.0\n",
      "  z: -9.8\n",
      "ode_config: \n",
      "  auto_disable_bodies: False\n",
      "  sor_pgs_precon_iters: 0\n",
      "  sor_pgs_iters: 50\n",
      "  sor_pgs_w: 1.5\n",
      "  sor_pgs_rms_error_tol: 0.0\n",
      "  contact_surface_layer: 0.001\n",
      "  contact_max_correcting_vel: 100.0\n",
      "  cfm: 0.0\n",
      "  erp: 0.2\n",
      "  max_contacts: 10\n",
      "success: True\n",
      "status_message: \"GetPhysicsProperties: got properties\"\n"
     ]
    }
   ],
   "source": [
    "# Check if the parameters were initialized correctly\n",
    "gazebo_proxy = simulation.get_gazebo_proxy()\n",
    "\n",
    "# It is important to note that the default get_physics_properties service from Gazebo\n",
    "# returns only the global and the ODE engine parameters\n",
    "print(gazebo_proxy.get_physics_properties())"
   ]
  },
  {
   "cell_type": "code",
   "execution_count": 20,
   "metadata": {},
   "outputs": [],
   "source": [
    "simulation.wait()\n",
    "simulation.kill_all_tasks()"
   ]
  },
  {
   "cell_type": "markdown",
   "metadata": {},
   "source": [
    "## Bullet"
   ]
  },
  {
   "cell_type": "code",
   "execution_count": 21,
   "metadata": {},
   "outputs": [
    {
     "name": "stdout",
     "output_type": "stream",
     "text": [
      "max_step_size: 0.001\n",
      "real_time_factor: 1\n",
      "real_time_update_rate: 1000\n",
      "max_contacts: 20\n",
      "engine: bullet\n",
      "name: default_physics\n",
      "default: False\n",
      "min_step_size: 0.0001\n",
      "iters: 50\n",
      "sor: 1.3\n",
      "type: sequential_impulse\n",
      "cfm: 0\n",
      "erp: 0.2\n",
      "contact_surface_layer: 0.001\n",
      "split_impulse: True\n",
      "split_impulse_penetration_threshold: -0.01\n"
     ]
    }
   ],
   "source": [
    "from pcg_gazebo.simulation.physics import Bullet\n",
    "physics = Bullet()\n",
    "\n",
    "# Iterate through all parameters\n",
    "for name in physics.get_parameter_names():\n",
    "    print('{}: {}'.format(name, physics.get_parameter(name)))"
   ]
  },
  {
   "cell_type": "code",
   "execution_count": 22,
   "metadata": {},
   "outputs": [
    {
     "name": "stdout",
     "output_type": "stream",
     "text": [
      "max_step_size\n",
      "  Description: Maximum time step size at which every system in simulation can interact with the states of the world\n",
      "  Current value: 0.001\n",
      "real_time_factor\n",
      "  Description: Target simulation speedupfactor, defined by ratio of simulation time to real-time\n",
      "  Current value: 1\n",
      "real_time_update_rate\n",
      "  Description: Rate at which to update the physics engine (UpdatePhysics calls per real-time second)\n",
      "  Current value: 1000\n",
      "max_contacts\n",
      "  Description: Maximum number of contactsallowed between two entities. This value can be over ridden by a max_contacts element in a collision element\n",
      "  Current value: 20\n",
      "engine\n",
      "  Description: The type of the dynamics engine. Current options are ode, bullet, simbody and dart. Defaults to ode if left unspecified.\n",
      "  Current value: bullet\n",
      "name\n",
      "  Description: The name of this set of physics parameters\n",
      "  Current value: default_physics\n",
      "default\n",
      "  Description: If true, this physics element is set as the default physics profile for the world. If multiple default physics elements exist, the first element marked as default is chosen. If no default physics element exists, the first physics element is chosen.\n",
      "  Current value: False\n",
      "min_step_size\n",
      "  Description: The time duration which advances with each iteration of the dynamics engine, this has to be no bigger than max_step_size under physics block. If left unspecified, min_step_size defaults to max_step_size\n",
      "  Current value: 0.0001\n",
      "iters\n",
      "  Description: Number of iterations for each step. A higher number produces greater accuracy at a performance cost.\n",
      "  Current value: 50\n",
      "sor\n",
      "  Description: Set the successive over-relaxation parameter.\n",
      "  Current value: 1.3\n",
      "type\n",
      "  Description: One of the following types: sequential_impulse only\n",
      "  Current value: sequential_impulse\n",
      "cfm\n",
      "  Description: Constraint force mixing parameter\n",
      "  Current value: 0\n",
      "erp\n",
      "  Description: Error reduction parameter\n",
      "  Current value: 0.2\n",
      "contact_surface_layer\n",
      "  Description: The depth of the surface layer around all geometry objects. Contacts are allowed to sink into the surface layer up to the given depth before coming to rest. The default value is zero. Increasing this to some small value (e.g. 0.001) can help prevent jittering problems due to contacts being repeatedly made and broken.\n",
      "  Current value: 0.001\n",
      "split_impulse\n",
      "  Description: Similar to ODE max_vel implementation\n",
      "  Current value: True\n",
      "split_impulse_penetration_threshold\n",
      "  Description: Similarto ODE max_vel implementation\n",
      "  Current value: -0.01\n"
     ]
    }
   ],
   "source": [
    "# The description of the parameters is also available\n",
    "for name in physics.get_parameter_names():\n",
    "    physics.print_description(name)"
   ]
  },
  {
   "cell_type": "code",
   "execution_count": 23,
   "metadata": {},
   "outputs": [
    {
     "name": "stdout",
     "output_type": "stream",
     "text": [
      "<physics name=\"default_physics\" default=\"1\" type=\"bullet\">\n",
      "  <max_step_size>0.001</max_step_size>\n",
      "  <real_time_factor>1.0</real_time_factor>\n",
      "  <real_time_update_rate>1000.0</real_time_update_rate>\n",
      "  <max_contacts>20</max_contacts>\n",
      "  <bullet>\n",
      "    <solver>\n",
      "      <min_step_size>0.0001</min_step_size>\n",
      "      <iters>50</iters>\n",
      "      <sor>1.3</sor>\n",
      "      <type>sequential_impulse</type>\n",
      "    </solver>\n",
      "    <constraints>\n",
      "      <cfm>0.0</cfm>\n",
      "      <erp>0.2</erp>\n",
      "      <contact_surface_layer>0.001</contact_surface_layer>\n",
      "      <split_impulse>1</split_impulse>\n",
      "      <split_impulse_penetration_threshold>-0.01</split_impulse_penetration_threshold>\n",
      "    </constraints>\n",
      "  </bullet>\n",
      "</physics>\n",
      "\n"
     ]
    }
   ],
   "source": [
    "# It is also possible to generate the SDF files.\n",
    "# The SDF object can also be retrieved and altered if necessary\n",
    "print(physics.to_sdf('physics'))"
   ]
  },
  {
   "cell_type": "code",
   "execution_count": 24,
   "metadata": {},
   "outputs": [
    {
     "name": "stdout",
     "output_type": "stream",
     "text": [
      "<world name=\"default\">\n",
      "  <physics name=\"default_physics\" default=\"1\" type=\"bullet\">\n",
      "    <max_step_size>0.001</max_step_size>\n",
      "    <real_time_factor>1.0</real_time_factor>\n",
      "    <real_time_update_rate>1000.0</real_time_update_rate>\n",
      "    <max_contacts>20</max_contacts>\n",
      "    <bullet>\n",
      "      <solver>\n",
      "        <min_step_size>0.0001</min_step_size>\n",
      "        <iters>50</iters>\n",
      "        <sor>1.3</sor>\n",
      "        <type>sequential_impulse</type>\n",
      "      </solver>\n",
      "      <constraints>\n",
      "        <cfm>0.0</cfm>\n",
      "        <erp>0.2</erp>\n",
      "        <contact_surface_layer>0.001</contact_surface_layer>\n",
      "        <split_impulse>1</split_impulse>\n",
      "        <split_impulse_penetration_threshold>-0.01</split_impulse_penetration_threshold>\n",
      "      </constraints>\n",
      "    </bullet>\n",
      "  </physics>\n",
      "  <gravity>0 0 -9.8</gravity>\n",
      "  <include>\n",
      "    <uri>model://ground_plane</uri>\n",
      "  </include>\n",
      "  <include>\n",
      "    <uri>model://sun</uri>\n",
      "  </include>\n",
      "</world>\n",
      "\n"
     ]
    }
   ],
   "source": [
    "print(physics.to_sdf('world'))"
   ]
  },
  {
   "cell_type": "code",
   "execution_count": 25,
   "metadata": {},
   "outputs": [
    {
     "name": "stdout",
     "output_type": "stream",
     "text": [
      "<physics name=\"custom_bullet\" default=\"1\" type=\"bullet\">\n",
      "  <max_step_size>0.005</max_step_size>\n",
      "  <real_time_factor>1.0</real_time_factor>\n",
      "  <real_time_update_rate>500.0</real_time_update_rate>\n",
      "  <max_contacts>5</max_contacts>\n",
      "  <bullet>\n",
      "    <solver>\n",
      "      <min_step_size>0.0001</min_step_size>\n",
      "      <iters>50</iters>\n",
      "      <sor>1.5</sor>\n",
      "      <type>sequential_impulse</type>\n",
      "    </solver>\n",
      "    <constraints>\n",
      "      <cfm>0.01</cfm>\n",
      "      <erp>0.2</erp>\n",
      "      <contact_surface_layer>0.001</contact_surface_layer>\n",
      "      <split_impulse>1</split_impulse>\n",
      "      <split_impulse_penetration_threshold>-0.01</split_impulse_penetration_threshold>\n",
      "    </constraints>\n",
      "  </bullet>\n",
      "</physics>\n",
      "\n"
     ]
    }
   ],
   "source": [
    "# Let's change some parameters\n",
    "physics.max_step_size = 0.005\n",
    "physics.cfm = 0.01\n",
    "physics.sor = 1.5\n",
    "physics.max_contacts = 5\n",
    "physics.name = 'custom_bullet'\n",
    "physics.real_time_update_rate = 500\n",
    "print(physics.to_sdf())"
   ]
  },
  {
   "cell_type": "code",
   "execution_count": 26,
   "metadata": {},
   "outputs": [
    {
     "name": "stdout",
     "output_type": "stream",
     "text": [
      "<sdf version=\"1.6\">\n",
      "  <world name=\"default\">\n",
      "    <physics name=\"custom_bullet\" default=\"1\" type=\"bullet\">\n",
      "      <max_step_size>0.005</max_step_size>\n",
      "      <real_time_factor>1.0</real_time_factor>\n",
      "      <real_time_update_rate>500.0</real_time_update_rate>\n",
      "      <max_contacts>5</max_contacts>\n",
      "      <bullet>\n",
      "        <solver>\n",
      "          <min_step_size>0.0001</min_step_size>\n",
      "          <iters>50</iters>\n",
      "          <sor>1.5</sor>\n",
      "          <type>sequential_impulse</type>\n",
      "        </solver>\n",
      "        <constraints>\n",
      "          <cfm>0.01</cfm>\n",
      "          <erp>0.2</erp>\n",
      "          <contact_surface_layer>0.001</contact_surface_layer>\n",
      "          <split_impulse>1</split_impulse>\n",
      "          <split_impulse_penetration_threshold>-0.01</split_impulse_penetration_threshold>\n",
      "        </constraints>\n",
      "      </bullet>\n",
      "    </physics>\n",
      "    <gravity>0 0 -9.8</gravity>\n",
      "    <include>\n",
      "      <uri>model://ground_plane</uri>\n",
      "    </include>\n",
      "    <include>\n",
      "      <uri>model://sun</uri>\n",
      "    </include>\n",
      "  </world>\n",
      "</sdf>\n",
      "\n"
     ]
    }
   ],
   "source": [
    "# Exporting this world configuration to a file allows running the \n",
    "# configured physics engine in Gazebo\n",
    "sdf = physics.to_sdf('sdf')\n",
    "print(sdf)"
   ]
  },
  {
   "cell_type": "code",
   "execution_count": 27,
   "metadata": {},
   "outputs": [],
   "source": [
    "# Export to a .world file\n",
    "world_filename = '/tmp/physics_bullet.world'\n",
    "sdf.export_xml(filename=world_filename)"
   ]
  },
  {
   "cell_type": "code",
   "execution_count": 28,
   "metadata": {},
   "outputs": [
    {
     "name": "stdout",
     "output_type": "stream",
     "text": [
      "['gazebo']\n",
      "Is Gazebo running: False\n"
     ]
    }
   ],
   "source": [
    "# Remove old gazebo task\n",
    "server.create_simulation('bullet')\n",
    "simulation = server.get_simulation('bullet')\n",
    "# Create new task\n",
    "simulation.create_gazebo_task(\n",
    "    name='gazebo',\n",
    "    world=world_filename,\n",
    "    gui=True,\n",
    "    physics=physics.engine,\n",
    "    paused=False,\n",
    "    required=True,\n",
    "    process_timeout=10)\n",
    "# A task named 'gazebo' the added to the tasks list\n",
    "print(simulation.get_task_list())\n",
    "# But it is still not running\n",
    "print('Is Gazebo running: {}'.format(simulation.is_task_running('gazebo')))\n",
    "# Run Gazebo\n",
    "simulation.run_all_tasks()\n",
    "\n",
    "# The get_physics_properties service does not support bullet parameters yet"
   ]
  },
  {
   "cell_type": "code",
   "execution_count": 29,
   "metadata": {},
   "outputs": [],
   "source": [
    "simulation.wait()\n",
    "simulation.kill_all_tasks()"
   ]
  },
  {
   "cell_type": "markdown",
   "metadata": {},
   "source": [
    "## Simbody"
   ]
  },
  {
   "cell_type": "code",
   "execution_count": 30,
   "metadata": {},
   "outputs": [
    {
     "name": "stdout",
     "output_type": "stream",
     "text": [
      "max_step_size: 0.001\n",
      "real_time_factor: 1\n",
      "real_time_update_rate: 1000\n",
      "max_contacts: 20\n",
      "engine: simbody\n",
      "name: default_physics\n",
      "default: False\n",
      "min_step_size: 0.0001\n",
      "accuracy: 0.001\n",
      "max_transient_velocity: 0.01\n",
      "stiffness: 100000000.0\n",
      "dissipation: 100\n",
      "plastic_coef_restitution: 0.5\n",
      "plastic_impact_velocity: 0.5\n",
      "static_friction: 0.9\n",
      "dynamic_friction: 0.9\n",
      "viscous_friction: 0\n",
      "override_impact_capture_velocity: 0.001\n",
      "override_stiction_transition_velocity: 0.001\n"
     ]
    }
   ],
   "source": [
    "from pcg_gazebo.simulation.physics import Simbody\n",
    "physics = Simbody()\n",
    "\n",
    "# Iterate through all parameters\n",
    "for name in physics.get_parameter_names():\n",
    "    print('{}: {}'.format(name, physics.get_parameter(name)))"
   ]
  },
  {
   "cell_type": "code",
   "execution_count": 31,
   "metadata": {},
   "outputs": [
    {
     "name": "stdout",
     "output_type": "stream",
     "text": [
      "max_step_size\n",
      "  Description: Maximum time step size at which every system in simulation can interact with the states of the world\n",
      "  Current value: 0.001\n",
      "real_time_factor\n",
      "  Description: Target simulation speedupfactor, defined by ratio of simulation time to real-time\n",
      "  Current value: 1\n",
      "real_time_update_rate\n",
      "  Description: Rate at which to update the physics engine (UpdatePhysics calls per real-time second)\n",
      "  Current value: 1000\n",
      "max_contacts\n",
      "  Description: Maximum number of contactsallowed between two entities. This value can be over ridden by a max_contacts element in a collision element\n",
      "  Current value: 20\n",
      "engine\n",
      "  Description: The type of the dynamics engine. Current options are ode, bullet, simbody and dart. Defaults to ode if left unspecified.\n",
      "  Current value: simbody\n",
      "name\n",
      "  Description: The name of this set of physics parameters\n",
      "  Current value: default_physics\n",
      "default\n",
      "  Description: If true, this physics element is set as the default physics profile for the world. If multiple default physics elements exist, the first element marked as default is chosen. If no default physics element exists, the first physics element is chosen.\n",
      "  Current value: False\n",
      "min_step_size\n",
      "  Description: (Currently not used in simbody) The time duration which advances with each iteration of the dynamics engine, this has to be no bigger than max_step_size under physics block. If left unspecified, min_step_size defaults to max_step_size\n",
      "  Current value: 0.0001\n",
      "accuracy\n",
      "  Description: Roughly the relative error of the system. -LOG(accuracy) is roughly the number of significant digits.\n",
      "  Current value: 0.001\n",
      "max_transient_velocity\n",
      "  Description: Tolerable \"slip\" velocity allowed by the solver when static friction is supposed to hold object in place.\n",
      "  Current value: 0.01\n",
      "stiffness\n",
      "  Description: Default contact material stiffness (force/dist or torque/radian).\n",
      "  Current value: 100000000.0\n",
      "dissipation\n",
      "  Description: Dissipation coefficient to be used in compliant contact; if not given it is (1-min_cor)/plastic_impact_velocity\n",
      "  Current value: 100\n",
      "plastic_coef_restitution\n",
      "  Description: This is the COR to be used at high velocities for rigid impacts; if not given it is 1 - dissipation*plastic_impact_velocity\n",
      "  Current value: 0.5\n",
      "plastic_impact_velocity\n",
      "  Description: Smallest impact velocity at which min COR is reached; set to zero if you want the min COR always to be used\n",
      "  Current value: 0.5\n",
      "static_friction\n",
      "  Description: Static friction [mu_s]\n",
      "  Current value: 0.9\n",
      "dynamic_friction\n",
      "  Description: Dynamic friction [mu_d]\n",
      "  Current value: 0.9\n",
      "viscous_friction\n",
      "  Description: Viscous friction [mu_v] with units of 1 / velocity\n",
      "  Current value: 0\n",
      "override_impact_capture_velocity\n",
      "  Description: For rigid impacts only, impact velocity at which COR is set to zero; normally inherited from global default but can be overridden here. Combining rule: use larger velocity\n",
      "  Current value: 0.001\n",
      "override_stiction_transition_velocity\n",
      "  Description: This is the largest slip velocity at which we will consider a transition to stiction. Normally inherited from a global default setting. For a continuous friction model this is the velocity at which the max static friction force is reached. Combining rule: use larger velocity\n",
      "  Current value: 0.001\n"
     ]
    }
   ],
   "source": [
    "# The description of the parameters is also available\n",
    "for name in physics.get_parameter_names():\n",
    "    physics.print_description(name)"
   ]
  },
  {
   "cell_type": "code",
   "execution_count": 32,
   "metadata": {},
   "outputs": [
    {
     "name": "stdout",
     "output_type": "stream",
     "text": [
      "<physics name=\"default_physics\" default=\"1\" type=\"simbody\">\n",
      "  <max_step_size>0.001</max_step_size>\n",
      "  <real_time_factor>1.0</real_time_factor>\n",
      "  <real_time_update_rate>1000.0</real_time_update_rate>\n",
      "  <max_contacts>20</max_contacts>\n",
      "  <simbody>\n",
      "    <min_step_size>0.0001</min_step_size>\n",
      "    <accuracy>0.001</accuracy>\n",
      "    <max_transient_velocity>0.01</max_transient_velocity>\n",
      "    <contact>\n",
      "      <stiffness>100000000.0</stiffness>\n",
      "      <dissipation>100.0</dissipation>\n",
      "      <plastic_coef_restitution>0.5</plastic_coef_restitution>\n",
      "      <plastic_impact_velocity>0.5</plastic_impact_velocity>\n",
      "      <static_friction>0.9</static_friction>\n",
      "      <dynamic_friction>0.9</dynamic_friction>\n",
      "      <viscous_friction>0.0</viscous_friction>\n",
      "      <override_impact_capture_velocity>0.001</override_impact_capture_velocity>\n",
      "      <override_stiction_transition_velocity>0.001</override_stiction_transition_velocity>\n",
      "    </contact>\n",
      "  </simbody>\n",
      "</physics>\n",
      "\n"
     ]
    }
   ],
   "source": [
    "# It is also possible to generate the SDF files.\n",
    "# The SDF object can also be retrieved and altered if necessary\n",
    "print(physics.to_sdf('physics'))"
   ]
  },
  {
   "cell_type": "code",
   "execution_count": 33,
   "metadata": {},
   "outputs": [
    {
     "name": "stdout",
     "output_type": "stream",
     "text": [
      "<world name=\"default\">\n",
      "  <physics name=\"default_physics\" default=\"1\" type=\"simbody\">\n",
      "    <max_step_size>0.001</max_step_size>\n",
      "    <real_time_factor>1.0</real_time_factor>\n",
      "    <real_time_update_rate>1000.0</real_time_update_rate>\n",
      "    <max_contacts>20</max_contacts>\n",
      "    <simbody>\n",
      "      <min_step_size>0.0001</min_step_size>\n",
      "      <accuracy>0.001</accuracy>\n",
      "      <max_transient_velocity>0.01</max_transient_velocity>\n",
      "      <contact>\n",
      "        <stiffness>100000000.0</stiffness>\n",
      "        <dissipation>100.0</dissipation>\n",
      "        <plastic_coef_restitution>0.5</plastic_coef_restitution>\n",
      "        <plastic_impact_velocity>0.5</plastic_impact_velocity>\n",
      "        <static_friction>0.9</static_friction>\n",
      "        <dynamic_friction>0.9</dynamic_friction>\n",
      "        <viscous_friction>0.0</viscous_friction>\n",
      "        <override_impact_capture_velocity>0.001</override_impact_capture_velocity>\n",
      "        <override_stiction_transition_velocity>0.001</override_stiction_transition_velocity>\n",
      "      </contact>\n",
      "    </simbody>\n",
      "  </physics>\n",
      "  <gravity>0 0 -9.8</gravity>\n",
      "  <include>\n",
      "    <uri>model://ground_plane</uri>\n",
      "  </include>\n",
      "  <include>\n",
      "    <uri>model://sun</uri>\n",
      "  </include>\n",
      "</world>\n",
      "\n"
     ]
    }
   ],
   "source": [
    "print(physics.to_sdf('world'))"
   ]
  },
  {
   "cell_type": "code",
   "execution_count": 34,
   "metadata": {},
   "outputs": [
    {
     "name": "stdout",
     "output_type": "stream",
     "text": [
      "<physics name=\"custom_simbody\" default=\"1\" type=\"simbody\">\n",
      "  <max_step_size>0.005</max_step_size>\n",
      "  <real_time_factor>1.0</real_time_factor>\n",
      "  <real_time_update_rate>500.0</real_time_update_rate>\n",
      "  <max_contacts>8</max_contacts>\n",
      "  <simbody>\n",
      "    <min_step_size>0.0001</min_step_size>\n",
      "    <accuracy>0.001</accuracy>\n",
      "    <max_transient_velocity>0.01</max_transient_velocity>\n",
      "    <contact>\n",
      "      <stiffness>100000000.0</stiffness>\n",
      "      <dissipation>100.0</dissipation>\n",
      "      <plastic_coef_restitution>0.5</plastic_coef_restitution>\n",
      "      <plastic_impact_velocity>0.5</plastic_impact_velocity>\n",
      "      <static_friction>1.0</static_friction>\n",
      "      <dynamic_friction>0.9</dynamic_friction>\n",
      "      <viscous_friction>0.0</viscous_friction>\n",
      "      <override_impact_capture_velocity>0.001</override_impact_capture_velocity>\n",
      "      <override_stiction_transition_velocity>0.001</override_stiction_transition_velocity>\n",
      "    </contact>\n",
      "  </simbody>\n",
      "</physics>\n",
      "\n"
     ]
    }
   ],
   "source": [
    "# Let's change some parameters\n",
    "physics.max_step_size = 0.005\n",
    "physics.max_contacts = 8\n",
    "physics.name = 'custom_simbody'\n",
    "physics.static_friction = 1.0\n",
    "physics.real_time_update_rate = 500\n",
    "print(physics.to_sdf())"
   ]
  },
  {
   "cell_type": "code",
   "execution_count": 35,
   "metadata": {},
   "outputs": [
    {
     "name": "stdout",
     "output_type": "stream",
     "text": [
      "<sdf version=\"1.6\">\n",
      "  <world name=\"default\">\n",
      "    <physics name=\"custom_simbody\" default=\"1\" type=\"simbody\">\n",
      "      <max_step_size>0.005</max_step_size>\n",
      "      <real_time_factor>1.0</real_time_factor>\n",
      "      <real_time_update_rate>500.0</real_time_update_rate>\n",
      "      <max_contacts>8</max_contacts>\n",
      "      <simbody>\n",
      "        <min_step_size>0.0001</min_step_size>\n",
      "        <accuracy>0.001</accuracy>\n",
      "        <max_transient_velocity>0.01</max_transient_velocity>\n",
      "        <contact>\n",
      "          <stiffness>100000000.0</stiffness>\n",
      "          <dissipation>100.0</dissipation>\n",
      "          <plastic_coef_restitution>0.5</plastic_coef_restitution>\n",
      "          <plastic_impact_velocity>0.5</plastic_impact_velocity>\n",
      "          <static_friction>1.0</static_friction>\n",
      "          <dynamic_friction>0.9</dynamic_friction>\n",
      "          <viscous_friction>0.0</viscous_friction>\n",
      "          <override_impact_capture_velocity>0.001</override_impact_capture_velocity>\n",
      "          <override_stiction_transition_velocity>0.001</override_stiction_transition_velocity>\n",
      "        </contact>\n",
      "      </simbody>\n",
      "    </physics>\n",
      "    <gravity>0 0 -9.8</gravity>\n",
      "    <include>\n",
      "      <uri>model://ground_plane</uri>\n",
      "    </include>\n",
      "    <include>\n",
      "      <uri>model://sun</uri>\n",
      "    </include>\n",
      "  </world>\n",
      "</sdf>\n",
      "\n"
     ]
    }
   ],
   "source": [
    "# Exporting this world configuration to a file allows running the \n",
    "# configured physics engine in Gazebo\n",
    "sdf = physics.to_sdf('sdf')\n",
    "print(sdf)"
   ]
  },
  {
   "cell_type": "code",
   "execution_count": 36,
   "metadata": {},
   "outputs": [],
   "source": [
    "# Export to a .world file\n",
    "world_filename = '/tmp/physics_simbody.world'\n",
    "sdf.export_xml(filename=world_filename)"
   ]
  },
  {
   "cell_type": "code",
   "execution_count": 37,
   "metadata": {},
   "outputs": [
    {
     "name": "stdout",
     "output_type": "stream",
     "text": [
      "['gazebo']\n",
      "Is Gazebo running: False\n"
     ]
    }
   ],
   "source": [
    "server.create_simulation('simbody')\n",
    "simulation = server.get_simulation('simbody')\n",
    "# Create new task\n",
    "simulation.create_gazebo_task(\n",
    "    name='gazebo',\n",
    "    world=world_filename,\n",
    "    gui=True,\n",
    "    physics=physics.engine,\n",
    "    paused=False,\n",
    "    required=True,\n",
    "    process_timeout=10)\n",
    "# A task named 'gazebo' the added to the tasks list\n",
    "print(simulation.get_task_list())\n",
    "# But it is still not running\n",
    "print('Is Gazebo running: {}'.format(simulation.is_task_running('gazebo')))\n",
    "# Run Gazebo\n",
    "simulation.run_all_tasks()\n",
    "\n",
    "# The get_physics_properties service does not support simbody parameters yet"
   ]
  },
  {
   "cell_type": "code",
   "execution_count": 38,
   "metadata": {},
   "outputs": [],
   "source": [
    "simulation.wait()\n",
    "simulation.kill_all_tasks()"
   ]
  }
 ],
 "metadata": {
  "kernelspec": {
   "display_name": "Python 3",
   "language": "python",
   "name": "python3"
  },
  "language_info": {
   "codemirror_mode": {
    "name": "ipython",
    "version": 3
   },
   "file_extension": ".py",
   "mimetype": "text/x-python",
   "name": "python",
   "nbconvert_exporter": "python",
   "pygments_lexer": "ipython3",
   "version": "3.6.9"
  }
 },
 "nbformat": 4,
 "nbformat_minor": 4
}
