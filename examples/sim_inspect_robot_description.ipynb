{
 "cells": [
  {
   "cell_type": "markdown",
   "metadata": {},
   "source": [
    "# Parsing and generating robot descriptions from templates"
   ]
  },
  {
   "cell_type": "markdown",
   "metadata": {},
   "source": [
    "## Parsing XACRO files\n",
    "\n",
    "`.xacro` can also be parsed and inspected using the `pcg_gazebo_pkgs` library.\n",
    "\n",
    "For this example please clone the `universal_robot` repository into you `catkin` workspace\n",
    "\n",
    "```\n",
    "cd $HOME/catkin_ws/src\n",
    "git clone https://github.com/ros-industrial/universal_robot.git\n",
    "```\n",
    "\n",
    "and then build and source the catkin workspace."
   ]
  },
  {
   "cell_type": "code",
   "execution_count": 1,
   "metadata": {},
   "outputs": [],
   "source": [
    "import warnings\n",
    "warnings.filterwarnings('ignore')\n",
    "\n",
    "from pcg_gazebo.simulation import SimulationModel\n",
    "from pcg_gazebo.parsers import parse_xacro"
   ]
  },
  {
   "cell_type": "code",
   "execution_count": 2,
   "metadata": {},
   "outputs": [],
   "source": [
    "import os\n",
    "import rospkg\n",
    "try:\n",
    "    pkg_path = rospkg.RosPack().get_path('ur_description')\n",
    "    UR5_AVAILABLE = True\n",
    "except rospkg.ResourceNotFound:\n",
    "    UR5_AVAILABLE = False\n",
    "    print('ur_description package not available')\n",
    "    \n",
    "if UR5_AVAILABLE:\n",
    "    urdf_filename = os.path.join(pkg_path, 'urdf', 'ur5_robot.urdf.xacro')"
   ]
  },
  {
   "cell_type": "markdown",
   "metadata": {},
   "source": [
    "Load the URDF model as a `SimulationModel`."
   ]
  },
  {
   "cell_type": "code",
   "execution_count": 3,
   "metadata": {},
   "outputs": [
    {
     "name": "stdout",
     "output_type": "stream",
     "text": [
      "WARNING: Attribute xmlns:xacro does not exist for robot\n",
      "line 111.\n",
      "line 111.\n",
      "line 111.\n",
      "line 111.\n",
      "line 111.\n",
      "line 111.\n",
      "line 111.\n",
      "line 111.\n",
      "line 111.\n",
      "line 111.\n",
      "line 111.\n",
      "line 111.\n",
      "line 111.\n",
      "line 111.\n",
      "line 111.\n",
      "line 111.\n",
      "line 111.\n",
      "line 111.\n",
      "line 111.\n",
      "line 111.\n",
      "line 111.\n",
      "line 111.\n",
      "line 111.\n",
      "line 111.\n",
      "line 111.\n",
      "line 111.\n",
      "line 111.\n",
      "line 111.\n",
      "line 68.\n",
      "line 69.\n",
      "line 70.\n",
      "line 71.\n",
      "line 72.\n",
      "line 73.\n",
      "line 74.\n",
      "line 75.\n",
      "line 80.\n"
     ]
    }
   ],
   "source": [
    "if UR5_AVAILABLE:\n",
    "    model = SimulationModel.from_urdf(parse_xacro(urdf_filename))"
   ]
  },
  {
   "cell_type": "code",
   "execution_count": 4,
   "metadata": {},
   "outputs": [
    {
     "name": "stdout",
     "output_type": "stream",
     "text": [
      "Links:  ['wrist_1_link', 'shoulder_link', 'wrist_2_link', 'upper_arm_link', 'wrist_3_link', 'forearm_link', 'world']\n"
     ]
    }
   ],
   "source": [
    "if UR5_AVAILABLE:\n",
    "    print('Links: ', model.link_names)"
   ]
  },
  {
   "cell_type": "code",
   "execution_count": 5,
   "metadata": {},
   "outputs": [
    {
     "name": "stdout",
     "output_type": "stream",
     "text": [
      "Joints:  ['shoulder_lift_joint', 'wrist_2_joint', 'shoulder_pan_joint', 'elbow_joint', 'wrist_1_joint', 'wrist_3_joint']\n"
     ]
    }
   ],
   "source": [
    "if UR5_AVAILABLE:\n",
    "    print('Joints: ', model.joint_names)"
   ]
  },
  {
   "cell_type": "code",
   "execution_count": 6,
   "metadata": {},
   "outputs": [],
   "source": [
    "if UR5_AVAILABLE:\n",
    "    model.show(mesh_type='collision')"
   ]
  },
  {
   "cell_type": "markdown",
   "metadata": {},
   "source": [
    "![sim_ur5_collision](images/sim_ur5_collision.png)"
   ]
  },
  {
   "cell_type": "code",
   "execution_count": 7,
   "metadata": {},
   "outputs": [],
   "source": [
    "if UR5_AVAILABLE:\n",
    "    model.show(mesh_type='visual')"
   ]
  },
  {
   "cell_type": "markdown",
   "metadata": {},
   "source": [
    "![sim_ur5_visual](images/sim_ur5_visual.png)"
   ]
  },
  {
   "cell_type": "markdown",
   "metadata": {},
   "source": [
    "## Parsing Jinja templates to generate SDF robot descriptions \n",
    "\n",
    "Jinja is a powerful templating engine for Python. It can be extended with new functions and offers data structures such as dictionaries to be used inside the template.\n",
    "\n",
    "In this example, the **kobuki** model was rewritten as a Jinja template (see below) to generate an SDF model for the robot. \n",
    "\n",
    "The extensions for the Jinja engines in the `pcg_gazebo` include \n",
    "\n",
    "* path completion using `$(find pkg)`, `package://`, `file://` \n",
    "* path completion for relative paths using `{% 'relative/path'|find_file %}` \n",
    "* macro functions used, for example, to compute moments of inertia for geometric primitives"
   ]
  },
  {
   "cell_type": "code",
   "execution_count": 8,
   "metadata": {},
   "outputs": [],
   "source": [
    "from pcg_gazebo.simulation import SimulationModel\n",
    "from pcg_gazebo.parsers import parse_sdf\n",
    "from pcg_gazebo.utils import process_jinja_template"
   ]
  },
  {
   "cell_type": "markdown",
   "metadata": {},
   "source": [
    "Open and process the Jinja template.\n",
    "\n",
    "The output XML is provided as a `string`."
   ]
  },
  {
   "cell_type": "code",
   "execution_count": 9,
   "metadata": {},
   "outputs": [
    {
     "name": "stdout",
     "output_type": "stream",
     "text": [
      "Jinja template = /data/pcg_gazebo-master/examples/robot_description/kobuki/sdf/kobuki.sdf.jinja\n"
     ]
    }
   ],
   "source": [
    "import os\n",
    "import rospkg\n",
    "jinja_template = os.path.abspath(\n",
    "    os.path.join('robot_description', 'kobuki', 'sdf', 'kobuki.sdf.jinja'))\n",
    "print('Jinja template = {}'.format(jinja_template))\n",
    "output_xml = process_jinja_template(\n",
    "    jinja_template,\n",
    "    parameters=dict(robot_namespace='kobuki'))"
   ]
  },
  {
   "cell_type": "markdown",
   "metadata": {},
   "source": [
    "Generate the SDF object for the XML output."
   ]
  },
  {
   "cell_type": "code",
   "execution_count": 10,
   "metadata": {},
   "outputs": [
    {
     "name": "stdout",
     "output_type": "stream",
     "text": [
      "[<pcg_gazebo.parsers.sdf.model.Model object at 0x7fb42d6a7240>]\n"
     ]
    }
   ],
   "source": [
    "sdf = parse_sdf(output_xml)\n",
    "print(sdf.models)"
   ]
  },
  {
   "cell_type": "markdown",
   "metadata": {},
   "source": [
    "Generate a model from the **kobuki** SDF data."
   ]
  },
  {
   "cell_type": "code",
   "execution_count": 11,
   "metadata": {},
   "outputs": [
    {
     "name": "stdout",
     "output_type": "stream",
     "text": [
      "line 68.\n",
      "line 69.\n",
      "line 70.\n",
      "line 71.\n",
      "line 72.\n",
      "line 73.\n",
      "line 74.\n",
      "line 75.\n",
      "line 80.\n"
     ]
    }
   ],
   "source": [
    "model = SimulationModel.from_sdf(sdf.models[0])"
   ]
  },
  {
   "cell_type": "markdown",
   "metadata": {},
   "source": [
    "Visualize the model's collision and visual geometries"
   ]
  },
  {
   "cell_type": "code",
   "execution_count": 12,
   "metadata": {},
   "outputs": [
    {
     "data": {
      "text/plain": [
       "SceneViewer(width=1800, height=1028)"
      ]
     },
     "execution_count": 12,
     "metadata": {},
     "output_type": "execute_result"
    }
   ],
   "source": [
    "model.show(mesh_type='visual')"
   ]
  },
  {
   "cell_type": "code",
   "execution_count": 13,
   "metadata": {},
   "outputs": [
    {
     "data": {
      "text/plain": [
       "SceneViewer(width=1800, height=1028)"
      ]
     },
     "execution_count": 13,
     "metadata": {},
     "output_type": "execute_result"
    }
   ],
   "source": [
    "model.show(mesh_type='collision')"
   ]
  },
  {
   "cell_type": "code",
   "execution_count": 14,
   "metadata": {},
   "outputs": [
    {
     "name": "stdout",
     "output_type": "stream",
     "text": [
      "2020-09-10 17:31:23,732 | WARNING | __init__ | Error testing Gazebo server, message=Command '['rostopic', 'list']' returned non-zero exit status 1\n",
      "2020-09-10 17:31:23,999 | WARNING | __init__ | Error testing roscore, message=Command '['rostopic', 'list']' returned non-zero exit status 1\n",
      "2020-09-10 17:31:24,247 | WARNING | __init__ | Error testing roscore, message=Command '['rostopic', 'list']' returned non-zero exit status 1\n",
      "2020-09-10 17:31:24,504 | WARNING | __init__ | Error testing roscore, message=Command '['rostopic', 'list']' returned non-zero exit status 1\n"
     ]
    }
   ],
   "source": [
    "from pcg_gazebo.generators.creators import create_models_from_config\n",
    "from pcg_gazebo.task_manager import Server, get_rostopic_list\n",
    "\n",
    "# Start an empty world Gazebo simulation\n",
    "server = Server()\n",
    "server.create_simulation('default')\n",
    "simulation = server.get_simulation('default')\n",
    "simulation.create_gazebo_empty_world_task()\n",
    "simulation.run_task('gazebo')\n",
    "\n",
    "# Create a Gazebo proxy\n",
    "gazebo_proxy = simulation.get_gazebo_proxy()"
   ]
  },
  {
   "cell_type": "markdown",
   "metadata": {},
   "source": [
    "Spawn the **kobuki** model."
   ]
  },
  {
   "cell_type": "code",
   "execution_count": 15,
   "metadata": {},
   "outputs": [
    {
     "name": "stdout",
     "output_type": "stream",
     "text": [
      "line 81.\n",
      "line 82.\n",
      "line 111.\n",
      "line 111.\n",
      "line 111.\n",
      "line 111.\n",
      "line 111.\n",
      "line 111.\n",
      "line 111.\n",
      "line 111.\n",
      "line 111.\n",
      "line 111.\n",
      "line 111.\n",
      "line 111.\n"
     ]
    },
    {
     "data": {
      "text/plain": [
       "True"
      ]
     },
     "execution_count": 15,
     "metadata": {},
     "output_type": "execute_result"
    }
   ],
   "source": [
    "model.spawn(gazebo_proxy=gazebo_proxy)"
   ]
  },
  {
   "cell_type": "markdown",
   "metadata": {},
   "source": [
    "List all ROS topics"
   ]
  },
  {
   "cell_type": "code",
   "execution_count": 16,
   "metadata": {},
   "outputs": [
    {
     "name": "stdout",
     "output_type": "stream",
     "text": [
      "ROS topics:  ['/clock', '/gazebo/link_states', '/gazebo/model_states', '/gazebo/parameter_descriptions', '/gazebo/parameter_updates', '/gazebo/set_link_state', '/gazebo/set_model_state', '/gazebo_gui/parameter_descriptions', '/gazebo_gui/parameter_updates', '/kobuki/cmd_vel', '/kobuki/groundtruth', '/rosout', '/rosout_agg', '/tf']\n"
     ]
    }
   ],
   "source": [
    "print('ROS topics: ', get_rostopic_list(gazebo_proxy.ros_config.ros_master_uri))"
   ]
  },
  {
   "cell_type": "code",
   "execution_count": 17,
   "metadata": {},
   "outputs": [],
   "source": [
    "simulation.init_task(\n",
    "    name='command',\n",
    "    command='rostopic pub /kobuki/cmd_vel geometry_msgs/Twist \"{linear: {x: {vx}, y: 0.0, z: 0.0}, angular: {x: 0.0, y: 0.0, z: {vtheta}}}\"',\n",
    "    has_gazebo=False,\n",
    "    params=dict(\n",
    "        vx=0.3,\n",
    "        vtheta=0.4))\n",
    "simulation.run_task('command')"
   ]
  },
  {
   "cell_type": "markdown",
   "metadata": {},
   "source": [
    "![sim_kobuki_cmd](images/sim_kobuki_cmd.png)"
   ]
  },
  {
   "cell_type": "code",
   "execution_count": null,
   "metadata": {},
   "outputs": [
    {
     "name": "stdout",
     "output_type": "stream",
     "text": [
      "2020-09-10 17:32:42,598 | WARNING | task | Task <roscore> - Killing process tree...\n",
      "2020-09-10 17:32:42,615 | WARNING | task | Sending SIGINT to child process id=12407\n",
      "2020-09-10 17:32:42,616 | WARNING | task | Child process 12407 still running\n",
      "2020-09-10 17:32:42,616 | WARNING | task | Sending SIGINT to child process id=12422\n",
      "2020-09-10 17:32:42,618 | WARNING | task | Child process 12422 still running\n",
      "2020-09-10 17:32:42,619 | WARNING | task | Sending SIGINT to child process id=12438\n",
      "2020-09-10 17:32:42,620 | WARNING | task | Child process 12438 still running\n",
      "2020-09-10 17:32:42,621 | WARNING | task | Sending SIGINT to child process id=12406\n",
      "2020-09-10 17:32:42,623 | WARNING | task | Child process 12406 still running\n",
      "2020-09-10 17:32:42,763 | WARNING | task | Process 12422 already terminated\n",
      "2020-09-10 17:32:42,937 | WARNING | task | Process 12407 already terminated\n",
      "2020-09-10 17:32:42,938 | WARNING | task | Process 12438 already terminated\n",
      "2020-09-10 17:32:42,939 | WARNING | task | Process 12406 already terminated\n",
      "2020-09-10 17:32:42,940 | WARNING | task | Kill processes=\n",
      "\t - Gone=[psutil.Process(pid=12422, status='terminated', started='17:31:23'), psutil.Process(pid=12407, status='terminated', started='17:31:23'), psutil.Process(pid=12438, status='terminated', started='17:31:23'), psutil.Process(pid=12406, status='terminated', exitcode=<Negsignal.SIGINT: -2>, started='17:31:23')]\n",
      "\t - Alive[]\n",
      "2020-09-10 17:32:42,941 | WARNING | process_manager | Required task <roscore> has been terminated, killing all tasks\n",
      "2020-09-10 17:32:42,941 | WARNING | task | Task <command> - Killing process tree...\n",
      "2020-09-10 17:32:42,951 | WARNING | task | Sending SIGINT to child process id=13145\n",
      "2020-09-10 17:32:42,952 | WARNING | task | Child process 13145 still running\n",
      "2020-09-10 17:32:42,953 | WARNING | task | Sending SIGINT to child process id=13144\n",
      "2020-09-10 17:32:42,954 | WARNING | task | Child process 13144 still running\n",
      "2020-09-10 17:32:43,137 | WARNING | task | Process 13145 already terminated\n",
      "2020-09-10 17:32:43,144 | WARNING | task | Process 13144 already terminated\n",
      "2020-09-10 17:32:43,147 | WARNING | task | Kill processes=\n",
      "\t - Gone=[psutil.Process(pid=13145, status='terminated', started='17:32:24'), psutil.Process(pid=13144, status='terminated', exitcode=<Negsignal.SIGINT: -2>, started='17:32:24')]\n",
      "\t - Alive[]\n",
      "2020-09-10 17:32:43,151 | WARNING | task | Task <gazebo> - Killing process tree...\n",
      "2020-09-10 17:32:43,180 | WARNING | task | Sending SIGINT to child process id=12463\n",
      "2020-09-10 17:32:43,182 | WARNING | task | Child process 12463 still running\n",
      "2020-09-10 17:32:43,183 | WARNING | task | Sending SIGINT to child process id=12485\n",
      "2020-09-10 17:32:43,184 | WARNING | task | Child process 12485 still running\n",
      "2020-09-10 17:32:43,185 | WARNING | task | Sending SIGINT to child process id=12490\n",
      "2020-09-10 17:32:43,186 | WARNING | task | Child process 12490 still running\n",
      "2020-09-10 17:32:43,187 | WARNING | task | Sending SIGINT to child process id=12559\n",
      "2020-09-10 17:32:43,188 | WARNING | task | Child process 12559 still running\n",
      "2020-09-10 17:32:43,189 | WARNING | task | Sending SIGINT to child process id=12553\n",
      "2020-09-10 17:32:43,189 | WARNING | task | Child process 12553 still running\n",
      "2020-09-10 17:32:43,190 | WARNING | task | Sending SIGINT to child process id=12462\n",
      "2020-09-10 17:32:43,191 | WARNING | task | Child process 12462 still running\n",
      "2020-09-10 17:32:43,505 | WARNING | task | Process 12559 already terminated\n",
      "2020-09-10 17:32:43,682 | WARNING | task | Process 12490 already terminated\n"
     ]
    }
   ],
   "source": [
    "simulation.kill_all_tasks()"
   ]
  },
  {
   "cell_type": "code",
   "execution_count": null,
   "metadata": {},
   "outputs": [],
   "source": []
  }
 ],
 "metadata": {
  "kernelspec": {
   "display_name": "Python 3",
   "language": "python",
   "name": "python3"
  },
  "language_info": {
   "codemirror_mode": {
    "name": "ipython",
    "version": 3
   },
   "file_extension": ".py",
   "mimetype": "text/x-python",
   "name": "python",
   "nbconvert_exporter": "python",
   "pygments_lexer": "ipython3",
   "version": "3.5.2"
  }
 },
 "nbformat": 4,
 "nbformat_minor": 4
}
