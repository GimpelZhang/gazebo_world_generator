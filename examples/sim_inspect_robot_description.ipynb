{
 "cells": [
  {
   "cell_type": "markdown",
   "metadata": {},
   "source": [
    "# Parsing and generating robot descriptions from templates"
   ]
  },
  {
   "cell_type": "markdown",
   "metadata": {},
   "source": [
    "## Parsing XACRO files\n",
    "\n",
    "`.xacro` can also be parsed and inspected using the `pcg_gazebo_pkgs` library.\n",
    "\n",
    "For this example please clone the `universal_robot` repository into you `catkin` workspace\n",
    "\n",
    "```\n",
    "cd $HOME/catkin_ws/src\n",
    "git clone https://github.com/ros-industrial/universal_robot.git\n",
    "```\n",
    "\n",
    "and then build and source the catkin workspace."
   ]
  },
  {
   "cell_type": "code",
   "execution_count": null,
   "metadata": {},
   "outputs": [],
   "source": [
    "import warnings\n",
    "warnings.filterwarnings('ignore')\n",
    "\n",
    "from pcg_gazebo.simulation import SimulationModel\n",
    "from pcg_gazebo.parsers import parse_xacro"
   ]
  },
  {
   "cell_type": "code",
   "execution_count": null,
   "metadata": {},
   "outputs": [],
   "source": [
    "import os\n",
    "import rospkg\n",
    "try:\n",
    "    pkg_path = rospkg.RosPack().get_path('ur_description')\n",
    "    UR5_AVAILABLE = True\n",
    "except rospkg.ResourceNotFound:\n",
    "    UR5_AVAILABLE = False\n",
    "    print('ur_description package not available')\n",
    "    \n",
    "if UR5_AVAILABLE:\n",
    "    urdf_filename = os.path.join(pkg_path, 'urdf', 'ur5_robot.urdf.xacro')"
   ]
  },
  {
   "cell_type": "markdown",
   "metadata": {},
   "source": [
    "Load the URDF model as a `SimulationModel`."
   ]
  },
  {
   "cell_type": "code",
   "execution_count": null,
   "metadata": {},
   "outputs": [],
   "source": [
    "if UR5_AVAILABLE:\n",
    "    model = SimulationModel.from_urdf(parse_xacro(urdf_filename))"
   ]
  },
  {
   "cell_type": "code",
   "execution_count": null,
   "metadata": {},
   "outputs": [],
   "source": [
    "if UR5_AVAILABLE:\n",
    "    print('Links: ', model.link_names)"
   ]
  },
  {
   "cell_type": "code",
   "execution_count": null,
   "metadata": {},
   "outputs": [],
   "source": [
    "if UR5_AVAILABLE:\n",
    "    print('Joints: ', model.joint_names)"
   ]
  },
  {
   "cell_type": "code",
   "execution_count": null,
   "metadata": {},
   "outputs": [],
   "source": [
    "if UR5_AVAILABLE:\n",
    "    model.show(mesh_type='collision')"
   ]
  },
  {
   "cell_type": "markdown",
   "metadata": {},
   "source": [
    "![sim_ur5_collision](images/sim_ur5_collision.png)"
   ]
  },
  {
   "cell_type": "code",
   "execution_count": null,
   "metadata": {},
   "outputs": [],
   "source": [
    "if UR5_AVAILABLE:\n",
    "    model.show(mesh_type='visual')"
   ]
  },
  {
   "cell_type": "markdown",
   "metadata": {},
   "source": [
    "![sim_ur5_visual](images/sim_ur5_visual.png)"
   ]
  },
  {
   "cell_type": "markdown",
   "metadata": {},
   "source": [
    "## Parsing Jinja templates to generate SDF robot descriptions \n",
    "\n",
    "Jinja is a powerful templating engine for Python. It can be extended with new functions and offers data structures such as dictionaries to be used inside the template.\n",
    "\n",
    "In this example, the **kobuki** model was rewritten as a Jinja template (see below) to generate an SDF model for the robot. \n",
    "\n",
    "The extensions for the Jinja engines in the `pcg_gazebo` include \n",
    "\n",
    "* path completion using `$(find pkg)`, `package://`, `file://` \n",
    "* path completion for relative paths using `{% 'relative/path'|find_file %}` \n",
    "* macro functions used, for example, to compute moments of inertia for geometric primitives"
   ]
  },
  {
   "cell_type": "code",
   "execution_count": null,
   "metadata": {},
   "outputs": [],
   "source": [
    "from pcg_gazebo.simulation import SimulationModel\n",
    "from pcg_gazebo.parsers import parse_sdf\n",
    "from pcg_gazebo.utils import process_jinja_template"
   ]
  },
  {
   "cell_type": "markdown",
   "metadata": {},
   "source": [
    "Open and process the Jinja template.\n",
    "\n",
    "The output XML is provided as a `string`."
   ]
  },
  {
   "cell_type": "code",
   "execution_count": null,
   "metadata": {},
   "outputs": [],
   "source": [
    "import os\n",
    "import rospkg\n",
    "jinja_template = os.path.abspath(\n",
    "    os.path.join('robot_description', 'kobuki', 'sdf', 'kobuki.sdf.jinja'))\n",
    "print('Jinja template = {}'.format(jinja_template))\n",
    "output_xml = process_jinja_template(\n",
    "    jinja_template,\n",
    "    parameters=dict(robot_namespace='kobuki'))"
   ]
  },
  {
   "cell_type": "markdown",
   "metadata": {},
   "source": [
    "Generate the SDF object for the XML output."
   ]
  },
  {
   "cell_type": "code",
   "execution_count": null,
   "metadata": {},
   "outputs": [],
   "source": [
    "sdf = parse_sdf(output_xml)\n",
    "print(sdf.models)"
   ]
  },
  {
   "cell_type": "markdown",
   "metadata": {},
   "source": [
    "Generate a model from the **kobuki** SDF data."
   ]
  },
  {
   "cell_type": "code",
   "execution_count": null,
   "metadata": {},
   "outputs": [],
   "source": [
    "model = SimulationModel.from_sdf(sdf.models[0])"
   ]
  },
  {
   "cell_type": "markdown",
   "metadata": {},
   "source": [
    "Visualize the model's collision and visual geometries"
   ]
  },
  {
   "cell_type": "code",
   "execution_count": null,
   "metadata": {},
   "outputs": [],
   "source": [
    "model.show(mesh_type='visual')"
   ]
  },
  {
   "cell_type": "code",
   "execution_count": null,
   "metadata": {},
   "outputs": [],
   "source": [
    "model.show(mesh_type='collision')"
   ]
  },
  {
   "cell_type": "code",
   "execution_count": null,
   "metadata": {},
   "outputs": [],
   "source": [
    "from pcg_gazebo.generators.creators import create_models_from_config\n",
    "from pcg_gazebo.task_manager import Server, get_rostopic_list\n",
    "\n",
    "# Start an empty world Gazebo simulation\n",
    "server = Server()\n",
    "server.create_simulation('default')\n",
    "simulation = server.get_simulation('default')\n",
    "simulation.create_gazebo_empty_world_task()\n",
    "simulation.run_task('gazebo')\n",
    "\n",
    "# Create a Gazebo proxy\n",
    "gazebo_proxy = simulation.get_gazebo_proxy()"
   ]
  },
  {
   "cell_type": "markdown",
   "metadata": {},
   "source": [
    "Spawn the **kobuki** model."
   ]
  },
  {
   "cell_type": "code",
   "execution_count": null,
   "metadata": {},
   "outputs": [],
   "source": [
    "model.spawn(gazebo_proxy=gazebo_proxy)"
   ]
  },
  {
   "cell_type": "markdown",
   "metadata": {},
   "source": [
    "List all ROS topics"
   ]
  },
  {
   "cell_type": "code",
   "execution_count": null,
   "metadata": {},
   "outputs": [],
   "source": [
    "print('ROS topics: ', get_rostopic_list(gazebo_proxy.ros_config.ros_master_uri))"
   ]
  },
  {
   "cell_type": "code",
   "execution_count": null,
   "metadata": {},
   "outputs": [],
   "source": [
    "simulation.init_task(\n",
    "    name='command',\n",
    "    command='rostopic pub /kobuki/cmd_vel geometry_msgs/Twist \"{linear: {x: {vx}, y: 0.0, z: 0.0}, angular: {x: 0.0, y: 0.0, z: {vtheta}}}\"',\n",
    "    has_gazebo=False,\n",
    "    params=dict(\n",
    "        vx=0.3,\n",
    "        vtheta=0.4))\n",
    "simulation.run_task('command')"
   ]
  },
  {
   "cell_type": "markdown",
   "metadata": {},
   "source": [
    "![sim_kobuki_cmd](images/sim_kobuki_cmd.png)"
   ]
  },
  {
   "cell_type": "code",
   "execution_count": null,
   "metadata": {},
   "outputs": [],
   "source": [
    "#simulation.kill_all_tasks()"
   ]
  },
  {
   "cell_type": "code",
   "execution_count": null,
   "metadata": {},
   "outputs": [],
   "source": []
  }
 ],
 "metadata": {
  "kernelspec": {
   "display_name": "Python 3",
   "language": "python",
   "name": "python3"
  },
  "language_info": {
   "codemirror_mode": {
    "name": "ipython",
    "version": 3
   },
   "file_extension": ".py",
   "mimetype": "text/x-python",
   "name": "python",
   "nbconvert_exporter": "python",
   "pygments_lexer": "ipython3",
   "version": "3.6.9"
  }
 },
 "nbformat": 4,
 "nbformat_minor": 4
}
