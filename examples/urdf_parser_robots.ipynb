{
 "cells": [
  {
   "cell_type": "markdown",
   "metadata": {},
   "source": [
    "# Robots"
   ]
  },
  {
   "cell_type": "code",
   "execution_count": 1,
   "metadata": {},
   "outputs": [],
   "source": [
    "# Import the element creator\n",
    "from pcg_gazebo.parsers.urdf import create_urdf_element"
   ]
  },
  {
   "cell_type": "code",
   "execution_count": 2,
   "metadata": {},
   "outputs": [
    {
     "name": "stdout",
     "output_type": "stream",
     "text": [
      "<robot name=\"robot\"/>\n",
      "\n"
     ]
    }
   ],
   "source": [
    "robot = create_urdf_element('robot')\n",
    "print(robot)"
   ]
  },
  {
   "cell_type": "code",
   "execution_count": 3,
   "metadata": {},
   "outputs": [
    {
     "name": "stdout",
     "output_type": "stream",
     "text": [
      "<robot name=\"robot\">\n",
      "  <link name=\"link\">\n",
      "    <inertial>\n",
      "      <mass value=\"0\"/>\n",
      "      <origin xyz=\"0 0 0\" rpy=\"0 0 0\"/>\n",
      "      <inertia ixx=\"0\" iyy=\"0\" izz=\"0\" ixy=\"0\" ixz=\"0\" iyz=\"0\"/>\n",
      "    </inertial>\n",
      "    <collision name=\"collision\">\n",
      "      <origin xyz=\"0 0 0\" rpy=\"0 0 0\"/>\n",
      "      <geometry>\n",
      "        <box size=\"0 0 0\"/>\n",
      "      </geometry>\n",
      "      <gazebo/>\n",
      "    </collision>\n",
      "    <visual name=\"visual\">\n",
      "      <origin xyz=\"0 0 0\" rpy=\"0 0 0\"/>\n",
      "      <geometry>\n",
      "        <box size=\"0 0 0\"/>\n",
      "      </geometry>\n",
      "      <material name=\"\">\n",
      "        <color rgba=\"0 0 0 1\"/>\n",
      "        <gazebo/>\n",
      "      </material>\n",
      "      <gazebo/>\n",
      "    </visual>\n",
      "    <gazebo>\n",
      "      <mu1>0</mu1>\n",
      "      <mu2>0</mu2>\n",
      "      <kp>1000000000000.0</kp>\n",
      "      <kd>1</kd>\n",
      "      <maxContacts>20</maxContacts>\n",
      "      <minDepth>0</minDepth>\n",
      "      <maxVel>0.01</maxVel>\n",
      "      <selfCollide>0</selfCollide>\n",
      "    </gazebo>\n",
      "  </link>\n",
      "  <joint name=\"joint\" type=\"revolute\">\n",
      "    <origin xyz=\"0 0 0\" rpy=\"0 0 0\"/>\n",
      "    <parent link=\"link\"/>\n",
      "    <child link=\"link\"/>\n",
      "    <limit lower=\"0\" upper=\"0\" effort=\"0\" velocity=\"0\">\n",
      "      <gazebo/>\n",
      "    </limit>\n",
      "    <axis xyz=\"1 0 0\"/>\n",
      "    <dynamics damping=\"0\" friction=\"0\">\n",
      "      <gazebo/>\n",
      "    </dynamics>\n",
      "    <mimic multiplier=\"1\" offset=\"0\"/>\n",
      "    <safety_controller soft_lower_limit=\"0\" soft_upper_limit=\"0\" k_position=\"0\" k_velocity=\"0\"/>\n",
      "    <gazebo>\n",
      "      <stopCfm>0.0</stopCfm>\n",
      "      <stopErp>0.2</stopErp>\n",
      "    </gazebo>\n",
      "  </joint>\n",
      "  <gazebo/>\n",
      "  <transmission name=\"transmission\">\n",
      "    <type>transmission_interface/SimpleTransmission</type>\n",
      "    <actuator name=\"actuator\">\n",
      "      <mechanicalReduction>1</mechanicalReduction>\n",
      "      <hardwareInterface>EffortJointInterface</hardwareInterface>\n",
      "    </actuator>\n",
      "    <joint name=\"joint\">\n",
      "      <hardwareInterface>EffortJointInterface</hardwareInterface>\n",
      "    </joint>\n",
      "  </transmission>\n",
      "  <material name=\"\">\n",
      "    <color rgba=\"0 0 0 1\"/>\n",
      "    <gazebo/>\n",
      "  </material>\n",
      "</robot>\n",
      "\n"
     ]
    }
   ],
   "source": [
    "robot.reset(with_optional_elements=True)\n",
    "print(robot)"
   ]
  }
 ],
 "metadata": {
  "kernelspec": {
   "display_name": "Python 3",
   "language": "python",
   "name": "python3"
  },
  "language_info": {
   "codemirror_mode": {
    "name": "ipython",
    "version": 3
   },
   "file_extension": ".py",
   "mimetype": "text/x-python",
   "name": "python",
   "nbconvert_exporter": "python",
   "pygments_lexer": "ipython3",
   "version": "3.6.9"
  }
 },
 "nbformat": 4,
 "nbformat_minor": 4
}
