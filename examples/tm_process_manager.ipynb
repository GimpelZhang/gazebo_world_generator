{
 "cells": [
  {
   "cell_type": "markdown",
   "metadata": {},
   "source": [
    "# Process manager\n",
    "\n",
    "The process manager allows the construction of sets of tasks to be run, which can be (but are not limited to) launch files or ROS nodes to bring up a system that may include an instance of Gazebo.\n",
    "Each instance of the process manager can be set with a different `ROS_MASTER_URI` and `GAZEBO_MASTER_URI`, so that multiple `roscore` and `gazebo` instances can be initialized on the same host at the same time."
   ]
  },
  {
   "cell_type": "markdown",
   "metadata": {},
   "source": [
    "## Starting a process manager with default parameters"
   ]
  },
  {
   "cell_type": "code",
   "execution_count": 1,
   "metadata": {},
   "outputs": [
    {
     "name": "stdout",
     "output_type": "stream",
     "text": [
      "ROS network configuration:\n",
      "ROS_MASTER_URI=http://localhost:11311, GAZEBO_MASTER_URI=http://localhost:11345\n"
     ]
    }
   ],
   "source": [
    "from pcg_gazebo.task_manager import ProcessManager\n",
    "# A process manager can be started by itself with an empty list of tasks\n",
    "process_manager = ProcessManager()\n",
    "# At this point neither Gazebo or roscore are running\n",
    "# When no arguments are given, the default hostname and port\n",
    "# arguments are going to be used.\n",
    "print('ROS network configuration:')\n",
    "print(process_manager.ros_config)"
   ]
  },
  {
   "cell_type": "code",
   "execution_count": 2,
   "metadata": {},
   "outputs": [
    {
     "name": "stdout",
     "output_type": "stream",
     "text": [
      "[]\n"
     ]
    }
   ],
   "source": [
    "# At first, no tasks are available in the tasks list\n",
    "print(process_manager.get_task_list())"
   ]
  },
  {
   "cell_type": "code",
   "execution_count": 3,
   "metadata": {},
   "outputs": [
    {
     "name": "stdout",
     "output_type": "stream",
     "text": [
      "Check all the process stages available\n",
      "OrderedDict([('roscore', <pcg_gazebo.task_manager.stage.Stage object at 0x7f59f7d31f28>), ('pre-simulation', <pcg_gazebo.task_manager.stage.Stage object at 0x7f59f7d31f60>)])\n"
     ]
    }
   ],
   "source": [
    "print('Check all the process stages available')\n",
    "print(process_manager.stages)"
   ]
  },
  {
   "cell_type": "code",
   "execution_count": 4,
   "metadata": {},
   "outputs": [
    {
     "name": "stdout",
     "output_type": "stream",
     "text": [
      "2020-09-11 15:09:52,567 | WARNING | __init__ | Error testing roscore, message=Command '['rostopic', 'list']' returned non-zero exit status 1\n"
     ]
    },
    {
     "data": {
      "text/plain": [
       "True"
      ]
     },
     "execution_count": 4,
     "metadata": {},
     "output_type": "execute_result"
    }
   ],
   "source": [
    "# You can start roscore by calling the method below\n",
    "process_manager.create_ros_core_task()"
   ]
  },
  {
   "cell_type": "code",
   "execution_count": 5,
   "metadata": {},
   "outputs": [
    {
     "name": "stdout",
     "output_type": "stream",
     "text": [
      "['roscore']\n"
     ]
    }
   ],
   "source": [
    "# Now the roscore task can be found in the list\n",
    "print(process_manager.get_task_list())"
   ]
  },
  {
   "cell_type": "code",
   "execution_count": 6,
   "metadata": {},
   "outputs": [
    {
     "name": "stdout",
     "output_type": "stream",
     "text": [
      "2020-09-11 15:10:46,785 | WARNING | __init__ | Error testing roscore, message=Command '['rostopic', 'list']' returned non-zero exit status 1\n",
      "2020-09-11 15:10:47,040 | WARNING | __init__ | Error testing roscore, message=Command '['rostopic', 'list']' returned non-zero exit status 1\n"
     ]
    }
   ],
   "source": [
    "# The task can be started using the method below\n",
    "# Running individual tasks will not use the stage order \n",
    "process_manager.run_task('roscore')"
   ]
  },
  {
   "cell_type": "code",
   "execution_count": 7,
   "metadata": {},
   "outputs": [
    {
     "name": "stdout",
     "output_type": "stream",
     "text": [
      "Is task running? True\n"
     ]
    }
   ],
   "source": [
    "# Check if the task is running\n",
    "print('Is task running? {}'.format(process_manager.is_task_running('roscore')))"
   ]
  },
  {
   "cell_type": "code",
   "execution_count": 8,
   "metadata": {},
   "outputs": [
    {
     "name": "stdout",
     "output_type": "stream",
     "text": [
      "['rviz', 'roscore']\n"
     ]
    }
   ],
   "source": [
    "# Creating an RViz task with a timeout\n",
    "# The required flag, like the flag for ROS nodes, says that once this task dies, \n",
    "# all other tasks must be killed.\n",
    "# The process timeout starts a timer and will kill the task in the amount of seconds\n",
    "# given by process_timeout\n",
    "# IMPORTANT: process_timeout is based on the machine clock, not the simulation clock\n",
    "# process_timeout=None means that the process will run without a timeout\n",
    "process_manager.create_rviz_task(required=True, process_timeout=10)\n",
    "print(process_manager.get_task_list())"
   ]
  },
  {
   "cell_type": "code",
   "execution_count": 9,
   "metadata": {},
   "outputs": [
    {
     "name": "stdout",
     "output_type": "stream",
     "text": [
      "2020-09-11 15:13:25,572 | WARNING | task | Task <rviz> - Killing process tree...\n",
      "2020-09-11 15:13:25,604 | WARNING | task | Sending SIGINT to child process id=26127\n",
      "2020-09-11 15:13:25,608 | WARNING | task | Child process 26127 still running\n",
      "2020-09-11 15:13:25,610 | WARNING | task | Sending SIGINT to child process id=26126\n",
      "2020-09-11 15:13:25,612 | WARNING | task | Child process 26126 still running\n",
      "2020-09-11 15:13:25,998 | WARNING | task | Process 26126 already terminated\n",
      "2020-09-11 15:13:25,999 | WARNING | task | Process 26127 already terminated\n",
      "2020-09-11 15:13:25,999 | WARNING | task | Kill processes=\n",
      "\t - Gone=[psutil.Process(pid=26126, status='terminated', exitcode=<Negsignal.SIGINT: -2>, started='15:13:14'), psutil.Process(pid=26127, status='terminated', started='15:13:14')]\n",
      "\t - Alive[]\n",
      "2020-09-11 15:13:26,000 | WARNING | process_manager | Required task <rviz> has been terminated, killing all tasks\n",
      "2020-09-11 15:13:26,000 | WARNING | task | Task <roscore> - Killing process tree...\n",
      "2020-09-11 15:13:26,007 | WARNING | task | Sending SIGINT to child process id=25240\n",
      "2020-09-11 15:13:26,008 | WARNING | task | Child process 25240 still running\n",
      "2020-09-11 15:13:26,009 | WARNING | task | Sending SIGINT to child process id=25271\n",
      "2020-09-11 15:13:26,010 | WARNING | task | Child process 25271 still running\n",
      "2020-09-11 15:13:26,010 | WARNING | task | Sending SIGINT to child process id=25255\n",
      "2020-09-11 15:13:26,011 | WARNING | task | Child process 25255 still running\n",
      "2020-09-11 15:13:26,012 | WARNING | task | Sending SIGINT to child process id=25239\n",
      "2020-09-11 15:13:26,013 | WARNING | task | Child process 25239 still running\n",
      "2020-09-11 15:13:26,275 | WARNING | task | Process 25271 already terminated\n",
      "2020-09-11 15:13:26,278 | WARNING | task | Process 25255 already terminated\n",
      "2020-09-11 15:13:26,453 | WARNING | task | Process 25240 already terminated\n",
      "2020-09-11 15:13:26,454 | WARNING | task | Process 25239 already terminated\n",
      "2020-09-11 15:13:26,455 | WARNING | task | Kill processes=\n",
      "\t - Gone=[psutil.Process(pid=25239, status='terminated', exitcode=<Negsignal.SIGINT: -2>, started='15:10:45'), psutil.Process(pid=25271, status='terminated', started='15:10:46'), psutil.Process(pid=25255, status='terminated', started='15:10:45'), psutil.Process(pid=25240, status='terminated', started='15:10:45')]\n",
      "\t - Alive[]\n",
      "2020-09-11 15:13:26,456 | WARNING | process_manager | Required task <roscore> has been terminated, killing all tasks\n",
      "2020-09-11 15:13:26,456 | WARNING | task | Task <rviz> - Process object is invalid\n"
     ]
    }
   ],
   "source": [
    "# After 10 seconds all tasks will be killed along with rviz\n",
    "process_manager.run_task('rviz')\n",
    "process_manager.wait()\n"
   ]
  },
  {
   "cell_type": "code",
   "execution_count": 10,
   "metadata": {},
   "outputs": [
    {
     "name": "stdout",
     "output_type": "stream",
     "text": [
      "2020-09-11 15:13:30,981 | WARNING | task | Task <rviz> - Process object is invalid\n",
      "2020-09-11 15:13:30,982 | WARNING | task | Task <roscore> - Process object is invalid\n"
     ]
    }
   ],
   "source": [
    "process_manager.kill_all_tasks()\n",
    "del process_manager"
   ]
  },
  {
   "cell_type": "markdown",
   "metadata": {},
   "source": [
    "## Running Gazebo\n",
    "\n",
    "Similar to RViz, Gazebo can also be started. The same process will be repeated to start Gazebo with the empty world scenario."
   ]
  },
  {
   "cell_type": "code",
   "execution_count": 11,
   "metadata": {},
   "outputs": [
    {
     "name": "stdout",
     "output_type": "stream",
     "text": [
      "ROS network configuration:\n",
      "ROS_MASTER_URI=http://localhost:15048, GAZEBO_MASTER_URI=http://localhost:27125\n"
     ]
    }
   ],
   "source": [
    "# At first, no tasks are available in the tasks list\n",
    "# A process manager can be started by itself with an empty list of tasks\n",
    "# When ros_port and/or gazebo_port is given as None, a random port will be chosen\n",
    "process_manager = ProcessManager(ros_port=None, gazebo_port=None)\n",
    "print('ROS network configuration:')\n",
    "print(process_manager.ros_config)"
   ]
  },
  {
   "cell_type": "code",
   "execution_count": 12,
   "metadata": {},
   "outputs": [
    {
     "name": "stdout",
     "output_type": "stream",
     "text": [
      "2020-09-11 15:13:53,241 | WARNING | __init__ | Error testing Gazebo server, message=Command '['rostopic', 'list']' returned non-zero exit status 1\n",
      "Check all tasks available\n",
      "['gazebo']\n",
      "Check all the process stages available\n",
      "OrderedDict([('roscore', <pcg_gazebo.task_manager.stage.Stage object at 0x7f5a586bb0f0>), ('pre-simulation', <pcg_gazebo.task_manager.stage.Stage object at 0x7f59f7ce16a0>), ('gazebo', <pcg_gazebo.task_manager.stage.Stage object at 0x7f5a586bb128>)])\n"
     ]
    }
   ],
   "source": [
    "# A Gazebo task can also be started with a process timeout\n",
    "process_manager.create_gazebo_empty_world_task(required=True, process_timeout=10)\n",
    "print('Check all tasks available')\n",
    "print(process_manager.get_task_list())\n",
    "print('Check all the process stages available')\n",
    "print(process_manager.stages)"
   ]
  },
  {
   "cell_type": "code",
   "execution_count": 13,
   "metadata": {},
   "outputs": [
    {
     "name": "stdout",
     "output_type": "stream",
     "text": [
      "OrderedDict([('roscore', <pcg_gazebo.task_manager.stage.Stage object at 0x7f5a586bb0f0>), ('pre-simulation', <pcg_gazebo.task_manager.stage.Stage object at 0x7f59f7ce16a0>), ('gazebo', <pcg_gazebo.task_manager.stage.Stage object at 0x7f5a586bb128>)])\n",
      "2020-09-11 15:14:04,446 | WARNING | __init__ | Error testing roscore, message=Command '['rostopic', 'list']' returned non-zero exit status 1\n",
      "2020-09-11 15:14:04,679 | WARNING | __init__ | Error testing roscore, message=Command '['rostopic', 'list']' returned non-zero exit status 1\n",
      "2020-09-11 15:14:04,931 | WARNING | __init__ | Error testing roscore, message=Command '['rostopic', 'list']' returned non-zero exit status 1\n",
      "2020-09-11 15:14:15,694 | WARNING | task | Task <gazebo> - Killing process tree...\n",
      "2020-09-11 15:14:15,737 | WARNING | task | Sending SIGINT to child process id=26370\n",
      "2020-09-11 15:14:15,738 | WARNING | task | Child process 26370 still running\n",
      "2020-09-11 15:14:15,739 | WARNING | task | Sending SIGINT to child process id=26393\n",
      "2020-09-11 15:14:15,741 | WARNING | task | Child process 26393 still running\n",
      "2020-09-11 15:14:15,742 | WARNING | task | Sending SIGINT to child process id=26388\n",
      "2020-09-11 15:14:15,743 | WARNING | task | Child process 26388 still running\n",
      "2020-09-11 15:14:15,745 | WARNING | task | Sending SIGINT to child process id=26456\n",
      "2020-09-11 15:14:15,746 | WARNING | task | Child process 26456 still running\n",
      "2020-09-11 15:14:15,747 | WARNING | task | Sending SIGINT to child process id=26462\n",
      "2020-09-11 15:14:15,748 | WARNING | task | Child process 26462 still running\n",
      "2020-09-11 15:14:15,749 | WARNING | task | Sending SIGINT to child process id=26369\n",
      "2020-09-11 15:14:15,750 | WARNING | task | Child process 26369 still running\n",
      "2020-09-11 15:14:16,276 | WARNING | task | Process 26462 already terminated\n",
      "2020-09-11 15:14:16,839 | WARNING | task | Process 26393 already terminated\n",
      "2020-09-11 15:14:21,538 | WARNING | task | Process 26388 already terminated\n",
      "2020-09-11 15:14:21,542 | WARNING | task | Process 26456 already terminated\n",
      "2020-09-11 15:14:21,649 | WARNING | task | Task <roscore> - Killing process tree...\n",
      "2020-09-11 15:14:21,657 | WARNING | task | Sending SIGINT to child process id=26310\n",
      "2020-09-11 15:14:21,657 | WARNING | task | Child process 26310 still running\n",
      "2020-09-11 15:14:21,658 | WARNING | task | Sending SIGINT to child process id=26341\n",
      "2020-09-11 15:14:21,658 | WARNING | task | Child process 26341 still running\n",
      "2020-09-11 15:14:21,659 | WARNING | task | Sending SIGINT to child process id=26325\n",
      "2020-09-11 15:14:21,660 | WARNING | task | Child process 26325 still running\n",
      "2020-09-11 15:14:21,661 | WARNING | task | Sending SIGINT to child process id=26309\n",
      "2020-09-11 15:14:21,661 | WARNING | task | Child process 26309 still running\n",
      "2020-09-11 15:14:21,677 | WARNING | task | Process 26370 already terminated\n",
      "2020-09-11 15:14:21,677 | WARNING | task | Process 26369 already terminated\n",
      "2020-09-11 15:14:21,678 | WARNING | task | Kill processes=\n",
      "\t - Gone=[psutil.Process(pid=26393, status='terminated', started='15:14:05'), psutil.Process(pid=26456, status='terminated', started='15:14:05'), psutil.Process(pid=26370, status='terminated', started='15:14:04'), psutil.Process(pid=26462, status='terminated', started='15:14:05'), psutil.Process(pid=26388, status='terminated', started='15:14:05'), psutil.Process(pid=26369, status='terminated', started='15:14:04')]\n",
      "\t - Alive[]\n",
      "2020-09-11 15:14:21,679 | WARNING | process_manager | Required task <gazebo> has been terminated, killing all tasks\n",
      "2020-09-11 15:14:21,679 | WARNING | task | Task <roscore> - Killing process tree...\n",
      "2020-09-11 15:14:21,688 | WARNING | task | Sending SIGINT to child process id=26310\n",
      "2020-09-11 15:14:21,689 | WARNING | task | Child process 26310 still running\n",
      "2020-09-11 15:14:21,690 | WARNING | task | Sending SIGINT to child process id=26341\n",
      "2020-09-11 15:14:21,690 | WARNING | task | Child process 26341 still running\n",
      "2020-09-11 15:14:21,691 | WARNING | task | Sending SIGINT to child process id=26325\n",
      "2020-09-11 15:14:21,691 | WARNING | task | Child process 26325 still running\n",
      "2020-09-11 15:14:21,692 | WARNING | task | Sending SIGINT to child process id=26309\n",
      "2020-09-11 15:14:21,693 | WARNING | task | Child process 26309 still running\n",
      "2020-09-11 15:14:21,925 | WARNING | task | Process 26341 already terminated\n",
      "2020-09-11 15:14:21,955 | WARNING | task | Process 26341 already terminated\n",
      "2020-09-11 15:14:22,050 | WARNING | task | Process 26309 already terminated\n",
      "2020-09-11 15:14:22,051 | WARNING | task | Process 26325 already terminated\n",
      "2020-09-11 15:14:22,052 | WARNING | task | Process 26310 already terminated\n",
      "2020-09-11 15:14:22,053 | WARNING | task | Kill processes=\n",
      "\t - Gone=[psutil.Process(pid=26325, status='terminated', started='15:14:03'), psutil.Process(pid=26341, status='terminated', started='15:14:04'), psutil.Process(pid=26310, status='terminated', started='15:14:03'), psutil.Process(pid=26309, status='terminated', exitcode=<Negsignal.SIGINT: -2>, started='15:14:03')]\n",
      "\t - Alive[]\n",
      "2020-09-11 15:14:22,054 | WARNING | process_manager | Required task <roscore> has been terminated, killing all tasks\n",
      "2020-09-11 15:14:22,054 | WARNING | task | Task <gazebo> - Process object is invalid\n",
      "2020-09-11 15:14:22,060 | WARNING | task | Process 26309 already terminated\n",
      "2020-09-11 15:14:22,061 | WARNING | task | Process 26325 already terminated\n",
      "2020-09-11 15:14:22,062 | WARNING | task | Process 26310 already terminated\n",
      "2020-09-11 15:14:22,063 | WARNING | task | Kill processes=\n",
      "\t - Gone=[psutil.Process(pid=26325, status='terminated', started='15:14:03'), psutil.Process(pid=26341, status='terminated', started='15:14:04'), psutil.Process(pid=26310, status='terminated', started='15:14:03'), psutil.Process(pid=26309, status='terminated', started='15:14:03')]\n",
      "\t - Alive[]\n",
      "2020-09-11 15:14:22,064 | WARNING | process_manager | Required task <roscore> has been terminated, killing all tasks\n",
      "2020-09-11 15:14:22,065 | WARNING | task | Task <gazebo> - Process object is invalid\n",
      "2020-09-11 15:14:22,066 | WARNING | task | Task <gazebo> - Process object is invalid\n"
     ]
    }
   ],
   "source": [
    "process_manager.run_all_tasks()\n",
    "# A roscore stage should be automatically added to the process manager list\n",
    "print(process_manager.stages)\n",
    "process_manager.wait()\n"
   ]
  },
  {
   "cell_type": "code",
   "execution_count": 14,
   "metadata": {},
   "outputs": [
    {
     "name": "stdout",
     "output_type": "stream",
     "text": [
      "2020-09-11 15:14:22,073 | WARNING | task | Task <roscore> - Process object is invalid\n",
      "2020-09-11 15:14:22,074 | WARNING | task | Task <gazebo> - Process object is invalid\n"
     ]
    }
   ],
   "source": [
    "process_manager.kill_all_tasks()\n",
    "del process_manager\n"
   ]
  },
  {
   "cell_type": "code",
   "execution_count": 15,
   "metadata": {},
   "outputs": [
    {
     "name": "stdout",
     "output_type": "stream",
     "text": [
      "ROS network configuration:\n",
      "ROS_MASTER_URI=http://localhost:17899, GAZEBO_MASTER_URI=http://localhost:26148\n"
     ]
    }
   ],
   "source": [
    "# But a task that contains a Gazebo instance can also be started with a simulation timeout\n",
    "# meaning that the process will be killed only when the simulation time reaches a timeout\n",
    "# At first, no tasks are available in the tasks list\n",
    "# A process manager can be started by itself with an empty list of tasks\n",
    "# When ros_port and/or gazebo_port is given as None, a random port will be chosen\n",
    "process_manager = ProcessManager(ros_port=None, gazebo_port=None)\n",
    "print('ROS network configuration:')\n",
    "print(process_manager.ros_config)\n",
    "\n",
    "process_manager.create_gazebo_empty_world_task(required=True, simulation_timeout=10)\n",
    "process_manager.run_all_tasks()\n",
    "process_manager.wait()"
   ]
  },
  {
   "cell_type": "code",
   "execution_count": 16,
   "metadata": {},
   "outputs": [
    {
     "name": "stdout",
     "output_type": "stream",
     "text": [
      "Is task running? False\n"
     ]
    }
   ],
   "source": [
    "print('Is task running? {}'.format(process_manager.is_task_running('gazebo')))"
   ]
  },
  {
   "cell_type": "code",
   "execution_count": 17,
   "metadata": {},
   "outputs": [],
   "source": [
    "# End the simulation by killing the Gazebo task\n",
    "process_manager.kill_all_tasks()"
   ]
  }
 ],
 "metadata": {
  "kernelspec": {
   "display_name": "Python 3",
   "language": "python",
   "name": "python3"
  },
  "language_info": {
   "codemirror_mode": {
    "name": "ipython",
    "version": 3
   },
   "file_extension": ".py",
   "mimetype": "text/x-python",
   "name": "python",
   "nbconvert_exporter": "python",
   "pygments_lexer": "ipython3",
   "version": "3.5.2"
  }
 },
 "nbformat": 4,
 "nbformat_minor": 4
}
