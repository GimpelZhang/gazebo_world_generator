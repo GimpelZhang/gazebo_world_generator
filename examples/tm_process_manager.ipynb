{
 "cells": [
  {
   "cell_type": "markdown",
   "metadata": {},
   "source": [
    "# Process manager\n",
    "\n",
    "The process manager allows the construction of sets of tasks to be run, which can be (but are not limited to) launch files or ROS nodes to bring up a system that may include an instance of Gazebo.\n",
    "Each instance of the process manager can be set with a different `ROS_MASTER_URI` and `GAZEBO_MASTER_URI`, so that multiple `roscore` and `gazebo` instances can be initialized on the same host at the same time."
   ]
  },
  {
   "cell_type": "markdown",
   "metadata": {},
   "source": [
    "## Starting a process manager with default parameters"
   ]
  },
  {
   "cell_type": "code",
   "execution_count": 1,
   "metadata": {},
   "outputs": [
    {
     "name": "stdout",
     "output_type": "stream",
     "text": [
      "ROS network configuration:\n",
      "ROS_MASTER_URI=http://localhost:11311, GAZEBO_MASTER_URI=http://localhost:11345\n"
     ]
    }
   ],
   "source": [
    "from pcg_gazebo.task_manager import ProcessManager\n",
    "# A process manager can be started by itself with an empty list of tasks\n",
    "process_manager = ProcessManager()\n",
    "# At this point neither Gazebo or roscore are running\n",
    "# When no arguments are given, the default hostname and port\n",
    "# arguments are going to be used.\n",
    "print('ROS network configuration:')\n",
    "print(process_manager.ros_config)"
   ]
  },
  {
   "cell_type": "code",
   "execution_count": 2,
   "metadata": {},
   "outputs": [
    {
     "name": "stdout",
     "output_type": "stream",
     "text": [
      "[]\n"
     ]
    }
   ],
   "source": [
    "# At first, no tasks are available in the tasks list\n",
    "print(process_manager.get_task_list())"
   ]
  },
  {
   "cell_type": "code",
   "execution_count": 3,
   "metadata": {},
   "outputs": [
    {
     "name": "stdout",
     "output_type": "stream",
     "text": [
      "Check all the process stages available\n",
      "OrderedDict([('roscore', <pcg_gazebo.task_manager.stage.Stage object at 0x7f564f0d59e8>), ('pre-simulation', <pcg_gazebo.task_manager.stage.Stage object at 0x7f564f0d5a20>)])\n"
     ]
    }
   ],
   "source": [
    "print('Check all the process stages available')\n",
    "print(process_manager.stages)"
   ]
  },
  {
   "cell_type": "code",
   "execution_count": 4,
   "metadata": {},
   "outputs": [
    {
     "data": {
      "text/plain": [
       "True"
      ]
     },
     "execution_count": 4,
     "metadata": {},
     "output_type": "execute_result"
    }
   ],
   "source": [
    "# You can start roscore by calling the method below\n",
    "process_manager.create_ros_core_task()"
   ]
  },
  {
   "cell_type": "code",
   "execution_count": 5,
   "metadata": {},
   "outputs": [
    {
     "name": "stdout",
     "output_type": "stream",
     "text": [
      "['roscore']\n"
     ]
    }
   ],
   "source": [
    "# Now the roscore task can be found in the list\n",
    "print(process_manager.get_task_list())"
   ]
  },
  {
   "cell_type": "code",
   "execution_count": 6,
   "metadata": {},
   "outputs": [],
   "source": [
    "# The task can be started using the method below\n",
    "# Running individual tasks will not use the stage order \n",
    "process_manager.run_task('roscore')"
   ]
  },
  {
   "cell_type": "code",
   "execution_count": 7,
   "metadata": {},
   "outputs": [
    {
     "name": "stdout",
     "output_type": "stream",
     "text": [
      "Is task running? True\n"
     ]
    }
   ],
   "source": [
    "# Check if the task is running\n",
    "print('Is task running? {}'.format(process_manager.is_task_running('roscore')))"
   ]
  },
  {
   "cell_type": "code",
   "execution_count": 8,
   "metadata": {},
   "outputs": [
    {
     "name": "stdout",
     "output_type": "stream",
     "text": [
      "['roscore', 'rviz']\n"
     ]
    }
   ],
   "source": [
    "# Creating an RViz task with a timeout\n",
    "# The required flag, like the flag for ROS nodes, says that once this task dies, \n",
    "# all other tasks must be killed.\n",
    "# The process timeout starts a timer and will kill the task in the amount of seconds\n",
    "# given by process_timeout\n",
    "# IMPORTANT: process_timeout is based on the machine clock, not the simulation clock\n",
    "# process_timeout=None means that the process will run without a timeout\n",
    "process_manager.create_rviz_task(required=True, process_timeout=10)\n",
    "print(process_manager.get_task_list())"
   ]
  },
  {
   "cell_type": "code",
   "execution_count": 9,
   "metadata": {},
   "outputs": [],
   "source": [
    "# After 10 seconds all tasks will be killed along with rviz\n",
    "process_manager.run_task('rviz')\n",
    "process_manager.wait()\n"
   ]
  },
  {
   "cell_type": "code",
   "execution_count": 10,
   "metadata": {},
   "outputs": [],
   "source": [
    "process_manager.kill_all_tasks()\n",
    "del process_manager"
   ]
  },
  {
   "cell_type": "markdown",
   "metadata": {},
   "source": [
    "## Running Gazebo\n",
    "\n",
    "Similar to RViz, Gazebo can also be started. The same process will be repeated to start Gazebo with the empty world scenario."
   ]
  },
  {
   "cell_type": "code",
   "execution_count": 11,
   "metadata": {},
   "outputs": [
    {
     "name": "stdout",
     "output_type": "stream",
     "text": [
      "ROS network configuration:\n",
      "ROS_MASTER_URI=http://localhost:18621, GAZEBO_MASTER_URI=http://localhost:25848\n"
     ]
    }
   ],
   "source": [
    "# At first, no tasks are available in the tasks list\n",
    "# A process manager can be started by itself with an empty list of tasks\n",
    "# When ros_port and/or gazebo_port is given as None, a random port will be chosen\n",
    "process_manager = ProcessManager(ros_port=None, gazebo_port=None)\n",
    "print('ROS network configuration:')\n",
    "print(process_manager.ros_config)"
   ]
  },
  {
   "cell_type": "code",
   "execution_count": 12,
   "metadata": {},
   "outputs": [
    {
     "name": "stdout",
     "output_type": "stream",
     "text": [
      "Check all tasks available\n",
      "['gazebo']\n",
      "Check all the process stages available\n",
      "OrderedDict([('roscore', <pcg_gazebo.task_manager.stage.Stage object at 0x7f56902dd5c0>), ('pre-simulation', <pcg_gazebo.task_manager.stage.Stage object at 0x7f564efd12b0>), ('gazebo', <pcg_gazebo.task_manager.stage.Stage object at 0x7f564efd1b70>)])\n"
     ]
    }
   ],
   "source": [
    "# A Gazebo task can also be started with a process timeout\n",
    "process_manager.create_gazebo_empty_world_task(required=True, process_timeout=10)\n",
    "print('Check all tasks available')\n",
    "print(process_manager.get_task_list())\n",
    "print('Check all the process stages available')\n",
    "print(process_manager.stages)"
   ]
  },
  {
   "cell_type": "code",
   "execution_count": 13,
   "metadata": {},
   "outputs": [
    {
     "name": "stdout",
     "output_type": "stream",
     "text": [
      "OrderedDict([('roscore', <pcg_gazebo.task_manager.stage.Stage object at 0x7f56902dd5c0>), ('pre-simulation', <pcg_gazebo.task_manager.stage.Stage object at 0x7f564efd12b0>), ('gazebo', <pcg_gazebo.task_manager.stage.Stage object at 0x7f564efd1b70>)])\n"
     ]
    }
   ],
   "source": [
    "process_manager.run_all_tasks()\n",
    "# A roscore stage should be automatically added to the process manager list\n",
    "print(process_manager.stages)\n",
    "process_manager.wait()\n"
   ]
  },
  {
   "cell_type": "code",
   "execution_count": 14,
   "metadata": {},
   "outputs": [],
   "source": [
    "process_manager.kill_all_tasks()\n",
    "del process_manager\n"
   ]
  },
  {
   "cell_type": "code",
   "execution_count": 15,
   "metadata": {},
   "outputs": [
    {
     "name": "stdout",
     "output_type": "stream",
     "text": [
      "ROS network configuration:\n",
      "ROS_MASTER_URI=http://localhost:17899, GAZEBO_MASTER_URI=http://localhost:26148\n"
     ]
    }
   ],
   "source": [
    "# But a task that contains a Gazebo instance can also be started with a simulation timeout\n",
    "# meaning that the process will be killed only when the simulation time reaches a timeout\n",
    "# At first, no tasks are available in the tasks list\n",
    "# A process manager can be started by itself with an empty list of tasks\n",
    "# When ros_port and/or gazebo_port is given as None, a random port will be chosen\n",
    "process_manager = ProcessManager(ros_port=None, gazebo_port=None)\n",
    "print('ROS network configuration:')\n",
    "print(process_manager.ros_config)\n",
    "\n",
    "process_manager.create_gazebo_empty_world_task(required=True, simulation_timeout=10)\n",
    "process_manager.run_all_tasks()\n",
    "process_manager.wait()"
   ]
  },
  {
   "cell_type": "code",
   "execution_count": 16,
   "metadata": {},
   "outputs": [
    {
     "name": "stdout",
     "output_type": "stream",
     "text": [
      "Is task running? False\n"
     ]
    }
   ],
   "source": [
    "print('Is task running? {}'.format(process_manager.is_task_running('gazebo')))"
   ]
  },
  {
   "cell_type": "code",
   "execution_count": 17,
   "metadata": {},
   "outputs": [],
   "source": [
    "# End the simulation by killing the Gazebo task\n",
    "process_manager.kill_all_tasks()"
   ]
  }
 ],
 "metadata": {
  "kernelspec": {
   "display_name": "Python 3",
   "language": "python",
   "name": "python3"
  },
  "language_info": {
   "codemirror_mode": {
    "name": "ipython",
    "version": 3
   },
   "file_extension": ".py",
   "mimetype": "text/x-python",
   "name": "python",
   "nbconvert_exporter": "python",
   "pygments_lexer": "ipython3",
   "version": "3.6.9"
  }
 },
 "nbformat": 4,
 "nbformat_minor": 4
}
