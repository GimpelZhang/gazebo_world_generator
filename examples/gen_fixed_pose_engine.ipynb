{
 "cells": [
  {
   "cell_type": "markdown",
   "metadata": {},
   "source": [
    "# Using the fixed pose engine"
   ]
  },
  {
   "cell_type": "code",
   "execution_count": 1,
   "metadata": {},
   "outputs": [],
   "source": [
    "import os\n",
    "import numpy as np\n",
    "\n",
    "from pcg_gazebo.generators import WorldGenerator\n",
    "\n",
    "world_gen = WorldGenerator()"
   ]
  },
  {
   "cell_type": "code",
   "execution_count": 2,
   "metadata": {},
   "outputs": [
    {
     "name": "stdout",
     "output_type": "stream",
     "text": [
      "Mesh filename =  /home/musamorena/Software/devel/pcg_gazebo/examples/meshes/monkey.stl True\n"
     ]
    },
    {
     "data": {
      "text/plain": [
       "True"
      ]
     },
     "execution_count": 2,
     "metadata": {},
     "output_type": "execute_result"
    }
   ],
   "source": [
    "try:\n",
    "    mesh_filename = os.path.join(\n",
    "        os.path.dirname(os.path.abspath(__file__)),\n",
    "        '..',\n",
    "        'examples',\n",
    "        'meshes',\n",
    "        'monkey.stl')\n",
    "except:    \n",
    "    mesh_filename = os.path.abspath('../examples/meshes/monkey.stl')\n",
    "print('Mesh filename = ', mesh_filename, os.path.exists(mesh_filename))\n",
    "world_gen.add_asset(\n",
    "    tag='monkey',\n",
    "    description=dict(\n",
    "        type='mesh',\n",
    "        args=dict(\n",
    "            visual_mesh=mesh_filename,\n",
    "            name='monkey',\n",
    "            color='xkcd'\n",
    "        )\n",
    "    )\n",
    ")"
   ]
  },
  {
   "cell_type": "code",
   "execution_count": 3,
   "metadata": {},
   "outputs": [
    {
     "data": {
      "text/plain": [
       "True"
      ]
     },
     "execution_count": 3,
     "metadata": {},
     "output_type": "execute_result"
    }
   ],
   "source": [
    "world_gen.add_engine(\n",
    "    engine_name='fixed_pose',\n",
    "    tag='engine',\n",
    "    models=['monkey'],\n",
    "    poses=[\n",
    "        [5, 0, 0, 0, 0, 0],\n",
    "        [1.2, 2.5, 0, 0, 0.3, 0],\n",
    "        [5.5, 3.2, 1.5, 0, 0, 0.5],\n",
    "        [-1.0, -1.0, 0.2, 0, 0, 0]\n",
    "    ]\n",
    ")"
   ]
  },
  {
   "cell_type": "code",
   "execution_count": 4,
   "metadata": {},
   "outputs": [
    {
     "data": {
      "text/plain": [
       "True"
      ]
     },
     "execution_count": 4,
     "metadata": {},
     "output_type": "execute_result"
    }
   ],
   "source": [
    "world_gen.run_engines()"
   ]
  },
  {
   "cell_type": "code",
   "execution_count": 5,
   "metadata": {},
   "outputs": [
    {
     "name": "stdout",
     "output_type": "stream",
     "text": [
      "dict_keys(['monkey', 'monkey_1', 'monkey_2', 'monkey_3'])\n"
     ]
    }
   ],
   "source": [
    "print(world_gen.world.models.keys())"
   ]
  },
  {
   "cell_type": "code",
   "execution_count": 6,
   "metadata": {},
   "outputs": [
    {
     "data": {
      "text/plain": [
       "SceneViewer(width=1869, height=1052)"
      ]
     },
     "execution_count": 6,
     "metadata": {},
     "output_type": "execute_result"
    }
   ],
   "source": [
    "world_gen.world.show()"
   ]
  },
  {
   "cell_type": "markdown",
   "metadata": {},
   "source": [
    "![gen_fixed_pose](images/gen_fixed_pose_engine.png)"
   ]
  },
  {
   "cell_type": "code",
   "execution_count": null,
   "metadata": {},
   "outputs": [],
   "source": []
  }
 ],
 "metadata": {
  "kernelspec": {
   "display_name": "Python 3",
   "language": "python",
   "name": "python3"
  },
  "language_info": {
   "codemirror_mode": {
    "name": "ipython",
    "version": 3
   },
   "file_extension": ".py",
   "mimetype": "text/x-python",
   "name": "python",
   "nbconvert_exporter": "python",
   "pygments_lexer": "ipython3",
   "version": "3.6.9"
  }
 },
 "nbformat": 4,
 "nbformat_minor": 4
}
