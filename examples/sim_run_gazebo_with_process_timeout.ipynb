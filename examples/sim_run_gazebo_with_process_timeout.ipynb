{
 "cells": [
  {
   "cell_type": "code",
   "execution_count": 1,
   "metadata": {},
   "outputs": [
    {
     "name": "stdout",
     "output_type": "stream",
     "text": [
      "ROS network configuration:\n",
      "ROS_MASTER_URI=http://localhost:18800, GAZEBO_MASTER_URI=http://localhost:29101\n"
     ]
    }
   ],
   "source": [
    "from pcg_gazebo.task_manager import ProcessManager\n",
    "# A process manager can be started by itself with an empty list of tasks\n",
    "process_manager = ProcessManager(ros_port=None, gazebo_port=None)\n",
    "# At this point neither Gazebo or roscore are running\n",
    "# When no arguments are given, the default hostname and port\n",
    "# arguments are going to be used.\n",
    "print('ROS network configuration:')\n",
    "print(process_manager.ros_config)"
   ]
  },
  {
   "cell_type": "code",
   "execution_count": 2,
   "metadata": {},
   "outputs": [
    {
     "name": "stdout",
     "output_type": "stream",
     "text": [
      "/home/mam0box/.pcg/logs/2020-02-07T16_17_30.128707_dDP\n"
     ]
    }
   ],
   "source": [
    "# Log files can be checked for each individual instance and process \n",
    "from pcg_gazebo.log import get_log_dir\n",
    "print(get_log_dir())"
   ]
  },
  {
   "cell_type": "code",
   "execution_count": 3,
   "metadata": {},
   "outputs": [
    {
     "data": {
      "text/plain": [
       "True"
      ]
     },
     "execution_count": 3,
     "metadata": {},
     "output_type": "execute_result"
    }
   ],
   "source": [
    "# Create task to run \n",
    "#   roslaunch gazebo_ros empty_world.launch\n",
    "process_manager.create_gazebo_empty_world_task(required=True, process_timeout=10)"
   ]
  },
  {
   "cell_type": "code",
   "execution_count": 4,
   "metadata": {},
   "outputs": [
    {
     "name": "stdout",
     "output_type": "stream",
     "text": [
      "Process stages:\n",
      "Stage roscore\n",
      " No tasks\n",
      "\n",
      "Stage pre-simulation\n",
      " No tasks\n",
      "\n",
      "Stage gazebo\n",
      " Tasks:\n",
      "   - gazebo\n",
      "\n"
     ]
    }
   ],
   "source": [
    "print('Process stages:')\n",
    "for stage in process_manager._stages.keys():\n",
    "    print(process_manager._stages[stage])"
   ]
  },
  {
   "cell_type": "code",
   "execution_count": 5,
   "metadata": {},
   "outputs": [],
   "source": [
    "# Start Gazebo with process timeout\n",
    "process_manager.run_all_tasks()\n",
    "    "
   ]
  },
  {
   "cell_type": "code",
   "execution_count": 6,
   "metadata": {},
   "outputs": [],
   "source": [
    "process_manager.wait()"
   ]
  },
  {
   "cell_type": "code",
   "execution_count": 7,
   "metadata": {},
   "outputs": [],
   "source": [
    "process_manager.kill_all_tasks()"
   ]
  },
  {
   "cell_type": "code",
   "execution_count": null,
   "metadata": {},
   "outputs": [],
   "source": []
  }
 ],
 "metadata": {
  "kernelspec": {
   "display_name": "Python 3",
   "language": "python",
   "name": "python3"
  },
  "language_info": {
   "codemirror_mode": {
    "name": "ipython",
    "version": 3
   },
   "file_extension": ".py",
   "mimetype": "text/x-python",
   "name": "python",
   "nbconvert_exporter": "python",
   "pygments_lexer": "ipython3",
   "version": "3.6.9"
  }
 },
 "nbformat": 4,
 "nbformat_minor": 4
}
