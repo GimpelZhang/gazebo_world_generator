{
 "cells": [
  {
   "cell_type": "markdown",
   "metadata": {},
   "source": [
    "# Use pattern pose engine"
   ]
  },
  {
   "cell_type": "code",
   "execution_count": 1,
   "metadata": {},
   "outputs": [],
   "source": [
    "import os\n",
    "import numpy as np\n",
    "\n",
    "from pcg_gazebo.generators import WorldGenerator\n",
    "from pcg_gazebo.simulation.properties import Pose\n",
    "\n",
    "world_gen = WorldGenerator()"
   ]
  },
  {
   "cell_type": "markdown",
   "metadata": {},
   "source": [
    "## Rectangular pattern"
   ]
  },
  {
   "cell_type": "code",
   "execution_count": 2,
   "metadata": {},
   "outputs": [
    {
     "data": {
      "text/plain": [
       "True"
      ]
     },
     "execution_count": 2,
     "metadata": {},
     "output_type": "execute_result"
    }
   ],
   "source": [
    "world_gen.add_asset(\n",
    "    tag='box',\n",
    "    description=dict(\n",
    "        type='box',\n",
    "        args=dict(\n",
    "            size=[0.5, 0.5, 0.5],\n",
    "            name='cuboid',\n",
    "            color='xkcd'\n",
    "        )\n",
    "    )\n",
    ")"
   ]
  },
  {
   "cell_type": "code",
   "execution_count": 3,
   "metadata": {},
   "outputs": [
    {
     "name": "stdout",
     "output_type": "stream",
     "text": [
      "Mesh filename =  /home/musamorena/Software/devel/pcg_gazebo/examples/meshes/monkey.stl True\n"
     ]
    },
    {
     "data": {
      "text/plain": [
       "True"
      ]
     },
     "execution_count": 3,
     "metadata": {},
     "output_type": "execute_result"
    }
   ],
   "source": [
    "try:\n",
    "    mesh_filename = os.path.join(\n",
    "        os.path.dirname(os.path.abspath(__file__)),\n",
    "        '..',\n",
    "        'examples',\n",
    "        'meshes',\n",
    "        'monkey.stl')\n",
    "except:    \n",
    "    mesh_filename = os.path.abspath('../examples/meshes/monkey.stl')\n",
    "print('Mesh filename = ', mesh_filename, os.path.exists(mesh_filename))\n",
    "world_gen.add_asset(\n",
    "    tag='monkey',\n",
    "    description=dict(\n",
    "        type='mesh',\n",
    "        args=dict(\n",
    "            visual_mesh=mesh_filename,\n",
    "            name='monkey',\n",
    "            color='xkcd'\n",
    "        )\n",
    "    )\n",
    ")"
   ]
  },
  {
   "cell_type": "code",
   "execution_count": 4,
   "metadata": {},
   "outputs": [
    {
     "data": {
      "text/plain": [
       "True"
      ]
     },
     "execution_count": 4,
     "metadata": {},
     "output_type": "execute_result"
    }
   ],
   "source": [
    "world_gen.add_constraint(\n",
    "    name='tangent_to_ground_plane',\n",
    "    type='tangent',\n",
    "    frame='world',\n",
    "    reference=dict(\n",
    "        type='plane',\n",
    "        args=dict(\n",
    "            origin=[0, 0, 0],\n",
    "            normal=[0, 0, 1]\n",
    "        )\n",
    "    )\n",
    ")"
   ]
  },
  {
   "cell_type": "markdown",
   "metadata": {},
   "source": [
    "### Rectangular pattern with number of elements\n",
    "\n",
    "#### Generate a pattern of boxes"
   ]
  },
  {
   "cell_type": "code",
   "execution_count": 5,
   "metadata": {},
   "outputs": [
    {
     "name": "stdout",
     "output_type": "stream",
     "text": [
      "dict_keys(['box', 'box_1', 'box_2', 'box_3', 'box_4', 'box_5', 'box_6', 'box_7', 'box_8', 'box_9', 'box_10', 'box_11', 'box_12', 'box_13', 'box_14', 'box_15', 'box_16', 'box_17', 'box_18', 'box_19', 'box_20', 'box_21', 'box_22', 'box_23', 'box_24'])\n"
     ]
    },
    {
     "data": {
      "text/plain": [
       "SceneViewer(width=1869, height=1025)"
      ]
     },
     "execution_count": 5,
     "metadata": {},
     "output_type": "execute_result"
    }
   ],
   "source": [
    "world_gen.add_engine(\n",
    "    tag='rectangular_with_n_elems',\n",
    "    engine_name='pattern',\n",
    "    models=['box'],\n",
    "    pattern='rectangular',\n",
    "    x_length=10,\n",
    "    y_length=10,\n",
    "    n_x=5,\n",
    "    n_y=5,\n",
    "    center=False)\n",
    "\n",
    "# If the engine is run without the attach_models\n",
    "# input set to True, the world is reset before\n",
    "# generating new models\n",
    "world_gen.run_engines(attach_models=False)\n",
    "\n",
    "# Print names of all models\n",
    "print(world_gen.world.models.keys())\n",
    "\n",
    "world_gen.world.show()"
   ]
  },
  {
   "cell_type": "markdown",
   "metadata": {},
   "source": [
    "#### Generate a pattern of boxes centered at the origin"
   ]
  },
  {
   "cell_type": "code",
   "execution_count": 6,
   "metadata": {},
   "outputs": [
    {
     "name": "stdout",
     "output_type": "stream",
     "text": [
      "dict_keys(['box', 'box_1', 'box_2', 'box_3', 'box_4', 'box_5', 'box_6', 'box_7', 'box_8', 'box_9', 'box_10', 'box_11', 'box_12', 'box_13', 'box_14', 'box_15', 'box_16', 'box_17', 'box_18', 'box_19', 'box_20', 'box_21', 'box_22', 'box_23', 'box_24'])\n"
     ]
    },
    {
     "data": {
      "text/plain": [
       "SceneViewer(width=1869, height=1052)"
      ]
     },
     "execution_count": 6,
     "metadata": {},
     "output_type": "execute_result"
    }
   ],
   "source": [
    "# Reset the engine collection\n",
    "world_gen.engines.reset()\n",
    "\n",
    "world_gen.add_engine(\n",
    "    tag='rectangular_with_n_elems',\n",
    "    engine_name='pattern',\n",
    "    models=['box'],\n",
    "    pattern='rectangular',\n",
    "    x_length=10,\n",
    "    y_length=10,\n",
    "    n_x=5,\n",
    "    n_y=5,\n",
    "    center=True)\n",
    "\n",
    "# If the engine is run without the attach_models\n",
    "# input set to True, the world is reset before\n",
    "# generating new models\n",
    "world_gen.run_engines(attach_models=False)\n",
    "\n",
    "# Print names of all models\n",
    "print(world_gen.world.models.keys())\n",
    "\n",
    "world_gen.world.show()"
   ]
  },
  {
   "cell_type": "markdown",
   "metadata": {},
   "source": [
    "### Rectangular pattern with step size"
   ]
  },
  {
   "cell_type": "code",
   "execution_count": 7,
   "metadata": {},
   "outputs": [
    {
     "name": "stdout",
     "output_type": "stream",
     "text": [
      "dict_keys(['monkey', 'monkey_1', 'monkey_2', 'monkey_3', 'monkey_4', 'monkey_5', 'monkey_6', 'monkey_7', 'monkey_8', 'monkey_9', 'monkey_10', 'monkey_11'])\n"
     ]
    },
    {
     "data": {
      "text/plain": [
       "SceneViewer(width=1869, height=1052)"
      ]
     },
     "execution_count": 7,
     "metadata": {},
     "output_type": "execute_result"
    }
   ],
   "source": [
    "# Reset the engine collection\n",
    "world_gen.engines.reset()\n",
    "\n",
    "world_gen.add_engine(\n",
    "    tag='rectangular_with_step',\n",
    "    engine_name='pattern',\n",
    "    models=['monkey'],\n",
    "    pattern='rectangular',\n",
    "    x_length=12,\n",
    "    y_length=8,\n",
    "    step_x=4,\n",
    "    step_y=4,\n",
    "    center=False)\n",
    "\n",
    "# If the engine is run without the attach_models\n",
    "# input set to True, the world is reset before\n",
    "# generating new models\n",
    "world_gen.run_engines(attach_models=False)\n",
    "\n",
    "# Print all models in the world\n",
    "print(world_gen.world.models.keys())\n",
    "\n",
    "world_gen.world.show()"
   ]
  },
  {
   "cell_type": "code",
   "execution_count": 8,
   "metadata": {},
   "outputs": [
    {
     "name": "stdout",
     "output_type": "stream",
     "text": [
      "dict_keys(['monkey', 'monkey_1', 'monkey_2', 'monkey_3', 'monkey_4', 'monkey_5', 'monkey_6', 'monkey_7', 'monkey_8', 'monkey_9', 'monkey_10', 'monkey_11'])\n"
     ]
    },
    {
     "data": {
      "text/plain": [
       "SceneViewer(width=1869, height=1052)"
      ]
     },
     "execution_count": 8,
     "metadata": {},
     "output_type": "execute_result"
    }
   ],
   "source": [
    "# Reset the engine collection\n",
    "world_gen.engines.reset()\n",
    "\n",
    "world_gen.add_engine(\n",
    "    tag='rectangular_with_step',\n",
    "    engine_name='pattern',\n",
    "    models=['monkey'],\n",
    "    pattern='rectangular',\n",
    "    x_length=8,\n",
    "    y_length=12,\n",
    "    step_x=4,\n",
    "    step_y=4,\n",
    "    center=True)\n",
    "\n",
    "# If the engine is run without the attach_models\n",
    "# input set to True, the world is reset before\n",
    "# generating new models\n",
    "world_gen.run_engines(attach_models=False)\n",
    "\n",
    "# Print all models in the world\n",
    "print(world_gen.world.models.keys())\n",
    "\n",
    "world_gen.world.show()"
   ]
  },
  {
   "cell_type": "markdown",
   "metadata": {},
   "source": [
    "## Circular pattern\n",
    "\n",
    "### Set number of elements"
   ]
  },
  {
   "cell_type": "code",
   "execution_count": 9,
   "metadata": {},
   "outputs": [
    {
     "name": "stdout",
     "output_type": "stream",
     "text": [
      "dict_keys(['monkey', 'monkey_1', 'monkey_2', 'monkey_3', 'monkey_4', 'monkey_5'])\n"
     ]
    },
    {
     "data": {
      "text/plain": [
       "SceneViewer(width=1869, height=1052)"
      ]
     },
     "execution_count": 9,
     "metadata": {},
     "output_type": "execute_result"
    }
   ],
   "source": [
    "# Reset the engine collection\n",
    "world_gen.engines.reset()\n",
    "\n",
    "world_gen.add_engine(\n",
    "    tag='circular_n_theta',\n",
    "    engine_name='pattern',\n",
    "    models=['monkey'],\n",
    "    pattern='circular',\n",
    "    radius=10,\n",
    "    max_theta=2 * np.pi,\n",
    "    n_theta=6)\n",
    "\n",
    "# If the engine is run without the attach_models\n",
    "# input set to True, the world is reset before\n",
    "# generating new models\n",
    "world_gen.run_engines(attach_models=False)\n",
    "\n",
    "# Print names of all models\n",
    "print(world_gen.world.models.keys())\n",
    "\n",
    "world_gen.world.show()"
   ]
  },
  {
   "cell_type": "code",
   "execution_count": 10,
   "metadata": {},
   "outputs": [
    {
     "name": "stdout",
     "output_type": "stream",
     "text": [
      "dict_keys(['box', 'box_1', 'box_2', 'box_3', 'box_4', 'box_5', 'box_6', 'box_7', 'box_8', 'box_9'])\n"
     ]
    },
    {
     "data": {
      "text/plain": [
       "SceneViewer(width=1869, height=1052)"
      ]
     },
     "execution_count": 10,
     "metadata": {},
     "output_type": "execute_result"
    }
   ],
   "source": [
    "# Reset the engine collection\n",
    "world_gen.engines.reset()\n",
    "\n",
    "world_gen.add_engine(\n",
    "    tag='circular_n_theta',\n",
    "    engine_name='pattern',\n",
    "    models=['box'],\n",
    "    pattern='circular',\n",
    "    radius=10,\n",
    "    max_theta=2 * np.pi,\n",
    "    n_theta=5,\n",
    "    n_radius=2)\n",
    "\n",
    "# If the engine is run without the attach_models\n",
    "# input set to True, the world is reset before\n",
    "# generating new models\n",
    "world_gen.run_engines(attach_models=False)\n",
    "\n",
    "# Print names of all models\n",
    "print(world_gen.world.models.keys())\n",
    "\n",
    "world_gen.world.show()"
   ]
  },
  {
   "cell_type": "markdown",
   "metadata": {},
   "source": [
    "### Set step size"
   ]
  },
  {
   "cell_type": "code",
   "execution_count": 11,
   "metadata": {},
   "outputs": [
    {
     "name": "stdout",
     "output_type": "stream",
     "text": [
      "dict_keys(['monkey', 'monkey_1', 'monkey_2', 'monkey_3', 'monkey_4', 'monkey_5', 'monkey_6', 'monkey_7', 'monkey_8'])\n"
     ]
    },
    {
     "data": {
      "text/plain": [
       "SceneViewer(width=1869, height=1052)"
      ]
     },
     "execution_count": 11,
     "metadata": {},
     "output_type": "execute_result"
    }
   ],
   "source": [
    "# Reset the engine collection\n",
    "world_gen.engines.reset()\n",
    "\n",
    "world_gen.add_engine(\n",
    "    tag='circular_n_theta',\n",
    "    engine_name='pattern',\n",
    "    models=['monkey'],\n",
    "    pattern='circular',\n",
    "    radius=10,\n",
    "    max_theta=2 * np.pi,\n",
    "    step_theta=np.pi / 4)\n",
    "\n",
    "# If the engine is run without the attach_models\n",
    "# input set to True, the world is reset before\n",
    "# generating new models\n",
    "world_gen.run_engines(attach_models=False)\n",
    "\n",
    "# Print names of all models\n",
    "print(world_gen.world.models.keys())\n",
    "\n",
    "world_gen.world.show()"
   ]
  },
  {
   "cell_type": "code",
   "execution_count": 12,
   "metadata": {},
   "outputs": [
    {
     "name": "stdout",
     "output_type": "stream",
     "text": [
      "dict_keys(['box', 'box_1', 'box_2', 'box_3', 'box_4', 'box_5', 'box_6', 'box_7', 'box_8', 'box_9', 'box_10', 'box_11', 'box_12', 'box_13', 'box_14', 'box_15', 'box_16', 'box_17', 'box_18', 'box_19', 'box_20', 'box_21', 'box_22', 'box_23', 'box_24'])\n"
     ]
    },
    {
     "data": {
      "text/plain": [
       "SceneViewer(width=1869, height=1052)"
      ]
     },
     "execution_count": 12,
     "metadata": {},
     "output_type": "execute_result"
    }
   ],
   "source": [
    "# Reset the engine collection\n",
    "world_gen.engines.reset()\n",
    "\n",
    "world_gen.add_engine(\n",
    "    tag='circular_n_theta',\n",
    "    engine_name='pattern',\n",
    "    models=['box'],\n",
    "    pattern='circular',\n",
    "    radius=10,\n",
    "    max_theta=2 * np.pi,\n",
    "    step_theta=np.pi / 2,\n",
    "    step_radius=2)\n",
    "\n",
    "# If the engine is run without the attach_models\n",
    "# input set to True, the world is reset before\n",
    "# generating new models\n",
    "world_gen.run_engines(attach_models=False)\n",
    "\n",
    "# Print names of all models\n",
    "print(world_gen.world.models.keys())\n",
    "\n",
    "world_gen.world.show()"
   ]
  },
  {
   "cell_type": "markdown",
   "metadata": {},
   "source": [
    "## Cuboid pattern\n",
    "\n",
    "### Set number of elements"
   ]
  },
  {
   "cell_type": "code",
   "execution_count": 13,
   "metadata": {},
   "outputs": [
    {
     "name": "stdout",
     "output_type": "stream",
     "text": [
      "dict_keys(['box', 'box_1', 'box_2', 'box_3', 'box_4', 'box_5', 'box_6', 'box_7', 'box_8', 'box_9', 'box_10', 'box_11', 'box_12', 'box_13', 'box_14', 'box_15', 'box_16', 'box_17', 'box_18', 'box_19', 'box_20', 'box_21', 'box_22', 'box_23', 'box_24', 'box_25', 'box_26'])\n"
     ]
    },
    {
     "data": {
      "text/plain": [
       "SceneViewer(width=1869, height=1052)"
      ]
     },
     "execution_count": 13,
     "metadata": {},
     "output_type": "execute_result"
    }
   ],
   "source": [
    "# Reset the engine collection\n",
    "world_gen.engines.reset()\n",
    "\n",
    "world_gen.add_engine(\n",
    "    tag='cuboid_with_n_elems',\n",
    "    engine_name='pattern',\n",
    "    models=['box'],\n",
    "    pattern='cuboid',\n",
    "    x_length=9,\n",
    "    y_length=9,\n",
    "    z_length=9,\n",
    "    n_x=3,\n",
    "    n_y=3,\n",
    "    n_z=3,\n",
    "    center=True)\n",
    "\n",
    "# If the engine is run without the attach_models\n",
    "# input set to True, the world is reset before\n",
    "# generating new models\n",
    "world_gen.run_engines(attach_models=False)\n",
    "\n",
    "# Print names of all models\n",
    "print(world_gen.world.models.keys())\n",
    "\n",
    "world_gen.world.show()"
   ]
  },
  {
   "cell_type": "markdown",
   "metadata": {},
   "source": [
    "### Set step size"
   ]
  },
  {
   "cell_type": "code",
   "execution_count": 14,
   "metadata": {},
   "outputs": [
    {
     "name": "stdout",
     "output_type": "stream",
     "text": [
      "dict_keys(['box', 'box_1', 'box_2', 'box_3', 'box_4', 'box_5', 'box_6', 'box_7', 'box_8', 'box_9', 'box_10', 'box_11', 'box_12', 'box_13', 'box_14', 'box_15', 'box_16', 'box_17', 'box_18', 'box_19', 'box_20', 'box_21', 'box_22', 'box_23', 'box_24', 'box_25', 'box_26', 'box_27', 'box_28', 'box_29', 'box_30', 'box_31', 'box_32', 'box_33', 'box_34', 'box_35', 'box_36', 'box_37', 'box_38', 'box_39', 'box_40', 'box_41', 'box_42', 'box_43', 'box_44'])\n"
     ]
    },
    {
     "data": {
      "text/plain": [
       "SceneViewer(width=1869, height=1052)"
      ]
     },
     "execution_count": 14,
     "metadata": {},
     "output_type": "execute_result"
    }
   ],
   "source": [
    "# Reset the engine collection\n",
    "world_gen.engines.reset()\n",
    "\n",
    "world_gen.add_engine(\n",
    "    tag='cuboid_with_n_elems',\n",
    "    engine_name='pattern',\n",
    "    models=['box'],\n",
    "    pattern='cuboid',\n",
    "    x_length=4,\n",
    "    y_length=6,\n",
    "    z_length=8,\n",
    "    step_x=2,\n",
    "    step_y=3,\n",
    "    step_z=2,\n",
    "    center=True)\n",
    "\n",
    "# If the engine is run without the attach_models\n",
    "# input set to True, the world is reset before\n",
    "# generating new models\n",
    "world_gen.run_engines(attach_models=False)\n",
    "\n",
    "# Print names of all models\n",
    "print(world_gen.world.models.keys())\n",
    "\n",
    "world_gen.world.show()"
   ]
  },
  {
   "cell_type": "markdown",
   "metadata": {},
   "source": [
    "## Set a pose offset\n",
    "\n",
    "The generated models can be also subjected to a pose offset applied after their generation."
   ]
  },
  {
   "cell_type": "code",
   "execution_count": 15,
   "metadata": {},
   "outputs": [
    {
     "name": "stdout",
     "output_type": "stream",
     "text": [
      "Pose offset to all models= <pose frame=\"\">0.199352 0.666816 0.192923 2.99741 1.09462 -1.2717</pose>\n",
      "\n",
      "dict_keys(['box', 'box_1', 'box_2', 'box_3', 'box_4', 'box_5', 'box_6', 'box_7', 'box_8', 'box_9', 'box_10', 'box_11', 'box_12', 'box_13', 'box_14', 'box_15', 'box_16', 'box_17', 'box_18', 'box_19', 'box_20', 'box_21', 'box_22', 'box_23', 'box_24', 'box_25', 'box_26', 'box_27', 'box_28', 'box_29', 'box_30', 'box_31', 'box_32', 'box_33', 'box_34', 'box_35', 'box_36', 'box_37', 'box_38', 'box_39', 'box_40', 'box_41', 'box_42', 'box_43', 'box_44'])\n"
     ]
    },
    {
     "data": {
      "text/plain": [
       "SceneViewer(width=1869, height=1052)"
      ]
     },
     "execution_count": 15,
     "metadata": {},
     "output_type": "execute_result"
    }
   ],
   "source": [
    "# Reset the engine collection\n",
    "world_gen.engines.reset()\n",
    "\n",
    "pose_offset = Pose.random()\n",
    "\n",
    "print('Pose offset to all models=')\n",
    "print(pose_offset.to_sdf())\n",
    "\n",
    "world_gen.add_engine(\n",
    "    tag='cuboid_with_n_elems',\n",
    "    engine_name='pattern',\n",
    "    models=['box'],\n",
    "    pattern='cuboid',\n",
    "    x_length=4,\n",
    "    y_length=6,\n",
    "    z_length=8,\n",
    "    step_x=2,\n",
    "    step_y=3,\n",
    "    step_z=2,\n",
    "    center=True,\n",
    "    pose_offset=pose_offset)\n",
    "\n",
    "# If the engine is run without the attach_models\n",
    "# input set to True, the world is reset before\n",
    "# generating new models\n",
    "world_gen.run_engines(attach_models=False)\n",
    "\n",
    "# Print names of all models\n",
    "print(world_gen.world.models.keys())\n",
    "\n",
    "world_gen.world.show()"
   ]
  },
  {
   "cell_type": "code",
   "execution_count": null,
   "metadata": {},
   "outputs": [],
   "source": []
  }
 ],
 "metadata": {
  "kernelspec": {
   "display_name": "Python 3",
   "language": "python",
   "name": "python3"
  },
  "language_info": {
   "codemirror_mode": {
    "name": "ipython",
    "version": 3
   },
   "file_extension": ".py",
   "mimetype": "text/x-python",
   "name": "python",
   "nbconvert_exporter": "python",
   "pygments_lexer": "ipython3",
   "version": "3.6.9"
  }
 },
 "nbformat": 4,
 "nbformat_minor": 4
}
