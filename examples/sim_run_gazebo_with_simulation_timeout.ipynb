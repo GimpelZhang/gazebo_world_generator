{
 "cells": [
  {
   "cell_type": "code",
   "execution_count": 1,
   "metadata": {},
   "outputs": [
    {
     "name": "stdout",
     "output_type": "stream",
     "text": [
      "ROS network configuration:\n",
      "ROS_MASTER_URI=http://localhost:18433, GAZEBO_MASTER_URI=http://localhost:25590\n"
     ]
    }
   ],
   "source": [
    "from pcg_gazebo.task_manager import ProcessManager\n",
    "# A process manager can be started by itself with an empty list of tasks\n",
    "process_manager = ProcessManager(ros_port=None, gazebo_port=None)\n",
    "# At this point neither Gazebo or roscore are running\n",
    "# When no arguments are given, the default hostname and port\n",
    "# arguments are going to be used.\n",
    "print('ROS network configuration:')\n",
    "print(process_manager.ros_config)"
   ]
  },
  {
   "cell_type": "code",
   "execution_count": 2,
   "metadata": {},
   "outputs": [
    {
     "name": "stdout",
     "output_type": "stream",
     "text": [
      "/home/junchuan/.pcg/logs/2020-09-11T14_39_26.153526_INE\n"
     ]
    }
   ],
   "source": [
    "# Log files can be checked for each individual instance and process \n",
    "from pcg_gazebo.log import get_log_dir\n",
    "print(get_log_dir())"
   ]
  },
  {
   "cell_type": "code",
   "execution_count": 3,
   "metadata": {},
   "outputs": [
    {
     "name": "stdout",
     "output_type": "stream",
     "text": [
      "2020-09-11 14:39:35,658 | WARNING | __init__ | Error testing Gazebo server, message=Command '['rostopic', 'list']' returned non-zero exit status 1\n"
     ]
    },
    {
     "data": {
      "text/plain": [
       "True"
      ]
     },
     "execution_count": 3,
     "metadata": {},
     "output_type": "execute_result"
    }
   ],
   "source": [
    "process_manager.create_gazebo_empty_world_task(required=True, simulation_timeout=10)"
   ]
  },
  {
   "cell_type": "code",
   "execution_count": 4,
   "metadata": {},
   "outputs": [
    {
     "name": "stdout",
     "output_type": "stream",
     "text": [
      "Process stages:\n",
      "Stage roscore\n",
      " No tasks\n",
      "\n",
      "Stage pre-simulation\n",
      " No tasks\n",
      "\n",
      "Stage gazebo\n",
      " Tasks:\n",
      "   - gazebo\n",
      "   - simulation_timer\n",
      "\n"
     ]
    }
   ],
   "source": [
    "print('Process stages:')\n",
    "for stage in process_manager._stages.keys():\n",
    "    print(process_manager._stages[stage])"
   ]
  },
  {
   "cell_type": "code",
   "execution_count": 5,
   "metadata": {},
   "outputs": [
    {
     "name": "stdout",
     "output_type": "stream",
     "text": [
      "2020-09-11 14:39:39,756 | WARNING | __init__ | Error testing roscore, message=Command '['rostopic', 'list']' returned non-zero exit status 1\n",
      "2020-09-11 14:39:40,004 | WARNING | __init__ | Error testing roscore, message=Command '['rostopic', 'list']' returned non-zero exit status 1\n",
      "2020-09-11 14:39:40,255 | WARNING | __init__ | Error testing roscore, message=Command '['rostopic', 'list']' returned non-zero exit status 1\n"
     ]
    }
   ],
   "source": [
    "process_manager.run_all_tasks()\n"
   ]
  },
  {
   "cell_type": "code",
   "execution_count": null,
   "metadata": {},
   "outputs": [],
   "source": [
    "process_manager.wait()"
   ]
  },
  {
   "cell_type": "code",
   "execution_count": 7,
   "metadata": {},
   "outputs": [],
   "source": [
    "process_manager.kill_all_tasks()"
   ]
  },
  {
   "cell_type": "code",
   "execution_count": null,
   "metadata": {},
   "outputs": [],
   "source": []
  }
 ],
 "metadata": {
  "kernelspec": {
   "display_name": "Python 3",
   "language": "python",
   "name": "python3"
  },
  "language_info": {
   "codemirror_mode": {
    "name": "ipython",
    "version": 3
   },
   "file_extension": ".py",
   "mimetype": "text/x-python",
   "name": "python",
   "nbconvert_exporter": "python",
   "pygments_lexer": "ipython3",
   "version": "3.5.2"
  }
 },
 "nbformat": 4,
 "nbformat_minor": 4
}
