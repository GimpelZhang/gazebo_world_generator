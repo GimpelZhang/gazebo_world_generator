{
 "cells": [
  {
   "cell_type": "markdown",
   "metadata": {},
   "source": [
    "# Links, joints and sensors\n",
    "\n",
    "## Links\n",
    "\n",
    "A physical link in the simulation contains inertia, collision and visual properties. A link must be a child of a robot and a robot can have multiple links."
   ]
  },
  {
   "cell_type": "code",
   "execution_count": 1,
   "metadata": {},
   "outputs": [],
   "source": [
    "# Import the element creator\n",
    "from pcg_gazebo.parsers.urdf import create_urdf_element"
   ]
  },
  {
   "cell_type": "code",
   "execution_count": 2,
   "metadata": {},
   "outputs": [
    {
     "name": "stdout",
     "output_type": "stream",
     "text": [
      "<link name=\"link\"/>\n",
      "\n"
     ]
    }
   ],
   "source": [
    "# The link is empty by default\n",
    "link = create_urdf_element('link')\n",
    "print(link)"
   ]
  },
  {
   "cell_type": "code",
   "execution_count": 3,
   "metadata": {},
   "outputs": [
    {
     "name": "stdout",
     "output_type": "stream",
     "text": [
      "<link name=\"link\">\n",
      "  <inertial>\n",
      "    <mass value=\"0\"/>\n",
      "    <origin xyz=\"0 0 0\" rpy=\"0 0 0\"/>\n",
      "    <inertia ixx=\"0\" iyy=\"0\" izz=\"0\" ixy=\"0\" ixz=\"0\" iyz=\"0\"/>\n",
      "  </inertial>\n",
      "  <collision name=\"collision\">\n",
      "    <origin xyz=\"0 0 0\" rpy=\"0 0 0\"/>\n",
      "    <geometry>\n",
      "      <box size=\"0 0 0\"/>\n",
      "    </geometry>\n",
      "    <gazebo/>\n",
      "  </collision>\n",
      "  <visual name=\"visual\">\n",
      "    <origin xyz=\"0 0 0\" rpy=\"0 0 0\"/>\n",
      "    <geometry>\n",
      "      <box size=\"0 0 0\"/>\n",
      "    </geometry>\n",
      "    <material name=\"\">\n",
      "      <color rgba=\"0 0 0 1\"/>\n",
      "      <gazebo/>\n",
      "    </material>\n",
      "    <gazebo/>\n",
      "  </visual>\n",
      "  <gazebo>\n",
      "    <mu1>0</mu1>\n",
      "    <mu2>0</mu2>\n",
      "    <kp>1000000000000.0</kp>\n",
      "    <kd>1</kd>\n",
      "    <maxContacts>20</maxContacts>\n",
      "    <minDepth>0</minDepth>\n",
      "    <maxVel>0.01</maxVel>\n",
      "    <selfCollide>0</selfCollide>\n",
      "  </gazebo>\n",
      "</link>\n",
      "\n"
     ]
    }
   ],
   "source": [
    "# By using reset(), it is possible to see the optional elements of a link\n",
    "link.reset(with_optional_elements=True)\n",
    "print(link)"
   ]
  },
  {
   "cell_type": "code",
   "execution_count": 4,
   "metadata": {},
   "outputs": [
    {
     "name": "stdout",
     "output_type": "stream",
     "text": [
      "<link name=\"base_link\"/>\n",
      "\n"
     ]
    }
   ],
   "source": [
    "# Let's create the elements dynamically at first\n",
    "link = create_urdf_element('link')\n",
    "\n",
    "# The link's name must be unique in a model\n",
    "link.name = 'base_link'\n",
    "print(link)"
   ]
  },
  {
   "cell_type": "code",
   "execution_count": 5,
   "metadata": {},
   "outputs": [
    {
     "name": "stdout",
     "output_type": "stream",
     "text": [
      "<link name=\"base_link\">\n",
      "  <inertial>\n",
      "    <mass value=\"0\"/>\n",
      "    <origin xyz=\"0 0 0\" rpy=\"0 0 0\"/>\n",
      "    <inertia ixx=\"0.5\" iyy=\"0.5\" izz=\"0.5\" ixy=\"0\" ixz=\"0\" iyz=\"0\"/>\n",
      "  </inertial>\n",
      "</link>\n",
      "\n"
     ]
    }
   ],
   "source": [
    "# Mass of the link in kg\n",
    "link.mass = 30\n",
    "# The center of mass are the cartesian coordinates in link.inertial.pose\n",
    "link.origin = create_urdf_element('origin')\n",
    "link.origin.xyz = [0, 10, 0]\n",
    "# The moments of inertia describe the elements of the 3x3 rotational inertial matrix\n",
    "link.inertia.ixx = 0.5\n",
    "link.inertia.iyy = 0.5\n",
    "link.inertia.izz = 0.5\n",
    "print(link)"
   ]
  },
  {
   "cell_type": "markdown",
   "metadata": {},
   "source": [
    "## Joints"
   ]
  },
  {
   "cell_type": "code",
   "execution_count": 6,
   "metadata": {},
   "outputs": [
    {
     "name": "stdout",
     "output_type": "stream",
     "text": [
      "<joint name=\"joint\" type=\"revolute\">\n",
      "  <parent link=\"link\"/>\n",
      "  <child link=\"link\"/>\n",
      "  <limit lower=\"0\" upper=\"0\" effort=\"0\" velocity=\"0\"/>\n",
      "</joint>\n",
      "\n"
     ]
    }
   ],
   "source": [
    "# The joint is empty by default\n",
    "joint = create_urdf_element('joint')\n",
    "print(joint)"
   ]
  },
  {
   "cell_type": "code",
   "execution_count": 7,
   "metadata": {},
   "outputs": [
    {
     "name": "stdout",
     "output_type": "stream",
     "text": [
      "<joint name=\"joint\" type=\"revolute\">\n",
      "  <origin xyz=\"0 0 0\" rpy=\"0 0 0\"/>\n",
      "  <parent link=\"link\"/>\n",
      "  <child link=\"link\"/>\n",
      "  <limit lower=\"0\" upper=\"0\" effort=\"0\" velocity=\"0\">\n",
      "    <gazebo/>\n",
      "  </limit>\n",
      "  <axis xyz=\"1 0 0\"/>\n",
      "  <dynamics damping=\"0\" friction=\"0\">\n",
      "    <gazebo/>\n",
      "  </dynamics>\n",
      "  <mimic multiplier=\"1\" offset=\"0\"/>\n",
      "  <safety_controller soft_lower_limit=\"0\" soft_upper_limit=\"0\" k_position=\"0\" k_velocity=\"0\"/>\n",
      "  <gazebo>\n",
      "    <stopCfm>0.0</stopCfm>\n",
      "    <stopErp>0.2</stopErp>\n",
      "  </gazebo>\n",
      "</joint>\n",
      "\n"
     ]
    }
   ],
   "source": [
    "# By using reset(), it is possible to see the optional elements of a joint\n",
    "joint.reset(with_optional_elements=True)\n",
    "print(joint)"
   ]
  }
 ],
 "metadata": {
  "kernelspec": {
   "display_name": "Python 3",
   "language": "python",
   "name": "python3"
  },
  "language_info": {
   "codemirror_mode": {
    "name": "ipython",
    "version": 3
   },
   "file_extension": ".py",
   "mimetype": "text/x-python",
   "name": "python",
   "nbconvert_exporter": "python",
   "pygments_lexer": "ipython3",
   "version": "3.6.9"
  }
 },
 "nbformat": 4,
 "nbformat_minor": 4
}
