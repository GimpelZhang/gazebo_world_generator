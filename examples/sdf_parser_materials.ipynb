{
 "cells": [
  {
   "cell_type": "markdown",
   "metadata": {},
   "source": [
    "# Materials\n",
    "\n",
    "Child element of a `<visual>` element. A visual may contain only one material."
   ]
  },
  {
   "cell_type": "code",
   "execution_count": 1,
   "metadata": {},
   "outputs": [],
   "source": [
    "# Import the element creator\n",
    "from pcg_gazebo.parsers.sdf import create_sdf_element"
   ]
  },
  {
   "cell_type": "code",
   "execution_count": 2,
   "metadata": {},
   "outputs": [
    {
     "name": "stdout",
     "output_type": "stream",
     "text": [
      "<material/>\n",
      "\n"
     ]
    }
   ],
   "source": [
    "# Material elements are initially empty since all its child elements are optional\n",
    "material = create_sdf_element('material')\n",
    "print(material)"
   ]
  },
  {
   "cell_type": "code",
   "execution_count": 3,
   "metadata": {},
   "outputs": [
    {
     "name": "stdout",
     "output_type": "stream",
     "text": [
      "<material>\n",
      "  <script>\n",
      "    <name>default</name>\n",
      "    <uri>file://media/materials/scripts/gazebo.material</uri>\n",
      "  </script>\n",
      "  <shader type=\"pixel\">\n",
      "    <normal_map>default</normal_map>\n",
      "  </shader>\n",
      "  <lighting>0</lighting>\n",
      "  <ambient>0 0 0 1</ambient>\n",
      "  <diffuse>0 0 0 1</diffuse>\n",
      "  <specular>0.1 0.1 0.1 1</specular>\n",
      "  <emissive>0 0 0 1</emissive>\n",
      "</material>\n",
      "\n"
     ]
    }
   ],
   "source": [
    "# To create all optional elements with its default elements, use reset()\n",
    "material.reset(with_optional_elements=True)\n",
    "print(material)"
   ]
  },
  {
   "cell_type": "markdown",
   "metadata": {},
   "source": [
    "## Creating a custom material"
   ]
  },
  {
   "cell_type": "code",
   "execution_count": 4,
   "metadata": {},
   "outputs": [
    {
     "name": "stdout",
     "output_type": "stream",
     "text": [
      "<material>\n",
      "  <script>\n",
      "    <name>Gazebo/Wood</name>\n",
      "    <uri>file://media/materials/scripts/gazebo.material</uri>\n",
      "  </script>\n",
      "  <shader type=\"vertex\">\n",
      "    <normal_map>file://normal_map</normal_map>\n",
      "  </shader>\n",
      "  <lighting>0</lighting>\n",
      "  <ambient>0.2 0.2 0.2 1</ambient>\n",
      "  <diffuse>0.2 0.4 0.2 1</diffuse>\n",
      "  <specular>0.2 0.2 0.6 1</specular>\n",
      "  <emissive>0.5 0.5 0.5 1</emissive>\n",
      "</material>\n",
      "\n"
     ]
    }
   ],
   "source": [
    "# Setting the script\n",
    "# URI of the material script file\n",
    "# Gazebo's default material file can be found at\n",
    "# https://bitbucket.org/osrf/gazebo/src/bd1cdea8fa3d71d6afcdaa83c9b01891d5f72e71/media/materials/scripts/gazebo.material?at=default&fileviewer=file-view-default\n",
    "material.script.uri = 'file://media/materials/scripts/gazebo.material'\n",
    "# Name of the script within the script file\n",
    "material.script.name = 'Gazebo/Wood'\n",
    "\n",
    "# Setting the shader\n",
    "# The shader type can be one of the list below:\n",
    "# ['vertex', 'pixel', 'normal_map_objectspace', 'normal_map_tangentspace']\n",
    "material.shader.type = 'vertex'\n",
    "material.shader.normal_map = 'file://normal_map'\n",
    "\n",
    "# If lighting is false, dynamic lighting will be disabled\n",
    "material.lighting = False\n",
    "# The colors must be a set of four numbers in the range of [0, 1]\n",
    "material.ambient = [0.2, 0.2, 0.2, 1]\n",
    "material.diffuse = [0.2, 0.4, 0.2, 1]\n",
    "material.specular = [0.2, 0.2, 0.6, 1]\n",
    "material.emissive = [0.5, 0.5, 0.5, 1]\n",
    "\n",
    "print(material)"
   ]
  }
 ],
 "metadata": {
  "kernelspec": {
   "display_name": "Python 3",
   "language": "python",
   "name": "python3"
  },
  "language_info": {
   "codemirror_mode": {
    "name": "ipython",
    "version": 3
   },
   "file_extension": ".py",
   "mimetype": "text/x-python",
   "name": "python",
   "nbconvert_exporter": "python",
   "pygments_lexer": "ipython3",
   "version": "3.6.9"
  }
 },
 "nbformat": 4,
 "nbformat_minor": 4
}
