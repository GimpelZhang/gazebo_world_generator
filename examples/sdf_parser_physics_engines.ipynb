{
 "cells": [
  {
   "cell_type": "markdown",
   "metadata": {},
   "source": [
    "# Physics engines\n",
    "\n",
    "The description of the physics engine's parameters is one of the most import parts in the world description in Gazebo. A `<world>` can only have one physics element.\n",
    "\n",
    "It can use the following engines: \n",
    "\n",
    "* ODE (`ode`)\n",
    "* Bullet (`bullet`)\n",
    "* Simbody (`simbody`)\n",
    "* DART (`dart`) \n",
    "\n",
    "and a specific SDF block is available to describe each engine."
   ]
  },
  {
   "cell_type": "code",
   "execution_count": 1,
   "metadata": {},
   "outputs": [],
   "source": [
    "# Import the element creator\n",
    "from pcg_gazebo.parsers.sdf import create_sdf_element"
   ]
  },
  {
   "cell_type": "code",
   "execution_count": 2,
   "metadata": {},
   "outputs": [
    {
     "name": "stdout",
     "output_type": "stream",
     "text": [
      "<physics name=\"default_physics\" default=\"1\" type=\"ode\">\n",
      "  <max_step_size>0.001</max_step_size>\n",
      "  <real_time_factor>1</real_time_factor>\n",
      "  <real_time_update_rate>1000</real_time_update_rate>\n",
      "  <max_contacts>20</max_contacts>\n",
      "</physics>\n",
      "\n"
     ]
    }
   ],
   "source": [
    "# Create first the global physics block\n",
    "physics = create_sdf_element('physics')\n",
    "print(physics)"
   ]
  },
  {
   "cell_type": "code",
   "execution_count": 3,
   "metadata": {},
   "outputs": [
    {
     "name": "stdout",
     "output_type": "stream",
     "text": [
      "<physics name=\"default_physics\" default=\"1\" type=\"ode\">\n",
      "  <max_step_size>0.001</max_step_size>\n",
      "  <real_time_factor>1</real_time_factor>\n",
      "  <real_time_update_rate>1000</real_time_update_rate>\n",
      "  <max_contacts>20</max_contacts>\n",
      "  <ode>\n",
      "    <solver>\n",
      "      <min_step_size>0.0001</min_step_size>\n",
      "      <iters>50</iters>\n",
      "      <sor>1.3</sor>\n",
      "      <type>quick</type>\n",
      "      <precon_iters>0</precon_iters>\n",
      "      <use_dynamic_moi_rescaling>0</use_dynamic_moi_rescaling>\n",
      "      <friction_model>pyramid_model</friction_model>\n",
      "    </solver>\n",
      "    <constraints>\n",
      "      <cfm>0</cfm>\n",
      "      <erp>0.2</erp>\n",
      "      <contact_surface_layer>0.001</contact_surface_layer>\n",
      "      <contact_max_correcting_vel>100</contact_max_correcting_vel>\n",
      "    </constraints>\n",
      "  </ode>\n",
      "</physics>\n",
      "\n"
     ]
    }
   ],
   "source": [
    "# The physics engine's configuration modes are named after the \n",
    "# engine being used, the default being `ode`\n",
    "physics.reset(mode='ode', with_optional_elements=True)\n",
    "print(physics)"
   ]
  },
  {
   "cell_type": "code",
   "execution_count": 4,
   "metadata": {},
   "outputs": [
    {
     "name": "stdout",
     "output_type": "stream",
     "text": [
      "<physics name=\"default_physics\" default=\"1\" type=\"bullet\">\n",
      "  <max_step_size>0.001</max_step_size>\n",
      "  <real_time_factor>1</real_time_factor>\n",
      "  <real_time_update_rate>1000</real_time_update_rate>\n",
      "  <max_contacts>20</max_contacts>\n",
      "  <bullet>\n",
      "    <solver>\n",
      "      <min_step_size>0.0001</min_step_size>\n",
      "      <iters>50</iters>\n",
      "      <sor>1.3</sor>\n",
      "      <type>quick</type>\n",
      "    </solver>\n",
      "    <constraints>\n",
      "      <cfm>0</cfm>\n",
      "      <erp>0.2</erp>\n",
      "      <contact_surface_layer>0.001</contact_surface_layer>\n",
      "      <split_impulse>1</split_impulse>\n",
      "      <split_impulse_penetration_threshold>-0.01</split_impulse_penetration_threshold>\n",
      "    </constraints>\n",
      "  </bullet>\n",
      "</physics>\n",
      "\n"
     ]
    }
   ],
   "source": [
    "physics.reset(mode='bullet', with_optional_elements=True)\n",
    "print(physics)"
   ]
  },
  {
   "cell_type": "code",
   "execution_count": 5,
   "metadata": {},
   "outputs": [
    {
     "name": "stdout",
     "output_type": "stream",
     "text": [
      "<physics name=\"default_physics\" default=\"1\" type=\"simbody\">\n",
      "  <max_step_size>0.001</max_step_size>\n",
      "  <real_time_factor>1</real_time_factor>\n",
      "  <real_time_update_rate>1000</real_time_update_rate>\n",
      "  <max_contacts>20</max_contacts>\n",
      "  <simbody>\n",
      "    <min_step_size>0.0001</min_step_size>\n",
      "    <accuracy>0.001</accuracy>\n",
      "    <max_transient_velocity>0.01</max_transient_velocity>\n",
      "    <contact>\n",
      "      <stiffness>100000000.0</stiffness>\n",
      "      <dissipation>100</dissipation>\n",
      "      <plastic_coef_restitution>0.5</plastic_coef_restitution>\n",
      "      <plastic_impact_velocity>0.5</plastic_impact_velocity>\n",
      "      <static_friction>0.9</static_friction>\n",
      "      <dynamic_friction>0.9</dynamic_friction>\n",
      "      <viscous_friction>0</viscous_friction>\n",
      "      <override_impact_capture_velocity>0.001</override_impact_capture_velocity>\n",
      "      <override_stiction_transition_velocity>0.001</override_stiction_transition_velocity>\n",
      "    </contact>\n",
      "  </simbody>\n",
      "</physics>\n",
      "\n"
     ]
    }
   ],
   "source": [
    "physics.reset(mode='simbody', with_optional_elements=True)\n",
    "print(physics)"
   ]
  },
  {
   "cell_type": "code",
   "execution_count": null,
   "metadata": {},
   "outputs": [],
   "source": []
  }
 ],
 "metadata": {
  "kernelspec": {
   "display_name": "Python 3",
   "language": "python",
   "name": "python3"
  },
  "language_info": {
   "codemirror_mode": {
    "name": "ipython",
    "version": 3
   },
   "file_extension": ".py",
   "mimetype": "text/x-python",
   "name": "python",
   "nbconvert_exporter": "python",
   "pygments_lexer": "ipython3",
   "version": "3.6.9"
  }
 },
 "nbformat": 4,
 "nbformat_minor": 4
}
