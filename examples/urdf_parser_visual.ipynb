{
 "cells": [
  {
   "cell_type": "markdown",
   "metadata": {},
   "source": [
    "# Visuals\n",
    "\n",
    "The `<visual>` element specifies the shape of the geometry for rendering. It is a child element from `<link>` and a link can have multiple visual elements."
   ]
  },
  {
   "cell_type": "code",
   "execution_count": 1,
   "metadata": {},
   "outputs": [],
   "source": [
    "# Import the element creator\n",
    "from pcg_gazebo.parsers.urdf import create_urdf_element"
   ]
  },
  {
   "cell_type": "code",
   "execution_count": 2,
   "metadata": {},
   "outputs": [
    {
     "name": "stdout",
     "output_type": "stream",
     "text": [
      "<visual name=\"visual\">\n",
      "  <origin xyz=\"0 0 0\" rpy=\"0 0 0\"/>\n",
      "  <geometry>\n",
      "    <box size=\"0 0 0\"/>\n",
      "  </geometry>\n",
      "</visual>\n",
      "\n"
     ]
    }
   ],
   "source": [
    "# The visual element is created with an empty geometry by default\n",
    "visual = create_urdf_element('visual')\n",
    "print(visual)"
   ]
  },
  {
   "cell_type": "code",
   "execution_count": 3,
   "metadata": {},
   "outputs": [
    {
     "name": "stdout",
     "output_type": "stream",
     "text": [
      "<visual name=\"visual\">\n",
      "  <origin xyz=\"1 0 1\" rpy=\"0.2 0 0.6\"/>\n",
      "  <geometry>\n",
      "    <box size=\"0 0 0\"/>\n",
      "  </geometry>\n",
      "</visual>\n",
      "\n"
     ]
    }
   ],
   "source": [
    "# Setting the parameters for the visual element\n",
    "\n",
    "visual.origin.xyz = [1, 0, 1]\n",
    "visual.origin.rpy = [0.2, 0, 0.6]\n",
    "print(visual)"
   ]
  },
  {
   "cell_type": "code",
   "execution_count": 4,
   "metadata": {},
   "outputs": [
    {
     "name": "stdout",
     "output_type": "stream",
     "text": [
      "<visual name=\"visual\">\n",
      "  <origin xyz=\"1 0 1\" rpy=\"0.2 0 0.6\"/>\n",
      "  <geometry>\n",
      "    <box size=\"0 0 0\"/>\n",
      "  </geometry>\n",
      "</visual>\n",
      "\n"
     ]
    }
   ],
   "source": [
    "# Setting different geometries to the visual element\n",
    "visual.geometry.box = create_urdf_element('box')\n",
    "print(visual)"
   ]
  },
  {
   "cell_type": "code",
   "execution_count": 5,
   "metadata": {},
   "outputs": [
    {
     "name": "stdout",
     "output_type": "stream",
     "text": [
      "<visual name=\"visual\">\n",
      "  <origin xyz=\"1 0 1\" rpy=\"0.2 0 0.6\"/>\n",
      "  <geometry>\n",
      "    <sphere radius=\"0\"/>\n",
      "  </geometry>\n",
      "</visual>\n",
      "\n"
     ]
    }
   ],
   "source": [
    "visual.geometry.sphere = create_urdf_element('sphere')\n",
    "print(visual)"
   ]
  },
  {
   "cell_type": "code",
   "execution_count": 6,
   "metadata": {},
   "outputs": [
    {
     "name": "stdout",
     "output_type": "stream",
     "text": [
      "<visual name=\"visual\">\n",
      "  <origin xyz=\"1 0 1\" rpy=\"0.2 0 0.6\"/>\n",
      "  <geometry>\n",
      "    <cylinder radius=\"0\" length=\"0\"/>\n",
      "  </geometry>\n",
      "</visual>\n",
      "\n"
     ]
    }
   ],
   "source": [
    "visual.geometry.cylinder = create_urdf_element('cylinder')\n",
    "print(visual)"
   ]
  },
  {
   "cell_type": "code",
   "execution_count": 7,
   "metadata": {},
   "outputs": [
    {
     "name": "stdout",
     "output_type": "stream",
     "text": [
      "<visual name=\"visual\">\n",
      "  <origin xyz=\"1 0 1\" rpy=\"0.2 0 0.6\"/>\n",
      "  <geometry>\n",
      "    <mesh filename=\"\" scale=\"1 1 1\"/>\n",
      "  </geometry>\n",
      "</visual>\n",
      "\n"
     ]
    }
   ],
   "source": [
    "visual.geometry.mesh = create_urdf_element('mesh')\n",
    "print(visual)"
   ]
  }
 ],
 "metadata": {
  "kernelspec": {
   "display_name": "Python 3",
   "language": "python",
   "name": "python3"
  },
  "language_info": {
   "codemirror_mode": {
    "name": "ipython",
    "version": 3
   },
   "file_extension": ".py",
   "mimetype": "text/x-python",
   "name": "python",
   "nbconvert_exporter": "python",
   "pygments_lexer": "ipython3",
   "version": "3.6.9"
  }
 },
 "nbformat": 4,
 "nbformat_minor": 4
}
