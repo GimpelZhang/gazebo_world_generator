{
 "cells": [
  {
   "cell_type": "markdown",
   "metadata": {},
   "source": [
    "# Objects\n",
    "\n",
    "The objects are models including basic and custom forms that can be spawned in the simulation."
   ]
  },
  {
   "cell_type": "code",
   "execution_count": 1,
   "metadata": {},
   "outputs": [],
   "source": [
    "from pcg_gazebo.simulation import create_object"
   ]
  },
  {
   "cell_type": "code",
   "execution_count": 2,
   "metadata": {},
   "outputs": [
    {
     "name": "stdout",
     "output_type": "stream",
     "text": [
      "['gazebo']\n",
      "Is Gazebo running: False\n"
     ]
    }
   ],
   "source": [
    "# If there is a Gazebo instance running, you can spawn the box into the simulation\n",
    "from pcg_gazebo.task_manager import Server\n",
    "# First create a simulation server\n",
    "server = Server()\n",
    "# Create a simulation manager named default\n",
    "server.create_simulation('default')\n",
    "simulation = server.get_simulation('default')\n",
    "# Run an instance of the empty.world scenario\n",
    "# This is equivalent to run\n",
    "#      roslaunch gazebo_ros empty_world.launch\n",
    "# with all default parameters\n",
    "simulation.create_gazebo_empty_world_task()\n",
    "# A task named 'gazebo' the added to the tasks list\n",
    "print(simulation.get_task_list())\n",
    "# But it is still not running\n",
    "print('Is Gazebo running: {}'.format(simulation.is_task_running('gazebo')))\n",
    "# Run Gazebo\n",
    "simulation.run_all_tasks()"
   ]
  },
  {
   "cell_type": "code",
   "execution_count": 3,
   "metadata": {},
   "outputs": [],
   "source": [
    "from pcg_gazebo.generators import WorldGenerator\n",
    "import random\n",
    "# Create a Gazebo proxy\n",
    "gazebo_proxy = simulation.get_gazebo_proxy()\n",
    "\n",
    "# Use the generator to spawn the model to the Gazebo instance running at the moment\n",
    "generator = WorldGenerator(gazebo_proxy=gazebo_proxy)"
   ]
  },
  {
   "cell_type": "markdown",
   "metadata": {},
   "source": [
    "## Geometries"
   ]
  },
  {
   "cell_type": "markdown",
   "metadata": {},
   "source": [
    "### Box"
   ]
  },
  {
   "cell_type": "code",
   "execution_count": 4,
   "metadata": {},
   "outputs": [
    {
     "name": "stdout",
     "output_type": "stream",
     "text": [
      "Size:\n",
      "[1, 1, 1]\n",
      "Inertial:\n",
      "None\n"
     ]
    }
   ],
   "source": [
    "box = create_object('box')\n",
    "# A box object comes initially with no inertial information and null size.\n",
    "print('Size:')\n",
    "print(box.size)\n",
    "print('Inertial:')\n",
    "print(box.inertial)"
   ]
  },
  {
   "cell_type": "code",
   "execution_count": 5,
   "metadata": {},
   "outputs": [
    {
     "name": "stdout",
     "output_type": "stream",
     "text": [
      "<box>\n",
      "  <size>1 1 1</size>\n",
      "</box>\n",
      "\n"
     ]
    }
   ],
   "source": [
    "# When generating the SDF elements for the box, a few options can be used\n",
    "print(box.to_sdf('box'))"
   ]
  },
  {
   "cell_type": "code",
   "execution_count": 6,
   "metadata": {},
   "outputs": [
    {
     "name": "stdout",
     "output_type": "stream",
     "text": [
      "<geometry>\n",
      "  <box>\n",
      "    <size>1 1 1</size>\n",
      "  </box>\n",
      "</geometry>\n",
      "\n"
     ]
    }
   ],
   "source": [
    "print(box.to_sdf('geometry'))"
   ]
  },
  {
   "cell_type": "code",
   "execution_count": 7,
   "metadata": {},
   "outputs": [
    {
     "name": "stdout",
     "output_type": "stream",
     "text": [
      "<collision name=\"collision\">\n",
      "  <geometry>\n",
      "    <box>\n",
      "      <size>1 1 1</size>\n",
      "    </box>\n",
      "  </geometry>\n",
      "  <pose frame=\"\">0 0 0 0 -0 0</pose>\n",
      "</collision>\n",
      "\n"
     ]
    }
   ],
   "source": [
    "print(box.to_sdf('collision'))"
   ]
  },
  {
   "cell_type": "code",
   "execution_count": 8,
   "metadata": {},
   "outputs": [
    {
     "name": "stdout",
     "output_type": "stream",
     "text": [
      "<visual name=\"visual\">\n",
      "  <geometry>\n",
      "    <box>\n",
      "      <size>1 1 1</size>\n",
      "    </box>\n",
      "  </geometry>\n",
      "  <pose frame=\"\">0 0 0 0 -0 0</pose>\n",
      "  <cast_shadows>1</cast_shadows>\n",
      "  <transparency>0.0</transparency>\n",
      "</visual>\n",
      "\n"
     ]
    }
   ],
   "source": [
    "print(box.to_sdf('visual'))"
   ]
  },
  {
   "cell_type": "code",
   "execution_count": 9,
   "metadata": {},
   "outputs": [
    {
     "name": "stdout",
     "output_type": "stream",
     "text": [
      "<link name=\"box\">\n",
      "  <collision name=\"collision\">\n",
      "    <geometry>\n",
      "      <box>\n",
      "        <size>1 1 1</size>\n",
      "      </box>\n",
      "    </geometry>\n",
      "    <pose frame=\"\">0 0 0 0 -0 0</pose>\n",
      "  </collision>\n",
      "  <visual name=\"visual\">\n",
      "    <geometry>\n",
      "      <box>\n",
      "        <size>1 1 1</size>\n",
      "      </box>\n",
      "    </geometry>\n",
      "    <pose frame=\"\">0 0 0 0 -0 0</pose>\n",
      "    <cast_shadows>1</cast_shadows>\n",
      "    <transparency>0.0</transparency>\n",
      "  </visual>\n",
      "  <pose frame=\"\">0 0 0 0 -0 0</pose>\n",
      "</link>\n",
      "\n"
     ]
    }
   ],
   "source": [
    "print(box.to_sdf('link'))"
   ]
  },
  {
   "cell_type": "code",
   "execution_count": 10,
   "metadata": {},
   "outputs": [
    {
     "name": "stdout",
     "output_type": "stream",
     "text": [
      "<model name=\"box\">\n",
      "  <pose frame=\"\">0 0 0 0 -0 0</pose>\n",
      "  <static>0</static>\n",
      "  <allow_auto_disable>0</allow_auto_disable>\n",
      "  <link name=\"box\">\n",
      "    <collision name=\"collision\">\n",
      "      <geometry>\n",
      "        <box>\n",
      "          <size>1 1 1</size>\n",
      "        </box>\n",
      "      </geometry>\n",
      "      <pose frame=\"\">0 0 0 0 -0 0</pose>\n",
      "    </collision>\n",
      "    <visual name=\"visual\">\n",
      "      <geometry>\n",
      "        <box>\n",
      "          <size>1 1 1</size>\n",
      "        </box>\n",
      "      </geometry>\n",
      "      <pose frame=\"\">0 0 0 0 -0 0</pose>\n",
      "      <cast_shadows>1</cast_shadows>\n",
      "      <transparency>0.0</transparency>\n",
      "    </visual>\n",
      "  </link>\n",
      "</model>\n",
      "\n"
     ]
    }
   ],
   "source": [
    "print(box.to_sdf('model'))"
   ]
  },
  {
   "cell_type": "code",
   "execution_count": 11,
   "metadata": {},
   "outputs": [
    {
     "name": "stdout",
     "output_type": "stream",
     "text": [
      "Mass [Kg]=20\n",
      "Pose=[0. 0. 0.]\n",
      "I =\n",
      "\tIxx=0.6666666666666666\n",
      "\tIyy=0.21666666666666665\n",
      "\tIzz=0.7499999999999999\n",
      "\tIxy=0\n",
      "\tIxz=0\n",
      "\tIyz=0\n",
      "\n"
     ]
    }
   ],
   "source": [
    "# To set the inertial, use the function add_inertial giving the mass of the box,\n",
    "# the moments of inertia will be computed from the box's dimensions\n",
    "box.size = [0.3, 0.6, 0.2]\n",
    "box.add_inertial(mass=20)\n",
    "print(box.inertial)"
   ]
  },
  {
   "cell_type": "code",
   "execution_count": 12,
   "metadata": {},
   "outputs": [
    {
     "name": "stdout",
     "output_type": "stream",
     "text": [
      "<link name=\"box\">\n",
      "  <collision name=\"collision\">\n",
      "    <geometry>\n",
      "      <box>\n",
      "        <size>0.3 0.6 0.2</size>\n",
      "      </box>\n",
      "    </geometry>\n",
      "    <pose frame=\"\">0 0 0 0 -0 0</pose>\n",
      "  </collision>\n",
      "  <visual name=\"visual\">\n",
      "    <geometry>\n",
      "      <box>\n",
      "        <size>0.3 0.6 0.2</size>\n",
      "      </box>\n",
      "    </geometry>\n",
      "    <pose frame=\"\">0 0 0 0 -0 0</pose>\n",
      "    <cast_shadows>1</cast_shadows>\n",
      "    <transparency>0.0</transparency>\n",
      "  </visual>\n",
      "  <inertial>\n",
      "    <inertia>\n",
      "      <ixx>0.6666666666666666</ixx>\n",
      "      <iyy>0.21666666666666665</iyy>\n",
      "      <izz>0.7499999999999999</izz>\n",
      "      <ixy>0.0</ixy>\n",
      "      <ixz>0.0</ixz>\n",
      "      <iyz>0.0</iyz>\n",
      "    </inertia>\n",
      "    <pose frame=\"\">0 0 0 0 -0 0</pose>\n",
      "    <mass>20.0</mass>\n",
      "  </inertial>\n",
      "  <pose frame=\"\">0 0 0 0 -0 0</pose>\n",
      "</link>\n",
      "\n",
      "<model name=\"box\">\n",
      "  <pose frame=\"\">0 0 0 0 -0 0</pose>\n",
      "  <static>0</static>\n",
      "  <allow_auto_disable>0</allow_auto_disable>\n",
      "  <link name=\"box\">\n",
      "    <collision name=\"collision\">\n",
      "      <geometry>\n",
      "        <box>\n",
      "          <size>0.3 0.6 0.2</size>\n",
      "        </box>\n",
      "      </geometry>\n",
      "      <pose frame=\"\">0 0 0 0 -0 0</pose>\n",
      "    </collision>\n",
      "    <visual name=\"visual\">\n",
      "      <geometry>\n",
      "        <box>\n",
      "          <size>0.3 0.6 0.2</size>\n",
      "        </box>\n",
      "      </geometry>\n",
      "      <pose frame=\"\">0 0 0 0 -0 0</pose>\n",
      "      <cast_shadows>1</cast_shadows>\n",
      "      <transparency>0.0</transparency>\n",
      "    </visual>\n",
      "    <inertial>\n",
      "      <inertia>\n",
      "        <ixx>0.6666666666666666</ixx>\n",
      "        <iyy>0.21666666666666665</iyy>\n",
      "        <izz>0.7499999999999999</izz>\n",
      "        <ixy>0.0</ixy>\n",
      "        <ixz>0.0</ixz>\n",
      "        <iyz>0.0</iyz>\n",
      "      </inertia>\n",
      "      <pose frame=\"\">0 0 0 0 -0 0</pose>\n",
      "      <mass>20.0</mass>\n",
      "    </inertial>\n",
      "  </link>\n",
      "</model>\n",
      "\n"
     ]
    }
   ],
   "source": [
    "# The inertial information will be added to the SDF description in link and model modes\n",
    "print(box.to_sdf('link'))\n",
    "print(box.to_sdf('model'))"
   ]
  },
  {
   "cell_type": "code",
   "execution_count": 13,
   "metadata": {},
   "outputs": [],
   "source": [
    "model_counter = 0\n",
    "for x in [-5, 0, 5]:\n",
    "    for y in [-5, 0, 5]:\n",
    "        box.visual.enable_property('material')\n",
    "        box.visual.set_xkcd_color()\n",
    "        generator.spawn_model(model=box, robot_namespace='box_{}'.format(model_counter), pos=[x, y, 10])\n",
    "        model_counter += 1\n"
   ]
  },
  {
   "cell_type": "code",
   "execution_count": 14,
   "metadata": {},
   "outputs": [
    {
     "name": "stdout",
     "output_type": "stream",
     "text": [
      "['ground_plane', 'box_0', 'box_1', 'box_2', 'box_3', 'box_4', 'box_5', 'box_6', 'box_7', 'box_8']\n"
     ]
    }
   ],
   "source": [
    "# Using the Gazebo proxy created by the generator's constructor\n",
    "# it is possible to see that all models were created\n",
    "print(generator.gazebo_proxy.get_model_names())"
   ]
  },
  {
   "cell_type": "code",
   "execution_count": 15,
   "metadata": {},
   "outputs": [],
   "source": [
    "# End the simulation by killing the Gazebo task\n",
    "# simulation.kill_task('gazebo')"
   ]
  },
  {
   "cell_type": "markdown",
   "metadata": {},
   "source": [
    "### Sphere"
   ]
  },
  {
   "cell_type": "code",
   "execution_count": 16,
   "metadata": {},
   "outputs": [
    {
     "name": "stdout",
     "output_type": "stream",
     "text": [
      "Radius:\n",
      "1\n",
      "Inertial:\n",
      "None\n"
     ]
    }
   ],
   "source": [
    "sphere = create_object('sphere')\n",
    "# A sphere object comes initially with no inertial information and radius equal to 1.\n",
    "print('Radius:')\n",
    "print(sphere.radius)\n",
    "print('Inertial:')\n",
    "print(sphere.inertial)"
   ]
  },
  {
   "cell_type": "code",
   "execution_count": 17,
   "metadata": {},
   "outputs": [
    {
     "name": "stdout",
     "output_type": "stream",
     "text": [
      "<sphere>\n",
      "  <radius>1.0</radius>\n",
      "</sphere>\n",
      "\n"
     ]
    }
   ],
   "source": [
    "# When generating the SDF elements for the box, a few options can be used\n",
    "print(sphere.to_sdf('sphere'))"
   ]
  },
  {
   "cell_type": "code",
   "execution_count": 18,
   "metadata": {},
   "outputs": [
    {
     "name": "stdout",
     "output_type": "stream",
     "text": [
      "<geometry>\n",
      "  <sphere>\n",
      "    <radius>1.0</radius>\n",
      "  </sphere>\n",
      "</geometry>\n",
      "\n"
     ]
    }
   ],
   "source": [
    "print(sphere.to_sdf('geometry'))"
   ]
  },
  {
   "cell_type": "code",
   "execution_count": 19,
   "metadata": {},
   "outputs": [
    {
     "name": "stdout",
     "output_type": "stream",
     "text": [
      "<collision name=\"collision\">\n",
      "  <geometry>\n",
      "    <sphere>\n",
      "      <radius>1.0</radius>\n",
      "    </sphere>\n",
      "  </geometry>\n",
      "  <pose frame=\"\">0 0 0 0 -0 0</pose>\n",
      "</collision>\n",
      "\n"
     ]
    }
   ],
   "source": [
    "print(sphere.to_sdf('collision'))"
   ]
  },
  {
   "cell_type": "code",
   "execution_count": 20,
   "metadata": {},
   "outputs": [
    {
     "name": "stdout",
     "output_type": "stream",
     "text": [
      "<visual name=\"visual\">\n",
      "  <geometry>\n",
      "    <sphere>\n",
      "      <radius>1.0</radius>\n",
      "    </sphere>\n",
      "  </geometry>\n",
      "  <pose frame=\"\">0 0 0 0 -0 0</pose>\n",
      "  <cast_shadows>1</cast_shadows>\n",
      "  <transparency>0.0</transparency>\n",
      "</visual>\n",
      "\n"
     ]
    }
   ],
   "source": [
    "print(sphere.to_sdf('visual'))"
   ]
  },
  {
   "cell_type": "code",
   "execution_count": 21,
   "metadata": {},
   "outputs": [
    {
     "name": "stdout",
     "output_type": "stream",
     "text": [
      "<link name=\"sphere\">\n",
      "  <collision name=\"collision\">\n",
      "    <geometry>\n",
      "      <sphere>\n",
      "        <radius>1.0</radius>\n",
      "      </sphere>\n",
      "    </geometry>\n",
      "    <pose frame=\"\">0 0 0 0 -0 0</pose>\n",
      "  </collision>\n",
      "  <visual name=\"visual\">\n",
      "    <geometry>\n",
      "      <sphere>\n",
      "        <radius>1.0</radius>\n",
      "      </sphere>\n",
      "    </geometry>\n",
      "    <pose frame=\"\">0 0 0 0 -0 0</pose>\n",
      "    <cast_shadows>1</cast_shadows>\n",
      "    <transparency>0.0</transparency>\n",
      "  </visual>\n",
      "  <pose frame=\"\">0 0 0 0 -0 0</pose>\n",
      "</link>\n",
      "\n"
     ]
    }
   ],
   "source": [
    "print(sphere.to_sdf('link'))"
   ]
  },
  {
   "cell_type": "code",
   "execution_count": 22,
   "metadata": {},
   "outputs": [
    {
     "name": "stdout",
     "output_type": "stream",
     "text": [
      "<model name=\"sphere\">\n",
      "  <pose frame=\"\">0 0 0 0 -0 0</pose>\n",
      "  <static>0</static>\n",
      "  <allow_auto_disable>0</allow_auto_disable>\n",
      "  <link name=\"sphere\">\n",
      "    <collision name=\"collision\">\n",
      "      <geometry>\n",
      "        <sphere>\n",
      "          <radius>1.0</radius>\n",
      "        </sphere>\n",
      "      </geometry>\n",
      "      <pose frame=\"\">0 0 0 0 -0 0</pose>\n",
      "    </collision>\n",
      "    <visual name=\"visual\">\n",
      "      <geometry>\n",
      "        <sphere>\n",
      "          <radius>1.0</radius>\n",
      "        </sphere>\n",
      "      </geometry>\n",
      "      <pose frame=\"\">0 0 0 0 -0 0</pose>\n",
      "      <cast_shadows>1</cast_shadows>\n",
      "      <transparency>0.0</transparency>\n",
      "    </visual>\n",
      "  </link>\n",
      "</model>\n",
      "\n"
     ]
    }
   ],
   "source": [
    "print(sphere.to_sdf('model'))"
   ]
  },
  {
   "cell_type": "code",
   "execution_count": 23,
   "metadata": {},
   "outputs": [
    {
     "name": "stdout",
     "output_type": "stream",
     "text": [
      "Mass [Kg]=20\n",
      "Pose=[0. 0. 0.]\n",
      "I =\n",
      "\tIxx=0.72\n",
      "\tIyy=0.72\n",
      "\tIzz=0.72\n",
      "\tIxy=0\n",
      "\tIxz=0\n",
      "\tIyz=0\n",
      "\n"
     ]
    }
   ],
   "source": [
    "# To set the inertial, use the function add_inertial giving the mass of the sphere,\n",
    "# the moments of inertia will be computed from the sphere's dimensions\n",
    "sphere.radius = 0.3\n",
    "sphere.add_inertial(20)\n",
    "print(sphere.inertial)"
   ]
  },
  {
   "cell_type": "code",
   "execution_count": 24,
   "metadata": {},
   "outputs": [
    {
     "name": "stdout",
     "output_type": "stream",
     "text": [
      "<link name=\"sphere\">\n",
      "  <collision name=\"collision\">\n",
      "    <geometry>\n",
      "      <sphere>\n",
      "        <radius>0.3</radius>\n",
      "      </sphere>\n",
      "    </geometry>\n",
      "    <pose frame=\"\">0 0 0 0 -0 0</pose>\n",
      "  </collision>\n",
      "  <visual name=\"visual\">\n",
      "    <geometry>\n",
      "      <sphere>\n",
      "        <radius>0.3</radius>\n",
      "      </sphere>\n",
      "    </geometry>\n",
      "    <pose frame=\"\">0 0 0 0 -0 0</pose>\n",
      "    <cast_shadows>1</cast_shadows>\n",
      "    <transparency>0.0</transparency>\n",
      "  </visual>\n",
      "  <inertial>\n",
      "    <inertia>\n",
      "      <ixx>0.72</ixx>\n",
      "      <iyy>0.72</iyy>\n",
      "      <izz>0.72</izz>\n",
      "      <ixy>0.0</ixy>\n",
      "      <ixz>0.0</ixz>\n",
      "      <iyz>0.0</iyz>\n",
      "    </inertia>\n",
      "    <pose frame=\"\">0 0 0 0 -0 0</pose>\n",
      "    <mass>20.0</mass>\n",
      "  </inertial>\n",
      "  <pose frame=\"\">0 0 0 0 -0 0</pose>\n",
      "</link>\n",
      "\n",
      "<model name=\"sphere\">\n",
      "  <pose frame=\"\">0 0 0 0 -0 0</pose>\n",
      "  <static>0</static>\n",
      "  <allow_auto_disable>0</allow_auto_disable>\n",
      "  <link name=\"sphere\">\n",
      "    <collision name=\"collision\">\n",
      "      <geometry>\n",
      "        <sphere>\n",
      "          <radius>0.3</radius>\n",
      "        </sphere>\n",
      "      </geometry>\n",
      "      <pose frame=\"\">0 0 0 0 -0 0</pose>\n",
      "    </collision>\n",
      "    <visual name=\"visual\">\n",
      "      <geometry>\n",
      "        <sphere>\n",
      "          <radius>0.3</radius>\n",
      "        </sphere>\n",
      "      </geometry>\n",
      "      <pose frame=\"\">0 0 0 0 -0 0</pose>\n",
      "      <cast_shadows>1</cast_shadows>\n",
      "      <transparency>0.0</transparency>\n",
      "    </visual>\n",
      "    <inertial>\n",
      "      <inertia>\n",
      "        <ixx>0.72</ixx>\n",
      "        <iyy>0.72</iyy>\n",
      "        <izz>0.72</izz>\n",
      "        <ixy>0.0</ixy>\n",
      "        <ixz>0.0</ixz>\n",
      "        <iyz>0.0</iyz>\n",
      "      </inertia>\n",
      "      <pose frame=\"\">0 0 0 0 -0 0</pose>\n",
      "      <mass>20.0</mass>\n",
      "    </inertial>\n",
      "  </link>\n",
      "</model>\n",
      "\n"
     ]
    }
   ],
   "source": [
    "# The inertial information will be added to the SDF description in link and model modes\n",
    "print(sphere.to_sdf('link'))\n",
    "print(sphere.to_sdf('model'))"
   ]
  },
  {
   "cell_type": "code",
   "execution_count": 25,
   "metadata": {},
   "outputs": [],
   "source": [
    "# Run Gazebo again, if not already running\n",
    "simulation.run_task('gazebo')\n"
   ]
  },
  {
   "cell_type": "code",
   "execution_count": 26,
   "metadata": {},
   "outputs": [],
   "source": [
    "# Spawn sphere of different values for radius\n",
    "model_counter = 0\n",
    "for _ in range(3):\n",
    "    for _ in range(3):\n",
    "        sphere.radius = random.random() * 2\n",
    "        sphere.add_inertial(random.random() * 30)\n",
    "        sphere.visual.enable_property('material')\n",
    "        sphere.visual.set_xkcd_color()\n",
    "        generator.spawn_model(model=sphere, robot_namespace='sphere_{}'.format(model_counter), pos=[(random.random() - 0.5) * 10, (random.random() - 0.5) * 10, (random.random() - 0.5) * 5 + 3])\n",
    "        model_counter += 1"
   ]
  },
  {
   "cell_type": "code",
   "execution_count": 27,
   "metadata": {},
   "outputs": [],
   "source": [
    "# End the simulation by killing the Gazebo task\n",
    "# simulation.kill_all_tasks()"
   ]
  },
  {
   "cell_type": "markdown",
   "metadata": {},
   "source": [
    "### Cylinder"
   ]
  },
  {
   "cell_type": "code",
   "execution_count": 28,
   "metadata": {},
   "outputs": [
    {
     "name": "stdout",
     "output_type": "stream",
     "text": [
      "Radius:\n",
      "1\n",
      "Length:\n",
      "1\n"
     ]
    }
   ],
   "source": [
    "cylinder = create_object('cylinder')\n",
    "# A sphere object comes initially with no inertial information, and length and radius equal to 1.\n",
    "print('Radius:')\n",
    "print(cylinder.radius)\n",
    "print('Length:')\n",
    "print(cylinder.length)"
   ]
  },
  {
   "cell_type": "code",
   "execution_count": 29,
   "metadata": {},
   "outputs": [
    {
     "name": "stdout",
     "output_type": "stream",
     "text": [
      "<cylinder>\n",
      "  <radius>1.0</radius>\n",
      "  <length>1.0</length>\n",
      "</cylinder>\n",
      "\n"
     ]
    }
   ],
   "source": [
    "# When generating the SDF elements for the cylinder, a few options can be used\n",
    "print(cylinder.to_sdf('cylinder'))"
   ]
  },
  {
   "cell_type": "code",
   "execution_count": 30,
   "metadata": {},
   "outputs": [
    {
     "name": "stdout",
     "output_type": "stream",
     "text": [
      "<geometry>\n",
      "  <cylinder>\n",
      "    <radius>1.0</radius>\n",
      "    <length>1.0</length>\n",
      "  </cylinder>\n",
      "</geometry>\n",
      "\n"
     ]
    }
   ],
   "source": [
    "print(cylinder.to_sdf('geometry'))"
   ]
  },
  {
   "cell_type": "code",
   "execution_count": 31,
   "metadata": {},
   "outputs": [
    {
     "name": "stdout",
     "output_type": "stream",
     "text": [
      "<collision name=\"collision\">\n",
      "  <geometry>\n",
      "    <cylinder>\n",
      "      <radius>1.0</radius>\n",
      "      <length>1.0</length>\n",
      "    </cylinder>\n",
      "  </geometry>\n",
      "  <pose frame=\"\">0 0 0 0 -0 0</pose>\n",
      "</collision>\n",
      "\n"
     ]
    }
   ],
   "source": [
    "print(cylinder.to_sdf('collision'))"
   ]
  },
  {
   "cell_type": "code",
   "execution_count": 32,
   "metadata": {},
   "outputs": [
    {
     "name": "stdout",
     "output_type": "stream",
     "text": [
      "<visual name=\"visual\">\n",
      "  <geometry>\n",
      "    <cylinder>\n",
      "      <radius>1.0</radius>\n",
      "      <length>1.0</length>\n",
      "    </cylinder>\n",
      "  </geometry>\n",
      "  <pose frame=\"\">0 0 0 0 -0 0</pose>\n",
      "  <cast_shadows>1</cast_shadows>\n",
      "  <transparency>0.0</transparency>\n",
      "</visual>\n",
      "\n"
     ]
    }
   ],
   "source": [
    "print(cylinder.to_sdf('visual'))"
   ]
  },
  {
   "cell_type": "code",
   "execution_count": 33,
   "metadata": {},
   "outputs": [
    {
     "name": "stdout",
     "output_type": "stream",
     "text": [
      "<link name=\"cylinder\">\n",
      "  <collision name=\"collision\">\n",
      "    <geometry>\n",
      "      <cylinder>\n",
      "        <radius>1.0</radius>\n",
      "        <length>1.0</length>\n",
      "      </cylinder>\n",
      "    </geometry>\n",
      "    <pose frame=\"\">0 0 0 0 -0 0</pose>\n",
      "  </collision>\n",
      "  <visual name=\"visual\">\n",
      "    <geometry>\n",
      "      <cylinder>\n",
      "        <radius>1.0</radius>\n",
      "        <length>1.0</length>\n",
      "      </cylinder>\n",
      "    </geometry>\n",
      "    <pose frame=\"\">0 0 0 0 -0 0</pose>\n",
      "    <cast_shadows>1</cast_shadows>\n",
      "    <transparency>0.0</transparency>\n",
      "  </visual>\n",
      "  <pose frame=\"\">0 0 0 0 -0 0</pose>\n",
      "</link>\n",
      "\n"
     ]
    }
   ],
   "source": [
    "print(cylinder.to_sdf('link'))"
   ]
  },
  {
   "cell_type": "code",
   "execution_count": 34,
   "metadata": {},
   "outputs": [
    {
     "name": "stdout",
     "output_type": "stream",
     "text": [
      "<model name=\"cylinder\">\n",
      "  <pose frame=\"\">0 0 0 0 -0 0</pose>\n",
      "  <static>0</static>\n",
      "  <allow_auto_disable>0</allow_auto_disable>\n",
      "  <link name=\"cylinder\">\n",
      "    <collision name=\"collision\">\n",
      "      <geometry>\n",
      "        <cylinder>\n",
      "          <radius>1.0</radius>\n",
      "          <length>1.0</length>\n",
      "        </cylinder>\n",
      "      </geometry>\n",
      "      <pose frame=\"\">0 0 0 0 -0 0</pose>\n",
      "    </collision>\n",
      "    <visual name=\"visual\">\n",
      "      <geometry>\n",
      "        <cylinder>\n",
      "          <radius>1.0</radius>\n",
      "          <length>1.0</length>\n",
      "        </cylinder>\n",
      "      </geometry>\n",
      "      <pose frame=\"\">0 0 0 0 -0 0</pose>\n",
      "      <cast_shadows>1</cast_shadows>\n",
      "      <transparency>0.0</transparency>\n",
      "    </visual>\n",
      "  </link>\n",
      "</model>\n",
      "\n"
     ]
    }
   ],
   "source": [
    "print(cylinder.to_sdf('model'))"
   ]
  },
  {
   "cell_type": "code",
   "execution_count": 35,
   "metadata": {},
   "outputs": [
    {
     "name": "stdout",
     "output_type": "stream",
     "text": [
      "Mass [Kg]=20\n",
      "Pose=[0. 0. 0.]\n",
      "I =\n",
      "\tIxx=1.5166666666666668\n",
      "\tIyy=1.5166666666666668\n",
      "\tIzz=0.8999999999999999\n",
      "\tIxy=0\n",
      "\tIxz=0\n",
      "\tIyz=0\n",
      "\n"
     ]
    }
   ],
   "source": [
    "# To set the inertial, use the function add_inertial giving the mass of the cylinder,\n",
    "# the moments of inertia will be computed from the cylinder's dimensions\n",
    "cylinder.radius = 0.3\n",
    "cylinder.length = 0.8\n",
    "cylinder.add_inertial(20)\n",
    "print(cylinder.inertial)"
   ]
  },
  {
   "cell_type": "code",
   "execution_count": 36,
   "metadata": {},
   "outputs": [
    {
     "name": "stdout",
     "output_type": "stream",
     "text": [
      "<link name=\"cylinder\">\n",
      "  <collision name=\"collision\">\n",
      "    <geometry>\n",
      "      <cylinder>\n",
      "        <radius>0.3</radius>\n",
      "        <length>0.8</length>\n",
      "      </cylinder>\n",
      "    </geometry>\n",
      "    <pose frame=\"\">0 0 0 0 -0 0</pose>\n",
      "  </collision>\n",
      "  <visual name=\"visual\">\n",
      "    <geometry>\n",
      "      <cylinder>\n",
      "        <radius>0.3</radius>\n",
      "        <length>0.8</length>\n",
      "      </cylinder>\n",
      "    </geometry>\n",
      "    <pose frame=\"\">0 0 0 0 -0 0</pose>\n",
      "    <cast_shadows>1</cast_shadows>\n",
      "    <transparency>0.0</transparency>\n",
      "  </visual>\n",
      "  <inertial>\n",
      "    <inertia>\n",
      "      <ixx>1.5166666666666668</ixx>\n",
      "      <iyy>1.5166666666666668</iyy>\n",
      "      <izz>0.8999999999999999</izz>\n",
      "      <ixy>0.0</ixy>\n",
      "      <ixz>0.0</ixz>\n",
      "      <iyz>0.0</iyz>\n",
      "    </inertia>\n",
      "    <pose frame=\"\">0 0 0 0 -0 0</pose>\n",
      "    <mass>20.0</mass>\n",
      "  </inertial>\n",
      "  <pose frame=\"\">0 0 0 0 -0 0</pose>\n",
      "</link>\n",
      "\n",
      "<model name=\"cylinder\">\n",
      "  <pose frame=\"\">0 0 0 0 -0 0</pose>\n",
      "  <static>0</static>\n",
      "  <allow_auto_disable>0</allow_auto_disable>\n",
      "  <link name=\"cylinder\">\n",
      "    <collision name=\"collision\">\n",
      "      <geometry>\n",
      "        <cylinder>\n",
      "          <radius>0.3</radius>\n",
      "          <length>0.8</length>\n",
      "        </cylinder>\n",
      "      </geometry>\n",
      "      <pose frame=\"\">0 0 0 0 -0 0</pose>\n",
      "    </collision>\n",
      "    <visual name=\"visual\">\n",
      "      <geometry>\n",
      "        <cylinder>\n",
      "          <radius>0.3</radius>\n",
      "          <length>0.8</length>\n",
      "        </cylinder>\n",
      "      </geometry>\n",
      "      <pose frame=\"\">0 0 0 0 -0 0</pose>\n",
      "      <cast_shadows>1</cast_shadows>\n",
      "      <transparency>0.0</transparency>\n",
      "    </visual>\n",
      "    <inertial>\n",
      "      <inertia>\n",
      "        <ixx>1.5166666666666668</ixx>\n",
      "        <iyy>1.5166666666666668</iyy>\n",
      "        <izz>0.8999999999999999</izz>\n",
      "        <ixy>0.0</ixy>\n",
      "        <ixz>0.0</ixz>\n",
      "        <iyz>0.0</iyz>\n",
      "      </inertia>\n",
      "      <pose frame=\"\">0 0 0 0 -0 0</pose>\n",
      "      <mass>20.0</mass>\n",
      "    </inertial>\n",
      "  </link>\n",
      "</model>\n",
      "\n"
     ]
    }
   ],
   "source": [
    "# The inertial information will be added to the SDF description in link and model modes\n",
    "print(cylinder.to_sdf('link'))\n",
    "print(cylinder.to_sdf('model'))"
   ]
  },
  {
   "cell_type": "code",
   "execution_count": 37,
   "metadata": {},
   "outputs": [],
   "source": [
    "# Run Gazebo again, if not already running\n",
    "simulation.run_task('gazebo')\n"
   ]
  },
  {
   "cell_type": "code",
   "execution_count": 38,
   "metadata": {},
   "outputs": [],
   "source": [
    "# Spawn sphere of different values for radius\n",
    "model_counter = 0\n",
    "for _ in range(3):\n",
    "    for _ in range(3):\n",
    "        cylinder.length = random.random() * 3\n",
    "        cylinder.radius = random.random() * 0.5\n",
    "        cylinder.add_inertial(random.random() * 30)\n",
    "        cylinder.visual.enable_property('material')\n",
    "        cylinder.visual.set_xkcd_color()\n",
    "        generator.spawn_model(model=cylinder, robot_namespace='cylinder_{}'.format(model_counter), pos=[(random.random() - 0.5) * 10, (random.random() - 0.5) * 10, (random.random() - 0.5) * 5 + 10])\n",
    "        model_counter += 1"
   ]
  },
  {
   "cell_type": "markdown",
   "metadata": {},
   "source": [
    "### Plane"
   ]
  },
  {
   "cell_type": "code",
   "execution_count": 39,
   "metadata": {},
   "outputs": [
    {
     "name": "stdout",
     "output_type": "stream",
     "text": [
      "Normal:\n",
      "[0, 0, 1]\n",
      "Size:\n",
      "[1, 1]\n"
     ]
    }
   ],
   "source": [
    "plane = create_object('plane')\n",
    "# A plane per default has normal [0, 0, 1] and size = [1, 1]\n",
    "print('Normal:')\n",
    "print(plane.normal)\n",
    "print('Size:')\n",
    "print(plane.size)"
   ]
  },
  {
   "cell_type": "code",
   "execution_count": 40,
   "metadata": {},
   "outputs": [
    {
     "name": "stdout",
     "output_type": "stream",
     "text": [
      "<plane>\n",
      "  <size>1 1</size>\n",
      "  <normal>0 0 1</normal>\n",
      "</plane>\n",
      "\n"
     ]
    }
   ],
   "source": [
    "# When generating the SDF elements for the plane, a few options can be used\n",
    "print(plane.to_sdf('plane'))"
   ]
  },
  {
   "cell_type": "code",
   "execution_count": 41,
   "metadata": {},
   "outputs": [
    {
     "name": "stdout",
     "output_type": "stream",
     "text": [
      "<geometry>\n",
      "  <plane>\n",
      "    <size>1 1</size>\n",
      "    <normal>0 0 1</normal>\n",
      "  </plane>\n",
      "</geometry>\n",
      "\n"
     ]
    }
   ],
   "source": [
    "print(plane.to_sdf('geometry'))"
   ]
  },
  {
   "cell_type": "code",
   "execution_count": 42,
   "metadata": {},
   "outputs": [
    {
     "name": "stdout",
     "output_type": "stream",
     "text": [
      "<visual name=\"visual\">\n",
      "  <geometry>\n",
      "    <plane>\n",
      "      <size>1 1</size>\n",
      "      <normal>0 0 1</normal>\n",
      "    </plane>\n",
      "  </geometry>\n",
      "  <pose frame=\"\">0 0 0 0 -0 0</pose>\n",
      "  <cast_shadows>1</cast_shadows>\n",
      "  <transparency>0.0</transparency>\n",
      "</visual>\n",
      "\n"
     ]
    }
   ],
   "source": [
    "print(plane.to_sdf('visual'))"
   ]
  },
  {
   "cell_type": "code",
   "execution_count": 43,
   "metadata": {},
   "outputs": [
    {
     "name": "stdout",
     "output_type": "stream",
     "text": [
      "<collision name=\"collision\">\n",
      "  <geometry>\n",
      "    <plane>\n",
      "      <size>1 1</size>\n",
      "      <normal>0 0 1</normal>\n",
      "    </plane>\n",
      "  </geometry>\n",
      "  <pose frame=\"\">0 0 0 0 -0 0</pose>\n",
      "</collision>\n",
      "\n"
     ]
    }
   ],
   "source": [
    "print(plane.to_sdf('collision'))"
   ]
  },
  {
   "cell_type": "code",
   "execution_count": 44,
   "metadata": {},
   "outputs": [
    {
     "name": "stdout",
     "output_type": "stream",
     "text": [
      "<link name=\"plane\">\n",
      "  <visual name=\"visual\">\n",
      "    <geometry>\n",
      "      <plane>\n",
      "        <size>1 1</size>\n",
      "        <normal>0 0 1</normal>\n",
      "      </plane>\n",
      "    </geometry>\n",
      "    <pose frame=\"\">0 0 0 0 -0 0</pose>\n",
      "    <cast_shadows>1</cast_shadows>\n",
      "    <transparency>0.0</transparency>\n",
      "  </visual>\n",
      "  <pose frame=\"\">0 0 0 0 -0 0</pose>\n",
      "</link>\n",
      "\n"
     ]
    }
   ],
   "source": [
    "print(plane.to_sdf('link'))"
   ]
  },
  {
   "cell_type": "code",
   "execution_count": 45,
   "metadata": {},
   "outputs": [
    {
     "name": "stdout",
     "output_type": "stream",
     "text": [
      "<model name=\"plane\">\n",
      "  <pose frame=\"\">0 0 0 0 -0 0</pose>\n",
      "  <static>1</static>\n",
      "  <allow_auto_disable>0</allow_auto_disable>\n",
      "  <link name=\"plane\">\n",
      "    <visual name=\"visual\">\n",
      "      <geometry>\n",
      "        <plane>\n",
      "          <size>1 1</size>\n",
      "          <normal>0 0 1</normal>\n",
      "        </plane>\n",
      "      </geometry>\n",
      "      <pose frame=\"\">0 0 0 0 -0 0</pose>\n",
      "      <cast_shadows>1</cast_shadows>\n",
      "      <transparency>0.0</transparency>\n",
      "    </visual>\n",
      "  </link>\n",
      "</model>\n",
      "\n"
     ]
    }
   ],
   "source": [
    "print(plane.to_sdf('model'))"
   ]
  },
  {
   "cell_type": "code",
   "execution_count": 46,
   "metadata": {},
   "outputs": [],
   "source": [
    "# Run Gazebo again, if not already running\n",
    "simulation.run_task('gazebo')"
   ]
  },
  {
   "cell_type": "code",
   "execution_count": 47,
   "metadata": {},
   "outputs": [
    {
     "data": {
      "text/plain": [
       "True"
      ]
     },
     "execution_count": 47,
     "metadata": {},
     "output_type": "execute_result"
    }
   ],
   "source": [
    "# Spawning the plane\n",
    "# When there are other models in the simulation, \n",
    "# the spawning of a new plane with [0, 0, 1] and a plane as \n",
    "# collision geometry  leads to \n",
    "# the new plane becoming the ground plane\n",
    "# To set the collision geometry, use\n",
    "#    plane.generate_collision = True\n",
    "plane = create_object('plane')\n",
    "plane.size = [random.random() * 5, random.random() * 5]\n",
    "p = random.random()\n",
    "plane.normal = [0, 0, 1]\n",
    "plane.visual.enable_property('material')\n",
    "plane.visual.set_xkcd_color()\n",
    "generator.spawn_model(model=plane, robot_namespace='new_plane', pos=[(random.random() - 0.5) * 10, (random.random() - 0.5) * 10, (random.random() - 0.5) * 2 + 5])"
   ]
  },
  {
   "cell_type": "markdown",
   "metadata": {},
   "source": [
    "The output should look like this\n",
    "\n",
    "![generating objects](images/generating_objects.png)"
   ]
  }
 ],
 "metadata": {
  "kernelspec": {
   "display_name": "Python 3",
   "language": "python",
   "name": "python3"
  },
  "language_info": {
   "codemirror_mode": {
    "name": "ipython",
    "version": 3
   },
   "file_extension": ".py",
   "mimetype": "text/x-python",
   "name": "python",
   "nbconvert_exporter": "python",
   "pygments_lexer": "ipython3",
   "version": "3.6.9"
  }
 },
 "nbformat": 4,
 "nbformat_minor": 4
}
