{
 "cells": [
  {
   "cell_type": "code",
   "execution_count": 1,
   "metadata": {},
   "outputs": [],
   "source": [
    "from pcg_gazebo.generators import WorldGenerator\n",
    "from pcg_gazebo.visualization import plot_workspace, plot_occupancy_grid\n",
    "from pcg_gazebo.generators.creators import box_factory\n",
    "\n",
    "world_gen = WorldGenerator()"
   ]
  },
  {
   "cell_type": "markdown",
   "metadata": {},
   "source": [
    "Add a dynamic box generator to the list of assets. Dynamic boxes have a mass and moments of inertia."
   ]
  },
  {
   "cell_type": "code",
   "execution_count": 2,
   "metadata": {},
   "outputs": [
    {
     "name": "stdout",
     "output_type": "stream",
     "text": [
      "Assets available for world generation= ['dyn_box', 'sun', 'ground_plane']\n"
     ]
    }
   ],
   "source": [
    "world_gen.add_asset(\n",
    "    tag='dyn_box',\n",
    "    description=dict(\n",
    "        type='box',\n",
    "        args=dict(\n",
    "            size=\"__import__('numpy').random.random(3)\",\n",
    "            name='cuboid',\n",
    "            mass=\"max(0.1, __import__('numpy').random.random())\",\n",
    "            color='xkcd'\n",
    "        )\n",
    "    )\n",
    ")\n",
    "\n",
    "# Check if models where included correctly\n",
    "print('Assets available for world generation=', world_gen.assets.tags)"
   ]
  },
  {
   "cell_type": "code",
   "execution_count": 3,
   "metadata": {},
   "outputs": [
    {
     "name": "stdout",
     "output_type": "stream",
     "text": [
      "Assets available for world generation= ['dyn_box', 'static_cylinder', 'sun', 'ground_plane']\n"
     ]
    }
   ],
   "source": [
    "world_gen.add_asset(\n",
    "    tag='static_cylinder',\n",
    "    description=dict(\n",
    "        type='cylinder',\n",
    "        args=dict(\n",
    "            length=\"__import__('numpy').random.random()\",\n",
    "            radius=\"__import__('numpy').random.random()\",\n",
    "            name='cylinder',\n",
    "            color='xkcd'\n",
    "        )\n",
    "    )\n",
    ")\n",
    "\n",
    "# Check if models where included correctly\n",
    "print('Assets available for world generation=', world_gen.assets.tags)"
   ]
  },
  {
   "cell_type": "markdown",
   "metadata": {},
   "source": [
    "Add a constraint to ensure all boxes are placed on top of ground plane"
   ]
  },
  {
   "cell_type": "code",
   "execution_count": 4,
   "metadata": {},
   "outputs": [
    {
     "name": "stdout",
     "output_type": "stream",
     "text": [
      "List of constraints= ['tangent_to_ground_plane']\n"
     ]
    }
   ],
   "source": [
    "world_gen.add_constraint(\n",
    "    name='tangent_to_ground_plane',\n",
    "    type='tangent',\n",
    "    frame='world',\n",
    "    reference=dict(\n",
    "        type='plane',\n",
    "        args=dict(\n",
    "            origin=[0, 0, 0],\n",
    "            normal=[0, 0, 1]\n",
    "        )\n",
    "    )\n",
    ")\n",
    "\n",
    "print('List of constraints=', list(world_gen.constraints.tags))"
   ]
  },
  {
   "cell_type": "markdown",
   "metadata": {},
   "source": [
    "Add 2D workspace constraint defining where the boxes should be spawned in the world"
   ]
  },
  {
   "cell_type": "code",
   "execution_count": 5,
   "metadata": {},
   "outputs": [
    {
     "name": "stdout",
     "output_type": "stream",
     "text": [
      "List of constraints= ['tangent_to_ground_plane', 'my_workspace']\n"
     ]
    },
    {
     "data": {
      "text/plain": [
       "(<Figure size 1080x720 with 1 Axes>,\n",
       " <matplotlib.axes._subplots.AxesSubplot at 0x7f3b36caa5c0>)"
      ]
     },
     "execution_count": 5,
     "metadata": {},
     "output_type": "execute_result"
    },
    {
     "data": {
      "image/png": "[encoded data removed]",
      "text/plain": [
       "<Figure size 1080x720 with 1 Axes>"
      ]
     },
     "metadata": {
      "needs_background": "light"
     },
     "output_type": "display_data"
    }
   ],
   "source": [
    "world_gen.add_constraint(\n",
    "    name='my_workspace',\n",
    "    type='workspace',\n",
    "    frame='world',\n",
    "    geometry=dict(\n",
    "        type='area',\n",
    "        description=dict(\n",
    "            points=[\n",
    "                [-5, -5, 0],\n",
    "                [-5, 5, 0],\n",
    "                [5, 5, 0],\n",
    "                [5, -5, 0],\n",
    "            ]\n",
    "        )\n",
    "    )\n",
    ")\n",
    "\n",
    "print('List of constraints=', list(world_gen.constraints.tags))\n",
    "\n",
    "plot_workspace(workspace=world_gen.constraints.get('my_workspace'))"
   ]
  },
  {
   "cell_type": "markdown",
   "metadata": {},
   "source": [
    "Add ground plane to the world in a fixed position"
   ]
  },
  {
   "cell_type": "code",
   "execution_count": 6,
   "metadata": {},
   "outputs": [
    {
     "data": {
      "text/plain": [
       "True"
      ]
     },
     "execution_count": 6,
     "metadata": {},
     "output_type": "execute_result"
    }
   ],
   "source": [
    "floor_model = box_factory(\n",
    "    size=[\n",
    "        [20, 20, 0.01]\n",
    "    ],\n",
    "    mass=1,\n",
    "    use_permutation=True,\n",
    "    name='box_floor'\n",
    ")[0]\n",
    "floor_model.name = 'box_floor'\n",
    "\n",
    "world_gen.add_asset(tag='box_floor', description=floor_model)\n",
    "\n",
    "world_gen.add_engine(\n",
    "    engine_name='fixed_pose',\n",
    "    tag='gp_engine',\n",
    "    models=['box_floor'],\n",
    "    poses=[[0, 0, -0.005, 0, 0, 0]])\n",
    "world_gen.set_model_as_ground_plane('box_floor')"
   ]
  },
  {
   "cell_type": "markdown",
   "metadata": {},
   "source": [
    "Add a random pose engine to place the boxes in the world"
   ]
  },
  {
   "cell_type": "code",
   "execution_count": 7,
   "metadata": {},
   "outputs": [],
   "source": [
    "NUM_BOXES = 5\n",
    "NUM_CYLINDER = 5\n",
    "\n",
    "box_placement_policy = dict(\n",
    "    models=['dyn_box', 'static_cylinder'],\n",
    "    config=[\n",
    "        dict(\n",
    "            dofs=['x', 'y'],\n",
    "            policy=dict(\n",
    "                name='workspace',\n",
    "                args='my_workspace'\n",
    "            )\n",
    "        ),\n",
    "        dict(\n",
    "            dofs=['yaw'],\n",
    "            policy=dict(\n",
    "                name='uniform',\n",
    "                args=dict(\n",
    "                    mean=0,\n",
    "                    min=-3.141592653589793,\n",
    "                    max=3.141592653589793\n",
    "                )\n",
    "            )\n",
    "        )\n",
    "    ]\n",
    ")\n",
    "\n",
    "world_gen.add_engine(\n",
    "    tag='box_placement',\n",
    "    engine_name='random_pose',\n",
    "    models=['dyn_box', 'static_cylinder'],\n",
    "    max_num=dict(\n",
    "        dyn_box=NUM_BOXES,\n",
    "        static_cylinder=NUM_CYLINDER),\n",
    "    model_picker='random',\n",
    "    no_collision=True,\n",
    "    policies=[box_placement_policy],\n",
    "    constraints=[\n",
    "        dict(\n",
    "            model='dyn_box',\n",
    "            constraint='tangent_to_ground_plane'),\n",
    "        dict(\n",
    "            model='static_cylinder',\n",
    "            constraint='tangent_to_ground_plane')\n",
    "    ]\n",
    ")"
   ]
  },
  {
   "cell_type": "markdown",
   "metadata": {},
   "source": [
    "Run the engines to generate the world"
   ]
  },
  {
   "cell_type": "code",
   "execution_count": 8,
   "metadata": {},
   "outputs": [
    {
     "data": {
      "text/plain": [
       "True"
      ]
     },
     "execution_count": 8,
     "metadata": {},
     "output_type": "execute_result"
    }
   ],
   "source": [
    "world_gen.run_engines()"
   ]
  },
  {
   "cell_type": "code",
   "execution_count": 9,
   "metadata": {},
   "outputs": [
    {
     "name": "stdout",
     "output_type": "stream",
     "text": [
      "dict_keys(['box_floor', 'static_cylinder', 'dyn_box', 'static_cylinder_1', 'dyn_box_1', 'static_cylinder_2', 'static_cylinder_3', 'dyn_box_2', 'dyn_box_3', 'dyn_box_4', 'static_cylinder_4'])\n"
     ]
    }
   ],
   "source": [
    "print(world_gen.world.models.keys())"
   ]
  },
  {
   "cell_type": "code",
   "execution_count": 10,
   "metadata": {},
   "outputs": [
    {
     "data": {
      "text/plain": [
       "SceneViewer(width=1869, height=1025)"
      ]
     },
     "execution_count": 10,
     "metadata": {},
     "output_type": "execute_result"
    }
   ],
   "source": [
    "world_gen.world.show()"
   ]
  },
  {
   "cell_type": "markdown",
   "metadata": {},
   "source": [
    "Next the grid map can be generated. It is important to check if the dynamic models should be included in the plot. \n",
    "That can be done using the `static_models_only` input.\n",
    "The example below shows a grid map with both dynamic and static models. "
   ]
  },
  {
   "cell_type": "code",
   "execution_count": 11,
   "metadata": {},
   "outputs": [
    {
     "data": {
      "image/png": "[encoded data removed]",
      "text/plain": [
       "<Figure size 393.701x393.701 with 1 Axes>"
      ]
     },
     "metadata": {
      "needs_background": "light"
     },
     "output_type": "display_data"
    }
   ],
   "source": [
    "import matplotlib.pyplot as pyplot\n",
    "fig = plot_occupancy_grid(\n",
    "    world_gen.world.models,\n",
    "    with_ground_plane=False,\n",
    "    static_models_only=False)\n",
    "pyplot.show()"
   ]
  },
  {
   "cell_type": "markdown",
   "metadata": {},
   "source": [
    "The example below shows a grid map with only static models. "
   ]
  },
  {
   "cell_type": "code",
   "execution_count": 12,
   "metadata": {},
   "outputs": [
    {
     "data": {
      "image/png": "[encoded data removed]",
      "text/plain": [
       "<Figure size 393.701x393.701 with 1 Axes>"
      ]
     },
     "metadata": {
      "needs_background": "light"
     },
     "output_type": "display_data"
    }
   ],
   "source": [
    "fig = plot_occupancy_grid(\n",
    "    world_gen.world.models,\n",
    "    with_ground_plane=False,\n",
    "    static_models_only=True)\n",
    "pyplot.show()"
   ]
  }
 ],
 "metadata": {
  "kernelspec": {
   "display_name": "Python 3",
   "language": "python",
   "name": "python3"
  },
  "language_info": {
   "codemirror_mode": {
    "name": "ipython",
    "version": 3
   },
   "file_extension": ".py",
   "mimetype": "text/x-python",
   "name": "python",
   "nbconvert_exporter": "python",
   "pygments_lexer": "ipython3",
   "version": "3.6.9"
  }
 },
 "nbformat": 4,
 "nbformat_minor": 4
}
