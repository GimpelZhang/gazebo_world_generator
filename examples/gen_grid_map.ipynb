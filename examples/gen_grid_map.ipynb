{
 "cells": [
  {
   "cell_type": "code",
   "execution_count": 1,
   "metadata": {},
   "outputs": [],
   "source": [
    "from pcg_gazebo.generators import WorldGenerator\n",
    "from pcg_gazebo.visualization import plot_workspace, plot_occupancy_grid\n",
    "\n",
    "world_gen = WorldGenerator()"
   ]
  },
  {
   "cell_type": "markdown",
   "metadata": {},
   "source": [
    "Add a dynamic box generator to the list of assets. Dynamic boxes have a mass and moments of inertia."
   ]
  },
  {
   "cell_type": "code",
   "execution_count": 2,
   "metadata": {},
   "outputs": [
    {
     "name": "stdout",
     "output_type": "stream",
     "text": [
      "Assets available for world generation= ['dyn_box', 'cardboard_box', 'arm_part', 'euro_pallet', 'walls', 'speed_limit_sign', 'mobile_base', 'OrangeDoors', 'sun', 'ground_plane', 'hinged_door']\n"
     ]
    }
   ],
   "source": [
    "world_gen.add_asset(\n",
    "    tag='dyn_box',\n",
    "    description=dict(\n",
    "        type='box',\n",
    "        args=dict(\n",
    "            size=\"10 * __import__('numpy').random.random(3)\",\n",
    "            name='cuboid',\n",
    "            mass=\"max(0.1, __import__('numpy').random.random())\",\n",
    "            color='xkcd'\n",
    "        )\n",
    "    )\n",
    ")\n",
    "\n",
    "# Check if models where included correctly\n",
    "print('Assets available for world generation=', world_gen.assets.tags)"
   ]
  },
  {
   "cell_type": "code",
   "execution_count": 3,
   "metadata": {},
   "outputs": [
    {
     "name": "stdout",
     "output_type": "stream",
     "text": [
      "Assets available for world generation= ['dyn_box', 'static_cylinder', 'cardboard_box', 'arm_part', 'euro_pallet', 'walls', 'speed_limit_sign', 'mobile_base', 'OrangeDoors', 'sun', 'ground_plane', 'hinged_door']\n"
     ]
    }
   ],
   "source": [
    "world_gen.add_asset(\n",
    "    tag='static_cylinder',\n",
    "    description=dict(\n",
    "        type='cylinder',\n",
    "        args=dict(\n",
    "            length=\"10 * __import__('numpy').random.random(3)\",\n",
    "            radius=\"10 * __import__('numpy').random.random(3)\",\n",
    "            name='cylinder',\n",
    "            color='xkcd'\n",
    "        )\n",
    "    )\n",
    ")\n",
    "\n",
    "# Check if models where included correctly\n",
    "print('Assets available for world generation=', world_gen.assets.tags)"
   ]
  },
  {
   "cell_type": "markdown",
   "metadata": {},
   "source": [
    "Add a constraint to ensure all boxes are placed on top of ground plane"
   ]
  },
  {
   "cell_type": "code",
   "execution_count": 4,
   "metadata": {},
   "outputs": [
    {
     "name": "stdout",
     "output_type": "stream",
     "text": [
      "List of constraints= ['tangent_to_ground_plane']\n"
     ]
    }
   ],
   "source": [
    "world_gen.add_constraint(\n",
    "    name='tangent_to_ground_plane',\n",
    "    type='tangent',\n",
    "    frame='world',\n",
    "    reference=dict(\n",
    "        type='plane',\n",
    "        args=dict(\n",
    "            origin=[0, 0, 0],\n",
    "            normal=[0, 0, 1]\n",
    "        )\n",
    "    )\n",
    ")\n",
    "\n",
    "print('List of constraints=', list(world_gen.constraints.tags))"
   ]
  },
  {
   "cell_type": "markdown",
   "metadata": {},
   "source": [
    "Add 2D workspace constraint defining where the boxes should be spawned in the world"
   ]
  },
  {
   "cell_type": "code",
   "execution_count": 5,
   "metadata": {},
   "outputs": [
    {
     "name": "stdout",
     "output_type": "stream",
     "text": [
      "List of constraints= ['tangent_to_ground_plane', 'my_workspace']\n",
      "plot_shapely_geometry\n",
      "axis equal and grid\n"
     ]
    },
    {
     "data": {
      "text/plain": [
       "(<Figure size 1080x720 with 1 Axes>,\n",
       " <matplotlib.axes._subplots.AxesSubplot at 0x7fe9007dfe48>)"
      ]
     },
     "execution_count": 5,
     "metadata": {},
     "output_type": "execute_result"
    },
    {
     "data": {
      "image/png": "[encoded data removed]",
      "text/plain": [
       "<Figure size 1080x720 with 1 Axes>"
      ]
     },
     "metadata": {
      "needs_background": "light"
     },
     "output_type": "display_data"
    }
   ],
   "source": [
    "world_gen.add_constraint(\n",
    "    name='my_workspace',\n",
    "    type='workspace',\n",
    "    frame='world',\n",
    "    geometry=dict(\n",
    "        type='area',\n",
    "        description=dict(\n",
    "            points=[\n",
    "                [-30, -30, 0],\n",
    "                [-30, 30, 0],\n",
    "                [30, 30, 0],\n",
    "                [30, -30, 0],\n",
    "            ]\n",
    "        )\n",
    "    )\n",
    ")\n",
    "\n",
    "print('List of constraints=', list(world_gen.constraints.tags))\n",
    "\n",
    "plot_workspace(workspace=world_gen.constraints.get('my_workspace'))"
   ]
  },
  {
   "cell_type": "code",
   "execution_count": null,
   "metadata": {},
   "outputs": [],
   "source": []
  },
  {
   "cell_type": "markdown",
   "metadata": {},
   "source": [
    "Add ground plane and the sun"
   ]
  },
  {
   "cell_type": "code",
   "execution_count": 6,
   "metadata": {},
   "outputs": [],
   "source": [
    "world_gen.add_engine(\n",
    "    engine_name='fixed_pose',\n",
    "    tag='gp_engine',\n",
    "    models=['ground_plane'],\n",
    "    poses=[[0 for _ in range(6)]])\n",
    "world_gen.set_model_as_ground_plane('ground_plane')\n",
    "world_gen.add_engine(\n",
    "    engine_name='fixed_pose',\n",
    "    tag='sun_engine',\n",
    "    models=['sun'],\n",
    "    poses=[[0, 0, 10, 0, 0, 0]])"
   ]
  },
  {
   "cell_type": "markdown",
   "metadata": {},
   "source": [
    "Add a random pose engine to place the boxes in the world"
   ]
  },
  {
   "cell_type": "code",
   "execution_count": 7,
   "metadata": {},
   "outputs": [],
   "source": [
    "NUM_BOXES = 10\n",
    "NUM_CYLINDER = 10\n",
    "\n",
    "box_placement_policy = dict(\n",
    "    models=['dyn_box', 'static_cylinder'],\n",
    "    config=[\n",
    "        dict(\n",
    "            dofs=['x', 'y'],\n",
    "            policy=dict(\n",
    "                name='workspace',\n",
    "                args='my_workspace'\n",
    "            )\n",
    "        ),\n",
    "        dict(\n",
    "            dofs=['yaw'],\n",
    "            policy=dict(\n",
    "                name='uniform',\n",
    "                args=dict(\n",
    "                    mean=0,\n",
    "                    min=-3.141592653589793,\n",
    "                    max=3.141592653589793\n",
    "                )\n",
    "            )\n",
    "        )\n",
    "    ]\n",
    ")\n",
    "\n",
    "world_gen.add_engine(\n",
    "    tag='box_placement',\n",
    "    engine_name='random_pose',\n",
    "    models=['dyn_box', 'static_cylinder'],\n",
    "    max_num=dict(\n",
    "        dyn_box=NUM_BOXES,\n",
    "        static_cylinder=NUM_CYLINDER),\n",
    "    model_picker='random',\n",
    "    no_collision=True,\n",
    "    policies=[box_placement_policy],\n",
    "    constraints=[\n",
    "        dict(\n",
    "            model='dyn_box',\n",
    "            constraint='tangent_to_ground_plane'),\n",
    "        dict(\n",
    "            model='static_cylinder',\n",
    "            constraint='tangent_to_ground_plane')\n",
    "    ]\n",
    ")"
   ]
  },
  {
   "cell_type": "markdown",
   "metadata": {},
   "source": [
    "Run the engines to generate the world"
   ]
  },
  {
   "cell_type": "code",
   "execution_count": 8,
   "metadata": {},
   "outputs": [
    {
     "data": {
      "text/plain": [
       "True"
      ]
     },
     "execution_count": 8,
     "metadata": {},
     "output_type": "execute_result"
    }
   ],
   "source": [
    "world_gen.run_engines()"
   ]
  },
  {
   "cell_type": "code",
   "execution_count": 9,
   "metadata": {},
   "outputs": [
    {
     "name": "stdout",
     "output_type": "stream",
     "text": [
      "dict_keys(['ground_plane', 'dyn_box', 'dyn_box_1', 'static_cylinder', 'dyn_box_2', 'dyn_box_3', 'static_cylinder_1', 'static_cylinder_2', 'static_cylinder_3', 'static_cylinder_4', 'static_cylinder_5', 'dyn_box_4', 'dyn_box_5', 'static_cylinder_6', 'dyn_box_6', 'static_cylinder_7', 'dyn_box_7', 'static_cylinder_8', 'static_cylinder_9', 'dyn_box_8', 'dyn_box_9'])\n"
     ]
    }
   ],
   "source": [
    "print(world_gen.world.models.keys())"
   ]
  },
  {
   "cell_type": "code",
   "execution_count": 10,
   "metadata": {},
   "outputs": [
    {
     "data": {
      "text/plain": [
       "SceneViewer(width=1920, height=1025)"
      ]
     },
     "execution_count": 10,
     "metadata": {},
     "output_type": "execute_result"
    }
   ],
   "source": [
    "world_gen.world.show()"
   ]
  },
  {
   "cell_type": "markdown",
   "metadata": {},
   "source": [
    "Next the grid map can be generated. It is important to check if the dynamic models should be included in the plot. \n",
    "That can be done using the `static_models_only` input.\n",
    "The example below shows a grid map with both dynamic and static models. "
   ]
  },
  {
   "cell_type": "code",
   "execution_count": 11,
   "metadata": {},
   "outputs": [
    {
     "name": "stderr",
     "output_type": "stream",
     "text": [
      "TopologyException: found non-noded intersection between LINESTRING (-2.4789 3.34781, -2.53072 2.92161) and LINESTRING (-2.53072 2.92161, -2.4789 3.34781) at -2.528030364755546 2.9437362209765565\n"
     ]
    },
    {
     "ename": "ValueError",
     "evalue": "No Shapely geometry can be created from null value",
     "output_type": "error",
     "traceback": [
      "\u001b[0;31m---------------------------------------------------------------------------\u001b[0m",
      "\u001b[0;31mRemoteTraceback\u001b[0m                           Traceback (most recent call last)",
      "\u001b[0;31mRemoteTraceback\u001b[0m: \n\"\"\"\nTraceback (most recent call last):\n  File \"/usr/lib/python3.6/multiprocessing/pool.py\", line 119, in worker\n    result = (True, func(*args, **kwds))\n  File \"/usr/lib/python3.6/multiprocessing/pool.py\", line 44, in mapstar\n    return list(map(*args))\n  File \"/home/mam0box/Software/devel/pcg_gazebo/venv/lib/python3.6/site-packages/pcg_gazebo/generators/occupancy.py\", line 473, in _get_occupied_area_proc\n    mesh_type=args[6])\n  File \"/home/mam0box/Software/devel/pcg_gazebo/venv/lib/python3.6/site-packages/pcg_gazebo/generators/occupancy.py\", line 425, in get_occupied_area\n    occupied_areas = unary_union(occupied_areas)\n  File \"/home/mam0box/Software/devel/pcg_gazebo/venv/lib/python3.6/site-packages/shapely/ops.py\", line 149, in unary_union\n    return geom_factory(lgeos.methods['unary_union'](collection))\n  File \"/home/mam0box/Software/devel/pcg_gazebo/venv/lib/python3.6/site-packages/shapely/geometry/base.py\", line 76, in geom_factory\n    raise ValueError(\"No Shapely geometry can be created from null value\")\nValueError: No Shapely geometry can be created from null value\n\"\"\"",
      "\nThe above exception was the direct cause of the following exception:\n",
      "\u001b[0;31mValueError\u001b[0m                                Traceback (most recent call last)",
      "\u001b[0;32m<ipython-input-11-7b3fc9b957dc>\u001b[0m in \u001b[0;36m<module>\u001b[0;34m\u001b[0m\n\u001b[1;32m      3\u001b[0m     \u001b[0mworld_gen\u001b[0m\u001b[0;34m.\u001b[0m\u001b[0mworld\u001b[0m\u001b[0;34m.\u001b[0m\u001b[0mmodels\u001b[0m\u001b[0;34m,\u001b[0m\u001b[0;34m\u001b[0m\u001b[0;34m\u001b[0m\u001b[0m\n\u001b[1;32m      4\u001b[0m     \u001b[0mwith_ground_plane\u001b[0m\u001b[0;34m=\u001b[0m\u001b[0;32mFalse\u001b[0m\u001b[0;34m,\u001b[0m\u001b[0;34m\u001b[0m\u001b[0;34m\u001b[0m\u001b[0m\n\u001b[0;32m----> 5\u001b[0;31m     static_models_only=False)\n\u001b[0m\u001b[1;32m      6\u001b[0m \u001b[0mpyplot\u001b[0m\u001b[0;34m.\u001b[0m\u001b[0mshow\u001b[0m\u001b[0;34m(\u001b[0m\u001b[0;34m)\u001b[0m\u001b[0;34m\u001b[0m\u001b[0;34m\u001b[0m\u001b[0m\n",
      "\u001b[0;32m~/Software/devel/pcg_gazebo/venv/lib/python3.6/site-packages/pcg_gazebo/visualization.py\u001b[0m in \u001b[0;36mplot_occupancy_grid\u001b[0;34m(models, occupied_thresh, free_thresh, occupied_color, free_color, unavailable_color, output_folder, output_filename, static_models_only, with_ground_plane, z_levels, x_limits, y_limits, z_limits, step_x, step_y, n_processes, fig_size, fig_size_unit, dpi, axis_x_limits, axis_y_limits, exclude_contains, mesh_type)\u001b[0m\n\u001b[1;32m    565\u001b[0m         \u001b[0mstep_y\u001b[0m\u001b[0;34m=\u001b[0m\u001b[0mstep_y\u001b[0m\u001b[0;34m,\u001b[0m\u001b[0;34m\u001b[0m\u001b[0;34m\u001b[0m\u001b[0m\n\u001b[1;32m    566\u001b[0m         \u001b[0mn_processes\u001b[0m\u001b[0;34m=\u001b[0m\u001b[0mn_processes\u001b[0m\u001b[0;34m,\u001b[0m\u001b[0;34m\u001b[0m\u001b[0;34m\u001b[0m\u001b[0m\n\u001b[0;32m--> 567\u001b[0;31m         mesh_type=mesh_type)\n\u001b[0m\u001b[1;32m    568\u001b[0m \u001b[0;34m\u001b[0m\u001b[0m\n\u001b[1;32m    569\u001b[0m     \u001b[0;32mif\u001b[0m \u001b[0mfig_size_unit\u001b[0m \u001b[0;34m==\u001b[0m \u001b[0;34m'cm'\u001b[0m\u001b[0;34m:\u001b[0m\u001b[0;34m\u001b[0m\u001b[0;34m\u001b[0m\u001b[0m\n",
      "\u001b[0;32m~/Software/devel/pcg_gazebo/venv/lib/python3.6/site-packages/pcg_gazebo/generators/occupancy.py\u001b[0m in \u001b[0;36mgenerate_occupancy_grid_with_ray\u001b[0;34m(models, z_levels, x_limits, y_limits, z_limits, step_x, step_y, n_processes, mesh_type)\u001b[0m\n\u001b[1;32m    567\u001b[0m                 \u001b[0mmodels\u001b[0m\u001b[0;34m[\u001b[0m\u001b[0mtag\u001b[0m\u001b[0;34m]\u001b[0m\u001b[0;34m.\u001b[0m\u001b[0mis_ground_plane\u001b[0m\u001b[0;34m,\u001b[0m\u001b[0;34m\u001b[0m\u001b[0;34m\u001b[0m\u001b[0m\n\u001b[1;32m    568\u001b[0m                 \u001b[0mtag\u001b[0m\u001b[0;34m,\u001b[0m\u001b[0;34m\u001b[0m\u001b[0;34m\u001b[0m\u001b[0m\n\u001b[0;32m--> 569\u001b[0;31m                 mesh_type] for tag in models))\n\u001b[0m\u001b[1;32m    570\u001b[0m \u001b[0;34m\u001b[0m\u001b[0m\n\u001b[1;32m    571\u001b[0m         \u001b[0;32mfor\u001b[0m \u001b[0mmodel_occupied_area\u001b[0m\u001b[0;34m,\u001b[0m \u001b[0mmodel_name\u001b[0m \u001b[0;32min\u001b[0m \u001b[0mzip\u001b[0m\u001b[0;34m(\u001b[0m\u001b[0mresults\u001b[0m\u001b[0;34m,\u001b[0m \u001b[0mmodels\u001b[0m\u001b[0;34m)\u001b[0m\u001b[0;34m:\u001b[0m\u001b[0;34m\u001b[0m\u001b[0;34m\u001b[0m\u001b[0m\n",
      "\u001b[0;32m/usr/lib/python3.6/multiprocessing/pool.py\u001b[0m in \u001b[0;36mmap\u001b[0;34m(self, func, iterable, chunksize)\u001b[0m\n\u001b[1;32m    264\u001b[0m         \u001b[0;32min\u001b[0m \u001b[0ma\u001b[0m \u001b[0mlist\u001b[0m \u001b[0mthat\u001b[0m \u001b[0;32mis\u001b[0m \u001b[0mreturned\u001b[0m\u001b[0;34m.\u001b[0m\u001b[0;34m\u001b[0m\u001b[0;34m\u001b[0m\u001b[0m\n\u001b[1;32m    265\u001b[0m         '''\n\u001b[0;32m--> 266\u001b[0;31m         \u001b[0;32mreturn\u001b[0m \u001b[0mself\u001b[0m\u001b[0;34m.\u001b[0m\u001b[0m_map_async\u001b[0m\u001b[0;34m(\u001b[0m\u001b[0mfunc\u001b[0m\u001b[0;34m,\u001b[0m \u001b[0miterable\u001b[0m\u001b[0;34m,\u001b[0m \u001b[0mmapstar\u001b[0m\u001b[0;34m,\u001b[0m \u001b[0mchunksize\u001b[0m\u001b[0;34m)\u001b[0m\u001b[0;34m.\u001b[0m\u001b[0mget\u001b[0m\u001b[0;34m(\u001b[0m\u001b[0;34m)\u001b[0m\u001b[0;34m\u001b[0m\u001b[0;34m\u001b[0m\u001b[0m\n\u001b[0m\u001b[1;32m    267\u001b[0m \u001b[0;34m\u001b[0m\u001b[0m\n\u001b[1;32m    268\u001b[0m     \u001b[0;32mdef\u001b[0m \u001b[0mstarmap\u001b[0m\u001b[0;34m(\u001b[0m\u001b[0mself\u001b[0m\u001b[0;34m,\u001b[0m \u001b[0mfunc\u001b[0m\u001b[0;34m,\u001b[0m \u001b[0miterable\u001b[0m\u001b[0;34m,\u001b[0m \u001b[0mchunksize\u001b[0m\u001b[0;34m=\u001b[0m\u001b[0;32mNone\u001b[0m\u001b[0;34m)\u001b[0m\u001b[0;34m:\u001b[0m\u001b[0;34m\u001b[0m\u001b[0;34m\u001b[0m\u001b[0m\n",
      "\u001b[0;32m/usr/lib/python3.6/multiprocessing/pool.py\u001b[0m in \u001b[0;36mget\u001b[0;34m(self, timeout)\u001b[0m\n\u001b[1;32m    642\u001b[0m             \u001b[0;32mreturn\u001b[0m \u001b[0mself\u001b[0m\u001b[0;34m.\u001b[0m\u001b[0m_value\u001b[0m\u001b[0;34m\u001b[0m\u001b[0;34m\u001b[0m\u001b[0m\n\u001b[1;32m    643\u001b[0m         \u001b[0;32melse\u001b[0m\u001b[0;34m:\u001b[0m\u001b[0;34m\u001b[0m\u001b[0;34m\u001b[0m\u001b[0m\n\u001b[0;32m--> 644\u001b[0;31m             \u001b[0;32mraise\u001b[0m \u001b[0mself\u001b[0m\u001b[0;34m.\u001b[0m\u001b[0m_value\u001b[0m\u001b[0;34m\u001b[0m\u001b[0;34m\u001b[0m\u001b[0m\n\u001b[0m\u001b[1;32m    645\u001b[0m \u001b[0;34m\u001b[0m\u001b[0m\n\u001b[1;32m    646\u001b[0m     \u001b[0;32mdef\u001b[0m \u001b[0m_set\u001b[0m\u001b[0;34m(\u001b[0m\u001b[0mself\u001b[0m\u001b[0;34m,\u001b[0m \u001b[0mi\u001b[0m\u001b[0;34m,\u001b[0m \u001b[0mobj\u001b[0m\u001b[0;34m)\u001b[0m\u001b[0;34m:\u001b[0m\u001b[0;34m\u001b[0m\u001b[0;34m\u001b[0m\u001b[0m\n",
      "\u001b[0;31mValueError\u001b[0m: No Shapely geometry can be created from null value"
     ]
    }
   ],
   "source": [
    "import matplotlib.pyplot as pyplot\n",
    "fig = plot_occupancy_grid(\n",
    "    world_gen.world.models,\n",
    "    with_ground_plane=False,\n",
    "    static_models_only=False)\n",
    "pyplot.show()"
   ]
  },
  {
   "cell_type": "markdown",
   "metadata": {},
   "source": [
    "The example below shows a grid map with only static models. "
   ]
  },
  {
   "cell_type": "code",
   "execution_count": null,
   "metadata": {},
   "outputs": [],
   "source": [
    "fig = plot_occupancy_grid(\n",
    "    world_gen.world.models,\n",
    "    with_ground_plane=False,\n",
    "    static_models_only=True)\n",
    "pyplot.show()"
   ]
  }
 ],
 "metadata": {
  "kernelspec": {
   "display_name": "Python 3",
   "language": "python",
   "name": "python3"
  },
  "language_info": {
   "codemirror_mode": {
    "name": "ipython",
    "version": 3
   },
   "file_extension": ".py",
   "mimetype": "text/x-python",
   "name": "python",
   "nbconvert_exporter": "python",
   "pygments_lexer": "ipython3",
   "version": "3.6.9"
  }
 },
 "nbformat": 4,
 "nbformat_minor": 4
}
