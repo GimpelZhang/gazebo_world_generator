{
 "cells": [
  {
   "cell_type": "code",
   "execution_count": 1,
   "metadata": {},
   "outputs": [],
   "source": [
    "from pcg_gazebo.generators import WorldGenerator\n",
    "from pcg_gazebo.visualization import plot_workspace\n",
    "\n",
    "world_gen = WorldGenerator()"
   ]
  },
  {
   "cell_type": "markdown",
   "metadata": {},
   "source": [
    "Add a box generator to the list of assets"
   ]
  },
  {
   "cell_type": "code",
   "execution_count": 2,
   "metadata": {},
   "outputs": [
    {
     "name": "stdout",
     "output_type": "stream",
     "text": [
      "Assets available for world generation= ['box', 'cardboard_box', 'arm_part', 'euro_pallet', 'walls', 'speed_limit_sign', 'mobile_base', 'OrangeDoors', 'sun', 'ground_plane', 'hinged_door']\n"
     ]
    }
   ],
   "source": [
    "world_gen.add_asset(\n",
    "    tag='box',\n",
    "    description=dict(\n",
    "        type='box',\n",
    "        args=dict(\n",
    "            size=\"10 * __import__('numpy').random.random(3)\",\n",
    "            name='cuboid',\n",
    "            mass=\"max(0.1, __import__('numpy').random.random())\",\n",
    "            color='xkcd'\n",
    "        )\n",
    "    )\n",
    ")\n",
    "\n",
    "# Check if models where included correctly\n",
    "print('Assets available for world generation=', world_gen.assets.tags)"
   ]
  },
  {
   "cell_type": "markdown",
   "metadata": {},
   "source": [
    "Add a constraint to ensure all boxes are placed on top of ground plane"
   ]
  },
  {
   "cell_type": "code",
   "execution_count": 3,
   "metadata": {},
   "outputs": [
    {
     "name": "stdout",
     "output_type": "stream",
     "text": [
      "List of constraints= ['tangent_to_ground_plane']\n"
     ]
    }
   ],
   "source": [
    "world_gen.add_constraint(\n",
    "    name='tangent_to_ground_plane',\n",
    "    type='tangent',\n",
    "    frame='world',\n",
    "    reference=dict(\n",
    "        type='plane',\n",
    "        args=dict(\n",
    "            origin=[0, 0, 0],\n",
    "            normal=[0, 0, 1]\n",
    "        )\n",
    "    )\n",
    ")\n",
    "\n",
    "print('List of constraints=', list(world_gen.constraints.tags))"
   ]
  },
  {
   "cell_type": "markdown",
   "metadata": {},
   "source": [
    "Add 2D workspace constraint defining where the boxes should be spawned in the world"
   ]
  },
  {
   "cell_type": "code",
   "execution_count": 4,
   "metadata": {},
   "outputs": [
    {
     "name": "stdout",
     "output_type": "stream",
     "text": [
      "List of constraints= ['tangent_to_ground_plane', 'boxes_workspace']\n"
     ]
    },
    {
     "data": {
      "text/plain": [
       "(<Figure size 1080x720 with 1 Axes>,\n",
       " <matplotlib.axes._subplots.AxesSubplot at 0x7fcc14425048>)"
      ]
     },
     "execution_count": 4,
     "metadata": {},
     "output_type": "execute_result"
    },
    {
     "data": {
      "image/png": "[encoded data removed]",
      "text/plain": [
       "<Figure size 1080x720 with 1 Axes>"
      ]
     },
     "metadata": {
      "needs_background": "light"
     },
     "output_type": "display_data"
    }
   ],
   "source": [
    "world_gen.add_constraint(\n",
    "    name='boxes_workspace',\n",
    "    type='workspace',\n",
    "    frame='world',\n",
    "    geometry=dict(\n",
    "        type='area',\n",
    "        description=dict(\n",
    "            points=[\n",
    "                [-15, -15, 0],\n",
    "                [-15, 15, 0],\n",
    "                [15, 15, 0],\n",
    "                [15, -15, 0],\n",
    "            ]\n",
    "        )\n",
    "    )\n",
    ")\n",
    "\n",
    "print('List of constraints=', list(world_gen.constraints.tags))\n",
    "\n",
    "plot_workspace(workspace=world_gen.constraints.get('boxes_workspace'))"
   ]
  },
  {
   "cell_type": "code",
   "execution_count": null,
   "metadata": {},
   "outputs": [],
   "source": []
  },
  {
   "cell_type": "markdown",
   "metadata": {},
   "source": [
    "Add ground plane and the sun"
   ]
  },
  {
   "cell_type": "code",
   "execution_count": 5,
   "metadata": {},
   "outputs": [],
   "source": [
    "world_gen.add_engine(\n",
    "    engine_name='fixed_pose',\n",
    "    tag='gp_engine',\n",
    "    models=['ground_plane'],\n",
    "    poses=[[0 for _ in range(6)]])\n",
    "world_gen.set_model_as_ground_plane('ground_plane')\n",
    "world_gen.add_engine(\n",
    "    engine_name='fixed_pose',\n",
    "    tag='sun_engine',\n",
    "    models=['sun'],\n",
    "    poses=[[0, 0, 10, 0, 0, 0]])"
   ]
  },
  {
   "cell_type": "markdown",
   "metadata": {},
   "source": [
    "Add a random pose engine to place the boxes in the world"
   ]
  },
  {
   "cell_type": "code",
   "execution_count": 6,
   "metadata": {},
   "outputs": [],
   "source": [
    "NUM_BOXES = 20\n",
    "\n",
    "box_placement_policy = dict(\n",
    "    models=['box'],\n",
    "    config=[\n",
    "        dict(\n",
    "            dofs=['x', 'y'],\n",
    "            policy=dict(\n",
    "                name='workspace',\n",
    "                args='boxes_workspace'\n",
    "            )\n",
    "        ),\n",
    "        dict(\n",
    "            dofs=['yaw'],\n",
    "            policy=dict(\n",
    "                name='uniform',\n",
    "                args=dict(\n",
    "                    mean=0,\n",
    "                    min=-3.141592653589793,\n",
    "                    max=3.141592653589793\n",
    "                )\n",
    "            )\n",
    "        )\n",
    "    ]\n",
    ")\n",
    "\n",
    "ground_plane_constraint = dict(\n",
    "    model='box',\n",
    "    constraint='tangent_to_ground_plane'\n",
    ")\n",
    "\n",
    "world_gen.add_engine(\n",
    "    tag='box_placement',\n",
    "    engine_name='random_pose',\n",
    "    models=['box'],\n",
    "    max_num=dict(box=NUM_BOXES),\n",
    "    model_picker='random',\n",
    "    no_collision=True,\n",
    "    policies=[box_placement_policy],\n",
    "    constraints=[ground_plane_constraint]\n",
    ")"
   ]
  },
  {
   "cell_type": "markdown",
   "metadata": {},
   "source": [
    "Run the engines to generate the world"
   ]
  },
  {
   "cell_type": "code",
   "execution_count": 7,
   "metadata": {},
   "outputs": [
    {
     "data": {
      "text/plain": [
       "True"
      ]
     },
     "execution_count": 7,
     "metadata": {},
     "output_type": "execute_result"
    }
   ],
   "source": [
    "world_gen.run_engines()"
   ]
  },
  {
   "cell_type": "code",
   "execution_count": 8,
   "metadata": {},
   "outputs": [
    {
     "name": "stdout",
     "output_type": "stream",
     "text": [
      "dict_keys(['ground_plane', 'box', 'box_1', 'box_2', 'box_3', 'box_4', 'box_5', 'box_6', 'box_7', 'box_8', 'box_9', 'box_10', 'box_11', 'box_12', 'box_13', 'box_14', 'box_15', 'box_16', 'box_17', 'box_18', 'box_19'])\n"
     ]
    }
   ],
   "source": [
    "print(world_gen.world.models.keys())"
   ]
  },
  {
   "cell_type": "code",
   "execution_count": 9,
   "metadata": {},
   "outputs": [
    {
     "data": {
      "text/plain": [
       "SceneViewer(width=1920, height=1052)"
      ]
     },
     "execution_count": 9,
     "metadata": {},
     "output_type": "execute_result"
    }
   ],
   "source": [
    "world_gen.world.show()"
   ]
  },
  {
   "cell_type": "code",
   "execution_count": null,
   "metadata": {},
   "outputs": [],
   "source": []
  }
 ],
 "metadata": {
  "kernelspec": {
   "display_name": "Python 3",
   "language": "python",
   "name": "python3"
  },
  "language_info": {
   "codemirror_mode": {
    "name": "ipython",
    "version": 3
   },
   "file_extension": ".py",
   "mimetype": "text/x-python",
   "name": "python",
   "nbconvert_exporter": "python",
   "pygments_lexer": "ipython3",
   "version": "3.6.9"
  }
 },
 "nbformat": 4,
 "nbformat_minor": 4
}
