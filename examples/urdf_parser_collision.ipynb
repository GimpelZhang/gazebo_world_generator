{
 "cells": [
  {
   "cell_type": "markdown",
   "metadata": {},
   "source": [
    "# Collision\n",
    "\n",
    "The collision properties of a link. Note that this can be different from the visual properties of a link, for example, simpler collision models are often used to reduce computation time. This is a child element of `<link>` and a link can have multiple collisions."
   ]
  },
  {
   "cell_type": "code",
   "execution_count": 1,
   "metadata": {},
   "outputs": [],
   "source": [
    "# Import the element creator\n",
    "from pcg_gazebo.parsers.urdf import create_urdf_element"
   ]
  },
  {
   "cell_type": "code",
   "execution_count": 2,
   "metadata": {},
   "outputs": [
    {
     "name": "stdout",
     "output_type": "stream",
     "text": [
      "<collision name=\"collision\">\n",
      "  <origin xyz=\"0 0 0\" rpy=\"0 0 0\"/>\n",
      "  <geometry>\n",
      "    <box size=\"0 0 0\"/>\n",
      "  </geometry>\n",
      "</collision>\n",
      "\n"
     ]
    }
   ],
   "source": [
    "# The collision element is created with an empty geometry by default\n",
    "collision = create_urdf_element('collision')\n",
    "print(collision)"
   ]
  },
  {
   "cell_type": "code",
   "execution_count": 3,
   "metadata": {},
   "outputs": [
    {
     "name": "stdout",
     "output_type": "stream",
     "text": [
      "<collision name=\"collision\">\n",
      "  <origin xyz=\"1 0 1\" rpy=\"0.2 0 0.6\"/>\n",
      "  <geometry>\n",
      "    <box size=\"0 0 0\"/>\n",
      "  </geometry>\n",
      "</collision>\n",
      "\n"
     ]
    }
   ],
   "source": [
    "# Setting the parameters for the visual element\n",
    "\n",
    "collision.origin.xyz = [1, 0, 1]\n",
    "collision.origin.rpy = [0.2, 0, 0.6]\n",
    "print(collision)"
   ]
  },
  {
   "cell_type": "code",
   "execution_count": 4,
   "metadata": {},
   "outputs": [
    {
     "name": "stdout",
     "output_type": "stream",
     "text": [
      "<collision name=\"collision\">\n",
      "  <origin xyz=\"1 0 1\" rpy=\"0.2 0 0.6\"/>\n",
      "  <geometry>\n",
      "    <box size=\"0 0 0\"/>\n",
      "  </geometry>\n",
      "</collision>\n",
      "\n"
     ]
    }
   ],
   "source": [
    "# Setting different geometries to the visual element\n",
    "collision.geometry.box = create_urdf_element('box')\n",
    "print(collision)"
   ]
  },
  {
   "cell_type": "code",
   "execution_count": 5,
   "metadata": {},
   "outputs": [
    {
     "name": "stdout",
     "output_type": "stream",
     "text": [
      "<collision name=\"collision\">\n",
      "  <origin xyz=\"1 0 1\" rpy=\"0.2 0 0.6\"/>\n",
      "  <geometry>\n",
      "    <sphere radius=\"0\"/>\n",
      "  </geometry>\n",
      "</collision>\n",
      "\n"
     ]
    }
   ],
   "source": [
    "collision.geometry.sphere = create_urdf_element('sphere')\n",
    "print(collision)"
   ]
  },
  {
   "cell_type": "code",
   "execution_count": 6,
   "metadata": {},
   "outputs": [
    {
     "name": "stdout",
     "output_type": "stream",
     "text": [
      "<collision name=\"collision\">\n",
      "  <origin xyz=\"1 0 1\" rpy=\"0.2 0 0.6\"/>\n",
      "  <geometry>\n",
      "    <cylinder radius=\"0\" length=\"0\"/>\n",
      "  </geometry>\n",
      "</collision>\n",
      "\n"
     ]
    }
   ],
   "source": [
    "collision.geometry.cylinder = create_urdf_element('cylinder')\n",
    "print(collision)"
   ]
  },
  {
   "cell_type": "code",
   "execution_count": 7,
   "metadata": {},
   "outputs": [
    {
     "name": "stdout",
     "output_type": "stream",
     "text": [
      "<collision name=\"collision\">\n",
      "  <origin xyz=\"1 0 1\" rpy=\"0.2 0 0.6\"/>\n",
      "  <geometry>\n",
      "    <mesh filename=\"\" scale=\"1 1 1\"/>\n",
      "  </geometry>\n",
      "</collision>\n",
      "\n"
     ]
    }
   ],
   "source": [
    "collision.geometry.mesh = create_urdf_element('mesh')\n",
    "print(collision)"
   ]
  }
 ],
 "metadata": {
  "kernelspec": {
   "display_name": "Python 3",
   "language": "python",
   "name": "python3"
  },
  "language_info": {
   "codemirror_mode": {
    "name": "ipython",
    "version": 3
   },
   "file_extension": ".py",
   "mimetype": "text/x-python",
   "name": "python",
   "nbconvert_exporter": "python",
   "pygments_lexer": "ipython3",
   "version": "3.5.2"
  }
 },
 "nbformat": 4,
 "nbformat_minor": 4
}
