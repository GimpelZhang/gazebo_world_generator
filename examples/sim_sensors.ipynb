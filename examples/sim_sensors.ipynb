{
 "cells": [
  {
   "cell_type": "markdown",
   "metadata": {},
   "source": [
    "# Sensors"
   ]
  },
  {
   "cell_type": "code",
   "execution_count": 1,
   "metadata": {},
   "outputs": [],
   "source": [
    "from pcg_gazebo.simulation import create_object, SimulationModel\n",
    "from pcg_gazebo.task_manager import get_rostopic_list"
   ]
  },
  {
   "cell_type": "code",
   "execution_count": 2,
   "metadata": {},
   "outputs": [
    {
     "name": "stdout",
     "output_type": "stream",
     "text": [
      "['gazebo', 'rqt']\n",
      "Is Gazebo running: False\n"
     ]
    }
   ],
   "source": [
    "# If there is a Gazebo instance running, you can spawn the box \n",
    "# into the simulation\n",
    "from pcg_gazebo.task_manager import Server\n",
    "# First create a simulation server\n",
    "server = Server()\n",
    "# Create a simulation manager named default\n",
    "server.create_simulation('default', ros_port=11311, gazebo_port=11345)\n",
    "simulation = server.get_simulation('default')\n",
    "# Run an instance of the empty.world scenario\n",
    "# This is equivalent to run\n",
    "#      roslaunch gazebo_ros empty_world.launch\n",
    "# with all default parameters\n",
    "simulation.create_gazebo_empty_world_task()\n",
    "simulation.create_rqt_task()\n",
    "\n",
    "# A task named 'gazebo' the added to the tasks list\n",
    "print(simulation.get_task_list())\n",
    "# But it is still not running\n",
    "print('Is Gazebo running: {}'.format(\n",
    "    simulation.is_task_running('gazebo')))\n",
    "# Run Gazebo\n",
    "simulation.run_all_tasks()"
   ]
  },
  {
   "cell_type": "code",
   "execution_count": 3,
   "metadata": {},
   "outputs": [
    {
     "name": "stdout",
     "output_type": "stream",
     "text": [
      "Is Gazebo running: True\n"
     ]
    }
   ],
   "source": [
    "from pcg_gazebo.generators import WorldGenerator\n",
    "import random\n",
    "# Create a Gazebo proxy\n",
    "gazebo_proxy = simulation.get_gazebo_proxy()\n",
    "\n",
    "# Use the generator to spawn the model to the Gazebo instance running at the moment\n",
    "generator = WorldGenerator(gazebo_proxy=gazebo_proxy)\n",
    "print('Is Gazebo running: {}'.format(simulation.is_task_running('gazebo')))"
   ]
  },
  {
   "cell_type": "markdown",
   "metadata": {},
   "source": [
    "## Sensors\n",
    "\n",
    "### Standalone IMU sensor"
   ]
  },
  {
   "cell_type": "code",
   "execution_count": 4,
   "metadata": {},
   "outputs": [
    {
     "name": "stdout",
     "output_type": "stream",
     "text": [
      "<model name=\"default_imu\">\n",
      "  <pose frame=\"\">0 0 0 0 -0 0</pose>\n",
      "  <static>0</static>\n",
      "  <self_collide>0</self_collide>\n",
      "  <allow_auto_disable>0</allow_auto_disable>\n",
      "  <link name=\"imu_link\">\n",
      "    <collision name=\"collision\">\n",
      "      <geometry>\n",
      "        <box>\n",
      "          <size>0.1 0.1 0.1</size>\n",
      "        </box>\n",
      "      </geometry>\n",
      "      <pose frame=\"\">0 0 0 0 -0 0</pose>\n",
      "    </collision>\n",
      "    <visual name=\"visual\">\n",
      "      <geometry>\n",
      "        <box>\n",
      "          <size>0.1 0.1 0.1</size>\n",
      "        </box>\n",
      "      </geometry>\n",
      "      <pose frame=\"\">0 0 0 0 -0 0</pose>\n",
      "      <cast_shadows>1</cast_shadows>\n",
      "      <transparency>0.0</transparency>\n",
      "    </visual>\n",
      "    <sensor name=\"imu\" type=\"imu\">\n",
      "      <always_on>1</always_on>\n",
      "      <visualize>1</visualize>\n",
      "      <pose frame=\"\">0 0 0 0 -0 0</pose>\n",
      "      <topic>/imu</topic>\n",
      "      <update_rate>50.0</update_rate>\n",
      "      <plugin name=\"imu\" filename=\"libgazebo_ros_imu_sensor.so\">\n",
      "        <robotNamespace></robotNamespace>\n",
      "        <alwaysOn>1</alwaysOn>\n",
      "        <updateRateHZ>50</updateRateHZ>\n",
      "        <bodyName>imu_link</bodyName>\n",
      "        <topicName>/imu</topicName>\n",
      "        <gaussianNoise>0</gaussianNoise>\n",
      "        <frameName>world</frameName>\n",
      "      </plugin>\n",
      "      <imu>\n",
      "        <topic>/imu</topic>\n",
      "        <angular_velocity>\n",
      "          <x>\n",
      "            <noise type=\"none\">\n",
      "              <mean>0.0</mean>\n",
      "              <stddev>0.0</stddev>\n",
      "              <bias_mean>0.0</bias_mean>\n",
      "              <bias_stddev>0.0</bias_stddev>\n",
      "              <precision>0.0</precision>\n",
      "            </noise>\n",
      "          </x>\n",
      "          <y>\n",
      "            <noise type=\"none\">\n",
      "              <mean>0.0</mean>\n",
      "              <stddev>0.0</stddev>\n",
      "              <bias_mean>0.0</bias_mean>\n",
      "              <bias_stddev>0.0</bias_stddev>\n",
      "              <precision>0.0</precision>\n",
      "            </noise>\n",
      "          </y>\n",
      "          <z>\n",
      "            <noise type=\"none\">\n",
      "              <mean>0.0</mean>\n",
      "              <stddev>0.0</stddev>\n",
      "              <bias_mean>0.0</bias_mean>\n",
      "              <bias_stddev>0.0</bias_stddev>\n",
      "              <precision>0.0</precision>\n",
      "            </noise>\n",
      "          </z>\n",
      "        </angular_velocity>\n",
      "        <linear_acceleration>\n",
      "          <x>\n",
      "            <noise type=\"none\">\n",
      "              <mean>0.0</mean>\n",
      "              <stddev>0.0</stddev>\n",
      "              <bias_mean>0.0</bias_mean>\n",
      "              <bias_stddev>0.0</bias_stddev>\n",
      "              <precision>0.0</precision>\n",
      "            </noise>\n",
      "          </x>\n",
      "          <y>\n",
      "            <noise type=\"none\">\n",
      "              <mean>0.0</mean>\n",
      "              <stddev>0.0</stddev>\n",
      "              <bias_mean>0.0</bias_mean>\n",
      "              <bias_stddev>0.0</bias_stddev>\n",
      "              <precision>0.0</precision>\n",
      "            </noise>\n",
      "          </y>\n",
      "          <z>\n",
      "            <noise type=\"none\">\n",
      "              <mean>0.0</mean>\n",
      "              <stddev>0.0</stddev>\n",
      "              <bias_mean>0.0</bias_mean>\n",
      "              <bias_stddev>0.0</bias_stddev>\n",
      "              <precision>0.0</precision>\n",
      "            </noise>\n",
      "          </z>\n",
      "        </linear_acceleration>\n",
      "      </imu>\n",
      "    </sensor>\n",
      "    <inertial>\n",
      "      <inertia>\n",
      "        <ixx>1.6666666666666667e-05</ixx>\n",
      "        <iyy>1.6666666666666667e-05</iyy>\n",
      "        <izz>1.6666666666666667e-05</izz>\n",
      "        <ixy>0.0</ixy>\n",
      "        <ixz>0.0</ixz>\n",
      "        <iyz>0.0</iyz>\n",
      "      </inertia>\n",
      "      <pose frame=\"\">0 0 0 0 -0 0</pose>\n",
      "      <mass>0.01</mass>\n",
      "    </inertial>\n",
      "    <pose frame=\"\">0 0 0 0 -0 0</pose>\n",
      "  </link>\n",
      "</model>\n",
      "\n"
     ]
    },
    {
     "data": {
      "text/plain": [
       "True"
      ]
     },
     "execution_count": 4,
     "metadata": {},
     "output_type": "execute_result"
    }
   ],
   "source": [
    "imu_model = SimulationModel(name='default_imu')\n",
    "\n",
    "# Default IMU sensor\n",
    "imu_model.add_imu_sensor(\n",
    "    add_visual=True, \n",
    "    add_collision=True, \n",
    "    visualize=True,\n",
    "    mass=0.01,\n",
    "    size=[0.1, 0.1, 0.1],\n",
    "    topic='/imu',\n",
    "    link_shape='cuboid',\n",
    "    link_name='imu_link')\n",
    "\n",
    "print(imu_model.to_sdf())\n",
    "\n",
    "# Spawn IMU standalone model\n",
    "generator.spawn_model(model=imu_model, robot_namespace='default_imu', pos=[0, 0, 0.05])"
   ]
  },
  {
   "cell_type": "code",
   "execution_count": 5,
   "metadata": {},
   "outputs": [
    {
     "name": "stdout",
     "output_type": "stream",
     "text": [
      "List of ROS topics:\n",
      " - /clock\n",
      " - /gazebo/link_states\n",
      " - /gazebo/model_states\n",
      " - /gazebo/parameter_descriptions\n",
      " - /gazebo/parameter_updates\n",
      " - /gazebo/set_link_state\n",
      " - /gazebo/set_model_state\n",
      " - /imu\n",
      " - /rosout\n",
      " - /rosout_agg\n"
     ]
    }
   ],
   "source": [
    "print('List of ROS topics:')\n",
    "for topic in simulation.get_rostopic_list():\n",
    "    print(' - ' + topic)"
   ]
  },
  {
   "cell_type": "markdown",
   "metadata": {},
   "source": [
    "### Standalone ray sensor"
   ]
  },
  {
   "cell_type": "code",
   "execution_count": 6,
   "metadata": {},
   "outputs": [
    {
     "name": "stdout",
     "output_type": "stream",
     "text": [
      "<model name=\"default_ray\">\n",
      "  <pose frame=\"\">0 0 0 0 -0 0</pose>\n",
      "  <static>0</static>\n",
      "  <self_collide>0</self_collide>\n",
      "  <allow_auto_disable>0</allow_auto_disable>\n",
      "  <link name=\"ray_link\">\n",
      "    <collision name=\"collision\">\n",
      "      <geometry>\n",
      "        <sphere>\n",
      "          <radius>0.05</radius>\n",
      "        </sphere>\n",
      "      </geometry>\n",
      "      <pose frame=\"\">0 0 0 0 -0 0</pose>\n",
      "    </collision>\n",
      "    <visual name=\"visual\">\n",
      "      <geometry>\n",
      "        <sphere>\n",
      "          <radius>0.05</radius>\n",
      "        </sphere>\n",
      "      </geometry>\n",
      "      <pose frame=\"\">0 0 0 0 -0 0</pose>\n",
      "      <cast_shadows>1</cast_shadows>\n",
      "      <transparency>0.0</transparency>\n",
      "    </visual>\n",
      "    <sensor name=\"ray\" type=\"ray\">\n",
      "      <always_on>1</always_on>\n",
      "      <visualize>0</visualize>\n",
      "      <pose frame=\"\">0 0 0 0 -0 0</pose>\n",
      "      <topic>/scan</topic>\n",
      "      <update_rate>50.0</update_rate>\n",
      "      <ray>\n",
      "        <noise type=\"none\">\n",
      "          <mean>0.0</mean>\n",
      "          <stddev>0.0</stddev>\n",
      "          <bias_mean>0</bias_mean>\n",
      "          <bias_stddev>0</bias_stddev>\n",
      "          <precision>0</precision>\n",
      "        </noise>\n",
      "        <range>\n",
      "          <min>0.05</min>\n",
      "          <max>10.0</max>\n",
      "          <resolution>0.001</resolution>\n",
      "        </range>\n",
      "        <scan>\n",
      "          <horizontal>\n",
      "            <samples>640</samples>\n",
      "            <resolution>1.0</resolution>\n",
      "            <min_angle>-1.5707963267948966</min_angle>\n",
      "            <max_angle>1.5707963267948966</max_angle>\n",
      "          </horizontal>\n",
      "          <vertical>\n",
      "            <samples>1</samples>\n",
      "            <resolution>1.0</resolution>\n",
      "            <min_angle>0.0</min_angle>\n",
      "            <max_angle>0.0</max_angle>\n",
      "          </vertical>\n",
      "        </scan>\n",
      "      </ray>\n",
      "    </sensor>\n",
      "    <inertial>\n",
      "      <inertia>\n",
      "        <ixx>1.0000000000000003e-05</ixx>\n",
      "        <iyy>1.0000000000000003e-05</iyy>\n",
      "        <izz>1.0000000000000003e-05</izz>\n",
      "        <ixy>0.0</ixy>\n",
      "        <ixz>0.0</ixz>\n",
      "        <iyz>0.0</iyz>\n",
      "      </inertia>\n",
      "      <pose frame=\"\">0 0 0 0 -0 0</pose>\n",
      "      <mass>0.01</mass>\n",
      "    </inertial>\n",
      "    <pose frame=\"\">0 0 0 0 -0 0</pose>\n",
      "  </link>\n",
      "</model>\n",
      "\n"
     ]
    },
    {
     "data": {
      "text/plain": [
       "True"
      ]
     },
     "execution_count": 6,
     "metadata": {},
     "output_type": "execute_result"
    }
   ],
   "source": [
    "ray_model = SimulationModel(name='default_ray')\n",
    "\n",
    "# Default ray sensor\n",
    "ray_model.add_ray_sensor(\n",
    "    add_visual=True, \n",
    "    add_collision=True, \n",
    "    add_ros_plugin=False,\n",
    "    mass=0.01,\n",
    "    radius=0.05,\n",
    "    link_shape='spherical',    \n",
    "    link_name='ray_link')\n",
    "\n",
    "print(ray_model.to_sdf())\n",
    "\n",
    "# Spawn ray sensor standalone model\n",
    "generator.spawn_model(model=ray_model, robot_namespace='default_ray', pos=[0, 0.3, 0.05])"
   ]
  },
  {
   "cell_type": "code",
   "execution_count": 7,
   "metadata": {},
   "outputs": [
    {
     "name": "stdout",
     "output_type": "stream",
     "text": [
      "List of ROS topics:\n",
      " - /clock\n",
      " - /gazebo/link_states\n",
      " - /gazebo/model_states\n",
      " - /gazebo/parameter_descriptions\n",
      " - /gazebo/parameter_updates\n",
      " - /gazebo/set_link_state\n",
      " - /gazebo/set_model_state\n",
      " - /imu\n",
      " - /rosout\n",
      " - /rosout_agg\n"
     ]
    }
   ],
   "source": [
    "print('List of ROS topics:')\n",
    "for topic in simulation.get_rostopic_list():\n",
    "    print(' - ' + topic)"
   ]
  },
  {
   "cell_type": "markdown",
   "metadata": {},
   "source": [
    "### Standalone contact sensor"
   ]
  },
  {
   "cell_type": "code",
   "execution_count": 8,
   "metadata": {},
   "outputs": [
    {
     "name": "stdout",
     "output_type": "stream",
     "text": [
      "<model name=\"contact_standalone\">\n",
      "  <pose frame=\"\">0 0 0 0 -0 0</pose>\n",
      "  <static>0</static>\n",
      "  <self_collide>0</self_collide>\n",
      "  <allow_auto_disable>0</allow_auto_disable>\n",
      "  <link name=\"contact_link\">\n",
      "    <collision name=\"collision\">\n",
      "      <geometry>\n",
      "        <cylinder>\n",
      "          <radius>0.05</radius>\n",
      "          <length>0.1</length>\n",
      "        </cylinder>\n",
      "      </geometry>\n",
      "      <pose frame=\"\">0 0 0 0 -0 0</pose>\n",
      "    </collision>\n",
      "    <visual name=\"visual\">\n",
      "      <geometry>\n",
      "        <cylinder>\n",
      "          <radius>0.05</radius>\n",
      "          <length>0.1</length>\n",
      "        </cylinder>\n",
      "      </geometry>\n",
      "      <pose frame=\"\">0 0 0 0 -0 0</pose>\n",
      "      <cast_shadows>1</cast_shadows>\n",
      "      <transparency>0.0</transparency>\n",
      "    </visual>\n",
      "    <sensor name=\"contact\" type=\"contact\">\n",
      "      <always_on>1</always_on>\n",
      "      <visualize>0</visualize>\n",
      "      <pose frame=\"\">0 0 0 0 -0 0</pose>\n",
      "      <topic>/bumper</topic>\n",
      "      <update_rate>50.0</update_rate>\n",
      "      <plugin name=\"contact\" filename=\"libgazebo_ros_bumper.so\">\n",
      "        <robotNamespace></robotNamespace>\n",
      "        <frameName>world</frameName>\n",
      "        <bumperTopicName>/bumper</bumperTopicName>\n",
      "      </plugin>\n",
      "      <contact>\n",
      "        <collision>collision</collision>\n",
      "        <topic>/bumper</topic>\n",
      "      </contact>\n",
      "    </sensor>\n",
      "    <inertial>\n",
      "      <inertia>\n",
      "        <ixx>1.4583333333333333e-05</ixx>\n",
      "        <iyy>1.4583333333333333e-05</iyy>\n",
      "        <izz>1.2500000000000002e-05</izz>\n",
      "        <ixy>0.0</ixy>\n",
      "        <ixz>0.0</ixz>\n",
      "        <iyz>0.0</iyz>\n",
      "      </inertia>\n",
      "      <pose frame=\"\">0 0 0 0 -0 0</pose>\n",
      "      <mass>0.01</mass>\n",
      "    </inertial>\n",
      "    <pose frame=\"\">0 0 0 0 -0 0</pose>\n",
      "  </link>\n",
      "</model>\n",
      "\n"
     ]
    },
    {
     "data": {
      "text/plain": [
       "True"
      ]
     },
     "execution_count": 8,
     "metadata": {},
     "output_type": "execute_result"
    }
   ],
   "source": [
    "contact_sensor = SimulationModel(name='contact_standalone')\n",
    "\n",
    "contact_sensor.add_contact_sensor(\n",
    "    add_visual=True, \n",
    "    add_collision=True, \n",
    "    add_ros_plugin=True,\n",
    "    mass=0.01,\n",
    "    radius=0.05,\n",
    "    length=0.1,\n",
    "    link_shape='cylindrical',\n",
    "    link_name='contact_link')\n",
    "\n",
    "print(contact_sensor.to_sdf())\n",
    "\n",
    "# Spawn ray sensor standalone model\n",
    "generator.spawn_model(model=contact_sensor, robot_namespace='contact_standalone', pos=[0, 0.6, 0.05])"
   ]
  },
  {
   "cell_type": "markdown",
   "metadata": {},
   "source": [
    "### Standalone camera\n"
   ]
  },
  {
   "cell_type": "code",
   "execution_count": 9,
   "metadata": {},
   "outputs": [
    {
     "name": "stdout",
     "output_type": "stream",
     "text": [
      "<model name=\"camera_standalone\">\n",
      "  <pose frame=\"\">0 0 0 0 -0 0</pose>\n",
      "  <static>1</static>\n",
      "  <self_collide>0</self_collide>\n",
      "  <allow_auto_disable>0</allow_auto_disable>\n",
      "  <link name=\"camera_link\">\n",
      "    <collision name=\"collision\">\n",
      "      <geometry>\n",
      "        <box>\n",
      "          <size>0.1 0.1 0.1</size>\n",
      "        </box>\n",
      "      </geometry>\n",
      "      <pose frame=\"\">0 0 0 0 -0 0</pose>\n",
      "    </collision>\n",
      "    <visual name=\"visual\">\n",
      "      <geometry>\n",
      "        <box>\n",
      "          <size>0.1 0.1 0.1</size>\n",
      "        </box>\n",
      "      </geometry>\n",
      "      <pose frame=\"\">0 0 0 0 -0 0</pose>\n",
      "      <cast_shadows>1</cast_shadows>\n",
      "      <transparency>0.0</transparency>\n",
      "    </visual>\n",
      "    <sensor name=\"camera\" type=\"camera\">\n",
      "      <always_on>1</always_on>\n",
      "      <visualize>1</visualize>\n",
      "      <pose frame=\"\">0 0 0 0 -0 0</pose>\n",
      "      <topic>/camera</topic>\n",
      "      <update_rate>50.0</update_rate>\n",
      "      <plugin name=\"camera\" filename=\"libgazebo_ros_camera.so\">\n",
      "        <robotNamespace></robotNamespace>\n",
      "        <updateRate>0</updateRate>\n",
      "        <cameraName>camera</cameraName>\n",
      "        <imageTopicName>image_raw</imageTopicName>\n",
      "        <cameraInfoTopicName>camera_info</cameraInfoTopicName>\n",
      "        <frameName>camera_link</frameName>\n",
      "        <hackBaseline>0.07</hackBaseline>\n",
      "        <distortionK1>0</distortionK1>\n",
      "        <distortionK2>0</distortionK2>\n",
      "        <distortionK3>0</distortionK3>\n",
      "        <distortionT1>0</distortionT1>\n",
      "        <distortionT2>0</distortionT2>\n",
      "      </plugin>\n",
      "      <camera name=\"camera\">\n",
      "        <noise type=\"none\">\n",
      "          <mean>0.0</mean>\n",
      "          <stddev>0.0</stddev>\n",
      "          <bias_mean>0.0</bias_mean>\n",
      "          <bias_stddev>0.0</bias_stddev>\n",
      "          <precision>0.0</precision>\n",
      "        </noise>\n",
      "        <horizontal_fov>1.047</horizontal_fov>\n",
      "        <image>\n",
      "          <height>240.0</height>\n",
      "          <width>320.0</width>\n",
      "          <format>R8G8B8</format>\n",
      "        </image>\n",
      "        <clip>\n",
      "          <far>100.0</far>\n",
      "          <near>0.1</near>\n",
      "        </clip>\n",
      "        <save enabled=\"False\">\n",
      "          <path>__default__</path>\n",
      "        </save>\n",
      "        <depth_camera>\n",
      "          <output>depths</output>\n",
      "        </depth_camera>\n",
      "        <distortion>\n",
      "          <k1>0.0</k1>\n",
      "          <k2>0.0</k2>\n",
      "          <k3>0.0</k3>\n",
      "          <p1>0.0</p1>\n",
      "          <p2>0.0</p2>\n",
      "          <center>0.5 0.5</center>\n",
      "        </distortion>\n",
      "      </camera>\n",
      "    </sensor>\n",
      "    <inertial>\n",
      "      <inertia>\n",
      "        <ixx>1.6666666666666667e-05</ixx>\n",
      "        <iyy>1.6666666666666667e-05</iyy>\n",
      "        <izz>1.6666666666666667e-05</izz>\n",
      "        <ixy>0.0</ixy>\n",
      "        <ixz>0.0</ixz>\n",
      "        <iyz>0.0</iyz>\n",
      "      </inertia>\n",
      "      <pose frame=\"\">0 0 0 0 -0 0</pose>\n",
      "      <mass>0.01</mass>\n",
      "    </inertial>\n",
      "    <pose frame=\"\">0 0 0 0 -0 0</pose>\n",
      "  </link>\n",
      "</model>\n",
      "\n"
     ]
    },
    {
     "data": {
      "text/plain": [
       "True"
      ]
     },
     "execution_count": 9,
     "metadata": {},
     "output_type": "execute_result"
    }
   ],
   "source": [
    "camera_sensor = SimulationModel(name='camera_standalone')\n",
    "camera_sensor.static = True\n",
    "\n",
    "camera_sensor.add_camera_sensor(\n",
    "    add_visual=True, \n",
    "    add_collision=True, \n",
    "    add_ros_plugin=True,\n",
    "    visualize=True,\n",
    "    mass=0.01,\n",
    "    size=[0.1, 0.1, 0.1],\n",
    "    link_shape='cuboid',\n",
    "    link_name='camera_link')\n",
    "\n",
    "print(camera_sensor.to_sdf())\n",
    "\n",
    "# Spawn camera standalone model\n",
    "generator.spawn_model(model=camera_sensor, robot_namespace='camera_standalone', pos=[0, 0.9, 0.5])"
   ]
  },
  {
   "cell_type": "code",
   "execution_count": 10,
   "metadata": {},
   "outputs": [
    {
     "name": "stdout",
     "output_type": "stream",
     "text": [
      "List of ROS topics:\n",
      " - /bumper\n",
      " - /clock\n",
      " - /gazebo/link_states\n",
      " - /gazebo/model_states\n",
      " - /gazebo/parameter_descriptions\n",
      " - /gazebo/parameter_updates\n",
      " - /gazebo/set_link_state\n",
      " - /gazebo/set_model_state\n",
      " - /imu\n",
      " - /rosout\n",
      " - /rosout_agg\n"
     ]
    }
   ],
   "source": [
    "print('List of ROS topics:')\n",
    "for topic in simulation.get_rostopic_list():\n",
    "    print(' - ' + topic)"
   ]
  },
  {
   "cell_type": "code",
   "execution_count": 11,
   "metadata": {},
   "outputs": [],
   "source": [
    "# End the simulation by killing the Gazebo task\n",
    "simulation.kill_all_tasks()"
   ]
  },
  {
   "cell_type": "markdown",
   "metadata": {},
   "source": [
    "![sensors](images/sensors.png)"
   ]
  },
  {
   "cell_type": "code",
   "execution_count": null,
   "metadata": {},
   "outputs": [],
   "source": []
  }
 ],
 "metadata": {
  "kernelspec": {
   "display_name": "Python 3",
   "language": "python",
   "name": "python3"
  },
  "language_info": {
   "codemirror_mode": {
    "name": "ipython",
    "version": 3
   },
   "file_extension": ".py",
   "mimetype": "text/x-python",
   "name": "python",
   "nbconvert_exporter": "python",
   "pygments_lexer": "ipython3",
   "version": "3.6.9"
  }
 },
 "nbformat": 4,
 "nbformat_minor": 4
}
