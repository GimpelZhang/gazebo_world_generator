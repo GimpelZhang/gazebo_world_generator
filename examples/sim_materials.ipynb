{
 "cells": [
  {
   "cell_type": "markdown",
   "metadata": {},
   "source": [
    "# Visual properties"
   ]
  },
  {
   "cell_type": "code",
   "execution_count": 1,
   "metadata": {},
   "outputs": [],
   "source": [
    "from pcg_gazebo.simulation import create_object\n",
    "from pcg_gazebo.generators import WorldGenerator\n",
    "from time import sleep\n",
    "import random"
   ]
  },
  {
   "cell_type": "code",
   "execution_count": 2,
   "metadata": {},
   "outputs": [],
   "source": [
    "# If there is a Gazebo instance running, you can spawn the box into the simulation\n",
    "from pcg_gazebo.task_manager import Server\n",
    "# First create a simulation server\n",
    "server = Server()\n"
   ]
  },
  {
   "cell_type": "markdown",
   "metadata": {},
   "source": [
    "## Transparency"
   ]
  },
  {
   "cell_type": "code",
   "execution_count": 3,
   "metadata": {},
   "outputs": [],
   "source": [
    "obj = create_object('box')\n",
    "obj.size = [1, 1, 1]\n",
    "obj.add_inertial(30)"
   ]
  },
  {
   "cell_type": "code",
   "execution_count": 4,
   "metadata": {},
   "outputs": [
    {
     "name": "stdout",
     "output_type": "stream",
     "text": [
      "<model name=\"box\">\n",
      "  <pose frame=\"\">0 0 0 0 -0 0</pose>\n",
      "  <allow_auto_disable>0</allow_auto_disable>\n",
      "  <static>0</static>\n",
      "  <link name=\"box\">\n",
      "    <inertial>\n",
      "      <mass>30.0</mass>\n",
      "      <pose frame=\"\">0 0 0 0 -0 0</pose>\n",
      "      <inertia>\n",
      "        <izz>5.0</izz>\n",
      "        <ixz>0.0</ixz>\n",
      "        <iyz>0.0</iyz>\n",
      "        <iyy>5.0</iyy>\n",
      "        <ixx>5.0</ixx>\n",
      "        <ixy>0.0</ixy>\n",
      "      </inertia>\n",
      "    </inertial>\n",
      "    <self_collide>0</self_collide>\n",
      "    <visual name=\"visual\">\n",
      "      <geometry>\n",
      "        <box>\n",
      "          <size>1 1 1</size>\n",
      "        </box>\n",
      "      </geometry>\n",
      "      <pose frame=\"\">0 0 0 0 -0 0</pose>\n",
      "      <cast_shadows>1</cast_shadows>\n",
      "      <transparency>0.0</transparency>\n",
      "    </visual>\n",
      "    <collision name=\"collision\">\n",
      "      <geometry>\n",
      "        <box>\n",
      "          <size>1 1 1</size>\n",
      "        </box>\n",
      "      </geometry>\n",
      "      <pose frame=\"\">0 0 0 0 -0 0</pose>\n",
      "    </collision>\n",
      "    <gravity>1</gravity>\n",
      "    <kinematic>0</kinematic>\n",
      "  </link>\n",
      "</model>\n",
      "\n"
     ]
    }
   ],
   "source": [
    "# Print the initial state of a box in the model option\n",
    "print(obj.to_sdf('model'))"
   ]
  },
  {
   "cell_type": "code",
   "execution_count": 5,
   "metadata": {},
   "outputs": [
    {
     "name": "stdout",
     "output_type": "stream",
     "text": [
      "<model name=\"box\">\n",
      "  <pose frame=\"\">0 0 0 0 -0 0</pose>\n",
      "  <allow_auto_disable>0</allow_auto_disable>\n",
      "  <static>0</static>\n",
      "  <link name=\"box\">\n",
      "    <inertial>\n",
      "      <mass>30.0</mass>\n",
      "      <pose frame=\"\">0 0 0 0 -0 0</pose>\n",
      "      <inertia>\n",
      "        <izz>5.0</izz>\n",
      "        <ixz>0.0</ixz>\n",
      "        <iyz>0.0</iyz>\n",
      "        <iyy>5.0</iyy>\n",
      "        <ixx>5.0</ixx>\n",
      "        <ixy>0.0</ixy>\n",
      "      </inertia>\n",
      "    </inertial>\n",
      "    <self_collide>0</self_collide>\n",
      "    <visual name=\"visual\">\n",
      "      <geometry>\n",
      "        <box>\n",
      "          <size>1 1 1</size>\n",
      "        </box>\n",
      "      </geometry>\n",
      "      <pose frame=\"\">0 0 0 0 -0 0</pose>\n",
      "      <cast_shadows>1</cast_shadows>\n",
      "      <transparency>0.8</transparency>\n",
      "    </visual>\n",
      "    <collision name=\"collision\">\n",
      "      <geometry>\n",
      "        <box>\n",
      "          <size>1 1 1</size>\n",
      "        </box>\n",
      "      </geometry>\n",
      "      <pose frame=\"\">0 0 0 0 -0 0</pose>\n",
      "    </collision>\n",
      "    <gravity>1</gravity>\n",
      "    <kinematic>0</kinematic>\n",
      "  </link>\n",
      "</model>\n",
      "\n"
     ]
    }
   ],
   "source": [
    "obj.visual.transparency = 0.8\n",
    "print(obj.to_sdf('model'))"
   ]
  },
  {
   "cell_type": "code",
   "execution_count": 6,
   "metadata": {},
   "outputs": [
    {
     "name": "stdout",
     "output_type": "stream",
     "text": [
      "2020-09-11 10:01:38,232 | WARNING | __init__ | Error testing Gazebo server, message=Command '['rostopic', 'list']' returned non-zero exit status 1\n",
      "['gazebo']\n",
      "Is Gazebo running: False\n",
      "2020-09-11 10:01:38,485 | WARNING | __init__ | Error testing Gazebo server, message=Command '['rostopic', 'list']' returned non-zero exit status 1\n",
      "2020-09-11 10:01:38,485 | WARNING | __init__ | Error testing roscore, message=Command '['rostopic', 'list']' returned non-zero exit status 1\n",
      "2020-09-11 10:01:38,725 | WARNING | __init__ | Error testing roscore, message=Command '['rostopic', 'list']' returned non-zero exit status 1\n",
      "2020-09-11 10:01:38,978 | WARNING | __init__ | Error testing roscore, message=Command '['rostopic', 'list']' returned non-zero exit status 1\n",
      "line 93.\n",
      "line 104.\n",
      "line 105.\n",
      "line 109.\n",
      "line 111.\n",
      "line 109.\n",
      "line 111.\n",
      "line 106.\n",
      "line 107.\n",
      "line 109.\n",
      "line 111.\n",
      "line 109.\n",
      "line 111.\n",
      "line 108.\n",
      "line 94.\n",
      "line 101.\n",
      "line 102.\n",
      "line 104.\n",
      "line 107.\n",
      "line 109.\n",
      "line 111.\n",
      "line 109.\n",
      "line 111.\n",
      "line 108.\n",
      "line 103.\n",
      "line 95.\n",
      "line 96.\n",
      "line 88.\n",
      "line 89.\n",
      "default\n",
      "line 90.\n",
      "line 91.\n",
      "line 92.\n"
     ]
    }
   ],
   "source": [
    "# Create a simulation manager named default\n",
    "server.create_simulation('transparency')\n",
    "simulation = server.get_simulation('transparency')\n",
    "# Run an instance of the empty.world scenario\n",
    "# This is equivalent to run\n",
    "#      roslaunch gazebo_ros empty_world.launch\n",
    "# with all default parameters\n",
    "simulation.create_gazebo_empty_world_task()\n",
    "# A task named 'gazebo' the added to the tasks list\n",
    "print(simulation.get_task_list())\n",
    "# But it is still not running\n",
    "print('Is Gazebo running: {}'.format(simulation.is_task_running('gazebo')))\n",
    "# Run Gazebo\n",
    "simulation.run_all_tasks()\n",
    "\n",
    "# Create a Gazebo proxy\n",
    "gazebo_proxy = simulation.get_gazebo_proxy()\n",
    "\n",
    "# Use the generator to spawn the model to the Gazebo instance running at the moment\n",
    "generator = WorldGenerator(gazebo_proxy=gazebo_proxy)"
   ]
  },
  {
   "cell_type": "code",
   "execution_count": 7,
   "metadata": {},
   "outputs": [],
   "source": [
    "t = [0.1, 0.3, 0.5, 0.7, 1.0] \n",
    "for i in range(len(t)):\n",
    "    obj.visual.transparency = t[i]\n",
    "    \n",
    "    generator.spawn_model(model=obj, robot_namespace='box_transparency_{}'.format(t[i]), pos=[0, i * 1.5, 2])"
   ]
  },
  {
   "cell_type": "code",
   "execution_count": 8,
   "metadata": {},
   "outputs": [
    {
     "name": "stdout",
     "output_type": "stream",
     "text": [
      "2020-09-11 10:03:19,875 | WARNING | task | Task <gazebo> - Killing process tree...\n",
      "2020-09-11 10:03:19,906 | WARNING | task | Sending SIGINT to child process id=21333\n",
      "2020-09-11 10:03:19,908 | WARNING | task | Child process 21333 still running\n",
      "2020-09-11 10:03:19,911 | WARNING | task | Sending SIGINT to child process id=21360\n",
      "2020-09-11 10:03:19,913 | WARNING | task | Child process 21360 still running\n",
      "2020-09-11 10:03:19,914 | WARNING | task | Sending SIGINT to child process id=21355\n",
      "2020-09-11 10:03:19,916 | WARNING | task | Child process 21355 still running\n",
      "2020-09-11 10:03:19,917 | WARNING | task | Sending SIGINT to child process id=21423\n",
      "2020-09-11 10:03:19,918 | WARNING | task | Child process 21423 still running\n",
      "2020-09-11 10:03:19,919 | WARNING | task | Sending SIGINT to child process id=21429\n",
      "2020-09-11 10:03:19,920 | WARNING | task | Child process 21429 still running\n",
      "2020-09-11 10:03:19,921 | WARNING | task | Sending SIGINT to child process id=21332\n",
      "2020-09-11 10:03:19,922 | WARNING | task | Child process 21332 still running\n",
      "2020-09-11 10:03:20,795 | WARNING | task | Process 21429 already terminated\n",
      "2020-09-11 10:03:21,012 | WARNING | task | Process 21360 already terminated\n",
      "2020-09-11 10:03:35,088 | WARNING | task | Process 21423 already terminated\n",
      "2020-09-11 10:03:35,262 | WARNING | task | Process 21332 already terminated\n",
      "2020-09-11 10:03:35,263 | WARNING | task | Process 21333 already terminated\n",
      "2020-09-11 10:03:35,264 | WARNING | task | Process 21355 already terminated\n",
      "2020-09-11 10:03:35,265 | WARNING | task | Kill processes=\n",
      "\t - Gone=[psutil.Process(pid=21423, status='terminated', started='10:01:39'), psutil.Process(pid=21360, status='terminated', started='10:01:39'), psutil.Process(pid=21332, status='terminated', exitcode=<Negsignal.SIGINT: -2>, started='10:01:38'), psutil.Process(pid=21333, status='terminated', started='10:01:38'), psutil.Process(pid=21355, status='terminated', started='10:01:39'), psutil.Process(pid=21429, status='terminated', started='10:01:39')]\n",
      "\t - Alive[]\n",
      "2020-09-11 10:03:35,265 | WARNING | task | Task <roscore> - Killing process tree...\n",
      "2020-09-11 10:03:35,273 | WARNING | task | Sending SIGINT to child process id=21269\n",
      "2020-09-11 10:03:35,274 | WARNING | task | Child process 21269 still running\n",
      "2020-09-11 10:03:35,275 | WARNING | task | Sending SIGINT to child process id=21301\n",
      "2020-09-11 10:03:35,276 | WARNING | task | Child process 21301 still running\n",
      "2020-09-11 10:03:35,277 | WARNING | task | Sending SIGINT to child process id=21284\n",
      "2020-09-11 10:03:35,278 | WARNING | task | Child process 21284 still running\n",
      "2020-09-11 10:03:35,279 | WARNING | task | Sending SIGINT to child process id=21268\n",
      "2020-09-11 10:03:35,280 | WARNING | task | Child process 21268 still running\n",
      "2020-09-11 10:03:35,632 | WARNING | task | Process 21268 already terminated\n",
      "2020-09-11 10:03:35,633 | WARNING | task | Process 21301 already terminated\n",
      "2020-09-11 10:03:35,634 | WARNING | task | Process 21284 already terminated\n",
      "2020-09-11 10:03:35,634 | WARNING | task | Process 21269 already terminated\n",
      "2020-09-11 10:03:35,635 | WARNING | task | Kill processes=\n",
      "\t - Gone=[psutil.Process(pid=21269, status='terminated', started='10:01:37'), psutil.Process(pid=21268, status='terminated', exitcode=<Negsignal.SIGINT: -2>, started='10:01:37'), psutil.Process(pid=21301, status='terminated', started='10:01:38'), psutil.Process(pid=21284, status='terminated', started='10:01:37')]\n",
      "\t - Alive[]\n",
      "2020-09-11 10:03:35,635 | WARNING | process_manager | Required task <roscore> has been terminated, killing all tasks\n",
      "2020-09-11 10:03:35,636 | WARNING | task | Task <gazebo> - Process object is invalid\n"
     ]
    }
   ],
   "source": [
    "# End the simulation by killing the Gazebo task\n",
    "sleep(5)\n",
    "simulation.kill_all_tasks()"
   ]
  },
  {
   "cell_type": "markdown",
   "metadata": {},
   "source": [
    "![transparency](images/transparency.png)"
   ]
  },
  {
   "cell_type": "markdown",
   "metadata": {},
   "source": [
    "## Gazebo materials"
   ]
  },
  {
   "cell_type": "code",
   "execution_count": 9,
   "metadata": {},
   "outputs": [
    {
     "name": "stdout",
     "output_type": "stream",
     "text": [
      "['Gazebo/Grey', 'Gazebo/DarkGrey', 'Gazebo/White', 'Gazebo/FlatBlack', 'Gazebo/Black', 'Gazebo/Red', 'Gazebo/RedBright', 'Gazebo/Green', 'Gazebo/Blue', 'Gazebo/SkyBlue', 'Gazebo/Yellow', 'Gazebo/ZincYellow', 'Gazebo/DarkYellow', 'Gazebo/Purple', 'Gazebo/Turquoise', 'Gazebo/Orange', 'Gazebo/Indigo', 'Gazebo/WhiteGlow', 'Gazebo/RedGlow', 'Gazebo/GreenGlow', 'Gazebo/BlueGlow', 'Gazebo/YellowGlow', 'Gazebo/PurpleGlow', 'Gazebo/TurquoiseGlow', 'Gazebo/TurquoiseGlowOutline', 'Gazebo/RedTransparentOverlay', 'Gazebo/BlueTransparentOverlay', 'Gazebo/GreenTransparentOverlay', 'Gazebo/OrangeTransparentOverlay', 'Gazebo/DarkOrangeTransparentOverlay', 'Gazebo/RedTransparent', 'Gazebo/GreenTransparent', 'Gazebo/BlueTransparent', 'Gazebo/DarkMagentaTransparent', 'Gazebo/GreyTransparent', 'Gazebo/BlackTransparent', 'Gazebo/YellowTransparent', 'Gazebo/OrangeTransparent', 'Gazebo/WoodFloor', 'Gazebo/CeilingTiled', 'Gazebo/PaintedWall', 'Gazebo/BuildingFrame', 'Gazebo/Runway', 'Gazebo/Grass']\n"
     ]
    }
   ],
   "source": [
    "from pcg_gazebo.simulation.properties import Material\n",
    "# Find and retrieve all the default Gazebo materials \n",
    "print(Material._GAZEBO_MATERIALS)"
   ]
  },
  {
   "cell_type": "code",
   "execution_count": 10,
   "metadata": {},
   "outputs": [
    {
     "name": "stdout",
     "output_type": "stream",
     "text": [
      "<material>\n",
      "  <script>\n",
      "    <uri>file://media/materials/scripts/gazebo.material</uri>\n",
      "    <name>Gazebo/PurpleGlow</name>\n",
      "  </script>\n",
      "</material>\n",
      "\n"
     ]
    }
   ],
   "source": [
    "print(Material.get_gazebo_material_as_sdf('Gazebo/PurpleGlow'))"
   ]
  },
  {
   "cell_type": "code",
   "execution_count": 11,
   "metadata": {},
   "outputs": [
    {
     "name": "stdout",
     "output_type": "stream",
     "text": [
      "2020-09-11 10:04:52,554 | WARNING | __init__ | Error testing Gazebo server, message=Command '['rostopic', 'list']' returned non-zero exit status 1\n",
      "['gazebo']\n",
      "Is Gazebo running: False\n",
      "2020-09-11 10:04:52,815 | WARNING | __init__ | Error testing roscore, message=Command '['rostopic', 'list']' returned non-zero exit status 1\n",
      "2020-09-11 10:04:52,821 | WARNING | __init__ | Error testing Gazebo server, message=Command '['rostopic', 'list']' returned non-zero exit status 1\n",
      "2020-09-11 10:04:53,059 | WARNING | __init__ | Error testing roscore, message=Command '['rostopic', 'list']' returned non-zero exit status 1\n",
      "2020-09-11 10:04:53,310 | WARNING | __init__ | Error testing roscore, message=Command '['rostopic', 'list']' returned non-zero exit status 1\n",
      "line 93.\n",
      "line 104.\n",
      "line 107.\n",
      "line 109.\n",
      "line 111.\n",
      "line 109.\n",
      "line 111.\n",
      "line 108.\n",
      "line 94.\n",
      "line 101.\n",
      "line 102.\n",
      "line 104.\n",
      "line 107.\n",
      "line 109.\n",
      "line 111.\n",
      "line 109.\n",
      "line 111.\n",
      "line 108.\n",
      "line 103.\n",
      "line 95.\n",
      "line 96.\n",
      "line 88.\n",
      "line 89.\n",
      "default\n",
      "line 90.\n",
      "line 91.\n",
      "line 92.\n"
     ]
    }
   ],
   "source": [
    "# Create a simulation manager named default\n",
    "server.create_simulation('gazebo_materials')\n",
    "simulation = server.get_simulation('gazebo_materials')\n",
    "# Run an instance of the empty.world scenario\n",
    "# This is equivalent to run\n",
    "#      roslaunch gazebo_ros empty_world.launch\n",
    "# with all default parameters\n",
    "simulation.create_gazebo_empty_world_task()\n",
    "# A task named 'gazebo' the added to the tasks list\n",
    "print(simulation.get_task_list())\n",
    "# But it is still not running\n",
    "print('Is Gazebo running: {}'.format(simulation.is_task_running('gazebo')))\n",
    "# Run Gazebo\n",
    "simulation.run_all_tasks()\n",
    "\n",
    "# Create a Gazebo proxy\n",
    "gazebo_proxy = simulation.get_gazebo_proxy()\n",
    "\n",
    "# Use the generator to spawn the model to the Gazebo instance running at the moment\n",
    "generator = WorldGenerator(gazebo_proxy=gazebo_proxy)"
   ]
  },
  {
   "cell_type": "code",
   "execution_count": 12,
   "metadata": {},
   "outputs": [],
   "source": [
    "box = create_object('box')\n",
    "box.size = [1, 1, 1]\n",
    "box.add_inertial(30)\n",
    "box.static = True\n",
    "box.visual.enable_property('material')\n",
    "\n",
    "sphere = create_object('sphere')\n",
    "sphere.radius = 0.5\n",
    "sphere.add_inertial(30)\n",
    "sphere.static = True\n",
    "sphere.visual.enable_property('material')\n",
    "\n",
    "for i in range(len(Material._GAZEBO_MATERIALS)):\n",
    "    box.visual.set_material_script(Material._GAZEBO_MATERIALS[i])\n",
    "    sphere.visual.set_material_script(Material._GAZEBO_MATERIALS[i])\n",
    "        \n",
    "    color_name = Material._GAZEBO_MATERIALS[i].split('/')[-1].lower()\n",
    "    \n",
    "    generator.spawn_model(\n",
    "        model=box, \n",
    "        robot_namespace='box_{}'.format(color_name),\n",
    "        pos=[0, i * 1.5, 0.5])\n",
    "    \n",
    "    generator.spawn_model(\n",
    "        model=sphere, \n",
    "        robot_namespace='sphere_{}'.format(color_name),\n",
    "        pos=[2.0, i * 1.5, 0.5])"
   ]
  },
  {
   "cell_type": "code",
   "execution_count": 13,
   "metadata": {},
   "outputs": [
    {
     "name": "stdout",
     "output_type": "stream",
     "text": [
      "2020-09-11 10:08:24,456 | WARNING | task | Task <gazebo> - Killing process tree...\n",
      "2020-09-11 10:08:24,463 | WARNING | task | Sending SIGINT to child process id=22281\n",
      "2020-09-11 10:08:24,464 | WARNING | task | Child process 22281 still running\n",
      "2020-09-11 10:08:24,464 | WARNING | task | Sending SIGINT to child process id=22302\n",
      "2020-09-11 10:08:24,465 | WARNING | task | Child process 22302 still running\n",
      "2020-09-11 10:08:24,466 | WARNING | task | Sending SIGINT to child process id=22307\n",
      "2020-09-11 10:08:24,466 | WARNING | task | Child process 22307 still running\n",
      "2020-09-11 10:08:24,467 | WARNING | task | Sending SIGINT to child process id=22376\n",
      "2020-09-11 10:08:24,467 | WARNING | task | Child process 22376 still running\n",
      "2020-09-11 10:08:24,468 | WARNING | task | Sending SIGINT to child process id=22370\n",
      "2020-09-11 10:08:24,469 | WARNING | task | Child process 22370 still running\n",
      "2020-09-11 10:08:24,470 | WARNING | task | Sending SIGINT to child process id=22279\n",
      "2020-09-11 10:08:24,470 | WARNING | task | Child process 22279 still running\n",
      "2020-09-11 10:08:25,168 | WARNING | task | Process 22376 already terminated\n",
      "2020-09-11 10:08:25,171 | WARNING | task | Process 22307 already terminated\n",
      "2020-09-11 10:08:39,629 | WARNING | task | Process 22370 already terminated\n",
      "2020-09-11 10:08:39,883 | WARNING | task | Process 22279 already terminated\n",
      "2020-09-11 10:08:39,885 | WARNING | task | Process 22302 already terminated\n",
      "2020-09-11 10:08:39,886 | WARNING | task | Process 22281 already terminated\n",
      "2020-09-11 10:08:39,887 | WARNING | task | Kill processes=\n",
      "\t - Gone=[psutil.Process(pid=22279, status='terminated', exitcode=<Negsignal.SIGINT: -2>, started='10:04:53'), psutil.Process(pid=22302, status='terminated', started='10:04:53'), psutil.Process(pid=22281, status='terminated', started='10:04:53'), psutil.Process(pid=22370, status='terminated', started='10:04:53'), psutil.Process(pid=22376, status='terminated', started='10:04:53'), psutil.Process(pid=22307, status='terminated', started='10:04:53')]\n",
      "\t - Alive[]\n",
      "2020-09-11 10:08:39,888 | WARNING | task | Task <roscore> - Killing process tree...\n",
      "2020-09-11 10:08:39,899 | WARNING | task | Sending SIGINT to child process id=22216\n",
      "2020-09-11 10:08:39,900 | WARNING | task | Child process 22216 still running\n",
      "2020-09-11 10:08:39,901 | WARNING | task | Sending SIGINT to child process id=22248\n",
      "2020-09-11 10:08:39,902 | WARNING | task | Child process 22248 still running\n",
      "2020-09-11 10:08:39,903 | WARNING | task | Sending SIGINT to child process id=22231\n",
      "2020-09-11 10:08:39,904 | WARNING | task | Child process 22231 still running\n",
      "2020-09-11 10:08:39,905 | WARNING | task | Sending SIGINT to child process id=22215\n",
      "2020-09-11 10:08:39,906 | WARNING | task | Child process 22215 still running\n",
      "2020-09-11 10:08:40,381 | WARNING | task | Process 22215 already terminated\n",
      "2020-09-11 10:08:40,382 | WARNING | task | Process 22216 already terminated\n",
      "2020-09-11 10:08:40,383 | WARNING | task | Process 22248 already terminated\n",
      "2020-09-11 10:08:40,384 | WARNING | task | Process 22231 already terminated\n",
      "2020-09-11 10:08:40,385 | WARNING | task | Kill processes=\n",
      "\t - Gone=[psutil.Process(pid=22231, status='terminated', started='10:04:52'), psutil.Process(pid=22215, status='terminated', exitcode=<Negsignal.SIGINT: -2>, started='10:04:51'), psutil.Process(pid=22216, status='terminated', started='10:04:51'), psutil.Process(pid=22248, status='terminated', started='10:04:52')]\n",
      "\t - Alive[]\n",
      "2020-09-11 10:08:40,385 | WARNING | process_manager | Required task <roscore> has been terminated, killing all tasks\n",
      "2020-09-11 10:08:40,386 | WARNING | task | Task <gazebo> - Process object is invalid\n"
     ]
    }
   ],
   "source": [
    "# End the simulation by killing the Gazebo task\n",
    "sleep(5)\n",
    "simulation.kill_all_tasks()"
   ]
  },
  {
   "cell_type": "markdown",
   "metadata": {},
   "source": [
    "![gazebo materials](images/gazebo_materials.png)"
   ]
  },
  {
   "cell_type": "markdown",
   "metadata": {},
   "source": [
    "## XKCD color pallete"
   ]
  },
  {
   "cell_type": "code",
   "execution_count": 14,
   "metadata": {},
   "outputs": [
    {
     "name": "stdout",
     "output_type": "stream",
     "text": [
      "{'butter_yellow': (255, 253, 116), 'bubblegum': (255, 108, 181), 'reddy_brown': (110, 16, 5), 'turquoise_green': (4, 244, 137), 'lemon_yellow': (253, 255, 56), 'dark_blue_green': (0, 82, 73), 'light_mustard': (247, 213, 96), 'steel_blue': (90, 125, 154), 'brown_red': (146, 43, 5), 'camouflage_green': (75, 97, 19), 'fire_engine_red': (254, 0, 2), 'pale': (255, 249, 208), 'jade_green': (43, 175, 106), 'pale_salmon': (255, 177, 154), 'light_mint_green': (166, 251, 178), 'light_plum': (157, 87, 131), 'dark_magenta': (150, 0, 86), 'poo': (143, 115, 3), 'rouge': (171, 18, 57), 'violet_pink': (251, 95, 252), 'pea_green': (142, 171, 18), 'purplish_red': (176, 5, 75), 'sunflower_yellow': (255, 218, 3), 'pig_pink': (231, 142, 165), 'pumpkin_orange': (251, 125, 7), 'bright_lavender': (199, 96, 255), 'blue_blue': (34, 66, 199), 'green/blue': (1, 192, 141), 'dark_tan': (175, 136, 74), 'teal_green': (37, 163, 111), 'bronze': (168, 121, 0), 'lightish_blue': (61, 122, 253), 'squash': (242, 171, 21), 'lightish_purple': (165, 82, 230), 'rust': (168, 60, 9), 'tealish_green': (12, 220, 115), 'auburn': (154, 48, 1), 'purple_brown': (103, 58, 63), 'brown_grey': (141, 132, 104), 'grey': (146, 149, 145), 'brownish_grey': (134, 119, 95), 'purple_pink': (224, 63, 216), 'spring_green': (169, 249, 113), 'shocking_pink': (254, 2, 162), 'light_bright_green': (83, 254, 92), 'baby_puke_green': (182, 196, 6), 'rose': (207, 98, 117), 'pastel_pink': (255, 186, 205), 'mint_green': (143, 255, 159), 'kelley_green': (0, 147, 55), 'celadon': (190, 253, 183), 'heather': (164, 132, 172), 'bright_magenta': (255, 8, 232), 'purplish_brown': (107, 66, 71), 'light_blue_grey': (183, 201, 226), 'ugly_yellow': (208, 193, 1), 'eggshell_blue': (196, 255, 247), 'vivid_purple': (153, 0, 250), 'pale_purple': (183, 144, 212), 'army_green': (75, 93, 22), 'grey_green': (120, 155, 115), 'midnight_blue': (2, 0, 53), 'orangish_red': (244, 54, 5), 'sand': (226, 202, 118), 'sickly_yellow': (208, 228, 41), 'greenish_tan': (188, 203, 122), 'battleship_grey': (107, 124, 133), 'brick_red': (143, 20, 2), 'deep_rose': (199, 71, 103), 'rust_orange': (196, 85, 8), 'greyish_teal': (113, 159, 145), 'light_lavendar': (239, 192, 254), 'rusty_red': (175, 47, 13), 'purplish_pink': (206, 93, 174), 'khaki': (170, 166, 98), 'slime_green': (153, 204, 4), 'puce': (165, 126, 82), 'dark_grey': (54, 55, 55), 'very_dark_purple': (42, 1, 52), 'lemon_lime': (191, 254, 40), 'tiffany_blue': (123, 242, 218), 'dark_hot_pink': (217, 1, 102), 'pinkish_orange': (255, 114, 76), 'fresh_green': (105, 216, 79), 'pale_brown': (177, 145, 110), 'greenish_beige': (201, 209, 121), 'jade': (31, 167, 116), 'periwinkle': (142, 130, 254), 'dark_forest_green': (0, 45, 4), 'shit_brown': (123, 88, 4), 'orangered': (254, 66, 15), 'plum': (88, 15, 65), 'pale_teal': (130, 203, 178), 'butter': (255, 255, 129), 'bottle_green': (4, 74, 5), 'orange_red': (253, 65, 30), 'puke': (165, 165, 2), 'dusky_blue': (71, 95, 148), 'dirty_green': (102, 126, 44), 'ice_blue': (215, 255, 254), 'light_pea_green': (196, 254, 130), 'medium_blue': (44, 111, 187), 'minty_green': (11, 247, 125), 'reddish_grey': (153, 117, 112), 'pale_red': (217, 84, 77), 'acid_green': (143, 254, 9), 'salmon_pink': (254, 123, 124), 'vivid_blue': (21, 46, 255), 'burgundy': (97, 0, 35), 'grey/green': (134, 161, 125), 'soft_blue': (100, 136, 234), 'darkgreen': (5, 73, 7), 'banana': (255, 255, 126), 'cherry_red': (247, 2, 42), 'camo_green': (82, 101, 37), 'tomato_red': (236, 45, 1), 'topaz': (19, 187, 175), 'light_bluish_green': (118, 253, 168), 'dark_mustard': (168, 137, 5), 'wisteria': (168, 125, 194), 'yellowy_brown': (174, 139, 12), 'medium_purple': (158, 67, 162), 'purpley': (135, 86, 228), 'lavender_blue': (139, 136, 248), 'mud': (115, 92, 18), 'shit': (127, 95, 0), 'bright_pink': (254, 1, 177), 'swamp': (105, 131, 57), 'straw': (252, 246, 121), 'very_light_brown': (211, 182, 131), 'almost_black': (7, 13, 13), 'dark_seafoam': (31, 181, 122), 'sandstone': (201, 174, 116), 'dark_lavender': (133, 103, 152), 'dark_yellow_green': (114, 143, 2), 'purple_blue': (99, 45, 233), 'camo': (127, 143, 78), 'manilla': (255, 250, 134), 'ochre': (191, 144, 5), 'indigo_blue': (58, 24, 177), 'perrywinkle': (143, 140, 231), 'magenta': (194, 0, 120), 'pale_lavender': (238, 207, 254), 'blood': (119, 0, 1), 'blue': (3, 67, 223), 'petrol': (0, 95, 106), 'aqua_blue': (2, 216, 233), 'eggplant': (56, 8, 53), 'pastel_yellow': (255, 254, 113), 'deep_turquoise': (1, 115, 116), 'pea_soup_green': (148, 166, 23), 'parchment': (254, 252, 175), 'faded_red': (211, 73, 78), 'dark_green': (3, 53, 0), 'tealish': (36, 188, 168), 'cobalt': (30, 72, 143), 'marine': (4, 46, 96), 'bright_orange': (255, 91, 0), 'red_wine': (140, 0, 52), 'orangey_yellow': (253, 185, 21), 'pale_mauve': (254, 208, 252), 'hospital_green': (155, 229, 170), 'aqua': (19, 234, 201), 'bluish_grey': (116, 139, 151), 'cerise': (222, 12, 98), 'sea': (60, 153, 146), 'macaroni_and_cheese': (239, 180, 53), 'golden_brown': (178, 122, 1), 'purple_red': (153, 1, 71), 'olive_green': (103, 122, 4), 'scarlet': (190, 1, 25), 'ugly_purple': (164, 66, 160), 'muted_blue': (59, 113, 159), 'dark_maroon': (60, 0, 8), 'violet_red': (165, 0, 85), 'raw_sienna': (154, 98, 0), 'light_peach': (255, 216, 177), 'pink/purple': (239, 29, 231), 'evergreen': (5, 71, 42), 'prussian_blue': (0, 69, 119), 'deep_lavender': (141, 94, 183), 'drab': (130, 131, 68), 'dark_blue': (0, 3, 91), 'sky': (130, 202, 252), 'brownish_red': (158, 54, 35), 'algae_green': (33, 195, 111), 'green': (21, 176, 26), 'cement': (165, 163, 145), 'hot_purple': (203, 0, 245), 'light_mint': (182, 255, 187), 'tan_green': (169, 190, 112), 'rose_pink': (247, 135, 154), 'sandy': (241, 218, 122), 'dull_teal': (95, 158, 143), 'pale_magenta': (215, 103, 173), 'poop_brown': (122, 89, 1), 'sandy_yellow': (253, 238, 115), 'emerald_green': (2, 143, 30), 'golden_yellow': (254, 198, 21), 'pear': (203, 248, 95), 'very_dark_blue': (0, 1, 51), 'clear_blue': (36, 122, 253), 'light_olive': (172, 191, 105), 'pink_red': (245, 5, 79), 'fuchsia': (237, 13, 217), 'very_dark_brown': (29, 2, 0), 'greenish_grey': (150, 174, 141), 'cornflower_blue': (81, 112, 215), 'red_orange': (253, 60, 6), 'dark_red': (132, 0, 0), 'dusty_orange': (240, 131, 58), 'dark_taupe': (127, 104, 78), 'dark_pink': (203, 65, 107), 'greyish_green': (130, 166, 125), 'sunny_yellow': (255, 249, 23), 'dirty_pink': (202, 123, 128), 'lightish_red': (254, 47, 74), 'very_pale_blue': (214, 255, 254), 'dusty_pink': (213, 138, 148), 'green_blue': (6, 180, 139), 'kelly_green': (2, 171, 46), 'baby_pink': (255, 183, 206), 'putty': (190, 174, 138), 'warm_pink': (251, 85, 129), 'dark_coral': (207, 82, 78), 'burnt_umber': (160, 69, 14), 'off_green': (107, 163, 83), 'barney_purple': (160, 4, 152), 'primary_blue': (8, 4, 249), 'purply': (152, 63, 178), 'green_grey': (119, 146, 111), 'bruise': (126, 64, 113), 'peacock_blue': (1, 103, 149), 'midnight': (3, 1, 45), 'vermillion': (244, 50, 12), 'yellowish_brown': (155, 122, 1), 'powder_blue': (177, 209, 252), 'purpleish_blue': (97, 64, 239), 'apricot': (255, 177, 109), 'duck_egg_blue': (195, 251, 244), 'olive_drab': (111, 118, 50), 'pastel_purple': (202, 160, 255), 'amber': (254, 179, 8), 'bright_cyan': (65, 253, 254), 'grey_brown': (127, 112, 83), 'neon_yellow': (207, 255, 4), 'maroon': (101, 0, 33), 'saffron': (254, 178, 9), 'vomit_green': (137, 162, 3), 'light_tan': (251, 238, 172), 'tomato': (239, 64, 38), 'reddish_orange': (248, 72, 28), 'greyish': (168, 164, 149), 'dusty_red': (185, 72, 78), 'reddish_purple': (145, 9, 81), 'seaweed_green': (53, 173, 107), 'periwinkle_blue': (143, 153, 251), 'greenish_turquoise': (0, 251, 176), 'reddish_pink': (254, 44, 84), 'dusty_blue': (90, 134, 173), 'bordeaux': (123, 0, 44), 'mid_green': (80, 167, 71), 'bright_lilac': (201, 94, 251), 'drab_green': (116, 149, 81), 'greeny_brown': (105, 96, 6), 'very_pale_green': (207, 253, 188), 'cream': (255, 255, 194), 'light_grey_green': (183, 225, 161), 'sea_green': (83, 252, 161), 'violet_blue': (81, 10, 201), 'eggplant_purple': (67, 5, 65), 'cerulean': (4, 133, 209), 'cadet_blue': (78, 116, 150), 'brownish_green': (106, 110, 9), 'navy_green': (53, 83, 10), 'powder_pink': (255, 178, 208), 'dirt': (138, 110, 69), 'baby_poop_green': (143, 152, 5), 'orangeish': (253, 141, 73), 'deep_magenta': (160, 2, 92), 'easter_purple': (192, 113, 254), 'pale_lime': (190, 253, 115), 'cool_green': (51, 184, 100), 'muted_purple': (128, 91, 135), 'light_salmon': (254, 169, 147), 'blueberry': (70, 65, 150), 'raw_umber': (167, 94, 9), 'bland': (175, 168, 139), 'faded_yellow': (254, 255, 127), 'green_brown': (84, 78, 3), 'camel': (198, 159, 89), 'light_grey': (216, 220, 214), 'mahogany': (74, 1, 0), 'poop': (127, 94, 0), 'aubergine': (61, 7, 52), 'yellowy_green': (191, 241, 40), 'puke_green': (154, 174, 7), 'dusty_rose': (192, 115, 122), 'hot_green': (37, 255, 41), 'mud_green': (96, 102, 2), 'burnt_yellow': (213, 171, 9), 'light_yellow_green': (204, 253, 127), 'piss_yellow': (221, 214, 24), 'light_periwinkle': (193, 198, 252), 'dark_indigo': (31, 9, 84), 'light_green_blue': (86, 252, 162), 'medium_brown': (127, 81, 18), 'pumpkin': (225, 119, 1), 'celery': (193, 253, 149), 'light_brown': (173, 129, 80), 'brownish_orange': (203, 119, 35), 'dark_royal_blue': (2, 6, 111), 'purpley_pink': (200, 60, 185), 'night_blue': (4, 3, 72), 'lawn_green': (77, 164, 9), 'grass': (92, 172, 45), 'purple': (126, 30, 156), 'golden': (245, 191, 3), 'peach': (255, 176, 124), 'deep_brown': (65, 2, 0), 'strong_pink': (255, 7, 137), 'slate_green': (101, 141, 109), 'pure_blue': (2, 3, 226), 'seafoam_green': (122, 249, 171), 'pale_peach': (255, 229, 173), 'really_light_blue': (212, 255, 255), 'very_light_blue': (213, 255, 255), 'deep_sea_blue': (1, 84, 130), 'plum_purple': (78, 5, 80), 'bright_green': (1, 255, 7), 'denim': (59, 99, 140), 'purply_blue': (102, 26, 238), 'dark_mint_green': (32, 192, 115), 'dark_pastel_green': (86, 174, 87), 'kiwi_green': (142, 229, 63), 'carmine': (157, 2, 22), 'kermit_green': (92, 178, 0), 'pale_lime_green': (177, 255, 101), 'light_lime': (174, 253, 108), 'aqua_green': (18, 225, 147), 'greyblue': (119, 161, 181), 'brick_orange': (193, 74, 9), 'purple_grey': (134, 111, 133), 'frog_green': (88, 188, 8), 'tan': (209, 178, 111), 'dark_lilac': (156, 109, 165), 'bright_purple': (190, 3, 253), 'liliac': (196, 142, 253), 'merlot': (115, 0, 57), 'neon_purple': (188, 19, 254), 'dirty_yellow': (205, 197, 10), 'fern_green': (84, 141, 68), 'very_light_green': (209, 255, 189), 'deep_sky_blue': (13, 117, 248), 'robin_egg_blue': (138, 241, 254), 'ocher': (191, 155, 12), 'gross_green': (160, 191, 22), 'fawn': (207, 175, 123), 'fern': (99, 169, 80), 'deep_teal': (0, 85, 90), 'brownish_purple': (118, 66, 78), 'key_lime': (174, 255, 110), 'pinky_purple': (201, 76, 190), 'terra_cotta': (201, 100, 59), 'burnt_orange': (192, 78, 1), 'light_indigo': (109, 90, 207), 'grapefruit': (253, 89, 86), 'toxic_green': (97, 222, 42), 'canary': (253, 255, 99), 'vomit': (162, 164, 21), 'orange_yellow': (255, 173, 1), 'electric_pink': (255, 4, 144), 'mud_brown': (96, 70, 15), 'greyish_purple': (136, 113, 145), 'cool_blue': (73, 132, 184), 'boring_green': (99, 179, 101), 'light_forest_green': (79, 145, 83), 'bright_light_green': (45, 254, 84), 'booger': (155, 181, 60), 'terracota': (203, 104, 67), 'brown_orange': (185, 105, 2), 'tea_green': (189, 248, 163), 'blue_violet': (93, 6, 233), 'sea_blue': (4, 116, 149), 'soft_green': (111, 194, 118), 'warm_blue': (75, 87, 219), 'lipstick': (213, 23, 78), 'mulberry': (146, 10, 78), 'olive_yellow': (194, 183, 9), 'lavender': (199, 159, 239), 'dark_navy_blue': (0, 2, 46), 'easter_green': (140, 253, 126), 'viridian': (30, 145, 103), 'rose_red': (190, 1, 60), 'pale_lilac': (228, 203, 255), 'dark_sand': (168, 143, 89), 'charcoal': (52, 56, 55), 'dark': (27, 36, 49), 'deep_violet': (73, 6, 72), 'mint': (159, 254, 176), 'very_light_pink': (255, 244, 242), 'neon_pink': (254, 1, 154), 'windows_blue': (55, 120, 191), 'muddy_brown': (136, 104, 6), 'murky_green': (108, 122, 14), 'light_purple': (191, 119, 246), 'medium_pink': (243, 97, 150), 'pink_purple': (219, 75, 218), 'blue_with_a_hint_of_purple': (83, 60, 198), 'seaweed': (24, 209, 123), 'marine_blue': (1, 56, 106), 'green_yellow': (201, 255, 39), 'red_brown': (139, 46, 22), 'bright_lime_green': (101, 254, 8), 'ocean_green': (61, 153, 115), 'bright_red': (255, 0, 13), 'purpleish': (152, 86, 141), 'dark_sea_green': (17, 135, 93), 'lighter_purple': (165, 90, 244), 'grey_blue': (107, 139, 164), 'chartreuse': (193, 248, 10), 'watermelon': (253, 70, 89), 'sage': (135, 174, 115), 'dark_salmon': (200, 90, 83), 'deep_lilac': (150, 110, 189), 'irish_green': (1, 149, 41), 'dirt_brown': (131, 101, 57), 'yellowish_orange': (255, 171, 15), 'cornflower': (106, 121, 247), 'moss_green': (101, 139, 56), 'pale_blue': (208, 254, 254), 'dark_aqua': (5, 105, 107), 'grey/blue': (100, 125, 142), 'kiwi': (156, 239, 67), 'cobalt_blue': (3, 10, 167), 'white': (255, 255, 255), 'ecru': (254, 255, 202), 'browny_orange': (202, 107, 2), 'emerald': (1, 160, 73), 'green/yellow': (181, 206, 8), 'cyan': (0, 255, 255), 'poo_brown': (136, 95, 1), 'puke_yellow': (194, 190, 14), 'dusty_green': (118, 169, 115), 'electric_blue': (6, 82, 255), 'dark_turquoise': (4, 92, 90), 'egg_shell': (255, 252, 196), 'light_pink': (255, 209, 223), 'burnt_red': (159, 35, 5), 'greenish_blue': (11, 139, 135), 'dusty_purple': (130, 95, 135), 'purpley_blue': (95, 52, 231), 'light_urple': (179, 111, 246), 'yellowish_green': (176, 221, 22), 'greenish_brown': (105, 97, 18), 'khaki_green': (114, 134, 57), 'light_aqua': (140, 255, 219), 'cinnamon': (172, 79, 6), 'spruce': (10, 95, 56), 'dark_grass_green': (56, 128, 4), 'pinkish': (212, 106, 126), 'light_lavender': (223, 197, 254), 'muted_green': (95, 160, 82), 'light_cyan': (172, 255, 252), 'canary_yellow': (255, 254, 64), 'lime_yellow': (208, 254, 29), 'maize': (244, 208, 84), 'dark_sky_blue': (68, 142, 228), 'dark_brown': (52, 28, 2), 'dark_aquamarine': (1, 115, 113), 'desert': (204, 173, 96), 'umber': (178, 100, 0), 'light_lilac': (237, 200, 255), 'dark_cream': (255, 243, 154), 'pastel_blue': (162, 191, 254), 'dull_yellow': (238, 220, 91), 'pale_olive_green': (177, 210, 123), 'sickly_green': (148, 178, 28), 'warm_purple': (149, 46, 143), 'seafoam_blue': (120, 209, 182), 'midnight_purple': (40, 1, 55), 'mossy_green': (99, 139, 39), 'water_blue': (14, 135, 204), 'mocha': (157, 118, 81), 'chocolate': (61, 28, 2), 'cherry': (207, 2, 52), 'cranberry': (158, 0, 58), 'carnation_pink': (255, 127, 167), 'fluorescent_green': (8, 255, 8), 'yellow/green': (200, 253, 61), 'yellow_brown': (183, 148, 0), 'apple': (110, 203, 60), 'pastel_red': (219, 88, 86), 'aqua_marine': (46, 232, 187), 'stormy_blue': (80, 123, 156), 'wine': (128, 1, 63), 'custard': (255, 253, 120), 'asparagus': (119, 171, 86), 'creme': (255, 255, 182), 'baby_poo': (171, 144, 4), 'light_teal': (144, 228, 193), 'light_green': (150, 249, 123), 'twilight_blue': (10, 67, 122), 'lichen': (143, 182, 123), 'pinky': (252, 134, 170), 'ruby': (202, 1, 71), 'light_eggplant': (137, 69, 133), 'medium_green': (57, 173, 72), 'ivory': (255, 255, 203), 'slate': (81, 101, 114), 'light_burgundy': (168, 65, 91), 'mustard': (206, 179, 1), 'purplish': (148, 86, 140), 'light_seafoam_green': (167, 255, 181), 'dark_gold': (181, 148, 16), 'soft_pink': (253, 176, 192), 'light_blue_green': (126, 251, 179), 'dull_brown': (135, 110, 75), 'reddish_brown': (127, 43, 10), 'dandelion': (254, 223, 8), 'hot_magenta': (245, 4, 201), 'dark_olive_green': (60, 77, 3), 'carolina_blue': (138, 184, 254), 'coral': (252, 90, 80), 'bright_teal': (1, 249, 198), 'foam_green': (144, 253, 169), 'pinkish_purple': (214, 72, 215), 'yellow': (255, 255, 20), 'shit_green': (117, 128, 0), 'military_green': (102, 124, 62), 'greyish_blue': (94, 129, 157), 'bile': (181, 195, 6), 'grey_teal': (94, 155, 138), 'bright_blue': (1, 101, 252), 'vibrant_purple': (173, 3, 222), 'faded_purple': (145, 110, 153), 'baby_purple': (202, 155, 247), 'ocean': (1, 123, 146), 'dirty_purple': (115, 74, 101), 'indian_red': (133, 14, 4), 'faded_pink': (222, 157, 172), 'light_magenta': (250, 95, 247), 'teal_blue': (1, 136, 159), 'pinkish_tan': (217, 155, 130), 'tree_green': (42, 126, 25), 'lipstick_red': (192, 2, 47), 'blue/grey': (117, 141, 163), 'orange': (249, 115, 6), 'dull_purple': (132, 89, 126), 'yellow_orange': (252, 176, 1), 'bluish_green': (16, 166, 116), 'cerulean_blue': (5, 110, 238), 'faded_blue': (101, 140, 187), 'sky_blue': (117, 187, 253), 'flat_green': (105, 157, 76), 'french_blue': (67, 107, 173), 'bright_sky_blue': (2, 204, 254), 'charcoal_grey': (60, 65, 66), 'copper': (182, 99, 37), 'strawberry': (251, 41, 67), 'leafy_green': (81, 183, 59), 'highlighter_green': (27, 252, 6), 'dark_purple': (53, 6, 62), 'dried_blood': (75, 1, 1), 'butterscotch': (253, 177, 71), 'purpleish_pink': (223, 78, 200), 'blurple': (85, 57, 204), 'hot_pink': (255, 2, 141), 'mid_blue': (39, 106, 179), 'rosa': (254, 134, 164), 'light_violet': (214, 180, 252), 'iris': (98, 88, 196), 'yellow_green': (192, 251, 45), 'purplish_blue': (96, 30, 249), 'orange_brown': (190, 100, 0), 'greyish_pink': (200, 141, 148), 'greenish': (64, 163, 104), 'greenblue': (35, 196, 139), 'burnt_siena': (183, 82, 3), 'cool_grey': (149, 163, 166), 'apple_green': (118, 205, 38), 'dark_mauve': (135, 76, 98), 'azure': (6, 154, 243), 'cloudy_blue': (172, 194, 217), 'dark_lime_green': (126, 189, 1), 'olive': (110, 117, 14), 'blue_purple': (87, 41, 206), 'barney': (172, 29, 184), 'deep_aqua': (8, 120, 127), 'dark_sage': (89, 133, 86), 'deep_purple': (54, 1, 63), 'green_teal': (12, 181, 119), 'light_lime_green': (185, 255, 102), 'goldenrod': (250, 194, 5), 'pink': (255, 129, 192), 'lightgreen': (118, 255, 123), 'purple/blue': (93, 33, 208), 'muddy_yellow': (191, 172, 5), 'light_royal_blue': (58, 46, 254), 'sick_green': (157, 185, 44), 'neon_green': (12, 255, 12), 'warm_brown': (150, 78, 2), 'dark_navy': (0, 4, 53), 'ugly_pink': (205, 117, 132), 'dark_teal': (1, 77, 78), 'dodger_blue': (62, 130, 252), 'leaf': (113, 170, 52), 'lime_green': (137, 254, 5), 'clay': (182, 106, 80), 'light_sky_blue': (198, 252, 255), 'silver': (197, 201, 199), 'teal': (2, 147, 134), 'pale_gold': (253, 222, 108), 'bright_lime': (135, 253, 5), 'spearmint': (30, 248, 118), 'deep_pink': (203, 1, 98), 'dark_green_blue': (31, 99, 87), 'brownish_yellow': (201, 176, 3), 'pale_sky_blue': (189, 246, 254), 'avocado': (144, 177, 52), 'light_grey_blue': (157, 188, 212), 'avocado_green': (135, 169, 34), 'darkish_red': (169, 3, 8), 'red': (229, 0, 0), 'blush_pink': (254, 130, 140), 'pinky_red': (252, 38, 71), 'bright_sea_green': (5, 255, 166), 'mushroom': (186, 158, 136), 'purpley_grey': (148, 126, 148), 'hunter_green': (11, 64, 8), 'baby_green': (140, 255, 158), 'dull_blue': (73, 117, 156), 'pistachio': (192, 250, 139), 'mango': (255, 166, 43), 'rusty_orange': (205, 89, 9), 'blush': (242, 158, 142), 'nasty_green': (112, 178, 63), 'pine': (43, 93, 52), 'light_yellow': (255, 254, 122), 'aquamarine': (4, 216, 178), 'dark_fuchsia': (157, 7, 89), 'russet': (161, 57, 5), 'grape_purple': (93, 20, 81), 'bluey_purple': (98, 65, 199), 'deep_green': (2, 89, 15), 'dusky_pink': (204, 122, 139), 'dark_beige': (172, 147, 98), 'baby_poop': (147, 124, 0), 'algae': (84, 172, 104), 'deep_blue': (4, 2, 115), 'claret': (104, 0, 24), 'indigo': (56, 2, 130), 'greenish_teal': (50, 191, 132), 'terracotta': (202, 102, 65), 'true_blue': (1, 15, 204), 'crimson': (140, 0, 15), 'british_racing_green': (5, 72, 13), 'light_mauve': (194, 146, 161), 'purplish_grey': (122, 104, 127), 'light_red': (255, 71, 76), 'turquoise': (6, 194, 172), 'darkish_pink': (218, 70, 125), 'vivid_green': (47, 239, 16), 'purple/pink': (215, 37, 222), 'brick': (160, 54, 35), 'pale_orange': (255, 167, 86), 'dull_green': (116, 166, 98), 'brown_green': (112, 108, 17), 'vomit_yellow': (199, 193, 12), 'carnation': (253, 121, 143), 'burple': (104, 50, 227), 'forest_green': (6, 71, 12), 'twilight': (78, 81, 139), 'eggshell': (255, 255, 212), 'lilac': (206, 162, 253), 'seafoam': (128, 249, 173), 'electric_purple': (170, 35, 255), 'wintergreen': (32, 249, 134), 'chestnut': (116, 40, 2), 'sun_yellow': (255, 223, 34), 'mustard_green': (168, 181, 4), 'light_moss_green': (166, 200, 117), 'pea': (164, 191, 32), 'lighter_green': (117, 253, 99), 'rosy_pink': (246, 104, 142), 'jungle_green': (4, 130, 67), 'berry': (153, 15, 75), 'light_neon_green': (78, 253, 84), 'light_beige': (255, 254, 182), 'golden_rod': (249, 188, 8), 'grape': (108, 52, 97), 'wheat': (251, 221, 126), 'marigold': (252, 192, 6), 'orangey_brown': (177, 96, 2), 'dark_orange': (198, 81, 2), 'bright_aqua': (11, 249, 234), 'blood_red': (152, 0, 2), 'sand_brown': (203, 165, 96), 'amethyst': (155, 95, 192), 'baby_shit_brown': (173, 144, 13), 'purply_pink': (240, 117, 230), 'snot': (172, 187, 13), 'leather': (172, 116, 52), 'true_green': (8, 148, 4), 'off_yellow': (241, 243, 63), 'light_navy': (21, 80, 132), 'dusky_rose': (186, 104, 115), 'bluish_purple': (112, 59, 231), 'light_khaki': (230, 242, 162), 'old_rose': (200, 127, 137), 'baby_shit_green': (136, 151, 23), 'bluegrey': (133, 163, 178), 'steel_grey': (111, 130, 138), 'neon_red': (255, 7, 58), \"robin's_egg\": (109, 237, 253), 'yellow_ochre': (203, 157, 6), 'reddish': (196, 66, 64), 'ugly_green': (122, 151, 3), 'light_gold': (253, 220, 92), 'blue/green': (15, 155, 142), 'warm_grey': (151, 138, 132), 'baby_blue': (162, 207, 254), 'banana_yellow': (250, 254, 75), 'dark_grey_blue': (41, 70, 91), 'mustard_yellow': (210, 189, 10), 'pale_olive': (185, 204, 129), 'bluey_green': (43, 177, 121), 'deep_red': (154, 2, 0), 'greenish_cyan': (42, 254, 183), 'red_violet': (158, 1, 104), 'bluish': (41, 118, 187), 'dark_violet': (52, 1, 63), 'pale_light_green': (177, 252, 153), 'red_purple': (130, 7, 71), 'pale_rose': (253, 193, 197), 'darkish_blue': (1, 65, 130), 'chocolate_brown': (65, 25, 0), 'tea': (101, 171, 124), 'orangish': (252, 130, 74), 'lime': (170, 255, 50), 'brown_yellow': (178, 151, 5), 'light_aquamarine': (123, 253, 199), 'light_pastel_green': (178, 251, 165), 'off_blue': (86, 132, 174), 'peachy_pink': (255, 154, 138), 'adobe': (189, 108, 72), 'ugly_blue': (49, 102, 138), 'sandy_brown': (196, 166, 97), 'royal': (12, 23, 147), 'mauve': (174, 113, 129), 'sepia': (152, 94, 43), 'ugly_brown': (125, 113, 3), 'navy_blue': (0, 17, 70), 'light_blue': (149, 208, 252), 'coffee': (166, 129, 76), 'yellowish_tan': (252, 252, 129), 'dusty_lavender': (172, 134, 168), 'bright_yellow_green': (157, 255, 0), 'swamp_green': (116, 133, 0), 'sunshine_yellow': (255, 253, 55), 'dusk': (78, 84, 129), 'washed_out_green': (188, 245, 166), 'sage_green': (136, 179, 120), 'vibrant_green': (10, 221, 8), 'leaf_green': (92, 169, 4), 'dull_orange': (216, 134, 59), 'yellowgreen': (187, 249, 15), 'blood_orange': (254, 75, 3), 'very_light_purple': (246, 206, 252), 'red_pink': (250, 42, 85), 'snot_green': (157, 193, 0), 'off_white': (255, 255, 228), 'greyish_brown': (122, 106, 79), 'ocre': (198, 156, 4), 'light_yellowish_green': (194, 255, 137), 'poop_green': (111, 124, 0), 'turquoise_blue': (6, 177, 196), 'bubble_gum_pink': (255, 105, 175), 'diarrhea': (159, 131, 3), 'velvet': (117, 8, 81), 'ultramarine_blue': (24, 5, 219), 'blue_green': (19, 126, 109), 'muddy_green': (101, 116, 50), 'puke_brown': (148, 119, 6), 'denim_blue': (59, 91, 146), 'light_seafoam': (160, 254, 191), 'pale_violet': (206, 174, 250), 'forrest_green': (21, 68, 6), 'icky_green': (143, 174, 34), 'bright_olive': (156, 187, 4), 'clay_brown': (178, 113, 61), 'dark_periwinkle': (102, 95, 209), 'heliotrope': (217, 79, 245), 'faded_green': (123, 178, 116), 'melon': (255, 120, 85), 'grassy_green': (65, 156, 3), 'coral_pink': (255, 97, 99), 'turtle_green': (117, 184, 79), 'pine_green': (10, 72, 30), 'neon_blue': (4, 217, 255), 'violet': (154, 14, 234), 'fluro_green': (10, 255, 2), 'dull_red': (187, 63, 63), 'rich_purple': (114, 0, 88), 'pale_turquoise': (165, 251, 213), 'dusky_purple': (137, 91, 123), 'vibrant_blue': (3, 57, 248), 'azul': (29, 93, 236), 'raspberry': (176, 1, 73), 'cocoa': (135, 95, 66), 'old_pink': (199, 121, 134), 'sunflower': (255, 197, 18), 'sap_green': (92, 139, 21), 'steel': (115, 133, 149), 'dark_rose': (181, 72, 93), 'dirty_blue': (63, 130, 157), 'black': (0, 0, 0), 'bright_violet': (173, 10, 253), 'dirty_orange': (200, 118, 6), 'light_light_blue': (202, 255, 251), 'orangey_red': (250, 66, 36), 'dark_lime': (132, 183, 1), 'earth': (162, 101, 62), 'blue_grey': (96, 124, 142), 'brownish': (156, 109, 87), 'greenish_yellow': (205, 253, 2), 'bright_light_blue': (38, 247, 253), 'bluegreen': (1, 122, 121), 'caramel': (175, 111, 9), 'gunmetal': (83, 98, 103), 'light_olive_green': (164, 190, 92), 'stone': (173, 165, 135), 'bright_yellow': (255, 253, 1), 'tan_brown': (171, 126, 76), 'electric_lime': (168, 255, 4), 'nice_blue': (16, 122, 176), 'darkish_green': (40, 124, 55), 'tangerine': (255, 148, 8), 'candy_pink': (255, 99, 233), 'mustard_brown': (172, 126, 4), 'dusk_blue': (38, 83, 141), 'light_light_green': (200, 255, 176), 'light_maroon': (162, 72, 87), 'orangish_brown': (178, 95, 3), 'grey_purple': (130, 109, 140), 'dark_olive': (55, 62, 2), 'pale_cyan': (183, 255, 250), 'pastel_green': (176, 255, 157), 'bluey_grey': (137, 160, 176), 'yellowish': (250, 238, 102), 'toupe': (199, 172, 125), 'ocean_blue': (3, 113, 156), 'faded_orange': (240, 148, 77), 'salmon': (255, 121, 108), 'ice': (214, 255, 250), 'burnt_sienna': (176, 78, 15), 'forest': (11, 85, 9), 'moss': (118, 153, 88), 'pastel_orange': (255, 150, 79), 'shamrock': (1, 180, 76), 'dull_pink': (213, 134, 157), 'pinkish_grey': (200, 172, 169), 'yellow_tan': (255, 227, 110), 'radioactive_green': (44, 250, 31), 'flat_blue': (60, 115, 168), 'green_apple': (94, 220, 31), 'brownish_pink': (194, 126, 121), 'poison_green': (64, 253, 20), 'pinkish_red': (241, 12, 69), 'dark_seafoam_green': (62, 175, 118), 'lightblue': (123, 200, 246), 'dark_peach': (222, 126, 93), 'greeny_yellow': (198, 248, 8), 'lavender_pink': (221, 133, 215), 'light_rose': (255, 197, 203), 'dark_khaki': (155, 143, 85), 'pale_green': (199, 253, 181), 'sienna': (169, 86, 30), 'gold': (219, 180, 12), 'light_sea_green': (152, 246, 176), 'buff': (254, 246, 158), 'strong_blue': (12, 6, 247), 'light_orange': (253, 170, 72), 'olive_brown': (100, 84, 3), 'dust': (178, 153, 110), 'very_dark_green': (6, 46, 3), 'weird_green': (58, 229, 127), 'lightish_green': (97, 225, 96), 'metallic_blue': (79, 115, 142), 'royal_blue': (5, 4, 170), 'milk_chocolate': (127, 78, 30), 'orange_pink': (255, 111, 82), 'lemon_green': (173, 248, 2), 'pea_soup': (146, 153, 1), 'bubblegum_pink': (254, 131, 204), 'pinkish_brown': (177, 114, 97), \"robin's_egg_blue\": (152, 239, 249), 'ultramarine': (32, 0, 177), 'barf_green': (148, 172, 2), 'wine_red': (123, 3, 35), 'pale_pink': (255, 207, 220), 'dark_plum': (63, 1, 44), 'pale_yellow': (255, 255, 132), 'navy': (1, 21, 62), 'dusty_teal': (76, 144, 133), 'darkish_purple': (117, 25, 115), 'orchid': (200, 117, 196), 'light_navy_blue': (46, 90, 136), 'browny_green': (111, 108, 10), 'dark_mint': (72, 192, 114), 'lemon': (253, 255, 82), 'muted_pink': (209, 118, 143), 'dark_yellow': (213, 182, 10), 'bright_turquoise': (15, 254, 249), 'beige': (230, 218, 166), 'deep_orange': (220, 77, 1), 'booger_green': (150, 180, 3), 'dark_slate_blue': (33, 71, 97), 'slate_grey': (89, 101, 109), 'greeny_blue': (66, 179, 149), 'light_sage': (188, 236, 172), 'taupe': (185, 162, 129), 'rust_brown': (139, 49, 3), 'shamrock_green': (2, 193, 77), 'greeny_grey': (126, 160, 122), 'light_greenish_blue': (99, 247, 180), 'blue/purple': (90, 6, 239), 'brown': (101, 55, 0), 'grey_pink': (195, 144, 155), 'medium_grey': (125, 127, 124), 'grass_green': (63, 155, 11), 'soft_purple': (166, 111, 181), 'light_turquoise': (126, 244, 204), 'sapphire': (33, 56, 171), 'pale_grey': (253, 253, 254), 'royal_purple': (75, 0, 110), 'pale_aqua': (184, 255, 235), 'rich_blue': (2, 27, 249), 'barbie_pink': (254, 70, 165), 'slate_blue': (91, 124, 153), 'dark_blue_grey': (31, 59, 77), 'darkblue': (3, 7, 100), 'rust_red': (170, 39, 4), 'sand_yellow': (252, 225, 102), 'racing_green': (1, 70, 0), 'hazel': (142, 118, 24), 'dark_cyan': (10, 136, 138), 'electric_green': (33, 252, 13), 'light_grass_green': (154, 247, 100)}\n"
     ]
    }
   ],
   "source": [
    "# Retrieve all XKCD pallete colors\n",
    "print(Material.get_xkcd_colors_list())"
   ]
  },
  {
   "cell_type": "code",
   "execution_count": 15,
   "metadata": {},
   "outputs": [
    {
     "name": "stdout",
     "output_type": "stream",
     "text": [
      "2020-09-11 10:11:58,436 | WARNING | __init__ | Error testing Gazebo server, message=Command '['rostopic', 'list']' returned non-zero exit status 1\n",
      "['gazebo']\n",
      "Is Gazebo running: False\n",
      "2020-09-11 10:11:58,693 | WARNING | __init__ | Error testing roscore, message=Command '['rostopic', 'list']' returned non-zero exit status 1\n",
      "2020-09-11 10:11:58,695 | WARNING | __init__ | Error testing Gazebo server, message=Command '['rostopic', 'list']' returned non-zero exit status 1\n",
      "2020-09-11 10:11:58,936 | WARNING | __init__ | Error testing roscore, message=Command '['rostopic', 'list']' returned non-zero exit status 1\n",
      "2020-09-11 10:11:59,186 | WARNING | __init__ | Error testing roscore, message=Command '['rostopic', 'list']' returned non-zero exit status 1\n",
      "line 93.\n",
      "line 104.\n",
      "line 107.\n",
      "line 109.\n",
      "line 111.\n",
      "line 109.\n",
      "line 111.\n",
      "line 108.\n",
      "line 94.\n",
      "line 101.\n",
      "line 102.\n",
      "line 104.\n",
      "line 107.\n",
      "line 109.\n",
      "line 111.\n",
      "line 109.\n",
      "line 111.\n",
      "line 108.\n",
      "line 103.\n",
      "line 95.\n",
      "line 96.\n",
      "line 88.\n",
      "line 89.\n",
      "default\n",
      "line 90.\n",
      "line 91.\n",
      "line 92.\n"
     ]
    }
   ],
   "source": [
    "# Create a simulation manager named default\n",
    "server.create_simulation('xkcd')\n",
    "simulation = server.get_simulation('xkcd')\n",
    "# Run an instance of the empty.world scenario\n",
    "# This is equivalent to run\n",
    "#      roslaunch gazebo_ros empty_world.launch\n",
    "# with all default parameters\n",
    "simulation.create_gazebo_empty_world_task()\n",
    "# A task named 'gazebo' the added to the tasks list\n",
    "print(simulation.get_task_list())\n",
    "# But it is still not running\n",
    "print('Is Gazebo running: {}'.format(simulation.is_task_running('gazebo')))\n",
    "# Run Gazebo\n",
    "simulation.run_all_tasks()\n",
    "\n",
    "# Create a Gazebo proxy\n",
    "gazebo_proxy = simulation.get_gazebo_proxy()\n",
    "\n",
    "# Use the generator to spawn the model to the Gazebo instance running at the moment\n",
    "generator = WorldGenerator(gazebo_proxy=gazebo_proxy)"
   ]
  },
  {
   "cell_type": "code",
   "execution_count": 16,
   "metadata": {},
   "outputs": [],
   "source": [
    "box = create_object('box')\n",
    "box.size = [1, 1, 1]\n",
    "box.add_inertial(30)\n",
    "box.static = True\n",
    "box.visual.enable_property('material')\n",
    "\n",
    "sphere = create_object('sphere')\n",
    "sphere.radius = 0.5\n",
    "sphere.add_inertial(30)\n",
    "sphere.static = True\n",
    "sphere.visual.enable_property('material')\n",
    "\n",
    "xkcd_colors = Material.get_xkcd_colors_list()\n",
    "for i, tag in zip(range(len(xkcd_colors)), xkcd_colors.keys()):\n",
    "    if i > 50:\n",
    "        break\n",
    "    # By omiting the name of the color, the material \n",
    "    # instance will generate a random color\n",
    "    box.visual.set_xkcd_color(tag)\n",
    "    sphere.visual.set_xkcd_color(tag)\n",
    "            \n",
    "    generator.spawn_model(\n",
    "        model=box, \n",
    "        robot_namespace='box_{}'.format(tag),\n",
    "        pos=[0, i * 1.5, 0.5])\n",
    "    \n",
    "    generator.spawn_model(\n",
    "        model=sphere, \n",
    "        robot_namespace='sphere_{}'.format(tag),\n",
    "        pos=[2.0, i * 1.5, 0.5])"
   ]
  },
  {
   "cell_type": "code",
   "execution_count": null,
   "metadata": {},
   "outputs": [
    {
     "name": "stdout",
     "output_type": "stream",
     "text": [
      "2020-09-11 10:14:23,251 | WARNING | task | Task <gazebo> - Killing process tree...\n",
      "2020-09-11 10:14:23,266 | WARNING | task | Sending SIGINT to child process id=24709\n",
      "2020-09-11 10:14:23,271 | WARNING | task | Child process 24709 still running\n",
      "2020-09-11 10:14:23,273 | WARNING | task | Sending SIGINT to child process id=24730\n",
      "2020-09-11 10:14:23,275 | WARNING | task | Child process 24730 still running\n",
      "2020-09-11 10:14:23,277 | WARNING | task | Sending SIGINT to child process id=24735\n",
      "2020-09-11 10:14:23,279 | WARNING | task | Child process 24735 still running\n",
      "2020-09-11 10:14:23,281 | WARNING | task | Sending SIGINT to child process id=24804\n",
      "2020-09-11 10:14:23,283 | WARNING | task | Child process 24804 still running\n",
      "2020-09-11 10:14:23,285 | WARNING | task | Sending SIGINT to child process id=24801\n",
      "2020-09-11 10:14:23,287 | WARNING | task | Child process 24801 still running\n",
      "2020-09-11 10:14:23,288 | WARNING | task | Sending SIGINT to child process id=24708\n",
      "2020-09-11 10:14:23,289 | WARNING | task | Child process 24708 still running\n",
      "2020-09-11 10:14:23,909 | WARNING | task | Process 24735 already terminated\n",
      "2020-09-11 10:14:24,899 | WARNING | task | Process 24804 already terminated\n"
     ]
    }
   ],
   "source": [
    "# End the simulation by killing the Gazebo task\n",
    "sleep(5)\n",
    "simulation.kill_all_tasks()"
   ]
  },
  {
   "cell_type": "markdown",
   "metadata": {},
   "source": [
    "![xkcd materials](images/xkcd_materials.png)"
   ]
  }
 ],
 "metadata": {
  "kernelspec": {
   "display_name": "Python 3",
   "language": "python",
   "name": "python3"
  },
  "language_info": {
   "codemirror_mode": {
    "name": "ipython",
    "version": 3
   },
   "file_extension": ".py",
   "mimetype": "text/x-python",
   "name": "python",
   "nbconvert_exporter": "python",
   "pygments_lexer": "ipython3",
   "version": "3.5.2"
  }
 },
 "nbformat": 4,
 "nbformat_minor": 4
}
