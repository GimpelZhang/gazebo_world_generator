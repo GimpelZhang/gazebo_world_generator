{
 "cells": [
  {
   "cell_type": "markdown",
   "metadata": {},
   "source": [
    "# Inspection of Gazebo models"
   ]
  },
  {
   "cell_type": "markdown",
   "metadata": {},
   "source": [
    "## List all Gazebo models\n",
    "\n",
    "The library loads all Gazebo models in the \n",
    "\n",
    "* catkin workspace\n",
    "* `$HOME/.gazebo/models`\n",
    "* `/usr/share/gazebo-$GAZEBO_VERSION/models`"
   ]
  },
  {
   "cell_type": "code",
   "execution_count": 1,
   "metadata": {},
   "outputs": [
    {
     "name": "stdout",
     "output_type": "stream",
     "text": [
      "line 111.\n",
      "List of models:\n",
      "\t - bowl\n",
      "\t - grey_wall\n",
      "\t - pcg_winding_valley_heightmap\n",
      "\t - cardboard_box\n",
      "\t - pcg_jansport_backpack_red\n",
      "\t - pcg_warehouse_robot\n",
      "\t - mobile_base\n",
      "\t - first_2015_trash_can\n",
      "\t - pcg_perlin_heighmap_custom_biome\n",
      "\t - pcg_perlin_heighmap_whittaker_biome_moisture_zone_1\n",
      "\t - table_marble\n",
      "\t - cafe_table\n",
      "\t - person_standing\n",
      "\t - pcg_perlin_heighmap_whittaker_biome_moisture_zone_3\n",
      "\t - monkey_1\n",
      "\t - pcg_perlin_heighmap_whittaker_biome_moisture_zone_4\n",
      "\t - pcg_perlin_heighmap_whittaker_biome_moisture_zone_5\n",
      "\t - pcg_perlin_heighmap_whittaker_biome_moisture_zone_0\n",
      "\t - pcg_no_texture_perlin_heighmap\n",
      "\t - pcg_perlin_heighmap_whittaker_biome_moisture_zone_2\n",
      "\t - monkey_3\n",
      "\t - monkey\n",
      "\t - monkey_2\n",
      "\t - mailbox\n",
      "\t - bookshelf\n",
      "\t - warehouse_robot\n"
     ]
    }
   ],
   "source": [
    "import warnings\n",
    "warnings.filterwarnings('ignore')\n",
    "\n",
    "import os\n",
    "from pcg_gazebo.simulation import get_gazebo_model_names, add_custom_gazebo_resource_path\n",
    "from pcg_gazebo.parsers.sdf import create_sdf_element\n",
    "\n",
    "# Add the local Gazebo models resources folder\n",
    "add_custom_gazebo_resource_path(os.path.abspath('models'))\n",
    "\n",
    "gazebo_models = list(get_gazebo_model_names())\n",
    "\n",
    "if len(gazebo_models) == 0:\n",
    "    print('No models found')\n",
    "    exit()\n",
    "    \n",
    "gazebo_models.remove('sun')\n",
    "gazebo_models.remove('ground_plane')\n",
    "\n",
    "print('List of models:')\n",
    "for tag in gazebo_models:\n",
    "    print('\\t - {}'.format(tag))"
   ]
  },
  {
   "cell_type": "markdown",
   "metadata": {},
   "source": [
    "## Loading Gazebo models already in the database\n",
    "\n",
    "Using the tag for the Gazebo model, the SDF file can be loaded as a `SimulationObject`."
   ]
  },
  {
   "cell_type": "code",
   "execution_count": 2,
   "metadata": {},
   "outputs": [
    {
     "name": "stdout",
     "output_type": "stream",
     "text": [
      "line 68.\n",
      "line 69.\n",
      "line 70.\n",
      "line 71.\n",
      "line 72.\n",
      "line 73.\n",
      "line 74.\n"
     ]
    }
   ],
   "source": [
    "from pcg_gazebo.simulation import SimulationModel\n",
    "import random\n",
    "\n",
    "model = SimulationModel.from_gazebo_model('pcg_warehouse_robot')"
   ]
  },
  {
   "cell_type": "markdown",
   "metadata": {},
   "source": [
    "### Visualize the visual and collision geometries of the model using `pyglet`."
   ]
  },
  {
   "cell_type": "code",
   "execution_count": 3,
   "metadata": {},
   "outputs": [
    {
     "data": {
      "text/plain": [
       "SceneViewer(width=1800, height=1028)"
      ]
     },
     "execution_count": 3,
     "metadata": {},
     "output_type": "execute_result"
    }
   ],
   "source": [
    "model.show(mesh_type='collision')"
   ]
  },
  {
   "cell_type": "markdown",
   "metadata": {},
   "source": [
    "![sim_warehouse_robot_collision](images/sim_warehouse_robot_collision.png)"
   ]
  },
  {
   "cell_type": "code",
   "execution_count": 4,
   "metadata": {},
   "outputs": [
    {
     "data": {
      "text/plain": [
       "SceneViewer(width=1800, height=1028)"
      ]
     },
     "execution_count": 4,
     "metadata": {},
     "output_type": "execute_result"
    }
   ],
   "source": [
    "model.show(mesh_type='visual')"
   ]
  },
  {
   "cell_type": "markdown",
   "metadata": {},
   "source": [
    "![sim_warehouse_robot_visual](images/sim_warehouse_robot_visual.png)"
   ]
  },
  {
   "cell_type": "markdown",
   "metadata": {},
   "source": [
    "## Inspect the SDF elements\n",
    "\n",
    "Load another Gazebo model and inspect the SDF elements directly."
   ]
  },
  {
   "cell_type": "code",
   "execution_count": 5,
   "metadata": {},
   "outputs": [
    {
     "name": "stdout",
     "output_type": "stream",
     "text": [
      "Import Gazebo model=cafe_table\n",
      "line 68.\n",
      "line 69.\n",
      "line 70.\n",
      "line 71.\n",
      "line 72.\n",
      "line 73.\n",
      "line 74.\n"
     ]
    },
    {
     "data": {
      "text/plain": [
       "SceneViewer(width=1800, height=1028)"
      ]
     },
     "execution_count": 5,
     "metadata": {},
     "output_type": "execute_result"
    }
   ],
   "source": [
    "# Open a Gazebo model\n",
    "model_name = random.choice(gazebo_models)\n",
    "print('Import Gazebo model={}'.format(model_name))\n",
    "\n",
    "model = SimulationModel.from_gazebo_model('pcg_jansport_backpack_red')\n",
    "# Visualize its visual geometries\n",
    "model.show(mesh_type='visual')"
   ]
  },
  {
   "cell_type": "markdown",
   "metadata": {},
   "source": [
    "![sim_backpack_visual](images/sim_backpack_visual.png)\n",
    "\n",
    "Retrieve the SDF elements using the Python SDF implementations in the `pcg_gazebo.parsers.sdf` elements."
   ]
  },
  {
   "cell_type": "code",
   "execution_count": 6,
   "metadata": {},
   "outputs": [
    {
     "name": "stdout",
     "output_type": "stream",
     "text": [
      "line 81.\n",
      "line 82.\n",
      "<model name=\"pcg_jansport_backpack_red\">\n",
      "  <self_collide>0</self_collide>\n",
      "  <allow_auto_disable>1</allow_auto_disable>\n",
      "  <static>1</static>\n",
      "  <pose frame=\"\">0 0 0 0 -0 0</pose>\n",
      "  <link name=\"link\">\n",
      "    <collision name=\"collision\">\n",
      "      <max_contacts>20</max_contacts>\n",
      "      <geometry>\n",
      "        <mesh>\n",
      "          <uri>model://pcg_jansport_backpack_red/meshes/backpack.dae</uri>\n",
      "          <scale>1 1 1</scale>\n",
      "        </mesh>\n",
      "      </geometry>\n",
      "      <pose frame=\"\">0 0 0 0 -0 0</pose>\n",
      "    </collision>\n",
      "    <visual name=\"visual\">\n",
      "      <transparency>0.0</transparency>\n",
      "      <pose frame=\"\">0 0 0 0 -0 0</pose>\n",
      "      <cast_shadows>1</cast_shadows>\n",
      "      <geometry>\n",
      "        <mesh>\n",
      "          <uri>model://pcg_jansport_backpack_red/meshes/backpack.dae</uri>\n",
      "          <scale>1 1 1</scale>\n",
      "        </mesh>\n",
      "      </geometry>\n",
      "    </visual>\n",
      "    <gravity>1</gravity>\n",
      "    <self_collide>0</self_collide>\n",
      "    <kinematic>0</kinematic>\n",
      "    <pose frame=\"\">0 0 0 0 -0 0</pose>\n",
      "  </link>\n",
      "</model>\n",
      "\n"
     ]
    }
   ],
   "source": [
    "sdf = model.to_sdf()\n",
    "print(sdf)"
   ]
  },
  {
   "cell_type": "code",
   "execution_count": 8,
   "metadata": {},
   "outputs": [
    {
     "name": "stdout",
     "output_type": "stream",
     "text": [
      "Links:  [<pcg_gazebo.parsers.sdf.link.Link object at 0x7f70422e4f60>]\n"
     ]
    }
   ],
   "source": [
    "print('Links: ', sdf.links)"
   ]
  },
  {
   "cell_type": "code",
   "execution_count": 9,
   "metadata": {},
   "outputs": [
    {
     "name": "stdout",
     "output_type": "stream",
     "text": [
      "Old link #0\n",
      "<link name=\"link\">\n",
      "  <collision name=\"collision\">\n",
      "    <geometry>\n",
      "      <mesh>\n",
      "        <uri>model://pcg_jansport_backpack_red/meshes/backpack.dae</uri>\n",
      "        <scale>1 1 1</scale>\n",
      "      </mesh>\n",
      "    </geometry>\n",
      "    <pose frame=\"\">0 0 0 0 -0 0</pose>\n",
      "    <max_contacts>20</max_contacts>\n",
      "  </collision>\n",
      "  <visual name=\"visual\">\n",
      "    <geometry>\n",
      "      <mesh>\n",
      "        <uri>model://pcg_jansport_backpack_red/meshes/backpack.dae</uri>\n",
      "        <scale>1 1 1</scale>\n",
      "      </mesh>\n",
      "    </geometry>\n",
      "    <pose frame=\"\">0 0 0 0 -0 0</pose>\n",
      "    <cast_shadows>1</cast_shadows>\n",
      "    <transparency>0.0</transparency>\n",
      "  </visual>\n",
      "  <pose frame=\"\">0 0 0 0 -0 0</pose>\n",
      "</link>\n",
      "\n",
      "New link #0\n",
      "<link name=\"link\">\n",
      "  <collision name=\"collision\">\n",
      "    <geometry>\n",
      "      <mesh>\n",
      "        <uri>model://pcg_jansport_backpack_red/meshes/backpack.dae</uri>\n",
      "        <scale>1 1 1</scale>\n",
      "      </mesh>\n",
      "    </geometry>\n",
      "    <pose frame=\"\">0 0 0 0 -0 0</pose>\n",
      "    <max_contacts>20</max_contacts>\n",
      "  </collision>\n",
      "  <visual name=\"visual\">\n",
      "    <geometry>\n",
      "      <mesh>\n",
      "        <uri>model://pcg_jansport_backpack_red/meshes/backpack.dae</uri>\n",
      "        <scale>1 1 1</scale>\n",
      "      </mesh>\n",
      "    </geometry>\n",
      "    <pose frame=\"\">0 0 0 0 -0 0</pose>\n",
      "    <cast_shadows>1</cast_shadows>\n",
      "    <transparency>0.0</transparency>\n",
      "  </visual>\n",
      "  <pose frame=\"\">0 0 0 0 -0 0</pose>\n",
      "  <inertial>\n",
      "    <inertia>\n",
      "      <ixx>0.5085494286268092</ixx>\n",
      "      <iyy>0.2503223896871063</iyy>\n",
      "      <izz>0.694776047631414</izz>\n",
      "      <ixy>0</ixy>\n",
      "      <ixz>0</ixz>\n",
      "      <iyz>0</iyz>\n",
      "    </inertia>\n",
      "    <pose frame=\"\">0 0 0 0 0 0</pose>\n",
      "    <mass>0.5588451992186456</mass>\n",
      "  </inertial>\n",
      "</link>\n",
      "\n"
     ]
    }
   ],
   "source": [
    "# Print individual links\n",
    "for i in range(len(sdf.links)):\n",
    "    print('Old link #{}'.format(i))\n",
    "    print(sdf.links[i])\n",
    "    \n",
    "    # Add mass to link\n",
    "    sdf.links[i].inertial = create_sdf_element('inertial')\n",
    "    sdf.links[i].inertial.mass = random.random()\n",
    "    sdf.links[i].inertial.inertia.ixx = random.random()\n",
    "    sdf.links[i].inertial.inertia.iyy = random.random()\n",
    "    sdf.links[i].inertial.inertia.izz = random.random()\n",
    "    \n",
    "    print('New link #{}'.format(i))\n",
    "    print(sdf.links[i])"
   ]
  },
  {
   "cell_type": "markdown",
   "metadata": {},
   "source": [
    "The SDF elements can be modified directly and the SDF file can be exported again."
   ]
  },
  {
   "cell_type": "code",
   "execution_count": 10,
   "metadata": {},
   "outputs": [],
   "source": [
    "import os\n",
    "\n",
    "sdf.name = 'new_name'\n",
    "\n",
    "if not os.path.isdir('sdf'):\n",
    "    os.makedirs('sdf')\n",
    "    \n",
    "sdf.export_xml('/tmp/modified_sdf.sdf')"
   ]
  },
  {
   "cell_type": "code",
   "execution_count": null,
   "metadata": {},
   "outputs": [],
   "source": []
  }
 ],
 "metadata": {
  "kernelspec": {
   "display_name": "Python 3",
   "language": "python",
   "name": "python3"
  },
  "language_info": {
   "codemirror_mode": {
    "name": "ipython",
    "version": 3
   },
   "file_extension": ".py",
   "mimetype": "text/x-python",
   "name": "python",
   "nbconvert_exporter": "python",
   "pygments_lexer": "ipython3",
   "version": "3.5.2"
  }
 },
 "nbformat": 4,
 "nbformat_minor": 4
}
