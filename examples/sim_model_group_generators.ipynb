{
 "cells": [
  {
   "cell_type": "markdown",
   "metadata": {},
   "source": [
    "# Model group generators\n",
    "\n",
    "Model groups can be configured with object placement engines and spatial constraints to generate a group of models to be added to a `ModelGroup` set. \n",
    "\n",
    "`ModelGroup` entities can keep a group of models under an unique frame and easily spawn the models with respect to the model group frame. \n",
    "The model group can then be spawned in Gazebo as **multiple individual models** or **nested models**.\n",
    "\n",
    "In this example, a crate is created from a mesh and filled with **spheres**, **cuboids** and **cylinders** of random dimensions and masses."
   ]
  },
  {
   "cell_type": "code",
   "execution_count": 1,
   "metadata": {},
   "outputs": [],
   "source": [
    "import os\n",
    "from pcg_gazebo.generators import ModelGroupGenerator\n",
    "\n",
    "generator = ModelGroupGenerator('full_crate')"
   ]
  },
  {
   "cell_type": "markdown",
   "metadata": {},
   "source": [
    "Add the single-link model of a crate generated from the mesh below to the assets manager.\n",
    "\n",
    "![crate](images/crate.png)"
   ]
  },
  {
   "cell_type": "code",
   "execution_count": 2,
   "metadata": {},
   "outputs": [
    {
     "data": {
      "text/plain": [
       "True"
      ]
     },
     "execution_count": 2,
     "metadata": {},
     "output_type": "execute_result"
    }
   ],
   "source": [
    "generator.add_asset(\n",
    "    tag='crate',\n",
    "    description=dict(\n",
    "        type='mesh',\n",
    "        args=dict(\n",
    "            visual_mesh='file://' + os.path.abspath('meshes/crate.stl'),\n",
    "            visual_mesh_scale=[1, 1, 1],\n",
    "            use_approximated_collision=False,\n",
    "            name='crate',\n",
    "            color='xkcd'\n",
    "        )\n",
    "    )\n",
    ")"
   ]
  },
  {
   "cell_type": "markdown",
   "metadata": {},
   "source": [
    "Add **spheres**, **cuboids** and **cylinder** models to the assets manager to fill the crate.\n",
    "\n",
    "Since the dimensions and masses are defined by **lambda functions**, the respective **model factory** for the model primitives is going to be called and the lambda functions run to set the parameters of the model."
   ]
  },
  {
   "cell_type": "code",
   "execution_count": 3,
   "metadata": {},
   "outputs": [],
   "source": [
    "generator.add_asset(\n",
    "    tag='crate_ball',\n",
    "    description=dict(\n",
    "        type='sphere',\n",
    "        args=dict(\n",
    "            radius=\"max(0.05, 0.1 * __import__('numpy').random.random())\",\n",
    "            name='sphere',\n",
    "            mass=\"max(0.1, __import__('numpy').random.random())\",\n",
    "            color='xkcd'\n",
    "        )\n",
    "    )\n",
    ")\n",
    "\n",
    "generator.add_asset(\n",
    "    tag='crate_cuboid',\n",
    "    description=dict(\n",
    "        type='box',\n",
    "        args=dict(\n",
    "            size=\"0.1 * __import__('numpy').random.random(3)\",\n",
    "            name='cuboid',\n",
    "            mass=\"max(0.01, __import__('numpy').random.random())\",\n",
    "            color='xkcd'\n",
    "        )\n",
    "    )\n",
    ")\n",
    "\n",
    "generator.add_asset(\n",
    "    tag='crate_cylinder',\n",
    "    description=dict(\n",
    "        type='cylinder',\n",
    "        args=dict(\n",
    "            length=\"max(0.05, 0.1 *__import__('numpy').random.random())\",\n",
    "            radius=\"max(0.05, 0.1 *__import__('numpy').random.random())\",\n",
    "            name='cuboid',\n",
    "            mass=\"max(0.01, __import__('numpy').random.random())\",\n",
    "            color='xkcd'\n",
    "        )\n",
    "    )\n",
    ")\n",
    "\n",
    "crate_assets = ['crate_ball', 'crate_cuboid', 'crate_cylinder']"
   ]
  },
  {
   "cell_type": "markdown",
   "metadata": {},
   "source": [
    "Add constraint to place objects tangent to the ground plane."
   ]
  },
  {
   "cell_type": "code",
   "execution_count": 4,
   "metadata": {},
   "outputs": [
    {
     "data": {
      "text/plain": [
       "True"
      ]
     },
     "execution_count": 4,
     "metadata": {},
     "output_type": "execute_result"
    }
   ],
   "source": [
    "generator.add_constraint(\n",
    "    name='tangent_to_ground_plane',\n",
    "    type='tangent',\n",
    "    frame='world',\n",
    "    reference=dict(\n",
    "        type='plane',\n",
    "        args=dict(\n",
    "            origin=[0, 0, 0],\n",
    "            normal=[0, 0, 1]\n",
    "        )\n",
    "    )\n",
    ")"
   ]
  },
  {
   "cell_type": "markdown",
   "metadata": {},
   "source": [
    "Add a workspace above the crate where the filling objects should be spawned on top of the crate."
   ]
  },
  {
   "cell_type": "code",
   "execution_count": 5,
   "metadata": {},
   "outputs": [
    {
     "data": {
      "text/plain": [
       "True"
      ]
     },
     "execution_count": 5,
     "metadata": {},
     "output_type": "execute_result"
    }
   ],
   "source": [
    "generator.add_constraint(\n",
    "    name='crate_base',\n",
    "    type='workspace',\n",
    "    frame='world',\n",
    "    geometry=dict( \n",
    "        type='area',\n",
    "        description=dict(\n",
    "          points=[ \n",
    "              [-0.5, -0.4, 0],\n",
    "              [-0.5, 0.4, 0],\n",
    "              [0.5, 0.4, 0],\n",
    "              [0.5, -0.4, 0]\n",
    "          ]\n",
    "        )\n",
    "  )\n",
    ")"
   ]
  },
  {
   "cell_type": "markdown",
   "metadata": {},
   "source": [
    "Add a fixed-pose engine to place the crate on the ground plane."
   ]
  },
  {
   "cell_type": "code",
   "execution_count": 6,
   "metadata": {},
   "outputs": [
    {
     "data": {
      "text/plain": [
       "True"
      ]
     },
     "execution_count": 6,
     "metadata": {},
     "output_type": "execute_result"
    }
   ],
   "source": [
    "generator.add_engine(\n",
    "    tag='crate_engine',\n",
    "    engine_name='fixed_pose',\n",
    "    models=['crate'],\n",
    "    poses=[\n",
    "        [0, 0, 0, 0, 0, 0]\n",
    "    ],\n",
    "    constraints=[\n",
    "        dict(\n",
    "            model='crate',\n",
    "            constraint='tangent_to_ground_plane'\n",
    "        )\n",
    "    ]\n",
    ")"
   ]
  },
  {
   "cell_type": "markdown",
   "metadata": {},
   "source": [
    "Add engine to randomily spawn the spheres, cuboids and cylinder above the crate. \n",
    "\n",
    "A collision checker makes sure none of the objects overlap or are within another."
   ]
  },
  {
   "cell_type": "code",
   "execution_count": 7,
   "metadata": {},
   "outputs": [
    {
     "data": {
      "text/plain": [
       "True"
      ]
     },
     "execution_count": 7,
     "metadata": {},
     "output_type": "execute_result"
    }
   ],
   "source": [
    "num_instances = dict()\n",
    "for tag in crate_assets:\n",
    "    num_instances[tag] = 4\n",
    "\n",
    "generator.add_engine(\n",
    "    tag='fill_crate',\n",
    "    engine_name='random_pose',\n",
    "    models=crate_assets,\n",
    "    max_num=num_instances,\n",
    "    model_picker='random',\n",
    "    no_collision=True,\n",
    "    policies=[\n",
    "        dict(\n",
    "            models=crate_assets,\n",
    "            config=[\n",
    "                dict(\n",
    "                    dofs=['x', 'y'],\n",
    "                    tag='workspace',\n",
    "                    workspace='crate_base'\n",
    "                ),\n",
    "                dict(\n",
    "                    dofs=['z'],\n",
    "                    tag='uniform',\n",
    "                    mean=0.5,\n",
    "                    min=0.0,\n",
    "                    max=3.0\n",
    "                ),\n",
    "                dict(\n",
    "                    dofs=['roll', 'pitch', 'yaw'],\n",
    "                    tag='uniform',\n",
    "                    mean=0,\n",
    "                    min=-3.141592653589793,\n",
    "                    max=3.141592653589793\n",
    "                )\n",
    "            ]\n",
    "        )\n",
    "    ]\n",
    ")"
   ]
  },
  {
   "cell_type": "markdown",
   "metadata": {},
   "source": [
    "Every time the model generator is run, all the assets that have dynamic parameters are re-generated. This makes it possible to have a single configuration for multiple model groups."
   ]
  },
  {
   "cell_type": "code",
   "execution_count": 8,
   "metadata": {},
   "outputs": [
    {
     "name": "stdout",
     "output_type": "stream",
     "text": [
      "Full crate model #0 generated, # nested models=13\n",
      "Full crate model #1 generated, # nested models=13\n",
      "Full crate model #2 generated, # nested models=13\n"
     ]
    }
   ],
   "source": [
    "# Generate model groups\n",
    "models = list()\n",
    "for i in range(3):\n",
    "    models.append(generator.run(group_name='full_crate_{}'.format(i)))\n",
    "    print('Full crate model #{} generated, # nested models={}'.format(i, models[-1].n_models))"
   ]
  },
  {
   "cell_type": "markdown",
   "metadata": {},
   "source": [
    "Start an instance of Gazebo"
   ]
  },
  {
   "cell_type": "code",
   "execution_count": 9,
   "metadata": {},
   "outputs": [
    {
     "name": "stdout",
     "output_type": "stream",
     "text": [
      "2020-03-19 16:38:21,958 | WARNING | __init__ | Error testing Gazebo server, message=Command '['rostopic', 'list']' returned non-zero exit status 1.\n",
      "['gazebo']\n",
      "Is Gazebo running: False\n",
      "2020-03-19 16:38:22,323 | WARNING | __init__ | Error testing Gazebo server, message=Command '['rostopic', 'list']' returned non-zero exit status 1.\n",
      "2020-03-19 16:38:22,331 | WARNING | __init__ | Error testing roscore, message=Command '['rostopic', 'list']' returned non-zero exit status 1.\n",
      "2020-03-19 16:38:22,699 | WARNING | __init__ | Error testing roscore, message=Command '['rostopic', 'list']' returned non-zero exit status 1.\n",
      "2020-03-19 16:38:23,043 | WARNING | __init__ | Error testing roscore, message=Command '['rostopic', 'list']' returned non-zero exit status 1.\n",
      "2020-03-19 16:38:23,152 | WARNING | __init__ | Error testing Gazebo server, message=Command '['rostopic', 'list']' returned non-zero exit status 1.\n",
      "ROS configuration:\n",
      "ROS_MASTER_URI=http://localhost:16323, GAZEBO_MASTER_URI=http://localhost:26882\n"
     ]
    }
   ],
   "source": [
    "try:\n",
    "    import rospy\n",
    "    ROS1_AVAILABLE = True\n",
    "except ImportError:\n",
    "    ROS1_AVAILABLE = False\n",
    "    \n",
    "if not ROS1_AVAILABLE:\n",
    "    print('No ROS 1 available, source the ROS 1 setup.bash to run Gazebo')\n",
    "else:\n",
    "    from pcg_gazebo.generators.creators import create_models_from_config\n",
    "    from pcg_gazebo.task_manager import Server\n",
    "\n",
    "    # Start an empty world Gazebo simulation\n",
    "    server = Server()\n",
    "    server.create_simulation('default')\n",
    "    simulation = server.get_simulation('default')\n",
    "    simulation.create_gazebo_empty_world_task()\n",
    "    print(simulation.get_task_list())\n",
    "    print('Is Gazebo running: {}'.format(\n",
    "        simulation.is_task_running('gazebo')))\n",
    "    simulation.run_all_tasks()\n",
    "\n",
    "    # Create a Gazebo proxy\n",
    "    gazebo_proxy = simulation.get_gazebo_proxy()\n",
    "    print('ROS configuration:')\n",
    "    print(gazebo_proxy.ros_config)\n",
    "\n",
    "    # Pause the simulation\n",
    "    gazebo_proxy.pause()"
   ]
  },
  {
   "cell_type": "markdown",
   "metadata": {},
   "source": [
    "Spawn model groups as nested models."
   ]
  },
  {
   "cell_type": "code",
   "execution_count": 10,
   "metadata": {},
   "outputs": [
    {
     "name": "stdout",
     "output_type": "stream",
     "text": [
      "<class 'pcg_gazebo.simulation.model_group.ModelGroup'>\n",
      "<class 'pcg_gazebo.simulation.model_group.ModelGroup'>\n",
      "<class 'pcg_gazebo.simulation.model_group.ModelGroup'>\n"
     ]
    }
   ],
   "source": [
    "# Spawn models\n",
    "if ROS1_AVAILABLE:\n",
    "    for i in range(len(models)):\n",
    "        print(type(models[i]))\n",
    "        models[i].spawn(\n",
    "            robot_namespace='full_crate_{}'.format(i),\n",
    "            gazebo_proxy=gazebo_proxy, pos=[i * 2 - 2, 0, 0], nested=True)"
   ]
  },
  {
   "cell_type": "code",
   "execution_count": 11,
   "metadata": {},
   "outputs": [
    {
     "name": "stdout",
     "output_type": "stream",
     "text": [
      "2020-03-19 16:47:08,839 | WARNING | task | Task <gazebo> - Killing process tree...\n",
      "2020-03-19 16:47:08,859 | WARNING | task | Sending SIGINT to child process id=17932\n",
      "2020-03-19 16:47:08,860 | WARNING | task | Child process 17932 still running\n",
      "2020-03-19 16:47:08,861 | WARNING | task | Sending SIGINT to child process id=17951\n",
      "2020-03-19 16:47:08,862 | WARNING | task | Child process 17951 still running\n",
      "2020-03-19 16:47:08,863 | WARNING | task | Sending SIGINT to child process id=17956\n",
      "2020-03-19 16:47:08,864 | WARNING | task | Child process 17956 still running\n",
      "2020-03-19 16:47:08,865 | WARNING | task | Sending SIGINT to child process id=18028\n",
      "2020-03-19 16:47:08,866 | WARNING | task | Child process 18028 still running\n",
      "2020-03-19 16:47:08,867 | WARNING | task | Sending SIGINT to child process id=18013\n",
      "2020-03-19 16:47:08,868 | WARNING | task | Child process 18013 still running\n",
      "2020-03-19 16:47:08,868 | WARNING | task | Sending SIGINT to child process id=17931\n",
      "2020-03-19 16:47:08,869 | WARNING | task | Child process 17931 still running\n",
      "2020-03-19 16:47:09,800 | WARNING | task | Process 18013 already terminated\n",
      "2020-03-19 16:47:10,014 | WARNING | task | Process 17951 already terminated\n",
      "2020-03-19 16:47:24,335 | WARNING | task | Process 17932 already terminated\n",
      "2020-03-19 16:47:24,336 | WARNING | task | Process 17956 already terminated\n",
      "2020-03-19 16:47:24,337 | WARNING | task | Process 18028 already terminated\n",
      "2020-03-19 16:47:24,338 | WARNING | task | Process 17931 already terminated\n",
      "2020-03-19 16:47:24,339 | WARNING | task | Kill processes=\n",
      "\t - Gone=[psutil.Process(pid=17932, status='terminated'), psutil.Process(pid=17951, status='terminated'), psutil.Process(pid=17956, status='terminated'), psutil.Process(pid=18028, status='terminated'), psutil.Process(pid=17931, status='terminated'), psutil.Process(pid=18013, status='terminated')]\n",
      "\t - Alive[]\n",
      "2020-03-19 16:47:24,340 | WARNING | task | Task <roscore> - Killing process tree...\n",
      "2020-03-19 16:47:24,356 | WARNING | task | Sending SIGINT to child process id=17875\n",
      "2020-03-19 16:47:24,358 | WARNING | task | Child process 17875 still running\n",
      "2020-03-19 16:47:24,359 | WARNING | task | Sending SIGINT to child process id=17893\n",
      "2020-03-19 16:47:24,360 | WARNING | task | Child process 17893 still running\n",
      "2020-03-19 16:47:24,361 | WARNING | task | Sending SIGINT to child process id=17911\n",
      "2020-03-19 16:47:24,362 | WARNING | task | Child process 17911 still running\n",
      "2020-03-19 16:47:24,363 | WARNING | task | Sending SIGINT to child process id=17874\n",
      "2020-03-19 16:47:24,365 | WARNING | task | Child process 17874 still running\n",
      "2020-03-19 16:47:24,630 | WARNING | task | Process 17893 already terminated\n",
      "2020-03-19 16:47:24,763 | WARNING | task | Process 17874 already terminated\n",
      "2020-03-19 16:47:24,765 | WARNING | task | Process 17911 already terminated\n",
      "2020-03-19 16:47:24,765 | WARNING | task | Process 17875 already terminated\n",
      "2020-03-19 16:47:24,766 | WARNING | task | Kill processes=\n",
      "\t - Gone=[psutil.Process(pid=17893, status='terminated'), psutil.Process(pid=17874, status='terminated'), psutil.Process(pid=17911, status='terminated'), psutil.Process(pid=17875, status='terminated')]\n",
      "\t - Alive[]\n",
      "2020-03-19 16:47:24,767 | WARNING | process_manager | Required task <roscore> has been terminated, killing all tasks\n",
      "2020-03-19 16:47:24,768 | WARNING | task | Task <gazebo> - Process object is invalid\n"
     ]
    }
   ],
   "source": [
    "if ROS1_AVAILABLE:\n",
    "    simulation.kill_all_tasks()"
   ]
  },
  {
   "cell_type": "markdown",
   "metadata": {},
   "source": [
    "A sample of the generated full crates can be seen below\n",
    "\n",
    "![sim_generated_crates](images/sim_generated_crates.png)"
   ]
  },
  {
   "cell_type": "code",
   "execution_count": null,
   "metadata": {},
   "outputs": [],
   "source": []
  }
 ],
 "metadata": {
  "kernelspec": {
   "display_name": "Python 3",
   "language": "python",
   "name": "python3"
  },
  "language_info": {
   "codemirror_mode": {
    "name": "ipython",
    "version": 3
   },
   "file_extension": ".py",
   "mimetype": "text/x-python",
   "name": "python",
   "nbconvert_exporter": "python",
   "pygments_lexer": "ipython3",
   "version": "3.6.9"
  }
 },
 "nbformat": 4,
 "nbformat_minor": 4
}
