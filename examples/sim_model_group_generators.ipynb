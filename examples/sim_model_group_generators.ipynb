{
 "cells": [
  {
   "cell_type": "markdown",
   "metadata": {},
   "source": [
    "# Model group generators\n",
    "\n",
    "Model groups can be configured with object placement engines and spatial constraints to generate a group of models to be added to a `ModelGroup` set. \n",
    "\n",
    "`ModelGroup` entities can keep a group of models under an unique frame and easily spawn the models with respect to the model group frame. \n",
    "The model group can then be spawned in Gazebo as **multiple individual models** or **nested models**.\n",
    "\n",
    "In this example, a crate is created from a mesh and filled with **spheres**, **cuboids** and **cylinders** of random dimensions and masses."
   ]
  },
  {
   "cell_type": "code",
   "execution_count": 1,
   "metadata": {},
   "outputs": [],
   "source": [
    "import os\n",
    "from pcg_gazebo.generators import ModelGroupGenerator\n",
    "\n",
    "generator = ModelGroupGenerator('full_crate')"
   ]
  },
  {
   "cell_type": "markdown",
   "metadata": {},
   "source": [
    "Add the single-link model of a crate generated from the mesh below to the assets manager.\n",
    "\n",
    "![crate](images/crate.png)"
   ]
  },
  {
   "cell_type": "code",
   "execution_count": 2,
   "metadata": {},
   "outputs": [
    {
     "data": {
      "text/plain": [
       "True"
      ]
     },
     "execution_count": 2,
     "metadata": {},
     "output_type": "execute_result"
    }
   ],
   "source": [
    "generator.add_asset(\n",
    "    tag='crate',\n",
    "    description=dict(\n",
    "        type='mesh',\n",
    "        args=dict(\n",
    "            visual_mesh='file://' + os.path.abspath('meshes/crate.stl'),\n",
    "            visual_mesh_scale=[1, 1, 1],\n",
    "            use_approximated_collision=False,\n",
    "            name='crate',\n",
    "            color='xkcd'\n",
    "        )\n",
    "    )\n",
    ")"
   ]
  },
  {
   "cell_type": "markdown",
   "metadata": {},
   "source": [
    "Add **spheres**, **cuboids** and **cylinder** models to the assets manager to fill the crate.\n",
    "\n",
    "Since the dimensions and masses are defined by **lambda functions**, the respective **model factory** for the model primitives is going to be called and the lambda functions run to set the parameters of the model."
   ]
  },
  {
   "cell_type": "code",
   "execution_count": 3,
   "metadata": {},
   "outputs": [
    {
     "data": {
      "text/plain": [
       "True"
      ]
     },
     "execution_count": 3,
     "metadata": {},
     "output_type": "execute_result"
    }
   ],
   "source": [
    "generator.add_asset(\n",
    "    tag='ball',\n",
    "    description=dict(\n",
    "        type='sphere',\n",
    "        args=dict(\n",
    "            radius=\"max(0.05, 0.3 * __import__('numpy').random.random())\",\n",
    "            name='sphere',\n",
    "            mass=\"max(0.1, __import__('numpy').random.random())\",\n",
    "            color='xkcd'\n",
    "        )\n",
    "    )\n",
    ")\n",
    "\n",
    "generator.add_asset(\n",
    "    tag='cuboid',\n",
    "    description=dict(\n",
    "        type='box',\n",
    "        args=dict(\n",
    "            size=\"0.5 * __import__('numpy').random.random(3)\",\n",
    "            name='cuboid',\n",
    "            mass=\"max(0.01, __import__('numpy').random.random())\",\n",
    "            color='xkcd'\n",
    "        )\n",
    "    )\n",
    ")\n",
    "\n",
    "generator.add_asset(\n",
    "    tag='cylinder',\n",
    "    description=dict(\n",
    "        type='cylinder',\n",
    "        args=dict(\n",
    "            length=\"max(0.05, 0.2 *__import__('numpy').random.random())\",\n",
    "            radius=\"max(0.05, 0.2 *__import__('numpy').random.random())\",\n",
    "            name='cuboid',\n",
    "            mass=\"max(0.01, __import__('numpy').random.random())\",\n",
    "            color='xkcd'\n",
    "        )\n",
    "    )\n",
    ")"
   ]
  },
  {
   "cell_type": "markdown",
   "metadata": {},
   "source": [
    "Add constraint to place objects tangent to the ground plane."
   ]
  },
  {
   "cell_type": "code",
   "execution_count": 4,
   "metadata": {},
   "outputs": [
    {
     "data": {
      "text/plain": [
       "True"
      ]
     },
     "execution_count": 4,
     "metadata": {},
     "output_type": "execute_result"
    }
   ],
   "source": [
    "generator.add_constraint(\n",
    "    name='tangent_to_ground_plane',\n",
    "    type='tangent',\n",
    "    frame='world',\n",
    "    reference=dict(\n",
    "        type='plane',\n",
    "        args=dict(\n",
    "            origin=[0, 0, 0],\n",
    "            normal=[0, 0, 1]\n",
    "        )\n",
    "    )\n",
    ")"
   ]
  },
  {
   "cell_type": "markdown",
   "metadata": {},
   "source": [
    "Add a workspace above the crate where the filling objects should be spawned on top of the crate."
   ]
  },
  {
   "cell_type": "code",
   "execution_count": 5,
   "metadata": {},
   "outputs": [
    {
     "data": {
      "text/plain": [
       "True"
      ]
     },
     "execution_count": 5,
     "metadata": {},
     "output_type": "execute_result"
    }
   ],
   "source": [
    "generator.add_constraint(\n",
    "    name='crate_base',\n",
    "    type='workspace',\n",
    "    frame='world',\n",
    "    geometry=dict( \n",
    "        type='area',\n",
    "        description=dict(\n",
    "          points=[ \n",
    "              [-0.5, -0.4, 0],\n",
    "              [-0.5, 0.4, 0],\n",
    "              [0.5, 0.4, 0],\n",
    "              [0.5, -0.4, 0]\n",
    "          ]\n",
    "        )\n",
    "  )\n",
    ")"
   ]
  },
  {
   "cell_type": "markdown",
   "metadata": {},
   "source": [
    "Add a fixed-pose engine to place the crate on the ground plane."
   ]
  },
  {
   "cell_type": "code",
   "execution_count": 6,
   "metadata": {},
   "outputs": [
    {
     "data": {
      "text/plain": [
       "True"
      ]
     },
     "execution_count": 6,
     "metadata": {},
     "output_type": "execute_result"
    }
   ],
   "source": [
    "generator.add_engine(\n",
    "    tag='crate_engine',\n",
    "    engine_name='fixed_pose',\n",
    "    models=['crate'],\n",
    "    poses=[\n",
    "        [0, 0, 0, 0, 0, 0]\n",
    "    ],\n",
    "    constraints=[\n",
    "        dict(\n",
    "            model='crate',\n",
    "            constraint='tangent_to_ground_plane'\n",
    "        )\n",
    "    ]\n",
    ")"
   ]
  },
  {
   "cell_type": "markdown",
   "metadata": {},
   "source": [
    "Add engine to randomily spawn the spheres, cuboids and cylinder above the crate. \n",
    "\n",
    "A collision checker makes sure none of the objects overlap or are within another."
   ]
  },
  {
   "cell_type": "code",
   "execution_count": 7,
   "metadata": {},
   "outputs": [
    {
     "data": {
      "text/plain": [
       "True"
      ]
     },
     "execution_count": 7,
     "metadata": {},
     "output_type": "execute_result"
    }
   ],
   "source": [
    "generator.add_engine(\n",
    "    tag='fill_crate',\n",
    "    engine_name='random_pose',\n",
    "    models=['ball', 'cuboid', 'cylinder'],\n",
    "    max_num=dict(\n",
    "        ball=4,\n",
    "        cuboid=4,\n",
    "        cylinder=4\n",
    "    ),\n",
    "    model_picker='random',\n",
    "    no_collision=True,\n",
    "    policies=[\n",
    "        dict(\n",
    "            models=['ball', 'cuboid', 'cylinder'],\n",
    "            config=[\n",
    "                dict(\n",
    "                    dofs=['x', 'y'],\n",
    "                    policy=dict(\n",
    "                        name='workspace',\n",
    "                        args='crate_base'\n",
    "                    )\n",
    "                ),\n",
    "                dict(\n",
    "                    dofs=['z'],\n",
    "                    policy=dict(\n",
    "                        name='uniform',\n",
    "                        args=dict(\n",
    "                            mean=0.5,\n",
    "                            min=0.0,\n",
    "                            max=3.0\n",
    "                        )\n",
    "                    )\n",
    "                ),\n",
    "                dict(\n",
    "                    dofs=['roll', 'pitch', 'yaw'],\n",
    "                    policy=dict(\n",
    "                        name='uniform',\n",
    "                        args=dict(\n",
    "                            mean=0,\n",
    "                            min=-3.141592653589793,\n",
    "                            max=3.141592653589793\n",
    "                        )\n",
    "                    )\n",
    "                )\n",
    "            ]\n",
    "        )\n",
    "    ]\n",
    ")"
   ]
  },
  {
   "cell_type": "markdown",
   "metadata": {},
   "source": [
    "Every time the model generator is run, all the assets that have dynamic parameters are re-generated. This makes it possible to have a single configuration for multiple model groups."
   ]
  },
  {
   "cell_type": "code",
   "execution_count": 8,
   "metadata": {},
   "outputs": [],
   "source": [
    "# Generate model groups\n",
    "models = list()\n",
    "for i in range(3):\n",
    "    models.append(generator.run(group_name='full_crate_{}'.format(i)))"
   ]
  },
  {
   "cell_type": "markdown",
   "metadata": {},
   "source": [
    "Start an instance of Gazebo"
   ]
  },
  {
   "cell_type": "code",
   "execution_count": 9,
   "metadata": {},
   "outputs": [
    {
     "name": "stdout",
     "output_type": "stream",
     "text": [
      "2020-01-30 18:24:42,739 | ERROR | __init__ | Error testing Gazebo server, message=Command '['rostopic', 'list']' returned non-zero exit status 1.\n",
      "['gazebo']\n",
      "Is Gazebo running: False\n",
      "2020-01-30 18:24:43,076 | ERROR | __init__ | Error testing roscore, message=Command '['rostopic', 'list']' returned non-zero exit status 1.\n",
      "2020-01-30 18:24:43,082 | ERROR | __init__ | Error testing Gazebo server, message=Command '['rostopic', 'list']' returned non-zero exit status 1.\n",
      "2020-01-30 18:24:43,412 | ERROR | __init__ | Error testing roscore, message=Command '['rostopic', 'list']' returned non-zero exit status 1.\n",
      "2020-01-30 18:24:43,734 | ERROR | __init__ | Error testing roscore, message=Command '['rostopic', 'list']' returned non-zero exit status 1.\n"
     ]
    }
   ],
   "source": [
    "from pcg_gazebo.generators.creators import create_models_from_config\n",
    "from pcg_gazebo.task_manager import Server\n",
    "\n",
    "# Start an empty world Gazebo simulation\n",
    "server = Server()\n",
    "server.create_simulation('default')\n",
    "simulation = server.get_simulation('default')\n",
    "simulation.create_gazebo_empty_world_task()\n",
    "print(simulation.get_task_list())\n",
    "print('Is Gazebo running: {}'.format(\n",
    "    simulation.is_task_running('gazebo')))\n",
    "simulation.run_all_tasks()\n",
    "\n",
    "# Create a Gazebo proxy\n",
    "gazebo_proxy = simulation.get_gazebo_proxy()\n",
    "\n",
    "# Pause the simulation\n",
    "gazebo_proxy.pause()"
   ]
  },
  {
   "cell_type": "markdown",
   "metadata": {},
   "source": [
    "Spawn model groups as nested models."
   ]
  },
  {
   "cell_type": "code",
   "execution_count": 10,
   "metadata": {},
   "outputs": [],
   "source": [
    "# Spawn models\n",
    "for i in range(len(models)):\n",
    "    models[i].spawn(robot_namespace='full_crate_{}'.format(i), gazebo_proxy=gazebo_proxy, pos=[i * 2 - 2, 0, 0], nested=True)"
   ]
  },
  {
   "cell_type": "code",
   "execution_count": 12,
   "metadata": {},
   "outputs": [],
   "source": [
    "simulation.kill_all_tasks()"
   ]
  },
  {
   "cell_type": "markdown",
   "metadata": {},
   "source": [
    "A sample of the generated full crates can be seen below\n",
    "\n",
    "![sim_generated_crates](images/sim_generated_crates.png)"
   ]
  },
  {
   "cell_type": "code",
   "execution_count": null,
   "metadata": {},
   "outputs": [],
   "source": []
  }
 ],
 "metadata": {
  "kernelspec": {
   "display_name": "Python 3",
   "language": "python",
   "name": "python3"
  },
  "language_info": {
   "codemirror_mode": {
    "name": "ipython",
    "version": 3
   },
   "file_extension": ".py",
   "mimetype": "text/x-python",
   "name": "python",
   "nbconvert_exporter": "python",
   "pygments_lexer": "ipython3",
   "version": "3.6.9"
  }
 },
 "nbformat": 4,
 "nbformat_minor": 4
}
