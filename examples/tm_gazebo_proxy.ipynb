{
 "cells": [
  {
   "cell_type": "markdown",
   "metadata": {},
   "source": [
    "# Gazebo proxy\n",
    "\n",
    "The Gazebo proxy is an implementation of interfaces with all services provided by the `gazebo_ros_pkgs`. It allows easy use and from of the simulation through Python. \n",
    "\n",
    "It can be configured for different `ROS_MASTER_URI` and `GAZEBO_MASTER_URI` environment variables to access instances of Gazebo running in other hosts/ports.\n",
    "\n",
    "The tutorial below will make use of the simulation manager to start instances of Gazebo."
   ]
  },
  {
   "cell_type": "code",
   "execution_count": 1,
   "metadata": {},
   "outputs": [],
   "source": [
    "# Importing the Gazebo proxy\n",
    "from pcg_gazebo.task_manager import GazeboProxy"
   ]
  },
  {
   "cell_type": "markdown",
   "metadata": {},
   "source": [
    "The Gazebo proxy may also work with an instance of Gazebo that has been started external to the scope of this package, for example by running\n",
    "\n",
    "```\n",
    "roslaunch gazebo_ros empty_world.launch\n",
    "```\n",
    "\n",
    "The only instance will be found by using the input hostname and ports for which they are running. \n",
    "Here we will use the simulation manager."
   ]
  },
  {
   "cell_type": "code",
   "execution_count": 2,
   "metadata": {},
   "outputs": [
    {
     "name": "stdout",
     "output_type": "stream",
     "text": [
      "2020-09-11 15:00:10,477 | WARNING | __init__ | Error testing Gazebo server, message=Command '['rostopic', 'list']' returned non-zero exit status 1\n"
     ]
    }
   ],
   "source": [
    "# If there is a Gazebo instance running, you can spawn the box into the simulation\n",
    "from pcg_gazebo.task_manager import Server\n",
    "# First create a simulation server\n",
    "server = Server()\n",
    "# Create a simulation manager named default\n",
    "server.create_simulation('default')\n",
    "simulation = server.get_simulation('default')\n",
    "# Run an instance of the empty.world scenario\n",
    "# This is equivalent to run\n",
    "#      roslaunch gazebo_ros empty_world.launch\n",
    "# with all default parameters\n",
    "if not simulation.create_gazebo_empty_world_task():\n",
    "    raise RuntimeError('Task for gazebo empty world could not be created')"
   ]
  },
  {
   "cell_type": "code",
   "execution_count": 3,
   "metadata": {},
   "outputs": [
    {
     "name": "stdout",
     "output_type": "stream",
     "text": [
      "['gazebo']\n",
      "Is Gazebo running: False\n"
     ]
    }
   ],
   "source": [
    "# A task named 'gazebo' the added to the tasks list\n",
    "print(simulation.get_task_list())\n",
    "# But it is still not running\n",
    "print('Is Gazebo running: {}'.format(simulation.is_task_running('gazebo')))"
   ]
  },
  {
   "cell_type": "code",
   "execution_count": 4,
   "metadata": {},
   "outputs": [
    {
     "name": "stdout",
     "output_type": "stream",
     "text": [
      "2020-09-11 15:00:19,569 | WARNING | __init__ | Error testing roscore, message=Command '['rostopic', 'list']' returned non-zero exit status 1\n",
      "2020-09-11 15:00:19,807 | WARNING | __init__ | Error testing roscore, message=Command '['rostopic', 'list']' returned non-zero exit status 1\n",
      "2020-09-11 15:00:20,059 | WARNING | __init__ | Error testing roscore, message=Command '['rostopic', 'list']' returned non-zero exit status 1\n"
     ]
    }
   ],
   "source": [
    "# Run Gazebo\n",
    "simulation.run_all_tasks()"
   ]
  },
  {
   "cell_type": "markdown",
   "metadata": {},
   "source": [
    "Adding some models to the simulation to demonstrate the Gazebo proxy methods. \n"
   ]
  },
  {
   "cell_type": "code",
   "execution_count": 5,
   "metadata": {
    "slideshow": {
     "slide_type": "slide"
    }
   },
   "outputs": [],
   "source": [
    "# Now create the Gazebo proxy with the default parameters. \n",
    "# If these input arguments are not provided, they will be used per default.\n",
    "gazebo_proxy = simulation.get_gazebo_proxy()\n",
    "# The timeout argument will be used raise an exception in case Gazebo \n",
    "# fails to start"
   ]
  },
  {
   "cell_type": "code",
   "execution_count": 7,
   "metadata": {},
   "outputs": [
    {
     "name": "stdout",
     "output_type": "stream",
     "text": [
      "line 93.\n",
      "line 104.\n",
      "line 107.\n",
      "line 109.\n",
      "line 111.\n",
      "line 109.\n",
      "line 111.\n",
      "line 108.\n",
      "line 94.\n",
      "line 101.\n",
      "line 102.\n",
      "line 104.\n",
      "line 107.\n",
      "line 109.\n",
      "line 111.\n",
      "line 109.\n",
      "line 111.\n",
      "line 108.\n",
      "line 103.\n",
      "line 95.\n",
      "line 96.\n",
      "line 88.\n",
      "line 89.\n",
      "default\n",
      "line 90.\n",
      "line 91.\n",
      "line 92.\n",
      "<model name=\"box\">\n",
      "  <allow_auto_disable>0</allow_auto_disable>\n",
      "  <pose frame=\"\">0 0 0 0 -0 0</pose>\n",
      "  <static>0</static>\n",
      "  <link name=\"box\">\n",
      "    <collision name=\"collision\">\n",
      "      <pose frame=\"\">0 0 0 0 -0 0</pose>\n",
      "      <geometry>\n",
      "        <box>\n",
      "          <size>1 1 1</size>\n",
      "        </box>\n",
      "      </geometry>\n",
      "    </collision>\n",
      "    <visual name=\"visual\">\n",
      "      <transparency>0.0</transparency>\n",
      "      <pose frame=\"\">0 0 0 0 -0 0</pose>\n",
      "      <cast_shadows>1</cast_shadows>\n",
      "      <geometry>\n",
      "        <box>\n",
      "          <size>1 1 1</size>\n",
      "        </box>\n",
      "      </geometry>\n",
      "    </visual>\n",
      "    <inertial>\n",
      "      <inertia>\n",
      "        <ixz>0.0</ixz>\n",
      "        <izz>3.333333333333333</izz>\n",
      "        <iyz>0.0</iyz>\n",
      "        <iyy>3.333333333333333</iyy>\n",
      "        <ixy>0.0</ixy>\n",
      "        <ixx>3.333333333333333</ixx>\n",
      "      </inertia>\n",
      "      <pose frame=\"\">0 0 0 0 -0 0</pose>\n",
      "      <mass>20.0</mass>\n",
      "    </inertial>\n",
      "    <self_collide>0</self_collide>\n",
      "    <gravity>1</gravity>\n",
      "    <kinematic>0</kinematic>\n",
      "  </link>\n",
      "</model>\n",
      "\n"
     ]
    }
   ],
   "source": [
    "from pcg_gazebo.simulation import create_object\n",
    "from pcg_gazebo.generators import WorldGenerator\n",
    "\n",
    "generator = WorldGenerator(gazebo_proxy=gazebo_proxy)\n",
    "\n",
    "box = create_object('box')\n",
    "box.add_inertial(mass=20)\n",
    "print(box.to_sdf('model'))"
   ]
  },
  {
   "cell_type": "code",
   "execution_count": 8,
   "metadata": {},
   "outputs": [
    {
     "data": {
      "text/plain": [
       "True"
      ]
     },
     "execution_count": 8,
     "metadata": {},
     "output_type": "execute_result"
    }
   ],
   "source": [
    "generator.spawn_model(\n",
    "    model=box, \n",
    "    robot_namespace='box_1',\n",
    "    pos=[-2, -2, 3])\n",
    "\n",
    "generator.spawn_model(\n",
    "    model=box, \n",
    "    robot_namespace='box_2',\n",
    "    pos=[2, 2, 3])"
   ]
  },
  {
   "cell_type": "markdown",
   "metadata": {},
   "source": [
    "## Pausing/unpausing the simulation\n"
   ]
  },
  {
   "cell_type": "code",
   "execution_count": 9,
   "metadata": {},
   "outputs": [
    {
     "name": "stdout",
     "output_type": "stream",
     "text": [
      "Simulation time before pause=188.815\n",
      "Gazebo paused, simulation time=188.815\n",
      "Gazebo paused, simulation time=188.815\n",
      "Gazebo paused, simulation time=188.815\n",
      "Gazebo paused, simulation time=188.815\n",
      "Gazebo paused, simulation time=188.815\n",
      "Gazebo paused, simulation time=188.815\n",
      "Gazebo paused, simulation time=188.815\n",
      "Gazebo paused, simulation time=188.815\n",
      "Gazebo paused, simulation time=188.815\n",
      "Gazebo paused, simulation time=188.815\n",
      "Unpausing simulation!\n",
      "Simulation time after pause=190.808\n"
     ]
    }
   ],
   "source": [
    "from time import time, sleep\n",
    "pause_timeout = 10 # seconds\n",
    "start_time = time()\n",
    "# Pausing simulation\n",
    "gazebo_proxy.pause()\n",
    "print('Simulation time before pause={}'.format(gazebo_proxy.sim_time))\n",
    "while time() - start_time < pause_timeout:\n",
    "    print('Gazebo paused, simulation time={}'.format(gazebo_proxy.sim_time))\n",
    "    sleep(1)\n",
    "print('Unpausing simulation!')\n",
    "gazebo_proxy.unpause()\n",
    "sleep(2)\n",
    "print('Simulation time after pause={}'.format(gazebo_proxy.sim_time))"
   ]
  },
  {
   "cell_type": "markdown",
   "metadata": {},
   "source": [
    "## Get world properties\n",
    "\n",
    "The world properties return \n",
    "\n",
    "* Simulation time (`sim_time`)\n",
    "* List of names of models (`model_names`)\n",
    "* Is rendering enabled flag (`rendering_enabled`)\n",
    "\n",
    "The return of this function is simply the service object [`GetWorldProperties`](https://github.com/ros-simulation/gazebo_ros_pkgs/blob/kinetic-devel/gazebo_msgs/srv/GetWorldProperties.srv)."
   ]
  },
  {
   "cell_type": "code",
   "execution_count": 10,
   "metadata": {},
   "outputs": [
    {
     "data": {
      "text/plain": [
       "sim_time: 197.68\n",
       "model_names: [ground_plane, box_1, box_2]\n",
       "rendering_enabled: True\n",
       "success: True\n",
       "status_message: \"GetWorldProperties: got properties\""
      ]
     },
     "execution_count": 10,
     "metadata": {},
     "output_type": "execute_result"
    }
   ],
   "source": [
    "# The world properties returns the following\n",
    "gazebo_proxy.get_world_properties()"
   ]
  },
  {
   "cell_type": "markdown",
   "metadata": {},
   "source": [
    "## Model properties"
   ]
  },
  {
   "cell_type": "code",
   "execution_count": 11,
   "metadata": {},
   "outputs": [
    {
     "data": {
      "text/plain": [
       "['ground_plane', 'box_1', 'box_2']"
      ]
     },
     "execution_count": 11,
     "metadata": {},
     "output_type": "execute_result"
    }
   ],
   "source": [
    "# Get list of models\n",
    "gazebo_proxy.get_model_names()"
   ]
  },
  {
   "cell_type": "code",
   "execution_count": 12,
   "metadata": {},
   "outputs": [
    {
     "name": "stdout",
     "output_type": "stream",
     "text": [
      "ground_plane\n",
      "parent_model_name: ''\n",
      "canonical_body_name: ''\n",
      "body_names: [link]\n",
      "geom_names: [collision]\n",
      "joint_names: []\n",
      "child_model_names: []\n",
      "is_static: True\n",
      "success: True\n",
      "status_message: \"GetModelProperties: got properties\"\n",
      "-----------------\n",
      "box_1\n",
      "parent_model_name: ''\n",
      "canonical_body_name: ''\n",
      "body_names: [box]\n",
      "geom_names: [collision]\n",
      "joint_names: []\n",
      "child_model_names: []\n",
      "is_static: False\n",
      "success: True\n",
      "status_message: \"GetModelProperties: got properties\"\n",
      "-----------------\n",
      "box_2\n",
      "parent_model_name: ''\n",
      "canonical_body_name: ''\n",
      "body_names: [box]\n",
      "geom_names: [collision]\n",
      "joint_names: []\n",
      "child_model_names: []\n",
      "is_static: False\n",
      "success: True\n",
      "status_message: \"GetModelProperties: got properties\"\n",
      "-----------------\n"
     ]
    }
   ],
   "source": [
    "# Get model properties\n",
    "for model in gazebo_proxy.get_model_names():\n",
    "    print(model)\n",
    "    print(gazebo_proxy.get_model_properties(model))\n",
    "    print('-----------------')"
   ]
  },
  {
   "cell_type": "code",
   "execution_count": 13,
   "metadata": {},
   "outputs": [
    {
     "name": "stdout",
     "output_type": "stream",
     "text": [
      "ground_plane\n",
      "header: \n",
      "  seq: 1\n",
      "  stamp: \n",
      "    secs: 248\n",
      "    nsecs: 382000000\n",
      "  frame_id: \"world\"\n",
      "pose: \n",
      "  position: \n",
      "    x: 0.0\n",
      "    y: 0.0\n",
      "    z: 0.0\n",
      "  orientation: \n",
      "    x: 0.0\n",
      "    y: 0.0\n",
      "    z: 0.0\n",
      "    w: 1.0\n",
      "twist: \n",
      "  linear: \n",
      "    x: 0.0\n",
      "    y: 0.0\n",
      "    z: 0.0\n",
      "  angular: \n",
      "    x: 0.0\n",
      "    y: 0.0\n",
      "    z: 0.0\n",
      "success: True\n",
      "status_message: \"GetModelState: got properties\"\n",
      "-----------------\n",
      "box_1\n",
      "header: \n",
      "  seq: 1\n",
      "  stamp: \n",
      "    secs: 248\n",
      "    nsecs: 388000000\n",
      "  frame_id: \"world\"\n",
      "pose: \n",
      "  position: \n",
      "    x: -2.0000000000000546\n",
      "    y: -2.000000000000206\n",
      "    z: 0.4999999999020089\n",
      "  orientation: \n",
      "    x: 1.899091304163424e-13\n",
      "    y: -5.0738731926655595e-14\n",
      "    z: -9.006695800745552e-15\n",
      "    w: 1.0\n",
      "twist: \n",
      "  linear: \n",
      "    x: -2.380700226833934e-10\n",
      "    y: -2.380878774378382e-10\n",
      "    z: 9.79926227440142e-10\n",
      "  angular: \n",
      "    x: 4.761622858544418e-10\n",
      "    y: -4.761370400982932e-10\n",
      "    z: 1.3834974617565203e-15\n",
      "success: True\n",
      "status_message: \"GetModelState: got properties\"\n",
      "-----------------\n",
      "box_2\n",
      "header: \n",
      "  seq: 1\n",
      "  stamp: \n",
      "    secs: 248\n",
      "    nsecs: 392000000\n",
      "  frame_id: \"world\"\n",
      "pose: \n",
      "  position: \n",
      "    x: 1.9999999999999458\n",
      "    y: 1.9999999999997948\n",
      "    z: 0.4999999999020089\n",
      "  orientation: \n",
      "    x: 1.8990913143432183e-13\n",
      "    y: -5.073873221769789e-14\n",
      "    z: -8.918138871529376e-15\n",
      "    w: 1.0\n",
      "twist: \n",
      "  linear: \n",
      "    x: -2.380700233002368e-10\n",
      "    y: -2.3808787793883623e-10\n",
      "    z: 9.799262257054186e-10\n",
      "  angular: \n",
      "    x: 4.761622868565072e-10\n",
      "    y: -4.761370413319568e-10\n",
      "    z: 1.3834974510636588e-15\n",
      "success: True\n",
      "status_message: \"GetModelState: got properties\"\n",
      "-----------------\n"
     ]
    }
   ],
   "source": [
    "# Get model state\n",
    "for model in gazebo_proxy.get_model_names():\n",
    "    print(model)\n",
    "    print(gazebo_proxy.get_model_state(model_name=model, reference_frame='world'))\n",
    "    print('-----------------')"
   ]
  },
  {
   "cell_type": "code",
   "execution_count": 14,
   "metadata": {},
   "outputs": [
    {
     "name": "stdout",
     "output_type": "stream",
     "text": [
      "Does ground_plane exist? True\n",
      "Does my_model exist? False\n"
     ]
    }
   ],
   "source": [
    "# Check if model exists\n",
    "print('Does ground_plane exist? {}'.format(gazebo_proxy.model_exists('ground_plane')))\n",
    "print('Does my_model exist? {}'.format(gazebo_proxy.model_exists('my_model')))"
   ]
  },
  {
   "cell_type": "code",
   "execution_count": 15,
   "metadata": {},
   "outputs": [
    {
     "name": "stdout",
     "output_type": "stream",
     "text": [
      "ground_plane\n",
      "['link']\n",
      "-----------------\n",
      "box_1\n",
      "['box']\n",
      "-----------------\n",
      "box_2\n",
      "['box']\n",
      "-----------------\n"
     ]
    }
   ],
   "source": [
    "# Get list of link names for a model\n",
    "for model in gazebo_proxy.get_model_names():\n",
    "    print(model)\n",
    "    print(gazebo_proxy.get_link_names(model))\n",
    "    print('-----------------')"
   ]
  },
  {
   "cell_type": "code",
   "execution_count": 16,
   "metadata": {},
   "outputs": [
    {
     "name": "stdout",
     "output_type": "stream",
     "text": [
      "Does ground_plane have a link named link? True\n"
     ]
    }
   ],
   "source": [
    "# Test if model has a link\n",
    "print('Does ground_plane have a link named link? {}'.format(gazebo_proxy.has_link(model_name='ground_plane', link_name='link')))"
   ]
  },
  {
   "cell_type": "code",
   "execution_count": 17,
   "metadata": {},
   "outputs": [
    {
     "name": "stdout",
     "output_type": "stream",
     "text": [
      "ground_plane\n",
      " - link\n",
      "com: \n",
      "  position: \n",
      "    x: 0.0\n",
      "    y: 0.0\n",
      "    z: 0.0\n",
      "  orientation: \n",
      "    x: 0.0\n",
      "    y: 0.0\n",
      "    z: 0.0\n",
      "    w: 1.0\n",
      "gravity_mode: False\n",
      "mass: 0.0\n",
      "ixx: 0.0\n",
      "ixy: 0.0\n",
      "ixz: 0.0\n",
      "iyy: 0.0\n",
      "iyz: 0.0\n",
      "izz: 0.0\n",
      "success: True\n",
      "status_message: \"GetLinkProperties: got properties\"\n",
      "-----------------\n",
      "==================\n",
      "box_1\n",
      " - box\n",
      "com: \n",
      "  position: \n",
      "    x: 0.0\n",
      "    y: 0.0\n",
      "    z: 0.0\n",
      "  orientation: \n",
      "    x: 0.0\n",
      "    y: 0.0\n",
      "    z: 0.0\n",
      "    w: 1.0\n",
      "gravity_mode: True\n",
      "mass: 20.0\n",
      "ixx: 3.33333\n",
      "ixy: 0.0\n",
      "ixz: 0.0\n",
      "iyy: 3.33333\n",
      "iyz: 0.0\n",
      "izz: 3.33333\n",
      "success: True\n",
      "status_message: \"GetLinkProperties: got properties\"\n",
      "-----------------\n",
      "==================\n",
      "box_2\n",
      " - box\n",
      "com: \n",
      "  position: \n",
      "    x: 0.0\n",
      "    y: 0.0\n",
      "    z: 0.0\n",
      "  orientation: \n",
      "    x: 0.0\n",
      "    y: 0.0\n",
      "    z: 0.0\n",
      "    w: 1.0\n",
      "gravity_mode: True\n",
      "mass: 20.0\n",
      "ixx: 3.33333\n",
      "ixy: 0.0\n",
      "ixz: 0.0\n",
      "iyy: 3.33333\n",
      "iyz: 0.0\n",
      "izz: 3.33333\n",
      "success: True\n",
      "status_message: \"GetLinkProperties: got properties\"\n",
      "-----------------\n",
      "==================\n"
     ]
    }
   ],
   "source": [
    "# Get link properties\n",
    "for model in gazebo_proxy.get_model_names():\n",
    "    print(model)\n",
    "    for link in gazebo_proxy.get_link_names(model_name=model):\n",
    "        print(' - ' + link)\n",
    "        print(gazebo_proxy.get_link_properties(model_name=model, link_name=link))\n",
    "        print('-----------------')\n",
    "    print('==================')"
   ]
  },
  {
   "cell_type": "code",
   "execution_count": 18,
   "metadata": {},
   "outputs": [
    {
     "name": "stdout",
     "output_type": "stream",
     "text": [
      "ground_plane\n",
      " - link\n",
      "link_state: \n",
      "  link_name: \"ground_plane::link\"\n",
      "  pose: \n",
      "    position: \n",
      "      x: 0.0\n",
      "      y: 0.0\n",
      "      z: 0.0\n",
      "    orientation: \n",
      "      x: 0.0\n",
      "      y: 0.0\n",
      "      z: 0.0\n",
      "      w: 1.0\n",
      "  twist: \n",
      "    linear: \n",
      "      x: 0.0\n",
      "      y: 0.0\n",
      "      z: 0.0\n",
      "    angular: \n",
      "      x: 0.0\n",
      "      y: 0.0\n",
      "      z: 0.0\n",
      "  reference_frame: ''\n",
      "success: True\n",
      "status_message: \"GetLinkState: got state\"\n",
      "-----------------\n",
      "==================\n",
      "box_1\n",
      " - box\n",
      "link_state: \n",
      "  link_name: \"box_1::box\"\n",
      "  pose: \n",
      "    position: \n",
      "      x: -2.0000000000000546\n",
      "      y: -2.000000000000206\n",
      "      z: 0.4999999999020089\n",
      "    orientation: \n",
      "      x: 1.899091286663272e-13\n",
      "      y: -5.0738731162035414e-14\n",
      "      z: -1.3035145882015015e-14\n",
      "      w: 1.0\n",
      "  twist: \n",
      "    linear: \n",
      "      x: -2.3807002274864624e-10\n",
      "      y: -2.3808787578131324e-10\n",
      "      z: 9.799262256637853e-10\n",
      "    angular: \n",
      "      x: 4.761622825414886e-10\n",
      "      y: -4.761370402287642e-10\n",
      "      z: 1.3834974466873995e-15\n",
      "  reference_frame: ''\n",
      "success: True\n",
      "status_message: \"GetLinkState: got state\"\n",
      "-----------------\n",
      "==================\n",
      "box_2\n",
      " - box\n",
      "link_state: \n",
      "  link_name: \"box_2::box\"\n",
      "  pose: \n",
      "    position: \n",
      "      x: 2.000000000000184\n",
      "      y: 2.000000000000033\n",
      "      z: 0.49999999990200894\n",
      "    orientation: \n",
      "      x: -4.8153071909060573e-14\n",
      "      y: 1.8732345149869448e-13\n",
      "      z: -1.2947725710809035e-14\n",
      "      w: 1.0\n",
      "  twist: \n",
      "    linear: \n",
      "      x: 2.3808779912811764e-10\n",
      "      y: 2.3806985229210614e-10\n",
      "      z: 9.800284425098838e-10\n",
      "    angular: \n",
      "      x: -4.761370835835995e-10\n",
      "      y: 4.761622543025651e-10\n",
      "      z: -1.828505902725939e-15\n",
      "  reference_frame: ''\n",
      "success: True\n",
      "status_message: \"GetLinkState: got state\"\n",
      "-----------------\n",
      "==================\n"
     ]
    }
   ],
   "source": [
    "# Get link state\n",
    "for model in gazebo_proxy.get_model_names():\n",
    "    print(model)\n",
    "    for link in gazebo_proxy.get_link_names(model_name=model):\n",
    "        print(' - ' + link)\n",
    "        print(gazebo_proxy.get_link_state(model_name=model, link_name=link))\n",
    "        print('-----------------')\n",
    "    print('==================')"
   ]
  },
  {
   "cell_type": "markdown",
   "metadata": {},
   "source": [
    "## Get physics properties\n",
    "\n",
    "The physics properties returns the [GetPhysicsProperties](https://github.com/ros-simulation/gazebo_ros_pkgs/blob/kinetic-devel/gazebo_msgs/srv/GetPhysicsProperties.srv) response with the current parameters for the physics engine. Currently only the parameters for the ODE engine can be retrieved."
   ]
  },
  {
   "cell_type": "code",
   "execution_count": 19,
   "metadata": {},
   "outputs": [
    {
     "name": "stdout",
     "output_type": "stream",
     "text": [
      "time_step: 0.001\n",
      "pause: False\n",
      "max_update_rate: 1000.0\n",
      "gravity: \n",
      "  x: 0.0\n",
      "  y: 0.0\n",
      "  z: -9.8\n",
      "ode_config: \n",
      "  auto_disable_bodies: False\n",
      "  sor_pgs_precon_iters: 0\n",
      "  sor_pgs_iters: 50\n",
      "  sor_pgs_w: 1.3\n",
      "  sor_pgs_rms_error_tol: 0.0\n",
      "  contact_surface_layer: 0.001\n",
      "  contact_max_correcting_vel: 100.0\n",
      "  cfm: 0.0\n",
      "  erp: 0.2\n",
      "  max_contacts: 20\n",
      "success: True\n",
      "status_message: \"GetPhysicsProperties: got properties\"\n"
     ]
    }
   ],
   "source": [
    "print(gazebo_proxy.get_physics_properties())"
   ]
  },
  {
   "cell_type": "markdown",
   "metadata": {},
   "source": [
    "## Apply wrench"
   ]
  },
  {
   "cell_type": "code",
   "execution_count": 20,
   "metadata": {},
   "outputs": [],
   "source": [
    "# Applying wrench to a link in the simulation\n",
    "# The input arguments are\n",
    "#  - model_name\n",
    "#  - link_name\n",
    "#  - force: force vector [x, y, z]\n",
    "#  - torque: torque vector [x, y, z]\n",
    "#  - start_time: in seconds, if it is a value lower than simulation time, the wrench will be applied as soon as possible\n",
    "#  - duration: in seconds\n",
    "#              if duration < 0, apply wrench continuously without end\n",
    "#              if duration = 0, do nothing\n",
    "#              if duration < step size, apply wrench for one step size\n",
    "#  - reference_point: [x, y, z] coordinate point where wrench will be applied wrt the reference frame\n",
    "#  - reference_frame: reference frame for the reference point, if None it will be set as the provided model_name::link_name\n",
    "gazebo_proxy.apply_body_wrench(\n",
    "    model_name='box_1',\n",
    "    link_name='box',\n",
    "    force=[100, 0, 0],\n",
    "    torque=[0, 0, 100],\n",
    "    start_time=0,\n",
    "    duration=5,\n",
    "    reference_point=[0, 0, 0],\n",
    "    reference_frame=None)\n",
    "\n",
    "gazebo_proxy.apply_body_wrench(\n",
    "    model_name='box_2',\n",
    "    link_name='box',\n",
    "    force=[10, 0, 200],\n",
    "    torque=[0, 0, 150],\n",
    "    start_time=0,\n",
    "    duration=4,\n",
    "    reference_point=[0, 0, 0],\n",
    "    reference_frame=None)\n",
    "\n",
    "start_time = time()\n",
    "while time() - start_time < 10:\n",
    "    sleep(1)"
   ]
  },
  {
   "cell_type": "markdown",
   "metadata": {},
   "source": [
    "## Move models in the simulation"
   ]
  },
  {
   "cell_type": "code",
   "execution_count": 21,
   "metadata": {},
   "outputs": [
    {
     "data": {
      "text/plain": [
       "True"
      ]
     },
     "execution_count": 21,
     "metadata": {},
     "output_type": "execute_result"
    }
   ],
   "source": [
    "gazebo_proxy.move_model(\n",
    "    model_name='box_1', \n",
    "    pos=[2, 2, 15],\n",
    "    rot=[0, 0, 0],\n",
    "    reference_frame='world')\n",
    "\n",
    "gazebo_proxy.move_model(\n",
    "    model_name='box_2', \n",
    "    pos=[-2, -1, 4],\n",
    "    rot=[0, 0, 0],\n",
    "    reference_frame='world')"
   ]
  },
  {
   "cell_type": "code",
   "execution_count": null,
   "metadata": {},
   "outputs": [
    {
     "name": "stdout",
     "output_type": "stream",
     "text": [
      "2020-09-11 15:06:31,843 | WARNING | task | Task <gazebo> - Killing process tree...\n",
      "2020-09-11 15:06:31,868 | WARNING | task | Sending SIGINT to child process id=23831\n",
      "2020-09-11 15:06:31,869 | WARNING | task | Child process 23831 still running\n",
      "2020-09-11 15:06:31,870 | WARNING | task | Sending SIGINT to child process id=23849\n",
      "2020-09-11 15:06:31,872 | WARNING | task | Child process 23849 still running\n",
      "2020-09-11 15:06:31,873 | WARNING | task | Sending SIGINT to child process id=23854\n",
      "2020-09-11 15:06:31,874 | WARNING | task | Child process 23854 still running\n",
      "2020-09-11 15:06:31,875 | WARNING | task | Sending SIGINT to child process id=23925\n",
      "2020-09-11 15:06:31,876 | WARNING | task | Child process 23925 still running\n",
      "2020-09-11 15:06:31,877 | WARNING | task | Sending SIGINT to child process id=23919\n",
      "2020-09-11 15:06:31,878 | WARNING | task | Child process 23919 still running\n",
      "2020-09-11 15:06:31,879 | WARNING | task | Sending SIGINT to child process id=23830\n",
      "2020-09-11 15:06:31,880 | WARNING | task | Child process 23830 still running\n",
      "2020-09-11 15:06:32,408 | WARNING | task | Process 23925 already terminated\n",
      "2020-09-11 15:06:32,969 | WARNING | task | Process 23854 already terminated\n"
     ]
    }
   ],
   "source": [
    "# End the simulation by killing the Gazebo task\n",
    "simulation.kill_all_tasks()"
   ]
  },
  {
   "cell_type": "code",
   "execution_count": null,
   "metadata": {},
   "outputs": [],
   "source": []
  }
 ],
 "metadata": {
  "kernelspec": {
   "display_name": "Python 3",
   "language": "python",
   "name": "python3"
  },
  "language_info": {
   "codemirror_mode": {
    "name": "ipython",
    "version": 3
   },
   "file_extension": ".py",
   "mimetype": "text/x-python",
   "name": "python",
   "nbconvert_exporter": "python",
   "pygments_lexer": "ipython3",
   "version": "3.5.2"
  }
 },
 "nbformat": 4,
 "nbformat_minor": 4
}
