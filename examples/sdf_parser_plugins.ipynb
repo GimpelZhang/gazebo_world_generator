{
 "cells": [
  {
   "cell_type": "markdown",
   "metadata": {},
   "source": [
    "# Plugins"
   ]
  },
  {
   "cell_type": "code",
   "execution_count": 1,
   "metadata": {},
   "outputs": [],
   "source": [
    "# Import the element creator\n",
    "from pcg_gazebo.parsers.sdf import create_sdf_element"
   ]
  },
  {
   "cell_type": "code",
   "execution_count": 2,
   "metadata": {},
   "outputs": [
    {
     "name": "stdout",
     "output_type": "stream",
     "text": [
      "<plugin name=\"some_plugin\" filename=\"libplugin.so\"/>\n",
      "\n"
     ]
    }
   ],
   "source": [
    "plugin_args = dict(\n",
    "    robotNamespace='robot',\n",
    "    topic='/topic',\n",
    "    args=dict(\n",
    "        param1=1,\n",
    "        param2=True,\n",
    "        param3=dict(\n",
    "            param31='option',\n",
    "            param32=3.434534\n",
    "        ),\n",
    "        param4=[3.1, 4.5, 8.5]\n",
    "    )\n",
    ")\n",
    "plugin = create_sdf_element('plugin', plugin_args)\n",
    "plugin.name = 'some_plugin'\n",
    "plugin.filename = 'libplugin.so'\n",
    "print(plugin)"
   ]
  },
  {
   "cell_type": "code",
   "execution_count": 3,
   "metadata": {},
   "outputs": [
    {
     "name": "stdout",
     "output_type": "stream",
     "text": [
      "<plugin name=\"another_plugin\" filename=\"libanother_plugin.so\">\n",
      "  <robotNamespace>robot</robotNamespace>\n",
      "  <topic>/topic</topic>\n",
      "  <args>\n",
      "    <param1>1</param1>\n",
      "    <param2>1</param2>\n",
      "    <param3>\n",
      "      <param31>option</param31>\n",
      "      <param32>3.434534</param32>\n",
      "    </param3>\n",
      "    <param4>3.1 4.5 8.5</param4>\n",
      "  </args>\n",
      "</plugin>\n",
      "\n"
     ]
    }
   ],
   "source": [
    "plugin = create_sdf_element('plugin', plugin_args)\n",
    "plugin.value = plugin_args\n",
    "plugin.name = 'another_plugin'\n",
    "plugin.filename = 'libanother_plugin.so'\n",
    "print(plugin)"
   ]
  },
  {
   "cell_type": "markdown",
   "metadata": {},
   "source": [
    "# Some plugin default constructors"
   ]
  },
  {
   "cell_type": "code",
   "execution_count": 4,
   "metadata": {},
   "outputs": [],
   "source": [
    "from pcg_gazebo.parsers.sdf import Plugin"
   ]
  },
  {
   "cell_type": "markdown",
   "metadata": {},
   "source": [
    "## `gazebo_ros_control`"
   ]
  },
  {
   "cell_type": "code",
   "execution_count": 5,
   "metadata": {},
   "outputs": [
    {
     "name": "stdout",
     "output_type": "stream",
     "text": [
      "<plugin name=\"gazebo_ros_control\" filename=\"libgazebo_ros_control.so\">\n",
      "  <robotNamespace>/my_robot</robotNamespace>\n",
      "  <controlPeriod>10</controlPeriod>\n",
      "  <robotParam>/robot_description</robotParam>\n",
      "</plugin>\n",
      "\n"
     ]
    }
   ],
   "source": [
    "print(Plugin.gazebo_ros_control(\n",
    "    name='gazebo_ros_control', \n",
    "    robot_namespace='/my_robot',\n",
    "    control_period=10,\n",
    "    robot_param='/robot_description',\n",
    "    robot_sim_type=None))"
   ]
  },
  {
   "cell_type": "markdown",
   "metadata": {},
   "source": [
    "## `gazebo_ros_bumper`"
   ]
  },
  {
   "cell_type": "code",
   "execution_count": 6,
   "metadata": {},
   "outputs": [
    {
     "name": "stdout",
     "output_type": "stream",
     "text": [
      "<plugin name=\"gazebo_ros_bumper\" filename=\"libgazebo_ros_bumper.so\">\n",
      "  <robotNamespace>/my_robot</robotNamespace>\n",
      "  <bumperTopicName>bumper_states</bumperTopicName>\n",
      "  <frameName>world</frameName>\n",
      "</plugin>\n",
      "\n"
     ]
    }
   ],
   "source": [
    "print(Plugin.gazebo_ros_bumper(\n",
    "    name='gazebo_ros_bumper', \n",
    "    robot_namespace='/my_robot',\n",
    "    bumper_topic_name='bumper_states',\n",
    "    frame_name='world'))"
   ]
  },
  {
   "cell_type": "markdown",
   "metadata": {},
   "source": [
    "## `gazebo_ros_ft_sensor`"
   ]
  },
  {
   "cell_type": "code",
   "execution_count": 7,
   "metadata": {},
   "outputs": [
    {
     "name": "stdout",
     "output_type": "stream",
     "text": [
      "<plugin name=\"gazebo_ros_ft_sensor\" filename=\"libgazebo_ros_ft_sensor.so\">\n",
      "  <robotNamespace>my_robot</robotNamespace>\n",
      "  <topicName>force_torque_sensor_output</topicName>\n",
      "  <jointName>some_joint</jointName>\n",
      "  <gaussianNoise>0.05</gaussianNoise>\n",
      "  <updateRate>0</updateRate>\n",
      "</plugin>\n",
      "\n"
     ]
    }
   ],
   "source": [
    "print(Plugin.gazebo_ros_ft_sensor(\n",
    "    name='gazebo_ros_ft_sensor', \n",
    "    robot_namespace='my_robot',\n",
    "    joint_name='some_joint', \n",
    "    topic_name='force_torque_sensor_output',\n",
    "    gaussian_noise=0.05, \n",
    "    update_rate=0))"
   ]
  }
 ],
 "metadata": {
  "kernelspec": {
   "display_name": "Python 3",
   "language": "python",
   "name": "python3"
  },
  "language_info": {
   "codemirror_mode": {
    "name": "ipython",
    "version": 3
   },
   "file_extension": ".py",
   "mimetype": "text/x-python",
   "name": "python",
   "nbconvert_exporter": "python",
   "pygments_lexer": "ipython3",
   "version": "3.6.9"
  }
 },
 "nbformat": 4,
 "nbformat_minor": 4
}
