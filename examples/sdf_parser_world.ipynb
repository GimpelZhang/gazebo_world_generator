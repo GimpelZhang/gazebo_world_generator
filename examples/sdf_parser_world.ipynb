{
 "cells": [
  {
   "cell_type": "markdown",
   "metadata": {},
   "source": [
    "# World\n",
    "\n",
    "The world element encapsulates an entire world description including: models, scene, physics, joints, and plugins."
   ]
  },
  {
   "cell_type": "code",
   "execution_count": 1,
   "metadata": {},
   "outputs": [],
   "source": [
    "# Import the element creator\n",
    "from pcg_gazebo.parsers.sdf import create_sdf_element"
   ]
  },
  {
   "cell_type": "code",
   "execution_count": 2,
   "metadata": {},
   "outputs": [
    {
     "name": "stdout",
     "output_type": "stream",
     "text": [
      "<world name=\"default\">\n",
      "  <physics name=\"default_physics\" default=\"1\" type=\"ode\">\n",
      "    <max_step_size>0.001</max_step_size>\n",
      "    <real_time_factor>1</real_time_factor>\n",
      "    <real_time_update_rate>1000</real_time_update_rate>\n",
      "    <max_contacts>20</max_contacts>\n",
      "  </physics>\n",
      "  <gravity>0 0 -9.8</gravity>\n",
      "</world>\n",
      "\n"
     ]
    }
   ],
   "source": [
    "# The default world contains only the definition of the acceleration of gravity \n",
    "# and the default configuration of the physics engine using `ode`\n",
    "world = create_sdf_element('world')\n",
    "print(world)"
   ]
  },
  {
   "cell_type": "code",
   "execution_count": 3,
   "metadata": {},
   "outputs": [
    {
     "name": "stdout",
     "output_type": "stream",
     "text": [
      "<world name=\"default\">\n",
      "  <physics name=\"default_physics\" default=\"1\" type=\"ode\">\n",
      "    <max_step_size>0.001</max_step_size>\n",
      "    <real_time_factor>1</real_time_factor>\n",
      "    <real_time_update_rate>1000</real_time_update_rate>\n",
      "    <max_contacts>20</max_contacts>\n",
      "    <ode>\n",
      "      <solver>\n",
      "        <min_step_size>0.0001</min_step_size>\n",
      "        <iters>50</iters>\n",
      "        <sor>1.3</sor>\n",
      "        <type>quick</type>\n",
      "        <precon_iters>0</precon_iters>\n",
      "        <use_dynamic_moi_rescaling>0</use_dynamic_moi_rescaling>\n",
      "        <friction_model>pyramid_model</friction_model>\n",
      "      </solver>\n",
      "      <constraints>\n",
      "        <cfm>0</cfm>\n",
      "        <erp>0.2</erp>\n",
      "        <contact_surface_layer>0.001</contact_surface_layer>\n",
      "        <contact_max_correcting_vel>100</contact_max_correcting_vel>\n",
      "      </constraints>\n",
      "    </ode>\n",
      "  </physics>\n",
      "  <gravity>0 0 -9.8</gravity>\n",
      "</world>\n",
      "\n"
     ]
    }
   ],
   "source": [
    "# The physics engine can be edited using its object setter\n",
    "world.physics.reset(mode='ode', with_optional_elements=True)\n",
    "print(world)"
   ]
  },
  {
   "cell_type": "code",
   "execution_count": 4,
   "metadata": {},
   "outputs": [
    {
     "name": "stdout",
     "output_type": "stream",
     "text": [
      "<world name=\"default\">\n",
      "  <physics name=\"default_physics\" default=\"1\" type=\"bullet\">\n",
      "    <max_step_size>0.001</max_step_size>\n",
      "    <real_time_factor>1</real_time_factor>\n",
      "    <real_time_update_rate>1000</real_time_update_rate>\n",
      "    <max_contacts>20</max_contacts>\n",
      "    <bullet>\n",
      "      <solver>\n",
      "        <min_step_size>0.0001</min_step_size>\n",
      "        <iters>50</iters>\n",
      "        <sor>1.3</sor>\n",
      "        <type>quick</type>\n",
      "      </solver>\n",
      "      <constraints>\n",
      "        <cfm>0</cfm>\n",
      "        <erp>0.2</erp>\n",
      "        <contact_surface_layer>0.001</contact_surface_layer>\n",
      "        <split_impulse>1</split_impulse>\n",
      "        <split_impulse_penetration_threshold>-0.01</split_impulse_penetration_threshold>\n",
      "      </constraints>\n",
      "    </bullet>\n",
      "  </physics>\n",
      "  <gravity>0 0 -9.8</gravity>\n",
      "</world>\n",
      "\n"
     ]
    }
   ],
   "source": [
    "world.physics.reset(mode='bullet', with_optional_elements=True)\n",
    "print(world)"
   ]
  },
  {
   "cell_type": "code",
   "execution_count": 5,
   "metadata": {},
   "outputs": [
    {
     "name": "stdout",
     "output_type": "stream",
     "text": [
      "<world name=\"default\">\n",
      "  <physics name=\"default_physics\" default=\"1\" type=\"simbody\">\n",
      "    <max_step_size>0.001</max_step_size>\n",
      "    <real_time_factor>1</real_time_factor>\n",
      "    <real_time_update_rate>1000</real_time_update_rate>\n",
      "    <max_contacts>20</max_contacts>\n",
      "    <simbody>\n",
      "      <min_step_size>0.0001</min_step_size>\n",
      "      <accuracy>0.001</accuracy>\n",
      "      <max_transient_velocity>0.01</max_transient_velocity>\n",
      "      <contact>\n",
      "        <stiffness>100000000.0</stiffness>\n",
      "        <dissipation>100</dissipation>\n",
      "        <plastic_coef_restitution>0.5</plastic_coef_restitution>\n",
      "        <plastic_impact_velocity>0.5</plastic_impact_velocity>\n",
      "        <static_friction>0.9</static_friction>\n",
      "        <dynamic_friction>0.9</dynamic_friction>\n",
      "        <viscous_friction>0</viscous_friction>\n",
      "        <override_impact_capture_velocity>0.001</override_impact_capture_velocity>\n",
      "        <override_stiction_transition_velocity>0.001</override_stiction_transition_velocity>\n",
      "      </contact>\n",
      "    </simbody>\n",
      "  </physics>\n",
      "  <gravity>0 0 -9.8</gravity>\n",
      "</world>\n",
      "\n"
     ]
    }
   ],
   "source": [
    "world.physics.reset(mode='simbody', with_optional_elements=True)\n",
    "print(world)"
   ]
  },
  {
   "cell_type": "code",
   "execution_count": 6,
   "metadata": {},
   "outputs": [
    {
     "name": "stdout",
     "output_type": "stream",
     "text": [
      "<world name=\"default\">\n",
      "  <physics name=\"default_physics\" default=\"1\" type=\"ode\">\n",
      "    <max_step_size>0.001</max_step_size>\n",
      "    <real_time_factor>1</real_time_factor>\n",
      "    <real_time_update_rate>1000</real_time_update_rate>\n",
      "    <max_contacts>20</max_contacts>\n",
      "  </physics>\n",
      "  <gravity>0 0 -9.8</gravity>\n",
      "  <model name=\"model_1\"/>\n",
      "</world>\n",
      "\n"
     ]
    }
   ],
   "source": [
    "# A world can contain multiple models, add an empty model by using the add_model method\n",
    "world.reset()\n",
    "world.add_model('model_1')\n",
    "print(world)"
   ]
  },
  {
   "cell_type": "code",
   "execution_count": 7,
   "metadata": {},
   "outputs": [
    {
     "name": "stdout",
     "output_type": "stream",
     "text": [
      "<world name=\"default\">\n",
      "  <physics name=\"default_physics\" default=\"1\" type=\"ode\">\n",
      "    <max_step_size>0.001</max_step_size>\n",
      "    <real_time_factor>1</real_time_factor>\n",
      "    <real_time_update_rate>1000</real_time_update_rate>\n",
      "    <max_contacts>20</max_contacts>\n",
      "  </physics>\n",
      "  <gravity>0 0 -9.8</gravity>\n",
      "  <model name=\"model_1\"/>\n",
      "  <model name=\"model_2\"/>\n",
      "</world>\n",
      "\n"
     ]
    }
   ],
   "source": [
    "# You can add a model to the world as well\n",
    "model = create_sdf_element('model')\n",
    "world.add_model('model_2', model)\n",
    "print(world)"
   ]
  },
  {
   "cell_type": "code",
   "execution_count": 8,
   "metadata": {},
   "outputs": [
    {
     "name": "stdout",
     "output_type": "stream",
     "text": [
      "Model element with name model_1 already exists\n"
     ]
    }
   ],
   "source": [
    "# You must have unique names for the models in a world\n",
    "world.add_model('model_1')\n"
   ]
  },
  {
   "cell_type": "code",
   "execution_count": null,
   "metadata": {},
   "outputs": [],
   "source": []
  }
 ],
 "metadata": {
  "kernelspec": {
   "display_name": "Python 3",
   "language": "python",
   "name": "python3"
  },
  "language_info": {
   "codemirror_mode": {
    "name": "ipython",
    "version": 3
   },
   "file_extension": ".py",
   "mimetype": "text/x-python",
   "name": "python",
   "nbconvert_exporter": "python",
   "pygments_lexer": "ipython3",
   "version": "3.6.9"
  }
 },
 "nbformat": 4,
 "nbformat_minor": 4
}
